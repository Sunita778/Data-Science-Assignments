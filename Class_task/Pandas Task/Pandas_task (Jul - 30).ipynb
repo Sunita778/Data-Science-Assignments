{
 "cells": [
  {
   "cell_type": "code",
   "execution_count": 1,
   "metadata": {},
   "outputs": [],
   "source": [
    "import pandas as pd"
   ]
  },
  {
   "cell_type": "code",
   "execution_count": 2,
   "metadata": {},
   "outputs": [
    {
     "name": "stderr",
     "output_type": "stream",
     "text": [
      "C:\\Users\\sssun\\anaconda3\\lib\\site-packages\\openpyxl\\styles\\stylesheet.py:214: UserWarning: Workbook contains no default style, apply openpyxl's default\n",
      "  warn(\"Workbook contains no default style, apply openpyxl's default\")\n"
     ]
    }
   ],
   "source": [
    "df1 = pd.read_excel('Agent_Login_Report (4).xls')\n",
    "df2 = pd.read_excel('AgentPerformance (1).xlsx')"
   ]
  },
  {
   "cell_type": "code",
   "execution_count": 3,
   "metadata": {},
   "outputs": [],
   "source": [
    "df1.columns = df1.loc[1]\n",
    "df3 = df1.drop(df1.index[0:2])\n",
    "df2.columns = df2.loc[0]\n",
    "df4 = df2.drop(0)"
   ]
  },
  {
   "cell_type": "code",
   "execution_count": 4,
   "metadata": {},
   "outputs": [
    {
     "data": {
      "text/html": [
       "<div>\n",
       "<style scoped>\n",
       "    .dataframe tbody tr th:only-of-type {\n",
       "        vertical-align: middle;\n",
       "    }\n",
       "\n",
       "    .dataframe tbody tr th {\n",
       "        vertical-align: top;\n",
       "    }\n",
       "\n",
       "    .dataframe thead th {\n",
       "        text-align: right;\n",
       "    }\n",
       "</style>\n",
       "<table border=\"1\" class=\"dataframe\">\n",
       "  <thead>\n",
       "    <tr style=\"text-align: right;\">\n",
       "      <th>1</th>\n",
       "      <th>SL No</th>\n",
       "      <th>Agent</th>\n",
       "      <th>Date</th>\n",
       "      <th>Login Time</th>\n",
       "      <th>Logout Time</th>\n",
       "      <th>Duration</th>\n",
       "    </tr>\n",
       "  </thead>\n",
       "  <tbody>\n",
       "    <tr>\n",
       "      <th>2</th>\n",
       "      <td>1</td>\n",
       "      <td>Shivananda Sonwane</td>\n",
       "      <td>30-Jul-22</td>\n",
       "      <td>03:35:29 PM</td>\n",
       "      <td>05:39:39 PM</td>\n",
       "      <td>02:04:10</td>\n",
       "    </tr>\n",
       "    <tr>\n",
       "      <th>3</th>\n",
       "      <td>2</td>\n",
       "      <td>Khushboo Priya</td>\n",
       "      <td>30-Jul-22</td>\n",
       "      <td>03:06:59 PM</td>\n",
       "      <td>03:07:16 PM</td>\n",
       "      <td>00:00:17</td>\n",
       "    </tr>\n",
       "    <tr>\n",
       "      <th>4</th>\n",
       "      <td>3</td>\n",
       "      <td>Nandani Gupta</td>\n",
       "      <td>30-Jul-22</td>\n",
       "      <td>03:04:24 PM</td>\n",
       "      <td>05:31:07 PM</td>\n",
       "      <td>02:26:42</td>\n",
       "    </tr>\n",
       "    <tr>\n",
       "      <th>5</th>\n",
       "      <td>4</td>\n",
       "      <td>Hrisikesh Neogi</td>\n",
       "      <td>30-Jul-22</td>\n",
       "      <td>02:34:29 PM</td>\n",
       "      <td>03:19:35 PM</td>\n",
       "      <td>00:45:06</td>\n",
       "    </tr>\n",
       "    <tr>\n",
       "      <th>6</th>\n",
       "      <td>5</td>\n",
       "      <td>Mukesh</td>\n",
       "      <td>30-Jul-22</td>\n",
       "      <td>02:03:15 PM</td>\n",
       "      <td>03:11:52 PM</td>\n",
       "      <td>01:08:36</td>\n",
       "    </tr>\n",
       "    <tr>\n",
       "      <th>...</th>\n",
       "      <td>...</td>\n",
       "      <td>...</td>\n",
       "      <td>...</td>\n",
       "      <td>...</td>\n",
       "      <td>...</td>\n",
       "      <td>...</td>\n",
       "    </tr>\n",
       "    <tr>\n",
       "      <th>997</th>\n",
       "      <td>996</td>\n",
       "      <td>Manjunatha A</td>\n",
       "      <td>20-Jul-22</td>\n",
       "      <td>09:03:51 AM</td>\n",
       "      <td>03:02:28 PM</td>\n",
       "      <td>05:58:37</td>\n",
       "    </tr>\n",
       "    <tr>\n",
       "      <th>998</th>\n",
       "      <td>997</td>\n",
       "      <td>Bharath</td>\n",
       "      <td>20-Jul-22</td>\n",
       "      <td>09:00:49 AM</td>\n",
       "      <td>03:01:32 PM</td>\n",
       "      <td>06:00:43</td>\n",
       "    </tr>\n",
       "    <tr>\n",
       "      <th>999</th>\n",
       "      <td>998</td>\n",
       "      <td>Khushboo Priya</td>\n",
       "      <td>20-Jul-22</td>\n",
       "      <td>08:59:20 AM</td>\n",
       "      <td>02:26:55 PM</td>\n",
       "      <td>05:27:34</td>\n",
       "    </tr>\n",
       "    <tr>\n",
       "      <th>1000</th>\n",
       "      <td>999</td>\n",
       "      <td>Nishtha Jain</td>\n",
       "      <td>20-Jul-22</td>\n",
       "      <td>08:43:55 AM</td>\n",
       "      <td>02:00:33 PM</td>\n",
       "      <td>05:16:38</td>\n",
       "    </tr>\n",
       "    <tr>\n",
       "      <th>1001</th>\n",
       "      <td>1000</td>\n",
       "      <td>Tarun</td>\n",
       "      <td>01-Jul-22</td>\n",
       "      <td>01:52:47 AM</td>\n",
       "      <td>12:01:07 PM</td>\n",
       "      <td>514:08:20</td>\n",
       "    </tr>\n",
       "  </tbody>\n",
       "</table>\n",
       "<p>1000 rows × 6 columns</p>\n",
       "</div>"
      ],
      "text/plain": [
       "1    SL No               Agent       Date   Login Time  Logout Time   Duration\n",
       "2        1  Shivananda Sonwane  30-Jul-22  03:35:29 PM  05:39:39 PM   02:04:10\n",
       "3        2      Khushboo Priya  30-Jul-22  03:06:59 PM  03:07:16 PM   00:00:17\n",
       "4        3       Nandani Gupta  30-Jul-22  03:04:24 PM  05:31:07 PM   02:26:42\n",
       "5        4     Hrisikesh Neogi  30-Jul-22  02:34:29 PM  03:19:35 PM   00:45:06\n",
       "6        5             Mukesh   30-Jul-22  02:03:15 PM  03:11:52 PM   01:08:36\n",
       "...    ...                 ...        ...          ...          ...        ...\n",
       "997    996        Manjunatha A  20-Jul-22  09:03:51 AM  03:02:28 PM   05:58:37\n",
       "998    997            Bharath   20-Jul-22  09:00:49 AM  03:01:32 PM   06:00:43\n",
       "999    998      Khushboo Priya  20-Jul-22  08:59:20 AM  02:26:55 PM   05:27:34\n",
       "1000   999        Nishtha Jain  20-Jul-22  08:43:55 AM  02:00:33 PM   05:16:38\n",
       "1001  1000              Tarun   01-Jul-22  01:52:47 AM  12:01:07 PM  514:08:20\n",
       "\n",
       "[1000 rows x 6 columns]"
      ]
     },
     "execution_count": 4,
     "metadata": {},
     "output_type": "execute_result"
    }
   ],
   "source": [
    "df3"
   ]
  },
  {
   "cell_type": "code",
   "execution_count": 5,
   "metadata": {},
   "outputs": [
    {
     "data": {
      "text/html": [
       "<div>\n",
       "<style scoped>\n",
       "    .dataframe tbody tr th:only-of-type {\n",
       "        vertical-align: middle;\n",
       "    }\n",
       "\n",
       "    .dataframe tbody tr th {\n",
       "        vertical-align: top;\n",
       "    }\n",
       "\n",
       "    .dataframe thead th {\n",
       "        text-align: right;\n",
       "    }\n",
       "</style>\n",
       "<table border=\"1\" class=\"dataframe\">\n",
       "  <thead>\n",
       "    <tr style=\"text-align: right;\">\n",
       "      <th></th>\n",
       "      <th>SL No</th>\n",
       "      <th>Date</th>\n",
       "      <th>Agent Name</th>\n",
       "      <th>Total Chats</th>\n",
       "      <th>Average Response Time</th>\n",
       "      <th>Average Resolution Time</th>\n",
       "      <th>Average Rating</th>\n",
       "      <th>Total Feedback</th>\n",
       "    </tr>\n",
       "  </thead>\n",
       "  <tbody>\n",
       "    <tr>\n",
       "      <th>1</th>\n",
       "      <td>1</td>\n",
       "      <td>2022-07-30</td>\n",
       "      <td>Prerna Singh</td>\n",
       "      <td>11</td>\n",
       "      <td>00:00:38</td>\n",
       "      <td>00:04:20</td>\n",
       "      <td>4.11</td>\n",
       "      <td>9</td>\n",
       "    </tr>\n",
       "    <tr>\n",
       "      <th>2</th>\n",
       "      <td>2</td>\n",
       "      <td>2022-07-30</td>\n",
       "      <td>Nandani Gupta</td>\n",
       "      <td>11</td>\n",
       "      <td>00:01:15</td>\n",
       "      <td>00:28:25</td>\n",
       "      <td>3.14</td>\n",
       "      <td>7</td>\n",
       "    </tr>\n",
       "    <tr>\n",
       "      <th>3</th>\n",
       "      <td>3</td>\n",
       "      <td>2022-07-30</td>\n",
       "      <td>Ameya Jain</td>\n",
       "      <td>14</td>\n",
       "      <td>00:00:30</td>\n",
       "      <td>00:11:36</td>\n",
       "      <td>4.55</td>\n",
       "      <td>11</td>\n",
       "    </tr>\n",
       "    <tr>\n",
       "      <th>4</th>\n",
       "      <td>4</td>\n",
       "      <td>2022-07-30</td>\n",
       "      <td>Mahesh Sarade</td>\n",
       "      <td>14</td>\n",
       "      <td>00:01:04</td>\n",
       "      <td>00:15:46</td>\n",
       "      <td>4.71</td>\n",
       "      <td>7</td>\n",
       "    </tr>\n",
       "    <tr>\n",
       "      <th>5</th>\n",
       "      <td>5</td>\n",
       "      <td>2022-07-30</td>\n",
       "      <td>Swati</td>\n",
       "      <td>14</td>\n",
       "      <td>00:01:11</td>\n",
       "      <td>00:16:33</td>\n",
       "      <td>3.67</td>\n",
       "      <td>6</td>\n",
       "    </tr>\n",
       "    <tr>\n",
       "      <th>...</th>\n",
       "      <td>...</td>\n",
       "      <td>...</td>\n",
       "      <td>...</td>\n",
       "      <td>...</td>\n",
       "      <td>...</td>\n",
       "      <td>...</td>\n",
       "      <td>...</td>\n",
       "      <td>...</td>\n",
       "    </tr>\n",
       "    <tr>\n",
       "      <th>2156</th>\n",
       "      <td>2156</td>\n",
       "      <td>2022-07-01</td>\n",
       "      <td>Sowmiya Sivakumar</td>\n",
       "      <td>0</td>\n",
       "      <td>00:00:00</td>\n",
       "      <td>00:00:00</td>\n",
       "      <td>0.0</td>\n",
       "      <td>0</td>\n",
       "    </tr>\n",
       "    <tr>\n",
       "      <th>2157</th>\n",
       "      <td>2157</td>\n",
       "      <td>2022-07-01</td>\n",
       "      <td>Nitin M</td>\n",
       "      <td>0</td>\n",
       "      <td>00:00:00</td>\n",
       "      <td>00:00:00</td>\n",
       "      <td>0.0</td>\n",
       "      <td>0</td>\n",
       "    </tr>\n",
       "    <tr>\n",
       "      <th>2158</th>\n",
       "      <td>2158</td>\n",
       "      <td>2022-07-01</td>\n",
       "      <td>Vivek</td>\n",
       "      <td>0</td>\n",
       "      <td>00:00:00</td>\n",
       "      <td>00:00:00</td>\n",
       "      <td>0.0</td>\n",
       "      <td>0</td>\n",
       "    </tr>\n",
       "    <tr>\n",
       "      <th>2159</th>\n",
       "      <td>2159</td>\n",
       "      <td>2022-07-01</td>\n",
       "      <td>Ayushi Mishra</td>\n",
       "      <td>0</td>\n",
       "      <td>00:00:00</td>\n",
       "      <td>00:00:00</td>\n",
       "      <td>0.0</td>\n",
       "      <td>0</td>\n",
       "    </tr>\n",
       "    <tr>\n",
       "      <th>2160</th>\n",
       "      <td>2160</td>\n",
       "      <td>2022-07-01</td>\n",
       "      <td>Chaitra K Hiremath</td>\n",
       "      <td>0</td>\n",
       "      <td>00:00:00</td>\n",
       "      <td>00:00:00</td>\n",
       "      <td>0.0</td>\n",
       "      <td>0</td>\n",
       "    </tr>\n",
       "  </tbody>\n",
       "</table>\n",
       "<p>2160 rows × 8 columns</p>\n",
       "</div>"
      ],
      "text/plain": [
       "0    SL No        Date          Agent Name Total Chats Average Response Time  \\\n",
       "1        1  2022-07-30        Prerna Singh          11              00:00:38   \n",
       "2        2  2022-07-30       Nandani Gupta          11              00:01:15   \n",
       "3        3  2022-07-30          Ameya Jain          14              00:00:30   \n",
       "4        4  2022-07-30       Mahesh Sarade          14              00:01:04   \n",
       "5        5  2022-07-30              Swati           14              00:01:11   \n",
       "...    ...         ...                 ...         ...                   ...   \n",
       "2156  2156  2022-07-01   Sowmiya Sivakumar           0              00:00:00   \n",
       "2157  2157  2022-07-01             Nitin M           0              00:00:00   \n",
       "2158  2158  2022-07-01              Vivek            0              00:00:00   \n",
       "2159  2159  2022-07-01       Ayushi Mishra           0              00:00:00   \n",
       "2160  2160  2022-07-01  Chaitra K Hiremath           0              00:00:00   \n",
       "\n",
       "0    Average Resolution Time Average Rating Total Feedback  \n",
       "1                   00:04:20           4.11              9  \n",
       "2                   00:28:25           3.14              7  \n",
       "3                   00:11:36           4.55             11  \n",
       "4                   00:15:46           4.71              7  \n",
       "5                   00:16:33           3.67              6  \n",
       "...                      ...            ...            ...  \n",
       "2156                00:00:00            0.0              0  \n",
       "2157                00:00:00            0.0              0  \n",
       "2158                00:00:00            0.0              0  \n",
       "2159                00:00:00            0.0              0  \n",
       "2160                00:00:00            0.0              0  \n",
       "\n",
       "[2160 rows x 8 columns]"
      ]
     },
     "execution_count": 5,
     "metadata": {},
     "output_type": "execute_result"
    }
   ],
   "source": [
    "df4"
   ]
  },
  {
   "cell_type": "code",
   "execution_count": 6,
   "metadata": {},
   "outputs": [],
   "source": [
    "df4['Average Rating'] = df4['Average Rating'].astype(float)\n",
    "df4['Total Chats'] = df4['Total Chats'].astype(int)\n",
    "df4['Total Feedback'] = df4['Total Feedback'].astype(int)\n",
    "df4['Date'] = pd.to_datetime(df4['Date'])"
   ]
  },
  {
   "cell_type": "markdown",
   "metadata": {},
   "source": [
    "##### 1 .Find out there avarage rating on weekly basis keep this in a mind that they take two days of leave\n"
   ]
  },
  {
   "cell_type": "code",
   "execution_count": 8,
   "metadata": {},
   "outputs": [],
   "source": [
    "df4['Week'] = df4['Date'].dt.isocalendar().week"
   ]
  },
  {
   "cell_type": "code",
   "execution_count": 20,
   "metadata": {},
   "outputs": [
    {
     "data": {
      "text/html": [
       "<div>\n",
       "<style scoped>\n",
       "    .dataframe tbody tr th:only-of-type {\n",
       "        vertical-align: middle;\n",
       "    }\n",
       "\n",
       "    .dataframe tbody tr th {\n",
       "        vertical-align: top;\n",
       "    }\n",
       "\n",
       "    .dataframe thead th {\n",
       "        text-align: right;\n",
       "    }\n",
       "</style>\n",
       "<table border=\"1\" class=\"dataframe\">\n",
       "  <thead>\n",
       "    <tr style=\"text-align: right;\">\n",
       "      <th></th>\n",
       "      <th></th>\n",
       "      <th>Average Rating</th>\n",
       "    </tr>\n",
       "    <tr>\n",
       "      <th>Agent Name</th>\n",
       "      <th>Week</th>\n",
       "      <th></th>\n",
       "    </tr>\n",
       "  </thead>\n",
       "  <tbody>\n",
       "    <tr>\n",
       "      <th rowspan=\"3\" valign=\"top\">Aditya Shinde</th>\n",
       "      <th>26</th>\n",
       "      <td>3.850</td>\n",
       "    </tr>\n",
       "    <tr>\n",
       "      <th>27</th>\n",
       "      <td>4.516</td>\n",
       "    </tr>\n",
       "    <tr>\n",
       "      <th>28</th>\n",
       "      <td>4.746</td>\n",
       "    </tr>\n",
       "    <tr>\n",
       "      <th rowspan=\"2\" valign=\"top\">Aditya_iot</th>\n",
       "      <th>27</th>\n",
       "      <td>4.315</td>\n",
       "    </tr>\n",
       "    <tr>\n",
       "      <th>28</th>\n",
       "      <td>4.100</td>\n",
       "    </tr>\n",
       "    <tr>\n",
       "      <th>...</th>\n",
       "      <th>...</th>\n",
       "      <td>...</td>\n",
       "    </tr>\n",
       "    <tr>\n",
       "      <th>Wasim</th>\n",
       "      <th>30</th>\n",
       "      <td>4.298</td>\n",
       "    </tr>\n",
       "    <tr>\n",
       "      <th rowspan=\"4\" valign=\"top\">Zeeshan</th>\n",
       "      <th>27</th>\n",
       "      <td>4.575</td>\n",
       "    </tr>\n",
       "    <tr>\n",
       "      <th>28</th>\n",
       "      <td>4.128</td>\n",
       "    </tr>\n",
       "    <tr>\n",
       "      <th>29</th>\n",
       "      <td>4.452</td>\n",
       "    </tr>\n",
       "    <tr>\n",
       "      <th>30</th>\n",
       "      <td>4.140</td>\n",
       "    </tr>\n",
       "  </tbody>\n",
       "</table>\n",
       "<p>182 rows × 1 columns</p>\n",
       "</div>"
      ],
      "text/plain": [
       "                    Average Rating\n",
       "Agent Name    Week                \n",
       "Aditya Shinde 26             3.850\n",
       "              27             4.516\n",
       "              28             4.746\n",
       "Aditya_iot    27             4.315\n",
       "              28             4.100\n",
       "...                            ...\n",
       "Wasim         30             4.298\n",
       "Zeeshan       27             4.575\n",
       "              28             4.128\n",
       "              29             4.452\n",
       "              30             4.140\n",
       "\n",
       "[182 rows x 1 columns]"
      ]
     },
     "execution_count": 20,
     "metadata": {},
     "output_type": "execute_result"
    }
   ],
   "source": [
    "df4[(df4['Total Chats'] > 0)].groupby(['Agent Name','Week'])['Average Rating'].mean().to_frame()"
   ]
  },
  {
   "cell_type": "markdown",
   "metadata": {},
   "source": [
    "##### 2 .Total working days for each agents"
   ]
  },
  {
   "cell_type": "code",
   "execution_count": 27,
   "metadata": {},
   "outputs": [
    {
     "data": {
      "text/plain": [
       "Agent Name            \n",
       "Shivananda Sonwane        28\n",
       "Khushboo Priya            26\n",
       "Boktiar Ahmed Bappy       26\n",
       "Manjunatha A              25\n",
       "Jawala Prakash            25\n",
       "Ayushi Mishra             24\n",
       "Madhulika G               24\n",
       "Ishawant Kumar            24\n",
       "Sanjeev Kumar             23\n",
       "Nishtha Jain              23\n",
       "Shivan K                  22\n",
       "Prerna Singh              22\n",
       "Shubham Sharma            21\n",
       "Jaydeep Dixit             21\n",
       "Rishav Dash               21\n",
       "Deepranjan Gupta          21\n",
       "Nandani Gupta             21\n",
       "Hrisikesh Neogi           21\n",
       "Maitry                    20\n",
       "Harikrishnan Shaji        19\n",
       "Bharath                   19\n",
       "Mahesh Sarade             18\n",
       "Mithun S                  18\n",
       "Prabir Kumar Satapathy    17\n",
       "Prateek _iot              17\n",
       "Aditya_iot                17\n",
       "Swati                     17\n",
       "Wasim                     16\n",
       "Zeeshan                   16\n",
       "Ameya Jain                15\n",
       "Aravind                   14\n",
       "Saikumarreddy N           13\n",
       "Aditya Shinde             12\n",
       "Sowmiya Sivakumar          9\n",
       "Jayant Kumar               8\n",
       "Shiva Srivastava           7\n",
       "Anirudh                    7\n",
       "Chaitra K Hiremath         6\n",
       "Muskan Garg                5\n",
       "Vivek                      5\n",
       "Saurabh Shukla             4\n",
       "Mukesh Rao                 3\n",
       "Sandipan Saha              3\n",
       "Ankitjha                   3\n",
       "Maneesh                    3\n",
       "Ashad Nasim                2\n",
       "Anurag Tiwari              2\n",
       "Sudhanshu Kumar            2\n",
       "Suraj S Bilgi              2\n",
       "Mukesh                     2\n",
       "Samprit                    1\n",
       "Shivan_S                   1\n",
       "Dibyanshu                  1\n",
       "Hitesh Choudhary           1\n",
       "Tarun                      1\n",
       "Mahak                      1\n",
       "dtype: int64"
      ]
     },
     "execution_count": 27,
     "metadata": {},
     "output_type": "execute_result"
    }
   ],
   "source": [
    "df4[(df4['Total Chats'] > 0)]['Agent Name'].value_counts()"
   ]
  },
  {
   "cell_type": "markdown",
   "metadata": {},
   "source": [
    "#####  3. Total query that they have taken "
   ]
  },
  {
   "cell_type": "code",
   "execution_count": 77,
   "metadata": {},
   "outputs": [
    {
     "data": {
      "text/plain": [
       "Agent Name\n",
       "Abhishek           0\n",
       "Aditya             0\n",
       "Aditya Shinde    277\n",
       "Aditya_iot       231\n",
       "Amersh             0\n",
       "                ... \n",
       "Uday Mishra        0\n",
       "Vasanth P          0\n",
       "Vivek             44\n",
       "Wasim            433\n",
       "Zeeshan          542\n",
       "Name: Total Chats, Length: 70, dtype: int32"
      ]
     },
     "execution_count": 77,
     "metadata": {},
     "output_type": "execute_result"
    }
   ],
   "source": [
    "df4.groupby('Agent Name')['Total Chats'].sum()"
   ]
  },
  {
   "cell_type": "markdown",
   "metadata": {},
   "source": [
    "##### 4. total Feedback that they have received"
   ]
  },
  {
   "cell_type": "code",
   "execution_count": 83,
   "metadata": {},
   "outputs": [
    {
     "data": {
      "text/plain": [
       "Agent Name\n",
       "Abhishek           0\n",
       "Aditya             0\n",
       "Aditya Shinde    153\n",
       "Aditya_iot       131\n",
       "Amersh             0\n",
       "                ... \n",
       "Uday Mishra        0\n",
       "Vasanth P          0\n",
       "Vivek             20\n",
       "Wasim            284\n",
       "Zeeshan          335\n",
       "Name: Total Feedback, Length: 70, dtype: int32"
      ]
     },
     "execution_count": 83,
     "metadata": {},
     "output_type": "execute_result"
    }
   ],
   "source": [
    "df4.groupby('Agent Name')['Total Feedback'].sum()"
   ]
  },
  {
   "cell_type": "markdown",
   "metadata": {},
   "source": [
    "##### 5. a agent name who have average rating between 3.5 to 4"
   ]
  },
  {
   "cell_type": "code",
   "execution_count": 37,
   "metadata": {},
   "outputs": [
    {
     "data": {
      "text/plain": [
       "array(['Swati ', 'Manjunatha A', 'Prateek _iot ', 'Nandani Gupta',\n",
       "       'Jaydeep Dixit', 'Mahesh Sarade', 'Zeeshan ', 'Hrisikesh Neogi',\n",
       "       'Khushboo Priya', 'Wasim ', 'Jawala Prakash', 'Nishtha Jain',\n",
       "       'Prerna Singh', 'Boktiar Ahmed Bappy', 'Muskan Garg',\n",
       "       'Harikrishnan Shaji', 'Deepranjan Gupta', 'Shivan K',\n",
       "       'Madhulika G', 'Rishav Dash', 'Maitry ', 'Mithun S', 'Aditya_iot ',\n",
       "       'Ishawant Kumar', 'Ayushi Mishra', 'Shivananda Sonwane',\n",
       "       'Sandipan Saha', 'Anirudh ', 'Jayant Kumar', 'Anurag Tiwari',\n",
       "       'Saurabh Shukla', 'Aditya Shinde'], dtype=object)"
      ]
     },
     "execution_count": 37,
     "metadata": {},
     "output_type": "execute_result"
    }
   ],
   "source": [
    "df4[(df4['Average Rating'] >= 3.5) & (df4['Average Rating'] < 4)]['Agent Name'].drop_duplicates()"
   ]
  },
  {
   "cell_type": "markdown",
   "metadata": {},
   "source": [
    "##### 6 . Agent name who have rating lesss then 3.5 "
   ]
  },
  {
   "cell_type": "code",
   "execution_count": 34,
   "metadata": {},
   "outputs": [
    {
     "data": {
      "text/plain": [
       "array(['Nandani Gupta', 'Hitesh Choudhary', 'Sanjeevan ', 'Anirudh ',\n",
       "       'Shiva Srivastava', 'Dibyanshu ', 'Ashish ', 'Uday Mishra',\n",
       "       'Aditya Shinde', 'Jayant Kumar', 'Aditya_iot ',\n",
       "       'Prabir Kumar Satapathy', 'Saurabh Shukla', 'Wasim ', 'Samprit ',\n",
       "       'Maitry ', 'Abhishek ', 'Rishav Dash', 'Aravind ', 'Tarun ',\n",
       "       'Muskan Garg', 'Ankit Sharma', 'Bharath ', 'Ashad Nasim',\n",
       "       'Vasanth P', 'Aditya ', 'Amersh ', 'Sandipan Saha',\n",
       "       'Ineuron Intelligence ', 'Mahak ', 'Mukesh Rao ', 'Zeeshan ',\n",
       "       'Anurag Tiwari', 'Ankitjha ', 'Saif Khan', 'Jaydeep Dixit',\n",
       "       'Sudhanshu Kumar', 'Maneesh ', 'Hyder Abbas', 'Rohan ', 'Vivek ',\n",
       "       'Nitin M', 'Shivan_S ', 'Spuri ', 'Ayushi Mishra',\n",
       "       'Chaitra K Hiremath', 'Prateek _iot ', 'Jawala Prakash',\n",
       "       'Sowmiya Sivakumar', 'Nishtha Jain', 'Swati ', 'Khushboo Priya',\n",
       "       'Shubham Sharma', 'Manjunatha A', 'Ameya Jain',\n",
       "       'Harikrishnan Shaji', 'Saikumarreddy N', 'Sanjeev Kumar',\n",
       "       'Mukesh ', 'Hrisikesh Neogi', 'Mithun S', 'Prerna Singh',\n",
       "       'Suraj S Bilgi', 'Shivan K', 'Mahesh Sarade', 'Madhulika G',\n",
       "       'Boktiar Ahmed Bappy', 'Deepranjan Gupta', 'Ishawant Kumar',\n",
       "       'Shivananda Sonwane'], dtype=object)"
      ]
     },
     "execution_count": 34,
     "metadata": {},
     "output_type": "execute_result"
    }
   ],
   "source": [
    "df4[(df4['Average Rating'] <= 3.5)]['Agent Name'].unique()"
   ]
  },
  {
   "cell_type": "markdown",
   "metadata": {},
   "source": [
    "#### 7 . agent name who have rating more then 4.5 "
   ]
  },
  {
   "cell_type": "code",
   "execution_count": 35,
   "metadata": {},
   "outputs": [
    {
     "data": {
      "text/plain": [
       "array(['Ameya Jain', 'Mahesh Sarade', 'Mukesh ', 'Saikumarreddy N',\n",
       "       'Sanjeev Kumar', 'Harikrishnan Shaji', 'Sowmiya Sivakumar',\n",
       "       'Boktiar Ahmed Bappy', 'Shivananda Sonwane', 'Ishawant Kumar',\n",
       "       'Deepranjan Gupta', 'Muskan Garg', 'Aditya_iot ',\n",
       "       'Chaitra K Hiremath', 'Suraj S Bilgi', 'Mithun S', 'Wasim ',\n",
       "       'Bharath ', 'Jawala Prakash', 'Ayushi Mishra', 'Prateek _iot ',\n",
       "       'Nandani Gupta', 'Khushboo Priya', 'Manjunatha A', 'Maitry ',\n",
       "       'Jaydeep Dixit', 'Madhulika G', 'Prerna Singh', 'Shivan K',\n",
       "       'Shiva Srivastava', 'Swati ', 'Shubham Sharma', 'Aravind ',\n",
       "       'Zeeshan ', 'Hrisikesh Neogi', 'Prabir Kumar Satapathy',\n",
       "       'Rishav Dash', 'Sudhanshu Kumar', 'Aditya Shinde', 'Sandipan Saha',\n",
       "       'Nishtha Jain', 'Saurabh Shukla', 'Anirudh ', 'Jayant Kumar',\n",
       "       'Mukesh Rao ', 'Vivek ', 'Ankitjha '], dtype=object)"
      ]
     },
     "execution_count": 35,
     "metadata": {},
     "output_type": "execute_result"
    }
   ],
   "source": [
    "df4[(df4['Average Rating'] > 4.5)]['Agent Name'].unique()"
   ]
  },
  {
   "cell_type": "markdown",
   "metadata": {},
   "source": [
    "##### 8 . how many feedaback agents have received more then 4.5 average"
   ]
  },
  {
   "cell_type": "code",
   "execution_count": 41,
   "metadata": {},
   "outputs": [
    {
     "data": {
      "text/plain": [
       "Agent Name\n",
       "Aditya Shinde              73\n",
       "Aditya_iot                 43\n",
       "Ameya Jain                150\n",
       "Anirudh                     2\n",
       "Ankitjha                    1\n",
       "Aravind                   178\n",
       "Ayushi Mishra              75\n",
       "Bharath                   231\n",
       "Boktiar Ahmed Bappy        52\n",
       "Chaitra K Hiremath          5\n",
       "Deepranjan Gupta           83\n",
       "Harikrishnan Shaji         80\n",
       "Hrisikesh Neogi           183\n",
       "Ishawant Kumar             79\n",
       "Jawala Prakash             33\n",
       "Jayant Kumar                7\n",
       "Jaydeep Dixit             179\n",
       "Khushboo Priya            134\n",
       "Madhulika G                67\n",
       "Mahesh Sarade              46\n",
       "Maitry                     81\n",
       "Manjunatha A              132\n",
       "Mithun S                   93\n",
       "Mukesh                     17\n",
       "Mukesh Rao                  1\n",
       "Muskan Garg                14\n",
       "Nandani Gupta              91\n",
       "Nishtha Jain               18\n",
       "Prabir Kumar Satapathy     53\n",
       "Prateek _iot               54\n",
       "Prerna Singh               82\n",
       "Rishav Dash                27\n",
       "Saikumarreddy N           184\n",
       "Sandipan Saha               1\n",
       "Sanjeev Kumar             164\n",
       "Saurabh Shukla              3\n",
       "Shiva Srivastava            2\n",
       "Shivan K                  130\n",
       "Shivananda Sonwane        154\n",
       "Shubham Sharma            155\n",
       "Sowmiya Sivakumar          16\n",
       "Sudhanshu Kumar             2\n",
       "Suraj S Bilgi               4\n",
       "Swati                     103\n",
       "Vivek                       3\n",
       "Wasim                     156\n",
       "Zeeshan                    48\n",
       "Name: Total Feedback, dtype: int32"
      ]
     },
     "execution_count": 41,
     "metadata": {},
     "output_type": "execute_result"
    }
   ],
   "source": [
    "df4[(df4['Average Rating'] > 4.5)].groupby('Agent Name')['Total Feedback'].agg(sum)"
   ]
  },
  {
   "cell_type": "markdown",
   "metadata": {},
   "source": [
    "##### 9 . average weekly response time for each agent "
   ]
  },
  {
   "cell_type": "code",
   "execution_count": 51,
   "metadata": {},
   "outputs": [
    {
     "data": {
      "text/plain": [
       "Agent Name  Week\n",
       "Abhishek    26     2022-08-13 00:00:00.000000000\n",
       "            27     2022-08-13 00:00:00.000000000\n",
       "            28     2022-08-13 00:00:00.000000000\n",
       "            29     2022-08-13 00:00:00.000000000\n",
       "            30     2022-08-13 00:00:00.000000000\n",
       "                                ...             \n",
       "Zeeshan     26     2022-08-13 00:00:00.000000000\n",
       "            27     2022-08-13 00:00:23.571428608\n",
       "            28     2022-08-13 00:02:03.428571392\n",
       "            29     2022-08-13 00:01:02.857142784\n",
       "            30     2022-08-13 00:01:03.833333504\n",
       "Name: Average Response Time, Length: 350, dtype: datetime64[ns]"
      ]
     },
     "execution_count": 51,
     "metadata": {},
     "output_type": "execute_result"
    }
   ],
   "source": [
    "df4['Average Response Time'] = pd.to_datetime(df4['Average Response Time'], infer_datetime_format= True)\n",
    "df4.groupby(['Agent Name','Week'])['Average Response Time'].mean()"
   ]
  },
  {
   "cell_type": "markdown",
   "metadata": {},
   "source": [
    "##### 10 . average weekely resolution time for each agents "
   ]
  },
  {
   "cell_type": "code",
   "execution_count": 53,
   "metadata": {},
   "outputs": [
    {
     "data": {
      "text/plain": [
       "Agent Name  Week\n",
       "Abhishek    26     2022-08-13 00:00:00.000000000\n",
       "            27     2022-08-13 00:00:00.000000000\n",
       "            28     2022-08-13 00:00:00.000000000\n",
       "            29     2022-08-13 00:00:00.000000000\n",
       "            30     2022-08-13 00:00:00.000000000\n",
       "                                ...             \n",
       "Zeeshan     26     2022-08-13 00:00:00.000000000\n",
       "            27     2022-08-13 00:05:23.000000000\n",
       "            28     2022-08-13 00:16:24.285714176\n",
       "            29     2022-08-13 00:13:14.285714176\n",
       "            30     2022-08-13 00:12:53.500000000\n",
       "Name: Average Resolution Time, Length: 350, dtype: datetime64[ns]"
      ]
     },
     "execution_count": 53,
     "metadata": {},
     "output_type": "execute_result"
    }
   ],
   "source": [
    "df4['Average Resolution Time'] = pd.to_datetime(df4['Average Resolution Time'], infer_datetime_format= True)\n",
    "df4.groupby(['Agent Name','Week'])['Average Resolution Time'].mean()"
   ]
  },
  {
   "cell_type": "markdown",
   "metadata": {},
   "source": [
    "##### 11 . list of all agents name "
   ]
  },
  {
   "cell_type": "code",
   "execution_count": 14,
   "metadata": {},
   "outputs": [
    {
     "data": {
      "text/plain": [
       "array(['Prerna Singh', 'Nandani Gupta', 'Ameya Jain', 'Mahesh Sarade',\n",
       "       'Swati ', 'Mukesh ', 'Saikumarreddy N', 'Sanjeev Kumar',\n",
       "       'Shubham Sharma', 'Nishtha Jain', 'Manjunatha A', 'Khushboo Priya',\n",
       "       'Suraj S Bilgi', 'Harikrishnan Shaji', 'Hrisikesh Neogi',\n",
       "       'Shivan K', 'Sowmiya Sivakumar', 'Madhulika G', 'Mithun S',\n",
       "       'Hitesh Choudhary', 'Sanjeevan ', 'Anirudh ', 'Shiva Srivastava',\n",
       "       'Dibyanshu ', 'Ashish ', 'Uday Mishra', 'Aditya Shinde',\n",
       "       'Jayant Kumar', 'Aditya_iot ', 'Prabir Kumar Satapathy',\n",
       "       'Saurabh Shukla', 'Wasim ', 'Samprit ', 'Maitry ', 'Abhishek ',\n",
       "       'Rishav Dash', 'Aravind ', 'Tarun ', 'Muskan Garg', 'Ankit Sharma',\n",
       "       'Bharath ', 'Ashad Nasim', 'Vasanth P', 'Aditya ', 'Amersh ',\n",
       "       'Sandipan Saha', 'Ineuron Intelligence ', 'Mahak ', 'Mukesh Rao ',\n",
       "       'Zeeshan ', 'Anurag Tiwari', 'Ankitjha ', 'Saif Khan',\n",
       "       'Jaydeep Dixit', 'Sudhanshu Kumar', 'Maneesh ', 'Hyder Abbas',\n",
       "       'Rohan ', 'Vivek ', 'Nitin M', 'Shivan_S ', 'Spuri ',\n",
       "       'Ayushi Mishra', 'Chaitra K Hiremath', 'Prateek _iot ',\n",
       "       'Boktiar Ahmed Bappy', 'Shivananda Sonwane', 'Ishawant Kumar',\n",
       "       'Deepranjan Gupta', 'Jawala Prakash'], dtype=object)"
      ]
     },
     "execution_count": 14,
     "metadata": {},
     "output_type": "execute_result"
    }
   ],
   "source": [
    "df4['Agent Name'].unique()"
   ]
  },
  {
   "cell_type": "markdown",
   "metadata": {},
   "source": [
    "##### 12 . percentage of chat on which they have received a feedback \n"
   ]
  },
  {
   "cell_type": "code",
   "execution_count": 58,
   "metadata": {},
   "outputs": [
    {
     "data": {
      "text/html": [
       "<div>\n",
       "<style scoped>\n",
       "    .dataframe tbody tr th:only-of-type {\n",
       "        vertical-align: middle;\n",
       "    }\n",
       "\n",
       "    .dataframe tbody tr th {\n",
       "        vertical-align: top;\n",
       "    }\n",
       "\n",
       "    .dataframe thead th {\n",
       "        text-align: right;\n",
       "    }\n",
       "</style>\n",
       "<table border=\"1\" class=\"dataframe\">\n",
       "  <thead>\n",
       "    <tr style=\"text-align: right;\">\n",
       "      <th></th>\n",
       "      <th>Agent Name</th>\n",
       "      <th>Total Chats</th>\n",
       "      <th>percentage_of_chat</th>\n",
       "      <th>Total Feedback</th>\n",
       "    </tr>\n",
       "  </thead>\n",
       "  <tbody>\n",
       "    <tr>\n",
       "      <th>1</th>\n",
       "      <td>Prerna Singh</td>\n",
       "      <td>11</td>\n",
       "      <td>0.000747</td>\n",
       "      <td>9</td>\n",
       "    </tr>\n",
       "    <tr>\n",
       "      <th>2</th>\n",
       "      <td>Nandani Gupta</td>\n",
       "      <td>11</td>\n",
       "      <td>0.000747</td>\n",
       "      <td>7</td>\n",
       "    </tr>\n",
       "    <tr>\n",
       "      <th>3</th>\n",
       "      <td>Ameya Jain</td>\n",
       "      <td>14</td>\n",
       "      <td>0.000951</td>\n",
       "      <td>11</td>\n",
       "    </tr>\n",
       "    <tr>\n",
       "      <th>4</th>\n",
       "      <td>Mahesh Sarade</td>\n",
       "      <td>14</td>\n",
       "      <td>0.000951</td>\n",
       "      <td>7</td>\n",
       "    </tr>\n",
       "    <tr>\n",
       "      <th>5</th>\n",
       "      <td>Swati</td>\n",
       "      <td>14</td>\n",
       "      <td>0.000951</td>\n",
       "      <td>6</td>\n",
       "    </tr>\n",
       "    <tr>\n",
       "      <th>...</th>\n",
       "      <td>...</td>\n",
       "      <td>...</td>\n",
       "      <td>...</td>\n",
       "      <td>...</td>\n",
       "    </tr>\n",
       "    <tr>\n",
       "      <th>2156</th>\n",
       "      <td>Sowmiya Sivakumar</td>\n",
       "      <td>0</td>\n",
       "      <td>0.000000</td>\n",
       "      <td>0</td>\n",
       "    </tr>\n",
       "    <tr>\n",
       "      <th>2157</th>\n",
       "      <td>Nitin M</td>\n",
       "      <td>0</td>\n",
       "      <td>0.000000</td>\n",
       "      <td>0</td>\n",
       "    </tr>\n",
       "    <tr>\n",
       "      <th>2158</th>\n",
       "      <td>Vivek</td>\n",
       "      <td>0</td>\n",
       "      <td>0.000000</td>\n",
       "      <td>0</td>\n",
       "    </tr>\n",
       "    <tr>\n",
       "      <th>2159</th>\n",
       "      <td>Ayushi Mishra</td>\n",
       "      <td>0</td>\n",
       "      <td>0.000000</td>\n",
       "      <td>0</td>\n",
       "    </tr>\n",
       "    <tr>\n",
       "      <th>2160</th>\n",
       "      <td>Chaitra K Hiremath</td>\n",
       "      <td>0</td>\n",
       "      <td>0.000000</td>\n",
       "      <td>0</td>\n",
       "    </tr>\n",
       "  </tbody>\n",
       "</table>\n",
       "<p>2160 rows × 4 columns</p>\n",
       "</div>"
      ],
      "text/plain": [
       "0             Agent Name  Total Chats  percentage_of_chat  Total Feedback\n",
       "1           Prerna Singh           11            0.000747               9\n",
       "2          Nandani Gupta           11            0.000747               7\n",
       "3             Ameya Jain           14            0.000951              11\n",
       "4          Mahesh Sarade           14            0.000951               7\n",
       "5                 Swati            14            0.000951               6\n",
       "...                  ...          ...                 ...             ...\n",
       "2156   Sowmiya Sivakumar            0            0.000000               0\n",
       "2157             Nitin M            0            0.000000               0\n",
       "2158              Vivek             0            0.000000               0\n",
       "2159       Ayushi Mishra            0            0.000000               0\n",
       "2160  Chaitra K Hiremath            0            0.000000               0\n",
       "\n",
       "[2160 rows x 4 columns]"
      ]
     },
     "execution_count": 58,
     "metadata": {},
     "output_type": "execute_result"
    }
   ],
   "source": [
    "df4['percentage_of_chat'] = df4['Total Chats']/df4['Total Chats'].sum()\n",
    "df4[['Agent Name','Total Chats','percentage_of_chat','Total Feedback']]"
   ]
  },
  {
   "cell_type": "markdown",
   "metadata": {},
   "source": [
    "##### 13 . Total contributation hour for each and every agents weekly basis \n"
   ]
  },
  {
   "cell_type": "code",
   "execution_count": 60,
   "metadata": {},
   "outputs": [
    {
     "data": {
      "text/plain": [
       "Agent          Week\n",
       "Aditya Shinde  30               0 days 00:02:10\n",
       "Aditya_iot     29     0 days 02:01:54.333333333\n",
       "               30        0 days 01:36:21.500000\n",
       "Amersh         30        0 days 00:45:57.500000\n",
       "Ameya Jain     29     0 days 03:26:25.571428571\n",
       "                                 ...           \n",
       "Tarun          26              21 days 10:08:20\n",
       "Wasim          29     0 days 02:10:50.222222222\n",
       "               30     0 days 02:35:44.818181818\n",
       "Zeeshan        29        0 days 04:04:16.500000\n",
       "               30               0 days 06:09:55\n",
       "Name: Duration, Length: 89, dtype: timedelta64[ns]"
      ]
     },
     "execution_count": 60,
     "metadata": {},
     "output_type": "execute_result"
    }
   ],
   "source": [
    "df3['Week']=pd.to_datetime(df3['Date']).dt.isocalendar().week\n",
    "df3['Duration'] =pd.to_timedelta(df3['Duration'])\n",
    "df3.groupby(['Agent','Week'])['Duration'].mean()"
   ]
  },
  {
   "cell_type": "markdown",
   "metadata": {},
   "source": [
    "##### 14. total percentage of active hour for a month\n"
   ]
  },
  {
   "cell_type": "code",
   "execution_count": 64,
   "metadata": {},
   "outputs": [
    {
     "data": {
      "text/plain": [
       "Agent                   Month\n",
       "Aditya Shinde           7                 0 days 00:02:10\n",
       "Aditya_iot              7       0 days 01:44:52.444444444\n",
       "Amersh                  7          0 days 00:45:57.500000\n",
       "Ameya Jain              7          0 days 04:12:27.200000\n",
       "Ankitjha                7          0 days 00:34:00.250000\n",
       "Anurag Tiwari           7       0 days 00:04:30.378378378\n",
       "Aravind                 7          0 days 02:25:47.700000\n",
       "Ayushi Mishra           7       0 days 02:07:04.333333333\n",
       "Bharath                 7       0 days 05:20:30.666666666\n",
       "Boktiar Ahmed Bappy     7       0 days 02:22:07.470588235\n",
       "Chaitra K Hiremath      7       0 days 02:38:25.538461538\n",
       "Deepranjan Gupta        7       0 days 01:49:56.396551724\n",
       "Dibyanshu               7          0 days 00:15:10.312500\n",
       "Harikrishnan Shaji      7       0 days 02:20:07.521739130\n",
       "Hrisikesh Neogi         7       0 days 01:33:21.270270270\n",
       "Hyder Abbas             7          0 days 00:11:38.500000\n",
       "Ineuron Intelligence    7                 0 days 01:26:55\n",
       "Ishawant Kumar          7       0 days 01:03:24.163265306\n",
       "Jawala Prakash          7          0 days 02:54:00.500000\n",
       "Jaydeep Dixit           7       0 days 05:26:24.181818181\n",
       "Khushboo Priya          7       0 days 02:25:11.722222222\n",
       "Madhulika G             7       0 days 02:42:33.941176470\n",
       "Mahesh Sarade           7       0 days 01:11:32.194444444\n",
       "Maitry                  7          0 days 06:11:20.400000\n",
       "Manjunatha A            7          0 days 05:09:33.625000\n",
       "Mithun S                7       0 days 03:13:36.071428571\n",
       "Mukesh                  7                 0 days 02:58:06\n",
       "Muskan Garg             7       0 days 01:26:40.666666666\n",
       "Nandani Gupta           7       0 days 03:39:07.272727272\n",
       "Nishtha Jain            7       0 days 02:26:10.555555555\n",
       "Nitin M                 7                 0 days 00:47:56\n",
       "Prabir Kumar Satapathy  7       0 days 01:17:01.461538461\n",
       "Prateek _iot            7       0 days 01:05:00.294117647\n",
       "Prerna Singh            7       0 days 02:32:23.111111111\n",
       "Rishav Dash             7       0 days 03:28:52.666666666\n",
       "Saikumarreddy N         7          0 days 04:18:49.500000\n",
       "Sanjeev Kumar           7          0 days 02:14:03.700000\n",
       "Saurabh Shukla          7          0 days 00:24:59.675000\n",
       "Shiva Srivastava        7          0 days 00:59:58.600000\n",
       "Shivan K                7       0 days 01:00:10.222222222\n",
       "Shivananda Sonwane      7       0 days 03:17:09.066666666\n",
       "Shubham Sharma          7       0 days 01:32:13.542857142\n",
       "Sowmiya Sivakumar       7          0 days 01:51:53.125000\n",
       "Sudhanshu Kumar         7       0 days 04:12:10.181818181\n",
       "Suraj S Bilgi           7          0 days 02:30:42.600000\n",
       "Swati                   7          0 days 05:00:00.800000\n",
       "Tarun                   7                21 days 10:08:20\n",
       "Wasim                   7          0 days 02:24:32.250000\n",
       "Zeeshan                 7          0 days 04:54:31.900000\n",
       "Name: Duration, dtype: timedelta64[ns]"
      ]
     },
     "execution_count": 64,
     "metadata": {},
     "output_type": "execute_result"
    }
   ],
   "source": [
    "df3['Month']=pd.to_datetime(df3['Date']).dt.month\n",
    "df3['Duration'] =pd.to_timedelta(df3['Duration'])\n",
    "df3.groupby(['Agent','Month'])['Duration'].mean()"
   ]
  },
  {
   "cell_type": "code",
   "execution_count": null,
   "metadata": {},
   "outputs": [],
   "source": []
  }
 ],
 "metadata": {
  "kernelspec": {
   "display_name": "Python 3",
   "language": "python",
   "name": "python3"
  },
  "language_info": {
   "codemirror_mode": {
    "name": "ipython",
    "version": 3
   },
   "file_extension": ".py",
   "mimetype": "text/x-python",
   "name": "python",
   "nbconvert_exporter": "python",
   "pygments_lexer": "ipython3",
   "version": "3.8.5"
  },
  "toc": {
   "base_numbering": 1,
   "nav_menu": {},
   "number_sections": true,
   "sideBar": true,
   "skip_h1_title": false,
   "title_cell": "Table of Contents",
   "title_sidebar": "Contents",
   "toc_cell": false,
   "toc_position": {},
   "toc_section_display": true,
   "toc_window_display": false
  }
 },
 "nbformat": 4,
 "nbformat_minor": 4
}
