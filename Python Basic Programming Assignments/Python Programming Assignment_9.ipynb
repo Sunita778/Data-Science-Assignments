{
 "cells": [
  {
   "cell_type": "markdown",
   "metadata": {},
   "source": [
    "# Python Programming Assignment_9\n",
    "-------------------"
   ]
  },
  {
   "cell_type": "markdown",
   "metadata": {},
   "source": [
    "#### Write a Python program to check if the given number is a Disarium Number?"
   ]
  },
  {
   "cell_type": "code",
   "execution_count": 16,
   "metadata": {},
   "outputs": [
    {
     "name": "stdout",
     "output_type": "stream",
     "text": [
      "175\n",
      "Disarium Number\n",
      "121\n",
      "Not a Disarium Number\n"
     ]
    }
   ],
   "source": [
    "#A Disarium Number is a number where the sum of its digits raised to their respective positions is equal to the number itself.\n",
    "def is_disarium(n):\n",
    "    n = input()\n",
    "    sum = 0\n",
    "    for i in range(len(n)):\n",
    "        sum += int(n[i])**(i+1)\n",
    "    if sum == int(n):\n",
    "        print('Disarium Number')\n",
    "    else:\n",
    "        print(\"Not a Disarium Number\")\n",
    "    \n",
    "is_disarium(n)\n",
    "is_disarium(n)"
   ]
  },
  {
   "cell_type": "code",
   "execution_count": 15,
   "metadata": {},
   "outputs": [
    {
     "name": "stdout",
     "output_type": "stream",
     "text": [
      "175\n"
     ]
    },
    {
     "data": {
      "text/plain": [
       "True"
      ]
     },
     "execution_count": 15,
     "metadata": {},
     "output_type": "execute_result"
    }
   ],
   "source": [
    "#Another Solution\n",
    "def is_disarium_number(n):\n",
    "    digits = [int(d) for d in str(n)]\n",
    "    digits_sum = sum(digit**(index+1) for index, digit in enumerate(digits))\n",
    "    return digits_sum == n\n",
    "\n",
    "n = int(input())\n",
    "is_disarium_number(n)"
   ]
  },
  {
   "cell_type": "code",
   "execution_count": 16,
   "metadata": {},
   "outputs": [
    {
     "name": "stdout",
     "output_type": "stream",
     "text": [
      "121\n"
     ]
    },
    {
     "data": {
      "text/plain": [
       "False"
      ]
     },
     "execution_count": 16,
     "metadata": {},
     "output_type": "execute_result"
    }
   ],
   "source": [
    "n = int(input())\n",
    "is_disarium_number(n)"
   ]
  },
  {
   "cell_type": "markdown",
   "metadata": {},
   "source": [
    "#### Write a Python program to print all disarium numbers between 1 to 100?"
   ]
  },
  {
   "cell_type": "code",
   "execution_count": 25,
   "metadata": {},
   "outputs": [
    {
     "data": {
      "text/plain": [
       "[1, 2, 3, 4, 5, 6, 7, 8, 9, 89]"
      ]
     },
     "execution_count": 25,
     "metadata": {},
     "output_type": "execute_result"
    }
   ],
   "source": [
    "def is_disarium(a, b):\n",
    "    numbers = []\n",
    "    for x in range(a, b):\n",
    "        sum = 0\n",
    "        for i in range(len(str(x))):\n",
    "            sum += int(str(x)[i])**(i+1)\n",
    "            if sum == x:\n",
    "                numbers.append(x)\n",
    "    return numbers\n",
    "is_disarium(1, 101)"
   ]
  },
  {
   "cell_type": "code",
   "execution_count": 17,
   "metadata": {},
   "outputs": [
    {
     "name": "stdout",
     "output_type": "stream",
     "text": [
      "[1, 2, 3, 4, 5, 6, 7, 8, 9, 89]\n"
     ]
    }
   ],
   "source": [
    "#Another Solution\n",
    "def is_disarium_number(n):\n",
    "    digits = [int(d) for d in str(n)]\n",
    "    digits_sum = sum(digit**(index+1) for index, digit in enumerate(digits))\n",
    "    return digits_sum == n\n",
    "disarium_num = []\n",
    "for i in range(1, 100):\n",
    "    if is_disarium_number(i):\n",
    "        disarium_num.append(i)\n",
    "    \n",
    "print(disarium_num)"
   ]
  },
  {
   "cell_type": "markdown",
   "metadata": {},
   "source": [
    "#### Write a Python program to check if the given number is Happy Number?"
   ]
  },
  {
   "cell_type": "code",
   "execution_count": 31,
   "metadata": {},
   "outputs": [
    {
     "name": "stdout",
     "output_type": "stream",
     "text": [
      "True\n",
      "False\n"
     ]
    }
   ],
   "source": [
    "#A happy number is a number that, after repeatedly replacing it with the sum of the squares of its digits, eventually reaches 1. If it never reaches 1, then it is not a happy number.\n",
    "\n",
    "def is_happy(n):\n",
    "    while len(str(n)) > 1:\n",
    "        n = sum(int(i)**2 for i in str(n))\n",
    "    return n == 1\n",
    "\n",
    "print(is_happy(19))\n",
    "print(is_happy(17))"
   ]
  },
  {
   "cell_type": "code",
   "execution_count": 5,
   "metadata": {},
   "outputs": [
    {
     "name": "stdout",
     "output_type": "stream",
     "text": [
      "17\n",
      "False\n"
     ]
    }
   ],
   "source": [
    "def is_happy_number(n):\n",
    "    seen = set()\n",
    "    while n != 1:\n",
    "        n = sum(int(d)**2 for d in str(n))\n",
    "        if n in seen:\n",
    "            return False\n",
    "        seen.add(n)\n",
    "    return True\n",
    "\n",
    "num = int(input())\n",
    "print(is_happy_number(num))"
   ]
  },
  {
   "cell_type": "markdown",
   "metadata": {},
   "source": [
    "#### Write a Python program to print all happy numbers between 1 and 100?"
   ]
  },
  {
   "cell_type": "code",
   "execution_count": 9,
   "metadata": {},
   "outputs": [
    {
     "name": "stdout",
     "output_type": "stream",
     "text": [
      "Happy numbers between 1 and 100:\n",
      "[1, 10, 13, 19, 23, 28, 31, 32, 44, 49, 68, 70, 79, 82, 86, 91, 94, 97]\n"
     ]
    }
   ],
   "source": [
    "#Solution\n",
    "def is_happy(n):\n",
    "    while len(str(n)) > 1:\n",
    "        n = sum(int(i)**2 for i in str(n))\n",
    "    return n == 1\n",
    "\n",
    "hapy_num = []\n",
    "for i in range(1,100):\n",
    "    if is_happy(i):\n",
    "        hapy_num.append(i)\n",
    "        \n",
    "print(\"Happy numbers between 1 and 100:\")\n",
    "print(hapy_num)"
   ]
  },
  {
   "cell_type": "code",
   "execution_count": 10,
   "metadata": {},
   "outputs": [
    {
     "name": "stdout",
     "output_type": "stream",
     "text": [
      "Happy numbers between 1 and 100:\n",
      "[1, 7, 10, 13, 19, 23, 28, 31, 32, 44, 49, 68, 70, 79, 82, 86, 91, 94, 97, 100]\n"
     ]
    }
   ],
   "source": [
    "#Another solution\n",
    "def is_happy_number(n):\n",
    "    seen = set()\n",
    "    while n != 1:\n",
    "        n = sum(int(d)**2 for d in str(n))\n",
    "        if n in seen:\n",
    "            return False\n",
    "        seen.add(n)\n",
    "    return True\n",
    "\n",
    "happy_numbers = []\n",
    "for i in range(1, 101):\n",
    "    if is_happy_number(i):\n",
    "        happy_numbers.append(i)\n",
    "\n",
    "print(\"Happy numbers between 1 and 100:\")\n",
    "print(happy_numbers)\n"
   ]
  },
  {
   "cell_type": "markdown",
   "metadata": {},
   "source": [
    "#### Write a Python program to determine whether the given number is a Harshad Number?"
   ]
  },
  {
   "cell_type": "code",
   "execution_count": 11,
   "metadata": {},
   "outputs": [
    {
     "name": "stdout",
     "output_type": "stream",
     "text": [
      "18\n"
     ]
    },
    {
     "data": {
      "text/plain": [
       "True"
      ]
     },
     "execution_count": 11,
     "metadata": {},
     "output_type": "execute_result"
    }
   ],
   "source": [
    "#A Harshad Number is a number that is divisible by the sum of its digits.\n",
    "def is_harshad_number(n):\n",
    "    digits_sum = sum(int(d) for d in str(n))\n",
    "    return n % digits_sum == 0\n",
    "\n",
    "n = int(input())\n",
    "is_harshad_number(n)"
   ]
  },
  {
   "cell_type": "markdown",
   "metadata": {},
   "source": [
    "#### Write a Python program to print all pronic numbers between 1 and 100?"
   ]
  },
  {
   "cell_type": "code",
   "execution_count": 13,
   "metadata": {},
   "outputs": [
    {
     "name": "stdout",
     "output_type": "stream",
     "text": [
      "Pronic numbers between 1 and 100:\n",
      "[2, 6, 12, 20, 30, 42, 56, 72, 90]\n"
     ]
    }
   ],
   "source": [
    "#A pronic number is a number that is the product of two consecutive integers.\n",
    "def is_pronic_number(n):\n",
    "    for i in range(1, n):\n",
    "        if i * (i + 1) == n:\n",
    "            return True\n",
    "    return False\n",
    "\n",
    "pronic_numbers = []\n",
    "for i in range(1, 101):\n",
    "    if is_pronic_number(i):\n",
    "        pronic_numbers.append(i)\n",
    "\n",
    "print(\"Pronic numbers between 1 and 100:\")\n",
    "print(pronic_numbers)"
   ]
  },
  {
   "cell_type": "code",
   "execution_count": null,
   "metadata": {},
   "outputs": [],
   "source": []
  }
 ],
 "metadata": {
  "kernelspec": {
   "display_name": "Python 3",
   "language": "python",
   "name": "python3"
  },
  "language_info": {
   "codemirror_mode": {
    "name": "ipython",
    "version": 3
   },
   "file_extension": ".py",
   "mimetype": "text/x-python",
   "name": "python",
   "nbconvert_exporter": "python",
   "pygments_lexer": "ipython3",
   "version": "3.8.5"
  },
  "toc": {
   "base_numbering": 1,
   "nav_menu": {},
   "number_sections": true,
   "sideBar": true,
   "skip_h1_title": false,
   "title_cell": "Table of Contents",
   "title_sidebar": "Contents",
   "toc_cell": false,
   "toc_position": {},
   "toc_section_display": true,
   "toc_window_display": false
  }
 },
 "nbformat": 4,
 "nbformat_minor": 4
}
