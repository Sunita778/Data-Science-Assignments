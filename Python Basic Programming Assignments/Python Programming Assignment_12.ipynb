{
 "cells": [
  {
   "cell_type": "markdown",
   "metadata": {},
   "source": [
    "# Python Programming Assignment_12\n",
    "---------------"
   ]
  },
  {
   "cell_type": "markdown",
   "metadata": {},
   "source": [
    "#### 1.\tWrite a Python program to Extract Unique values dictionary values?\n"
   ]
  },
  {
   "cell_type": "code",
   "execution_count": 8,
   "metadata": {},
   "outputs": [
    {
     "name": "stdout",
     "output_type": "stream",
     "text": [
      "Unique dictionary values are : {'name', 'abc', 'suni'}\n"
     ]
    }
   ],
   "source": [
    "d = {\"k1\":\"name\", \"k2\":\"suni\", \"k3\":\"suni\", 4:\"abc\"}\n",
    "d1 = {i for i in d.values()}\n",
    "print(\"Unique dictionary values are :\", d1)"
   ]
  },
  {
   "cell_type": "markdown",
   "metadata": {},
   "source": [
    "#### 2.\tWrite a Python program to find the sum of all items in a dictionary?"
   ]
  },
  {
   "cell_type": "code",
   "execution_count": 13,
   "metadata": {
    "scrolled": true
   },
   "outputs": [
    {
     "name": "stdout",
     "output_type": "stream",
     "text": [
      "20\n"
     ]
    }
   ],
   "source": [
    "d = {1:3, 5:10,4:7}\n",
    "sum = 0\n",
    "for i in d.values():\n",
    "    sum += i\n",
    "print(sum)"
   ]
  },
  {
   "cell_type": "markdown",
   "metadata": {},
   "source": [
    "#### 3.\tWrite a Python program to Merging two Dictionaries?"
   ]
  },
  {
   "cell_type": "code",
   "execution_count": 20,
   "metadata": {},
   "outputs": [
    {
     "name": "stdout",
     "output_type": "stream",
     "text": [
      "{'k1': 'name', 'k2': 'suni', 'k3': 'suni', 'k4': 'abc', 1: 3, 5: 10, 4: 7}\n"
     ]
    }
   ],
   "source": [
    "def merge_dict(d, d1):\n",
    "    for i in d1.keys():\n",
    "        d[i] = d1[i]\n",
    "    return d\n",
    "\n",
    "d = {\"k1\":\"name\", \"k2\":\"suni\", \"k3\":\"suni\", 'k4':\"abc\"}\n",
    "d1 = {1:3, 5:10,4:7}\n",
    "print(merge_dict(d,d1))"
   ]
  },
  {
   "cell_type": "markdown",
   "metadata": {},
   "source": [
    "#### 4.\tWrite a Python program to convert key-values list to flat dictionary?"
   ]
  },
  {
   "cell_type": "code",
   "execution_count": 4,
   "metadata": {},
   "outputs": [
    {
     "name": "stdout",
     "output_type": "stream",
     "text": [
      "{'age': [21, 22, 20], 'name': 'kitty', 'jerry': 'sofu', 'k1': 45}\n"
     ]
    }
   ],
   "source": [
    "d = [('age',[21,22,20]),( 'name','kitty'), ('jerry', 'sofu'), ('k1', 45)]\n",
    "flat_dict = {}\n",
    "for i in d:                # by using for loop\n",
    "    flat_dict[i[0]] = i[1]\n",
    "print(flat_dict)"
   ]
  },
  {
   "cell_type": "code",
   "execution_count": 5,
   "metadata": {},
   "outputs": [
    {
     "data": {
      "text/plain": [
       "{'age': [21, 22, 20], 'name': 'kitty', 'jerry': 'sofu', 'k1': 45}"
      ]
     },
     "execution_count": 5,
     "metadata": {},
     "output_type": "execute_result"
    }
   ],
   "source": [
    "#By using built-in function\n",
    "dict(d)"
   ]
  },
  {
   "cell_type": "markdown",
   "metadata": {},
   "source": [
    "#### 5.\tWrite a Python program to insertion at the beginning in OrderedDict?"
   ]
  },
  {
   "cell_type": "code",
   "execution_count": 13,
   "metadata": {},
   "outputs": [
    {
     "name": "stdout",
     "output_type": "stream",
     "text": [
      "OrderedDict([('1', 'name'), ('12', 'suni'), ('8', 'suni'), (4, 'abc'), ('age', [21, 22, 20]), ('jerry', 'sofu'), ('k1', 45)])\n",
      "OrderedDict([('jerry', 'sofu'), ('1', 'name'), ('12', 'suni'), ('8', 'suni'), (4, 'abc'), ('age', [21, 22, 20]), ('k1', 45)])\n"
     ]
    }
   ],
   "source": [
    "from collections import OrderedDict\n",
    "\n",
    "d = OrderedDict({\"1\":\"name\", \"12\":\"suni\", \"8\":\"suni\", 4:\"abc\"})\n",
    "d1 = {'age': [21, 22, 20], 'jerry': 'sofu', 'k1': 45}\n",
    "d.update(d1)                           # inserting the d1 dictionary into d dictionry\n",
    "print(d)             \n",
    "d.move_to_end('jerry', last=False)     # For inserting at the begnning\n",
    "print(d)"
   ]
  },
  {
   "cell_type": "markdown",
   "metadata": {},
   "source": [
    "#### 6.\tWrite a Python program to check order of character in string using OrderedDict()?"
   ]
  },
  {
   "cell_type": "code",
   "execution_count": 17,
   "metadata": {},
   "outputs": [
    {
     "name": "stdout",
     "output_type": "stream",
     "text": [
      "OrderedDict([('k1', 'name'), ('k2', 'suni'), ('k3', 'suni'), ('k4', 'abc')])\n"
     ]
    }
   ],
   "source": [
    "from collections import OrderedDict\n",
    "\n",
    "d = { \"k3\":\"suni\", \"k1\":\"name\",'k4':\"abc\", \"k2\":\"suni\"}\n",
    "print(OrderedDict(dict(sorted(d.items()))))"
   ]
  },
  {
   "cell_type": "markdown",
   "metadata": {},
   "source": [
    "#### 7.\tWrite a Python program to sort Python Dictionaries by Key or Value?\n"
   ]
  },
  {
   "cell_type": "code",
   "execution_count": 25,
   "metadata": {},
   "outputs": [
    {
     "name": "stdout",
     "output_type": "stream",
     "text": [
      "1 4 8 12 \n",
      "\n",
      "abc name suni suni "
     ]
    }
   ],
   "source": [
    "d = {1:\"name\", 12:\"suni\", 8:\"suni\", 4:\"abc\"}\n",
    "\n",
    "for i in sorted(d.keys()):\n",
    "    print(i, end=' ')\n",
    "print('\\n')\n",
    "for i in sorted(d.values()):\n",
    "    print(i, end=' ')"
   ]
  },
  {
   "cell_type": "code",
   "execution_count": 26,
   "metadata": {},
   "outputs": [
    {
     "name": "stdout",
     "output_type": "stream",
     "text": [
      "[1, 4, 8, 12]\n",
      "['abc', 'name', 'suni', 'suni']\n"
     ]
    }
   ],
   "source": [
    "# by another way\n",
    "print(sorted(d.keys()))\n",
    "print(sorted(d.values()))"
   ]
  },
  {
   "cell_type": "code",
   "execution_count": null,
   "metadata": {},
   "outputs": [],
   "source": []
  }
 ],
 "metadata": {
  "kernelspec": {
   "display_name": "Python 3",
   "language": "python",
   "name": "python3"
  },
  "language_info": {
   "codemirror_mode": {
    "name": "ipython",
    "version": 3
   },
   "file_extension": ".py",
   "mimetype": "text/x-python",
   "name": "python",
   "nbconvert_exporter": "python",
   "pygments_lexer": "ipython3",
   "version": "3.8.5"
  },
  "toc": {
   "base_numbering": 1,
   "nav_menu": {},
   "number_sections": true,
   "sideBar": true,
   "skip_h1_title": false,
   "title_cell": "Table of Contents",
   "title_sidebar": "Contents",
   "toc_cell": false,
   "toc_position": {},
   "toc_section_display": true,
   "toc_window_display": false
  }
 },
 "nbformat": 4,
 "nbformat_minor": 4
}
