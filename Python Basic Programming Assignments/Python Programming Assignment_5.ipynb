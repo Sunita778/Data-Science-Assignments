{
 "cells": [
  {
   "cell_type": "markdown",
   "metadata": {},
   "source": [
    "# Python Programming Assignment_5\n",
    "---------------------"
   ]
  },
  {
   "cell_type": "markdown",
   "metadata": {},
   "source": [
    "#### 1. Write a Python Program to Find LCM?"
   ]
  },
  {
   "cell_type": "code",
   "execution_count": 1,
   "metadata": {},
   "outputs": [
    {
     "name": "stdout",
     "output_type": "stream",
     "text": [
      "Enter the 1st number: 4\n",
      "Enter the 2nd number: 20\n"
     ]
    },
    {
     "data": {
      "text/plain": [
       "20"
      ]
     },
     "execution_count": 1,
     "metadata": {},
     "output_type": "execute_result"
    }
   ],
   "source": [
    "def lcm(a,b):\n",
    "    x = a if a > b else b\n",
    "    while True:\n",
    "        if x % a == 0 and x % b == 0:\n",
    "            break\n",
    "        else:\n",
    "            x += 1\n",
    "    return x\n",
    "\n",
    "a = int(input(\"Enter the 1st number: \"))\n",
    "b = int(input(\"Enter the 2nd number: \"))\n",
    "lcm(a, b)      "
   ]
  },
  {
   "cell_type": "markdown",
   "metadata": {},
   "source": [
    "#### 2. Write a Python Program to Find HCF?"
   ]
  },
  {
   "cell_type": "code",
   "execution_count": 6,
   "metadata": {},
   "outputs": [
    {
     "name": "stdout",
     "output_type": "stream",
     "text": [
      "Enter the 1st number: 15\n",
      "Enter the 2nd number: 75\n",
      "15\n"
     ]
    }
   ],
   "source": [
    "def hcf(a, b):\n",
    "    return b if a == 0 else hcf(b%a, a)\n",
    "\n",
    "a = int(input(\"Enter the 1st number: \"))\n",
    "b = int(input(\"Enter the 2nd number: \"))\n",
    "print(hcf(a, b))"
   ]
  },
  {
   "cell_type": "markdown",
   "metadata": {},
   "source": [
    "#### 3. Write a Python Program to Convert Decimal to Binary, Octal and Hexadecimal?"
   ]
  },
  {
   "cell_type": "code",
   "execution_count": 3,
   "metadata": {},
   "outputs": [
    {
     "name": "stdout",
     "output_type": "stream",
     "text": [
      "The decimal number is: 4\n",
      "The binary of 4 is 0b100\n",
      "The octal of 4 is 0o4\n",
      "The hexadecimal of 4 is 0x4\n"
     ]
    }
   ],
   "source": [
    "def dec_to_bin(n):\n",
    "    decimal = int(dec)\n",
    "    print(\"The binary of\", decimal, \"is\", bin(decimal))\n",
    "    \n",
    "def dec_to_oct(n):\n",
    "    decimal = int(dec)\n",
    "    print(\"The octal of\", decimal, \"is\", oct(decimal))\n",
    "    \n",
    "def dec_to_hex(n):\n",
    "    decimal = int(dec)\n",
    "    print(\"The hexadecimal of\", decimal, \"is\", hex(decimal))\n",
    "    \n",
    "dec = int(input(\"The decimal number is: \"))\n",
    "dec_to_bin(dec)\n",
    "dec_to_oct(dec)\n",
    "dec_to_hex(dec)"
   ]
  },
  {
   "cell_type": "markdown",
   "metadata": {},
   "source": [
    "#### 4. Write a Python Program To Find ASCII value of a character?"
   ]
  },
  {
   "cell_type": "code",
   "execution_count": 4,
   "metadata": {},
   "outputs": [
    {
     "name": "stdout",
     "output_type": "stream",
     "text": [
      "enter the character: g\n",
      "ASCII value of  g  is :  103\n"
     ]
    }
   ],
   "source": [
    "def ASCII_char(a):\n",
    "    ASCII = ord(a)\n",
    "    print(\"ASCII value of \", s, \" is : \", ASCII)\n",
    "s = input(\"enter the character: \")\n",
    "ASCII_char(s)"
   ]
  },
  {
   "cell_type": "markdown",
   "metadata": {},
   "source": [
    "#### 5. Write a Python Program to Make a Simple Calculator with 4 basic mathematical operations?"
   ]
  },
  {
   "cell_type": "code",
   "execution_count": 3,
   "metadata": {},
   "outputs": [
    {
     "name": "stdout",
     "output_type": "stream",
     "text": [
      "1. addition\n",
      "2. subtraction\n",
      "3. multiplicaion\n",
      "4. division\n",
      "\n",
      "Select operation (1, 2, 3, 4) : 3\n",
      "Enter the 1st number : 5\n",
      "Enter the 2nd number : 2\n",
      "5 * 2 = 10\n"
     ]
    }
   ],
   "source": [
    "print(\"1. addition\\n2. subtraction\\n3. multiplicaion\\n4. division\\n\")\n",
    "math_ope = int(input(\"Select operation (1, 2, 3, 4) : \"))\n",
    "a = int(input(\"Enter the 1st number : \"))\n",
    "b = int(input(\"Enter the 2nd number : \"))\n",
    "if math_ope == 1:\n",
    "    print(a ,'+', b, '=', a + b)\n",
    "elif math_ope == 2:\n",
    "    print(a ,'-', b, '=', a - b)\n",
    "elif math_ope == 3:\n",
    "    print(a, '*', b, '=', a * b)\n",
    "elif math_ope == 4:\n",
    "    print(a, '/', b, '=', a / b)\n",
    "else:\n",
    "    print(\"Nothing\")"
   ]
  },
  {
   "cell_type": "code",
   "execution_count": null,
   "metadata": {},
   "outputs": [],
   "source": []
  }
 ],
 "metadata": {
  "kernelspec": {
   "display_name": "Python 3",
   "language": "python",
   "name": "python3"
  },
  "language_info": {
   "codemirror_mode": {
    "name": "ipython",
    "version": 3
   },
   "file_extension": ".py",
   "mimetype": "text/x-python",
   "name": "python",
   "nbconvert_exporter": "python",
   "pygments_lexer": "ipython3",
   "version": "3.8.5"
  },
  "toc": {
   "base_numbering": 1,
   "nav_menu": {},
   "number_sections": true,
   "sideBar": true,
   "skip_h1_title": false,
   "title_cell": "Table of Contents",
   "title_sidebar": "Contents",
   "toc_cell": false,
   "toc_position": {},
   "toc_section_display": true,
   "toc_window_display": false
  }
 },
 "nbformat": 4,
 "nbformat_minor": 4
}
