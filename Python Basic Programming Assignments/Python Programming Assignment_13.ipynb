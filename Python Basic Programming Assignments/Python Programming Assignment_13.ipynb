{
 "cells": [
  {
   "cell_type": "markdown",
   "metadata": {},
   "source": [
    "# Python Programming Assignment_13\n",
    "----------------"
   ]
  },
  {
   "cell_type": "markdown",
   "metadata": {},
   "source": [
    "### Question 1:\n",
    "\n",
    "#### Write a program that calculates and prints the value according to the given formula:\n",
    "\n",
    "#### Q = Square root of [(2 * C * D)/H]\n",
    "\n",
    "#### Following are the fixed values of C and H:\n",
    "\n",
    "#### C is 50. H is 30.\n",
    "\n",
    "#### D is the variable whose values should be input to your program in a comma-separated sequence.\n",
    "\n",
    "#### Example\n",
    "\n",
    "#### Let us assume the following comma separated input sequence is given to the program:\n",
    "\n",
    "#### 100,150,180\n",
    "\n",
    "#### The output of the program should be:\n",
    "\n",
    "#### 18,22,24"
   ]
  },
  {
   "cell_type": "code",
   "execution_count": 21,
   "metadata": {},
   "outputs": [
    {
     "name": "stdout",
     "output_type": "stream",
     "text": [
      "100,150,180\n",
      "18,22,24\n"
     ]
    }
   ],
   "source": [
    "import math\n",
    "\n",
    "C = 50\n",
    "H = 30\n",
    "D = eval(input())\n",
    "output = []\n",
    "for i in D:\n",
    "    Q = int(math.sqrt((2 * C * i)/H))\n",
    "    output.append(str(Q))\n",
    "print(\",\".join(output))"
   ]
  },
  {
   "cell_type": "markdown",
   "metadata": {},
   "source": [
    "### Question 2:\n",
    "    \n",
    "#### Write a program which takes 2 digits, X,Y as input and generates a 2-dimensional array. The element value in the i-th row and j-th column of the array should be i*j.\n",
    "\n",
    "#### Note: i=0,1.., X-1; j=0,1,¡¬Y-1.\n",
    "\n",
    "#### Example\n",
    "\n",
    "#### Suppose the following inputs are given to the program:\n",
    "\n",
    "#### 3,5\n",
    "\n",
    "#### Then, the output of the program should be:\n",
    "\n",
    "#### [[0, 0, 0, 0, 0], [0, 1, 2, 3, 4], [0, 2, 4, 6, 8]] \n"
   ]
  },
  {
   "cell_type": "code",
   "execution_count": 47,
   "metadata": {},
   "outputs": [
    {
     "name": "stdout",
     "output_type": "stream",
     "text": [
      "3,5\n",
      "[[0, 0, 0, 0, 0], [0, 1, 2, 3, 4], [0, 2, 4, 6, 8]]\n"
     ]
    }
   ],
   "source": [
    "x, y = map(int, input().split(','))\n",
    "m = []\n",
    "for i in range(x):\n",
    "    n = []\n",
    "    for j in range(y):\n",
    "        n.append(i*j)\n",
    "    m.append(n)\n",
    "print(m)"
   ]
  },
  {
   "cell_type": "markdown",
   "metadata": {},
   "source": [
    "### Question 3:\n",
    "    \n",
    "#### Write a program that accepts a comma separated sequence of words as input and prints the words in a comma-separated sequence after sorting them alphabetically.\n",
    "\n",
    "#### Suppose the following input is supplied to the program:\n",
    "\n",
    "#### without,hello,bag,world\n",
    "\n",
    "#### Then, the output should be:\n",
    "\n",
    "#### bag,hello,without,world"
   ]
  },
  {
   "cell_type": "code",
   "execution_count": 37,
   "metadata": {},
   "outputs": [
    {
     "name": "stdout",
     "output_type": "stream",
     "text": [
      "without,hello,bag,world\n",
      "bag,hello,without,world\n"
     ]
    }
   ],
   "source": [
    "l = input()\n",
    "x = ','.join(sorted(l.split(',')))\n",
    "print(x)"
   ]
  },
  {
   "cell_type": "markdown",
   "metadata": {},
   "source": [
    "### Question 4:\n",
    "    \n",
    "#### Write a program that accepts a sequence of whitespace separated words as input and prints the words after removing all duplicate words and sorting them alphanumerically.\n",
    "\n",
    "#### Suppose the following input is supplied to the program:\n",
    "\n",
    "#### hello world and practice makes perfect and hello world again\n",
    "\n",
    "#### Then, the output should be:\n",
    "\n",
    "#### again and hello makes perfect practice world\n"
   ]
  },
  {
   "cell_type": "code",
   "execution_count": 44,
   "metadata": {},
   "outputs": [
    {
     "name": "stdout",
     "output_type": "stream",
     "text": [
      "hello world and practice makes perfect and hello world again\n",
      "again and hello makes perfect practice world\n"
     ]
    }
   ],
   "source": [
    "l = list(input().split())\n",
    "a = sorted(set(l))\n",
    "print(' '.join(a))"
   ]
  },
  {
   "cell_type": "markdown",
   "metadata": {},
   "source": [
    "### Question 5:\n",
    "\n",
    "#### Write a program that accepts a sentence and calculate the number of letters and digits.\n",
    "\n",
    "#### Suppose the following input is supplied to the program:\n",
    "\n",
    "#### hello world! 123\n",
    "\n",
    "#### Then, the output should be:\n",
    "\n",
    "#### LETTERS 10\n",
    "\n",
    "#### DIGITS 3"
   ]
  },
  {
   "cell_type": "code",
   "execution_count": 4,
   "metadata": {},
   "outputs": [
    {
     "name": "stdout",
     "output_type": "stream",
     "text": [
      "hello world! 123\n",
      "LETTERS 10\n",
      "DIGITS 3\n"
     ]
    }
   ],
   "source": [
    "s = input()\n",
    "l = []\n",
    "l1 = []\n",
    "for i in s:\n",
    "    if i.isalpha():\n",
    "        l.append(i)\n",
    "    if i.isdigit():\n",
    "        l1.append(i)\n",
    "print('LETTERS', len(l))\n",
    "print('DIGITS', len(l1))"
   ]
  },
  {
   "cell_type": "markdown",
   "metadata": {},
   "source": [
    "### Question 6:\n",
    "    \n",
    "#### A website requires the users to input username and password to register. Write a program to check the validity of password input by users.\n",
    "\n",
    "#### Following are the criteria for checking the password:\n",
    "\n",
    "#### 1. At least 1 letter between [a-z]\n",
    "\n",
    "#### 2. At least 1 number between [0-9]\n",
    "\n",
    "#### 3. At least 1 letter between [A-Z]\n",
    "\n",
    "#### 4. At least 1 character from [$#@]\n",
    "\n",
    "#### 5. Minimum length of transaction password: 6\n",
    "\n",
    "#### 6. Maximum length of transaction password: 12\n",
    "\n",
    "#### Your program should accept a sequence of comma separated passwords and will check them according to the above criteria. Passwords that match the criteria are to be printed, each separated by a comma.\n",
    "\n",
    "#### Example\n",
    "\n",
    "#### If the following passwords are given as input to the program:\n",
    "\n",
    "#### ABd1234@1,a F1#,2w3E*,2We3345\n",
    "\n",
    "#### Then, the output of the program should be:\n",
    "\n",
    "#### ABd1234@1\n"
   ]
  },
  {
   "cell_type": "code",
   "execution_count": 27,
   "metadata": {},
   "outputs": [
    {
     "name": "stdout",
     "output_type": "stream",
     "text": [
      "ABd1234@1,a F1#,2w3E*,2We3345\n",
      "ABd1234@1\n"
     ]
    }
   ],
   "source": [
    "a = map(str, input().split(','))\n",
    "character = \"$#@\"\n",
    "for j in a:\n",
    "    if len(j) <= 12 and len(j) >= 6:\n",
    "        if any([i.isalpha() for i in j]):\n",
    "            if any([i.islower() for i in j]):\n",
    "                if any([i.isupper() for i in j]):\n",
    "                    if any([i.isdigit() for i in j]):\n",
    "                        if any([i for i in j if i in character]):\n",
    "                            print(j)"
   ]
  },
  {
   "cell_type": "code",
   "execution_count": null,
   "metadata": {},
   "outputs": [],
   "source": []
  }
 ],
 "metadata": {
  "kernelspec": {
   "display_name": "Python 3",
   "language": "python",
   "name": "python3"
  },
  "language_info": {
   "codemirror_mode": {
    "name": "ipython",
    "version": 3
   },
   "file_extension": ".py",
   "mimetype": "text/x-python",
   "name": "python",
   "nbconvert_exporter": "python",
   "pygments_lexer": "ipython3",
   "version": "3.8.5"
  },
  "toc": {
   "base_numbering": 1,
   "nav_menu": {},
   "number_sections": true,
   "sideBar": true,
   "skip_h1_title": false,
   "title_cell": "Table of Contents",
   "title_sidebar": "Contents",
   "toc_cell": false,
   "toc_position": {},
   "toc_section_display": true,
   "toc_window_display": false
  }
 },
 "nbformat": 4,
 "nbformat_minor": 4
}
