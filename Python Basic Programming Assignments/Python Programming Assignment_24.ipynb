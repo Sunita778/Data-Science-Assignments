{
 "cells": [
  {
   "cell_type": "markdown",
   "metadata": {},
   "source": [
    "# Python Programming Assignment_24\n",
    "----------------"
   ]
  },
  {
   "cell_type": "markdown",
   "metadata": {},
   "source": [
    "### Question1\n",
    "#### Create a function that takes an integer and returns a list from 1 to the given number, where:\n",
    "#### 1.\tIf the number can be divided evenly by 4, amplify it by 10 (i.e. return 10 times the number).\n",
    "#### 2.\tIf the number cannot be divided evenly by 4, simply return the number.\n",
    "##### Examples\n",
    "#### amplify(4) ➞ [1, 2, 3, 40]\n",
    "\n",
    "#### amplify(3) ➞ [1, 2, 3]\n",
    "\n",
    "#### amplify(25) ➞ [1, 2, 3, 40, 5, 6, 7, 80, 9, 10, 11, 120, 13, 14, 15, 160, 17, 18, 19, 200, 21, 22, 23, 240, 25]\n",
    "##### Notes\n",
    "•\tThe given integer will always be equal to or greater than 1.\n",
    "\n",
    "•\tInclude the number (see example above).\n",
    "\n",
    "•\tTo perform this problem with its intended purpose, try doing it with list comprehensions. If that's too difficult, just solve the challenge any way you can."
   ]
  },
  {
   "cell_type": "code",
   "execution_count": 4,
   "metadata": {},
   "outputs": [
    {
     "name": "stdout",
     "output_type": "stream",
     "text": [
      "[1, 2, 3, 40]\n",
      "[1, 2, 3]\n",
      "[1, 2, 3, 40, 5, 6, 7, 80, 9, 10, 11, 120, 13, 14, 15, 160, 17, 18, 19, 200, 21, 22, 23, 240, 25]\n"
     ]
    }
   ],
   "source": [
    "def amplify(n):\n",
    "    return [i*10 if i%4 == 0 else i for i in range(1, n+1)]\n",
    "print(amplify(4))\n",
    "print(amplify(3))\n",
    "print(amplify(25))"
   ]
  },
  {
   "cell_type": "code",
   "execution_count": 7,
   "metadata": {},
   "outputs": [
    {
     "name": "stdout",
     "output_type": "stream",
     "text": [
      "25\n",
      "[1, 2, 3, 40, 5, 6, 7, 80, 9, 10, 11, 120, 13, 14, 15, 160, 17, 18, 19, 200, 21, 22, 23, 240, 25]\n"
     ]
    }
   ],
   "source": [
    "n= int(input())        # By input method\n",
    "print(amplify(n))"
   ]
  },
  {
   "cell_type": "markdown",
   "metadata": {},
   "source": [
    "### Question2\n",
    "#### Create a function that takes a list of numbers and return the number that's unique.\n",
    "##### Examples\n",
    "#### unique([3, 3, 3, 7, 3, 3]) ➞ 7\n",
    "\n",
    "#### unique([0, 0, 0.77, 0, 0]) ➞ 0.77\n",
    "\n",
    "#### unique([0, 1, 1, 1, 1, 1, 1, 1]) ➞ 0\n",
    "##### Notes\n",
    "#### Test cases will always have exactly one unique number while all others are the same."
   ]
  },
  {
   "cell_type": "code",
   "execution_count": 5,
   "metadata": {},
   "outputs": [
    {
     "name": "stdout",
     "output_type": "stream",
     "text": [
      "0.77\n",
      "0\n",
      "7\n"
     ]
    }
   ],
   "source": [
    "def unique(l):\n",
    "    for i in l:\n",
    "        if l.count(i) == 1:\n",
    "            print(i)\n",
    "\n",
    "unique([0, 0, 0.77, 0, 0])\n",
    "unique([0, 1, 1, 1, 1, 1, 1, 1])\n",
    "unique([3, 3, 3, 7, 3, 3])"
   ]
  },
  {
   "cell_type": "markdown",
   "metadata": {},
   "source": [
    "### Question3\n",
    "#### Your task is to create a Circle constructor that creates a circle with a radius provided by an argument. The circles constructed must have two getters getArea() (PIr^2) and getPerimeter() (2PI*r) which give both respective areas and perimeter (circumference).\n",
    "###### For help with this class, I have provided you with a Rectangle constructor which you can use as a base example.\n",
    "##### Examples\n",
    "#### circy = Circle(11)\n",
    "#### circy.getArea()\n",
    "\n",
    "####  Should return 380.132711084365\n",
    "\n",
    "#### circy = Circle(4.44)\n",
    "#### circy.getPerimeter()\n",
    "\n",
    "#### Should return 27.897342763877365\n",
    "##### Notes\n",
    "#### Round results up to the nearest integer."
   ]
  },
  {
   "cell_type": "code",
   "execution_count": 19,
   "metadata": {},
   "outputs": [
    {
     "name": "stdout",
     "output_type": "stream",
     "text": [
      "11\n",
      "380.132711084365\n",
      "69.11503837897544\n"
     ]
    }
   ],
   "source": [
    "import math\n",
    "class Circle:\n",
    "    def __init__(self, r):\n",
    "        self.r = r\n",
    "    def getArea(self):\n",
    "        return (math.pi * (self.r**2))       # r is for radius\n",
    "    def getPerimeter(self):\n",
    "        return (2*math.pi*self.r)\n",
    "    \n",
    "radius = float(input())          # input the radius\n",
    "circy = Circle(radius)\n",
    "print(circy.getArea())           # Area of circle\n",
    "print(circy.getPerimeter())      # Perimeter of circle"
   ]
  },
  {
   "cell_type": "markdown",
   "metadata": {},
   "source": [
    "### Question4\n",
    "#### Create a function that takes a list of strings and return a list, sorted from shortest to longest.\n",
    "##### Examples\n",
    "#### sort_by_length([\"Google\", \"Apple\", \"Microsoft\"])\n",
    "#### ➞ [\"Apple\", \"Google\", \"Microsoft\"]\n",
    "\n",
    "#### sort_by_length([\"Leonardo\", \"Michelangelo\", \"Raphael\", \"Donatello\"])\n",
    "#### ➞ [\"Raphael\", \"Leonardo\", \"Donatello\", \"Michelangelo\"]\n",
    "\n",
    "#### sort_by_length([\"Turing\", \"Einstein\", \"Jung\"])\n",
    "#### ➞ [\"Jung\", \"Turing\", \"Einstein\"]\n",
    "##### Notes\n",
    "#### All test cases contain lists with strings of different lengths, so you won't have to deal with multiple strings of the same length."
   ]
  },
  {
   "cell_type": "code",
   "execution_count": 7,
   "metadata": {},
   "outputs": [
    {
     "name": "stdout",
     "output_type": "stream",
     "text": [
      "Turing Einstein Jung\n",
      "['Jung', 'Turing', 'Einstein']\n"
     ]
    }
   ],
   "source": [
    "def sort_by_length(s):\n",
    "    print(sorted(s, key=len))\n",
    "s = list(input().split())        # passing string by list input method\n",
    "sort_by_length(s)"
   ]
  },
  {
   "cell_type": "code",
   "execution_count": 8,
   "metadata": {},
   "outputs": [
    {
     "name": "stdout",
     "output_type": "stream",
     "text": [
      "['Raphael', 'Leonardo', 'Donatello', 'Michelangelo']\n",
      "['Apple', 'Google', 'Microsoft']\n",
      "['Jung', 'Turing', 'Einstein']\n"
     ]
    }
   ],
   "source": [
    "sort_by_length([\"Leonardo\", \"Michelangelo\", \"Raphael\", \"Donatello\"])       # passing string list in fuction\n",
    "sort_by_length([\"Google\", \"Apple\", \"Microsoft\"])\n",
    "sort_by_length([\"Turing\", \"Einstein\", \"Jung\"])"
   ]
  },
  {
   "cell_type": "markdown",
   "metadata": {},
   "source": [
    "### Question5\n",
    "#### Create a function that validates whether three given integers form a Pythagorean triplet. The sum of the squares of the two smallest integers must equal the square of the largest number to be validated.\n",
    "\n",
    "\n",
    "##### Examples\n",
    "#### is_triplet(3, 4, 5) ➞ True\n",
    "####  3² + 4² = 25\n",
    "#### 5² = 25\n",
    "\n",
    "#### is_triplet(13, 5, 12) ➞ True\n",
    "####  5² + 12² = 169\n",
    "####  13² = 169\n",
    "\n",
    "#### is_triplet(1, 2, 3) ➞ False\n",
    "####  1² + 2² = 5\n",
    "####  3² = 9\n",
    "##### Notes\n",
    "#### Numbers may not be given in a sorted order."
   ]
  },
  {
   "cell_type": "code",
   "execution_count": 9,
   "metadata": {},
   "outputs": [
    {
     "name": "stdout",
     "output_type": "stream",
     "text": [
      "True\n",
      "True\n",
      "False\n"
     ]
    }
   ],
   "source": [
    "def is_triplet(a, b, c):\n",
    "    l = sorted([a, b, c])\n",
    "    if (l[0]**2) + (l[1]**2) == (l[2]**2):\n",
    "        print('True')\n",
    "    else:\n",
    "        print('False')\n",
    "is_triplet(3, 4, 5)\n",
    "is_triplet(13, 5, 12) \n",
    "is_triplet(1, 2, 3)"
   ]
  },
  {
   "cell_type": "code",
   "execution_count": 10,
   "metadata": {},
   "outputs": [
    {
     "name": "stdout",
     "output_type": "stream",
     "text": [
      "13 5 12\n",
      "True\n"
     ]
    }
   ],
   "source": [
    "# By input method\n",
    "\n",
    "a, b, c= map(int, input().split())   # Input the three numbers\n",
    "is_triplet(a, b, c)"
   ]
  },
  {
   "cell_type": "code",
   "execution_count": null,
   "metadata": {},
   "outputs": [],
   "source": []
  }
 ],
 "metadata": {
  "kernelspec": {
   "display_name": "Python 3",
   "language": "python",
   "name": "python3"
  },
  "language_info": {
   "codemirror_mode": {
    "name": "ipython",
    "version": 3
   },
   "file_extension": ".py",
   "mimetype": "text/x-python",
   "name": "python",
   "nbconvert_exporter": "python",
   "pygments_lexer": "ipython3",
   "version": "3.8.5"
  },
  "toc": {
   "base_numbering": 1,
   "nav_menu": {},
   "number_sections": true,
   "sideBar": true,
   "skip_h1_title": false,
   "title_cell": "Table of Contents",
   "title_sidebar": "Contents",
   "toc_cell": false,
   "toc_position": {},
   "toc_section_display": true,
   "toc_window_display": false
  }
 },
 "nbformat": 4,
 "nbformat_minor": 4
}
