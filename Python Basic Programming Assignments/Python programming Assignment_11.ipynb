{
 "cells": [
  {
   "cell_type": "markdown",
   "metadata": {},
   "source": [
    "# Python Programming Assignment_11\n",
    "------------"
   ]
  },
  {
   "cell_type": "markdown",
   "metadata": {},
   "source": [
    "#### 1. Write a Python program to find words which are greater than given length k?"
   ]
  },
  {
   "cell_type": "code",
   "execution_count": 7,
   "metadata": {},
   "outputs": [
    {
     "name": "stdout",
     "output_type": "stream",
     "text": [
      "question\n",
      "Assignment\n"
     ]
    }
   ],
   "source": [
    "s = \"It's the 1st question of this Assignment\"\n",
    "s1 = s.split(\" \")\n",
    "k = 5\n",
    "for i in s1:\n",
    "    if len(i) > k:\n",
    "        print(i)"
   ]
  },
  {
   "cell_type": "markdown",
   "metadata": {},
   "source": [
    "#### 2. Write a Python program for removing i-th character from a string?"
   ]
  },
  {
   "cell_type": "code",
   "execution_count": 12,
   "metadata": {},
   "outputs": [
    {
     "name": "stdout",
     "output_type": "stream",
     "text": [
      "Da Science\n"
     ]
    }
   ],
   "source": [
    "s = \"Data Science\"\n",
    "s1 = \"\"\n",
    "for i in range(len(s)):\n",
    "    if i != 3 and i != 2:\n",
    "        s1 += s[i]\n",
    "print(s1)"
   ]
  },
  {
   "cell_type": "markdown",
   "metadata": {},
   "source": [
    "#### 3. Write a Python program to split and join a string?"
   ]
  },
  {
   "cell_type": "code",
   "execution_count": 16,
   "metadata": {},
   "outputs": [
    {
     "name": "stdout",
     "output_type": "stream",
     "text": [
      "The original string is :   This assignment is about string\n",
      "By spliting the origginal string it gives :  ['This', 'assignment', 'is', 'about', 'string']\n",
      "After joining - to the spliting string gives :  This-assignment-is-about-string\n"
     ]
    }
   ],
   "source": [
    "s = 'This assignment is about string'\n",
    "s1 = s.split()\n",
    "s2 = \"-\".join(s1)\n",
    "print(\"The original string is :  \", s)\n",
    "print(\"By spliting the origginal string it gives : \", s1)\n",
    "print(\"After joining - to the spliting string gives : \", s2)"
   ]
  },
  {
   "cell_type": "markdown",
   "metadata": {},
   "source": [
    "#### 4.Write a Python to check if a given string is binary string or not?"
   ]
  },
  {
   "cell_type": "code",
   "execution_count": 3,
   "metadata": {},
   "outputs": [
    {
     "name": "stdout",
     "output_type": "stream",
     "text": [
      "1101011000\n",
      "Binary\n",
      "suni\n",
      "Not Binary\n"
     ]
    }
   ],
   "source": [
    "for n in range(2):\n",
    "    s = input()\n",
    "    binary = ['0','1']\n",
    "    is_binary = True\n",
    "    for i in s:\n",
    "        if i not in binary:\n",
    "            is_binary = False\n",
    "    if is_binary:\n",
    "        print('Binary')\n",
    "    else:\n",
    "        print('Not Binary')"
   ]
  },
  {
   "cell_type": "markdown",
   "metadata": {},
   "source": [
    "#### 5. Write a Python program to find uncommon words from two Strings?"
   ]
  },
  {
   "cell_type": "code",
   "execution_count": 4,
   "metadata": {},
   "outputs": [
    {
     "name": "stdout",
     "output_type": "stream",
     "text": [
      "Write a Python program\n",
      "write a program for this\n",
      "['Write', 'Python', 'write', 'for', 'this']\n"
     ]
    }
   ],
   "source": [
    "s = input().split()\n",
    "s1 = input().split()\n",
    "x = []         # for storing uncommon words\n",
    "\n",
    "for i in s:\n",
    "    if i not in s1:\n",
    "        x.append(i)\n",
    "for j in s1:\n",
    "    if j not in s:\n",
    "        x.append(j)\n",
    "print(x)"
   ]
  },
  {
   "cell_type": "markdown",
   "metadata": {},
   "source": [
    "#### 6.Write a Python to find all duplicate characters in string?"
   ]
  },
  {
   "cell_type": "code",
   "execution_count": 3,
   "metadata": {},
   "outputs": [
    {
     "name": "stdout",
     "output_type": "stream",
     "text": [
      "Sunita Pradhan\n",
      "{'n', 'a'}\n"
     ]
    }
   ],
   "source": [
    "s = input().lower()\n",
    "a = []     # for storing duplicate character\n",
    "for i in s:\n",
    "    if s.count(i) > 1:\n",
    "        a.append(i)\n",
    "print(set(a))        "
   ]
  },
  {
   "cell_type": "markdown",
   "metadata": {},
   "source": [
    "#### 7. Write a Python Program to check if a string contains any special character?"
   ]
  },
  {
   "cell_type": "code",
   "execution_count": 7,
   "metadata": {},
   "outputs": [
    {
     "name": "stdout",
     "output_type": "stream",
     "text": [
      "python & sql (both) are required!\n",
      "string contains any special character\n"
     ]
    }
   ],
   "source": [
    "string = input()\n",
    "special_character = '~!@#$%^&*()_`;:\\|/<>]['\n",
    "a = []\n",
    "count = 0\n",
    "for i in string:\n",
    "    if i in special_character:\n",
    "        a.append(i)\n",
    "        count += 1\n",
    "if len(a) > 0:\n",
    "    print('string contains any special character')\n",
    "else:\n",
    "    print('string does not contains any special character')"
   ]
  },
  {
   "cell_type": "code",
   "execution_count": null,
   "metadata": {},
   "outputs": [],
   "source": []
  }
 ],
 "metadata": {
  "kernelspec": {
   "display_name": "Python 3",
   "language": "python",
   "name": "python3"
  },
  "language_info": {
   "codemirror_mode": {
    "name": "ipython",
    "version": 3
   },
   "file_extension": ".py",
   "mimetype": "text/x-python",
   "name": "python",
   "nbconvert_exporter": "python",
   "pygments_lexer": "ipython3",
   "version": "3.8.5"
  },
  "toc": {
   "base_numbering": 1,
   "nav_menu": {},
   "number_sections": true,
   "sideBar": true,
   "skip_h1_title": false,
   "title_cell": "Table of Contents",
   "title_sidebar": "Contents",
   "toc_cell": false,
   "toc_position": {},
   "toc_section_display": true,
   "toc_window_display": false
  }
 },
 "nbformat": 4,
 "nbformat_minor": 4
}
