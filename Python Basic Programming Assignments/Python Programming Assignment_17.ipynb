{
 "cells": [
  {
   "cell_type": "markdown",
   "metadata": {},
   "source": [
    "# Python Programming Assignment_17\n",
    "----------------"
   ]
  },
  {
   "cell_type": "markdown",
   "metadata": {},
   "source": [
    "### Question1. \n",
    "#### Create a function that takes three arguments a, b, c and returns the sum of the numbers that are evenly divided by c from the range a, b inclusive.\n",
    "#### Examples\n",
    "#### evenly_divisible(1, 10, 20) ➞ 0\n",
    "####  No number between 1 and 10 can be evenly divided by 20.\n",
    "\n",
    "#### evenly_divisible(1, 10, 2) ➞ 30\n",
    "####  2 + 4 + 6 + 8 + 10 = 30\n",
    "\n",
    "#### evenly_divisible(1, 10, 3) ➞ 18\n",
    "####  3 + 6 + 9 = 18\n"
   ]
  },
  {
   "cell_type": "code",
   "execution_count": 2,
   "metadata": {},
   "outputs": [
    {
     "name": "stdout",
     "output_type": "stream",
     "text": [
      "0\n",
      "30\n",
      "18\n"
     ]
    }
   ],
   "source": [
    "def evenly_divisible(a, b, c):\n",
    "    l= []\n",
    "    for i in range(a, b+1):\n",
    "        if i % c == 0:\n",
    "            l.append(i)\n",
    "    print(sum(l))\n",
    "    \n",
    "evenly_divisible(1, 10, 20)\n",
    "evenly_divisible(1, 10, 2) \n",
    "evenly_divisible(1, 10, 3) "
   ]
  },
  {
   "cell_type": "markdown",
   "metadata": {},
   "source": [
    "### Question2. \n",
    "#### Create a function that returns True if a given inequality expression is correct and False otherwise.\n",
    "#### Examples\n",
    "#### correct_signs(\"3 < 7 < 11\") ➞ True\n",
    "\n",
    "#### correct_signs(\"13 > 44 > 33 > 1\") ➞ False\n",
    "\n",
    "#### correct_signs(\"1 < 2 < 6 < 9 > 3\") ➞ True\n"
   ]
  },
  {
   "cell_type": "code",
   "execution_count": 18,
   "metadata": {},
   "outputs": [
    {
     "name": "stdout",
     "output_type": "stream",
     "text": [
      "True\n",
      "False\n",
      "True\n"
     ]
    }
   ],
   "source": [
    "def correct_signs(inequality_expression):\n",
    "    print(eval(inequality_expression))\n",
    "    \n",
    "correct_signs(\"3 < 7 < 11\") \n",
    "correct_signs(\"13 > 44 > 33 > 1\") \n",
    "correct_signs(\"1 < 2 < 6 < 9 > 3\") "
   ]
  },
  {
   "cell_type": "markdown",
   "metadata": {},
   "source": [
    "### Question3. \n",
    "#### Create a function that replaces all the vowels in a string with a specified character.\n",
    "#### Examples\n",
    "#### replace_vowels(\"the aardvark\", \"#\") ➞ \"th# ##rdv#rk\"\n",
    "\n",
    "#### replace_vowels(\"minnie mouse\", \"?\") ➞ \"m?nn?? m??s?\"\n",
    "\n",
    "#### replace_vowels(\"shakespeare\", \"*\") ➞ \"sh*k*sp**r*\"\n"
   ]
  },
  {
   "cell_type": "code",
   "execution_count": 26,
   "metadata": {},
   "outputs": [
    {
     "name": "stdout",
     "output_type": "stream",
     "text": [
      "th# ##rdv#rk\n",
      "m?nn?? m??s?\n",
      "sh*k*sp**r*\n"
     ]
    }
   ],
   "source": [
    "def replace_vowels(string, s):\n",
    "    vowels = 'a e i o u'.split()\n",
    "    new_str = []\n",
    "    for i in list(string):\n",
    "        if i in vowels:\n",
    "            new_str.append(s)\n",
    "        else:\n",
    "            new_str.append(i)\n",
    "    return ''.join(new_str)\n",
    "    \n",
    "print(replace_vowels(\"the aardvark\", \"#\") )\n",
    "print(replace_vowels(\"minnie mouse\", \"?\"))\n",
    "print(replace_vowels(\"shakespeare\", \"*\"))"
   ]
  },
  {
   "cell_type": "markdown",
   "metadata": {},
   "source": [
    "### Question4. \n",
    "#### Write a function that calculates the factorial of a number recursively.\n",
    "#### Examples\n",
    "#### factorial(5) ➞ 120\n",
    "\n",
    "#### factorial(3) ➞ 6\n",
    "\n",
    "#### factorial(1) ➞ 1\n",
    "\n",
    "#### factorial(0) ➞ 1\n"
   ]
  },
  {
   "cell_type": "code",
   "execution_count": 5,
   "metadata": {},
   "outputs": [
    {
     "name": "stdout",
     "output_type": "stream",
     "text": [
      "120\n",
      "6\n",
      "1\n",
      "1\n"
     ]
    }
   ],
   "source": [
    "def factorial(n):\n",
    "    if n == 0:\n",
    "        return 1\n",
    "    else:\n",
    "        return n*factorial(n-1)\n",
    "    \n",
    "print(factorial(5))\n",
    "print(factorial(3))\n",
    "print(factorial(1))\n",
    "print(factorial(0))"
   ]
  },
  {
   "cell_type": "markdown",
   "metadata": {},
   "source": [
    "### Question 5\n",
    "#### Hamming distance is the number of characters that differ between two strings.\n",
    "#### To illustrate:\n",
    "#### String1: \"abcbba\"\n",
    "#### String2: \"abcbda\"\n",
    "\n",
    "#### Hamming Distance: 1 - \"b\" vs. \"d\" is the only difference.\n",
    "#### Create a function that computes the hamming distance between two strings.\n",
    "#### Examples\n",
    "#### hamming_distance(\"abcde\", \"bcdef\") ➞ 5\n",
    "\n",
    "#### hamming_distance(\"abcde\", \"abcde\") ➞ 0\n",
    "\n",
    "#### hamming_distance(\"strong\", \"strung\") ➞ 1"
   ]
  },
  {
   "cell_type": "code",
   "execution_count": 31,
   "metadata": {},
   "outputs": [
    {
     "name": "stdout",
     "output_type": "stream",
     "text": [
      "5\n",
      "0\n",
      "1\n"
     ]
    }
   ],
   "source": [
    "def hamming_distance(a, b):\n",
    "    i = 0\n",
    "    count = 0\n",
    "    while i  < len(a):\n",
    "        if a[i] != b[i]:\n",
    "            count += 1\n",
    "        i += 1\n",
    "    return count\n",
    "\n",
    "print(hamming_distance(\"abcde\", \"bcdef\"))\n",
    "print(hamming_distance(\"abcde\", \"abcde\"))\n",
    "print(hamming_distance(\"strong\", \"strung\"))"
   ]
  },
  {
   "cell_type": "code",
   "execution_count": null,
   "metadata": {},
   "outputs": [],
   "source": []
  }
 ],
 "metadata": {
  "kernelspec": {
   "display_name": "Python 3",
   "language": "python",
   "name": "python3"
  },
  "language_info": {
   "codemirror_mode": {
    "name": "ipython",
    "version": 3
   },
   "file_extension": ".py",
   "mimetype": "text/x-python",
   "name": "python",
   "nbconvert_exporter": "python",
   "pygments_lexer": "ipython3",
   "version": "3.8.5"
  },
  "toc": {
   "base_numbering": 1,
   "nav_menu": {},
   "number_sections": true,
   "sideBar": true,
   "skip_h1_title": false,
   "title_cell": "Table of Contents",
   "title_sidebar": "Contents",
   "toc_cell": false,
   "toc_position": {},
   "toc_section_display": true,
   "toc_window_display": false
  }
 },
 "nbformat": 4,
 "nbformat_minor": 4
}
