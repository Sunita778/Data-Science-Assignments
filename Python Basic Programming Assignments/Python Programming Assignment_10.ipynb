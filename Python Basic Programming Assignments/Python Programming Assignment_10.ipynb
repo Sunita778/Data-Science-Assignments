{
 "cells": [
  {
   "cell_type": "markdown",
   "metadata": {},
   "source": [
    "# Python Programming Assignment_10\n",
    "--------------"
   ]
  },
  {
   "cell_type": "markdown",
   "metadata": {},
   "source": [
    "#### 1. Write a Python program to find sum of elements in list?"
   ]
  },
  {
   "cell_type": "code",
   "execution_count": 1,
   "metadata": {},
   "outputs": [
    {
     "name": "stdout",
     "output_type": "stream",
     "text": [
      "[2, 4, 1, 6, 5]\n",
      "Sum of elements of the given list is :  18\n"
     ]
    }
   ],
   "source": [
    "def find_sum(n):\n",
    "    sum = 0\n",
    "    for i in l:\n",
    "        sum += i\n",
    "    print(l)   \n",
    "    print(\"Sum of elements of the given list is : \" ,sum)\n",
    "    \n",
    "l = [2,4,1,6,5]   \n",
    "find_sum(l)"
   ]
  },
  {
   "cell_type": "markdown",
   "metadata": {},
   "source": [
    "#### 2. Write a Python program to  Multiply all numbers in the list?"
   ]
  },
  {
   "cell_type": "code",
   "execution_count": 2,
   "metadata": {},
   "outputs": [
    {
     "name": "stdout",
     "output_type": "stream",
     "text": [
      "[2, 4, 1, 6, 5]\n",
      "Multiplication of all numbers in the given list is :  240\n"
     ]
    }
   ],
   "source": [
    "def find_mul(l):\n",
    "    mul = 1\n",
    "    for i in l:\n",
    "        mul *= i\n",
    "    print(l)\n",
    "    print(\"Multiplication of all numbers in the given list is : \" ,mul)\n",
    "\n",
    "find_mul([2,4,1,6,5])"
   ]
  },
  {
   "cell_type": "markdown",
   "metadata": {},
   "source": [
    "#### 3. Write a Python program to find smallest number in a list?"
   ]
  },
  {
   "cell_type": "code",
   "execution_count": 3,
   "metadata": {},
   "outputs": [
    {
     "name": "stdout",
     "output_type": "stream",
     "text": [
      "The smallest number in the list [2, 4, 1, 6, 5] is : 1\n"
     ]
    }
   ],
   "source": [
    "l = [2,4,1,6,5]\n",
    "print(\"The smallest number in the list {} is : {}\".format(l, min(l)))"
   ]
  },
  {
   "cell_type": "markdown",
   "metadata": {},
   "source": [
    "#### 4. Write a Python program to find largest number in a list?"
   ]
  },
  {
   "cell_type": "code",
   "execution_count": 4,
   "metadata": {},
   "outputs": [
    {
     "name": "stdout",
     "output_type": "stream",
     "text": [
      "The largest number in the list [2, 4, 1, 6, 5] is : 6\n"
     ]
    }
   ],
   "source": [
    "l = [2,4,1,6,5]\n",
    "print(\"The largest number in the list {} is : {}\".format(l, max(l)))"
   ]
  },
  {
   "cell_type": "markdown",
   "metadata": {},
   "source": [
    "#### 5. Write a Python program to find second largest number in a list?"
   ]
  },
  {
   "cell_type": "code",
   "execution_count": 5,
   "metadata": {},
   "outputs": [
    {
     "name": "stdout",
     "output_type": "stream",
     "text": [
      "The second largest number in list [6, 5, 4, 2, 1] is : 5\n"
     ]
    }
   ],
   "source": [
    "l = [2,4,1,6,5]\n",
    "l.sort(reverse=True)\n",
    "print(\"The second largest number in list {} is : {}\".format(l, l[1]))"
   ]
  },
  {
   "cell_type": "markdown",
   "metadata": {},
   "source": [
    "#### 6. Write a Python program to find N largest elements from a list?"
   ]
  },
  {
   "cell_type": "code",
   "execution_count": 6,
   "metadata": {},
   "outputs": [
    {
     "name": "stdout",
     "output_type": "stream",
     "text": [
      "The 2th largest element from the list [16, 10, 6, 5, 4, 2, 1] is : 10\n",
      "The 4th largest element from the list [16, 10, 6, 5, 4, 2, 1] is : 5\n"
     ]
    }
   ],
   "source": [
    "def find_large(l, n):\n",
    "    l.sort(reverse = True)\n",
    "    return l[n - 1]\n",
    "l = [2,4,1,6,5, 16, 10]\n",
    "\n",
    "print(\"The {}th largest element from the list {} is : {}\".format(2, l,find_large(l, 2)))    #....First large nymber\n",
    "print(\"The {}th largest element from the list {} is : {}\".format(4, l,find_large(l, 4)))     #...2nd large number"
   ]
  },
  {
   "cell_type": "markdown",
   "metadata": {},
   "source": [
    "#### 7. Write a Python program to print even numbers in a list?"
   ]
  },
  {
   "cell_type": "code",
   "execution_count": 7,
   "metadata": {},
   "outputs": [
    {
     "name": "stdout",
     "output_type": "stream",
     "text": [
      "2 4 6 "
     ]
    }
   ],
   "source": [
    "def even(l):\n",
    "    for i in l:\n",
    "        if i % 2 == 0: \n",
    "            print(i, end=\" \")\n",
    "even([2,4,1,6,5])"
   ]
  },
  {
   "cell_type": "markdown",
   "metadata": {},
   "source": [
    "#### 8. Write a Python program to print odd numbers in a List?"
   ]
  },
  {
   "cell_type": "code",
   "execution_count": 8,
   "metadata": {},
   "outputs": [
    {
     "name": "stdout",
     "output_type": "stream",
     "text": [
      "3 5 11 13 "
     ]
    }
   ],
   "source": [
    "def odd(l):\n",
    "    for i in l:\n",
    "        if i % 2 != 0: \n",
    "            print(i, end=\" \")\n",
    "odd([2,4,3,6,5, 11,13])"
   ]
  },
  {
   "cell_type": "markdown",
   "metadata": {},
   "source": [
    "#### 9. Write a Python program to Remove empty List from List?"
   ]
  },
  {
   "cell_type": "code",
   "execution_count": 9,
   "metadata": {},
   "outputs": [
    {
     "name": "stdout",
     "output_type": "stream",
     "text": [
      "The given list is :  [[], 3, 4, [], 6, [], 'digit']\n",
      "After removing empty list the list become :  [3, 4, 6, 'digit']\n"
     ]
    }
   ],
   "source": [
    "l = [[], 3, 4,[], 6,[],'digit']\n",
    "l1 = []\n",
    "for i in l:\n",
    "    if i:\n",
    "        l1.append(i)\n",
    "print(\"The given list is : \", l)\n",
    "print(\"After removing empty list the list become : \",l1)"
   ]
  },
  {
   "cell_type": "markdown",
   "metadata": {},
   "source": [
    "#### 10. Write a Python program to Cloning or Copying a list?"
   ]
  },
  {
   "cell_type": "code",
   "execution_count": 10,
   "metadata": {},
   "outputs": [
    {
     "name": "stdout",
     "output_type": "stream",
     "text": [
      "[1, 3, 6, 4, 5, 11]\n"
     ]
    }
   ],
   "source": [
    "l = [1, 3, 6, 4, 5, 11]\n",
    "l1 = []\n",
    "for i in l:\n",
    "    l1.append(i)\n",
    "print(l1)"
   ]
  },
  {
   "cell_type": "markdown",
   "metadata": {},
   "source": [
    "#### 11. Write a Python program to Count occurrences of an element in a list?"
   ]
  },
  {
   "cell_type": "code",
   "execution_count": 11,
   "metadata": {},
   "outputs": [
    {
     "name": "stdout",
     "output_type": "stream",
     "text": [
      "The occurance of 6 in the given list is : 3  \n"
     ]
    }
   ],
   "source": [
    "l = [1, 3, 6, 4, 3, 6, 4,6, 5, 5, 11]\n",
    "e = 6\n",
    "count = 0\n",
    "for i in l:\n",
    "    if i == e:\n",
    "        count += 1\n",
    "print(\"The occurance of {} in the given list is : {}  \".format(6, count))"
   ]
  }
 ],
 "metadata": {
  "kernelspec": {
   "display_name": "Python 3",
   "language": "python",
   "name": "python3"
  },
  "language_info": {
   "codemirror_mode": {
    "name": "ipython",
    "version": 3
   },
   "file_extension": ".py",
   "mimetype": "text/x-python",
   "name": "python",
   "nbconvert_exporter": "python",
   "pygments_lexer": "ipython3",
   "version": "3.8.5"
  },
  "toc": {
   "base_numbering": 1,
   "nav_menu": {},
   "number_sections": true,
   "sideBar": true,
   "skip_h1_title": false,
   "title_cell": "Table of Contents",
   "title_sidebar": "Contents",
   "toc_cell": false,
   "toc_position": {},
   "toc_section_display": true,
   "toc_window_display": false
  }
 },
 "nbformat": 4,
 "nbformat_minor": 4
}
