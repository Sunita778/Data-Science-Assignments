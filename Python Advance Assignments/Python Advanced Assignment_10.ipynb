{
 "cells": [
  {
   "cell_type": "markdown",
   "metadata": {},
   "source": [
    "# Python Advanced Assignment_10\n",
    "Submitted by - *Sunita Pradhan*\n",
    "\n",
    "---------------------------------------------------"
   ]
  },
  {
   "cell_type": "markdown",
   "metadata": {},
   "source": [
    "### Q1. What is the difference between __getattr__ and __getattribute__?\n"
   ]
  },
  {
   "cell_type": "markdown",
   "metadata": {},
   "source": [
    "*Ans:*\n",
    "    \n",
    "`getattr` and `getattribute` are two built-in Python functions that can be used to access object attributes, but they have different functionalities:\n",
    "\n",
    "`getattr(object, name[, default])`: This function takes an object and a string as input, and returns the value of the named attribute of the object. If the attribute does not exist, it returns the optional default value (if provided), or raises an AttributeError exception.\n",
    "*Example usage: `getattr(obj, 'attribute_name', default_value)`*\n",
    "\n",
    "object.`__getattribute__`(self, name): This is a special method that is called whenever an attribute of an object is accessed using the dot notation. It takes an object and a string as input, and returns the value of the named attribute of the object. If the attribute does not exist, it raises an AttributeError exception.\n",
    "*Example usage: obj.`__getattribute__`('attribute_name')*\n",
    "\n",
    "In summary, getattr is a built-in function that returns the value of an attribute of an object (if it exists), while `__getattribute__` is a special method that is called automatically when an attribute is accessed and raises an error if the attribute does not exist."
   ]
  },
  {
   "cell_type": "markdown",
   "metadata": {},
   "source": [
    "### Q2. What is the difference between properties and descriptors?\n"
   ]
  },
  {
   "cell_type": "markdown",
   "metadata": {},
   "source": [
    "*Ans:*\n",
    "\n",
    "Properties and descriptors are both Python constructs that are used to control access to attributes of objects, but they have different functionalities and use cases:\n",
    "\n",
    "Properties: Properties are a way to define methods that are accessed like attributes, and are used to provide controlled access to object attributes. They are defined using the `@property` decorator, and allow the user to define custom behavior when the attribute is accessed, modified or deleted. Properties are mainly used to encapsulate object attributes, and can also be used to compute derived attributes on-the-fly."
   ]
  },
  {
   "cell_type": "code",
   "execution_count": 1,
   "metadata": {},
   "outputs": [],
   "source": [
    "class MyClass:\n",
    "    def __init__(self, value):\n",
    "        self._value = value\n",
    "        \n",
    "    @property\n",
    "    def value(self):\n",
    "        return self._value\n",
    "        \n",
    "    @value.setter\n",
    "    def value(self, new_value):\n",
    "        self._value = new_value\n"
   ]
  },
  {
   "cell_type": "markdown",
   "metadata": {},
   "source": [
    "Descriptors: Descriptors are a more general way to define objects that define attribute access. They are defined using the `__get__`,` __set__` and `__delete__` methods, which allow the user to define custom behavior when an attribute is accessed, modified or deleted. Descriptors are used to implement custom attribute access semantics, such as type checking, validation, or logging. Descriptors can be used with any class that supports them."
   ]
  },
  {
   "cell_type": "code",
   "execution_count": 2,
   "metadata": {},
   "outputs": [],
   "source": [
    "class Descriptor:\n",
    "    def __get__(self, instance, owner):\n",
    "        return instance._value\n",
    "        \n",
    "    def __set__(self, instance, value):\n",
    "        if not isinstance(value, int):\n",
    "            raise TypeError(\"Value must be an integer\")\n",
    "        instance._value = value\n",
    "        \n",
    "    def __delete__(self, instance):\n",
    "        del instance._value\n",
    "\n",
    "class MyClass:\n",
    "    def __init__(self, value):\n",
    "        self._value = value\n",
    "        \n",
    "    value = Descriptor()"
   ]
  },
  {
   "cell_type": "markdown",
   "metadata": {},
   "source": [
    "*properties are a way to define methods that are accessed like attributes, and are mainly used to encapsulate object attributes and compute derived attributes, while descriptors are a more general way to define attribute access semantics and provide more fine-grained control over attribute access.*"
   ]
  },
  {
   "cell_type": "markdown",
   "metadata": {},
   "source": [
    "### Q3. What are the key differences in functionality between __getattr__ and __getattribute__, as well as properties and descriptors?\n"
   ]
  },
  {
   "cell_type": "markdown",
   "metadata": {},
   "source": [
    "*Ans:*\n",
    "\n",
    "The key differences in functionality between getattr and getattribute, as well as properties and descriptors, can be summarized as follows:\n",
    "\n",
    "- `getattr` vs `getattribute`: \n",
    "\n",
    "getattr is a built-in Python function that is used to get the value of an object's named attribute. It takes two arguments, the object and the name of the attribute, and returns the attribute value. getattribute is a method that can be defined in a class to control attribute access. It is called every time an attribute is accessed on an object of the class, and takes only one argument, the name of the attribute. Unlike getattr, getattribute allows you to customize attribute access behavior for all attributes of an object, not just a specific named attribute.\n",
    "\n",
    "- `Properties` vs `descriptors`:\n",
    "\n",
    "Properties and descriptors are both Python constructs that are used to control access to attributes of objects, but they have different functionalities and use cases. Properties are a way to define methods that are accessed like attributes, and are used to provide controlled access to object attributes. They are defined using the `@property` decorator, and allow the user to define custom behavior when the attribute is accessed, modified or deleted. Properties are mainly used to encapsulate object attributes, and can also be used to compute derived attributes on-the-fly. Descriptors are a more general way to define objects that define attribute access. They are defined using the `__get__`, `__set__` and `__delete__` methods, which allow the user to define custom behavior when an attribute is accessed, modified or deleted. Descriptors are used to implement custom attribute access semantics, such as type checking, validation, or logging. Descriptors can be used with any class that supports them. Unlike properties, descriptors are not accessed like attributes, but are used to control attribute access behavior for all attributes of an object that are defined using the descriptor."
   ]
  },
  {
   "cell_type": "code",
   "execution_count": null,
   "metadata": {},
   "outputs": [],
   "source": []
  }
 ],
 "metadata": {
  "kernelspec": {
   "display_name": "Python 3",
   "language": "python",
   "name": "python3"
  },
  "language_info": {
   "codemirror_mode": {
    "name": "ipython",
    "version": 3
   },
   "file_extension": ".py",
   "mimetype": "text/x-python",
   "name": "python",
   "nbconvert_exporter": "python",
   "pygments_lexer": "ipython3",
   "version": "3.8.5"
  },
  "toc": {
   "base_numbering": 1,
   "nav_menu": {},
   "number_sections": true,
   "sideBar": true,
   "skip_h1_title": false,
   "title_cell": "Table of Contents",
   "title_sidebar": "Contents",
   "toc_cell": false,
   "toc_position": {},
   "toc_section_display": true,
   "toc_window_display": false
  }
 },
 "nbformat": 4,
 "nbformat_minor": 4
}
