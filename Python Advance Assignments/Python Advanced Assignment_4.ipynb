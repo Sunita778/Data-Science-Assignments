{
 "cells": [
  {
   "cell_type": "markdown",
   "metadata": {},
   "source": [
    "# Python Advanced Assignment_4\n",
    "Submitted by - *Sunita Pradhan*\n",
    "\n",
    "---------------------------------------------------\n",
    "------------------------------------------------------"
   ]
  },
  {
   "cell_type": "markdown",
   "metadata": {},
   "source": [
    "#### Q1. Which two operator overloading methods can you use in your classes to support iteration?\n"
   ]
  },
  {
   "cell_type": "markdown",
   "metadata": {},
   "source": [
    "*Ans:*\n",
    "\n",
    "In Python, to support iteration, you can define the `__iter__` and `__next__` methods in your class, which allow the object to be used in a for loop or with other iteration-related functions.\n",
    "\n",
    "- `__iter__(self)`: This method is called when an iterator is requested for the object. It should return an iterator object. In most cases, you can simply return `self` as the iterator object.\n",
    "\n",
    "- `__next__(self)`: This method is called to get the next item from the iterator. It should return the next item, or raise the `StopIteration` exception when there are no more items."
   ]
  },
  {
   "cell_type": "code",
   "execution_count": 1,
   "metadata": {},
   "outputs": [
    {
     "name": "stdout",
     "output_type": "stream",
     "text": [
      "1\n",
      "2\n",
      "3\n",
      "4\n",
      "5\n"
     ]
    }
   ],
   "source": [
    "class MyList:\n",
    "    def __init__(self, items):\n",
    "        self.items = items\n",
    "    \n",
    "    def __iter__(self):\n",
    "        self.current = 0\n",
    "        return self\n",
    "    \n",
    "    def __next__(self):\n",
    "        if self.current < len(self.items):\n",
    "            item = self.items[self.current]\n",
    "            self.current += 1\n",
    "            return item\n",
    "        else:\n",
    "            raise StopIteration\n",
    "\n",
    "my_list = MyList([1, 2, 3, 4, 5])\n",
    "\n",
    "for item in my_list:\n",
    "    print(item)"
   ]
  },
  {
   "cell_type": "markdown",
   "metadata": {},
   "source": [
    "#### Q2. In what contexts do the two operator overloading methods manage printing?\n"
   ]
  },
  {
   "cell_type": "markdown",
   "metadata": {},
   "source": [
    "*Ans:*\n",
    "\n",
    "In Python, there are two operator overloading methods that can be used to manage printing:\n",
    "\n",
    "- `__str__(self)` method: This method is used to define the \"informal\" or user-friendly string representation of an object. It should return a string that represents the object in a human-readable format. This method is called by the built-in `str()` function and by the print() function when the object is passed as an argument. It's often used to provide a more meaningful representation of an object when it's printed or displayed to a user.\n",
    "\n",
    "- `__repr__(self)` method: This method is used to define the \"official\" or technical string representation of an object. It should return a string that represents the object in a format that can be used to recreate the object. This method is called by the built-in `repr()` function when the object is passed as an argument. It's often used to provide a detailed representation of an object that includes all its internal state and other technical details."
   ]
  },
  {
   "cell_type": "code",
   "execution_count": 2,
   "metadata": {},
   "outputs": [
    {
     "name": "stdout",
     "output_type": "stream",
     "text": [
      "Alice, aged 30\n",
      "Alice, aged 30\n"
     ]
    }
   ],
   "source": [
    "class Person:\n",
    "    def __init__(self, name, age):\n",
    "        self.name = name\n",
    "        self.age = age\n",
    "    \n",
    "    def __str__(self):\n",
    "        return f\"{self.name}, aged {self.age}\"\n",
    "    \n",
    "    def __repr__(self):\n",
    "        return f\"Person('{self.name}', {self.age})\"\n",
    "    \n",
    "p1 = Person(\"Alice\", 30)\n",
    "print(p1)   # Output: Alice, aged 30\n",
    "\n",
    "p2 = eval(repr(p1))\n",
    "print(p2)   # Output: Alice, aged 30"
   ]
  },
  {
   "cell_type": "markdown",
   "metadata": {},
   "source": [
    "#### Q3. In a class, how do you intercept slice operations?\n"
   ]
  },
  {
   "cell_type": "markdown",
   "metadata": {},
   "source": [
    "*Ans:*\n",
    "\n",
    "In Python, you can intercept slice operations in a class by implementing the `__getitem__()` method with a slice object as an index."
   ]
  },
  {
   "cell_type": "code",
   "execution_count": 4,
   "metadata": {
    "scrolled": true
   },
   "outputs": [],
   "source": [
    "class MyList:\n",
    "    def __init__(self, values):\n",
    "        self.values = values\n",
    "    \n",
    "    def __getitem__(self, index):\n",
    "        if isinstance(index, slice):\n",
    "            start, stop, step = index.indices(len(self.values))\n",
    "            return MyList(self.values[start:stop:step])\n",
    "        else:\n",
    "            return self.values[index]\n",
    "values = [1, 2, 3, 4, 5]\n",
    "my_list = MyList(values)\n",
    "\n",
    "print(my_list[:])       \n",
    "print(my_list[1:4])     \n",
    "print(my_list[::2])    "
   ]
  },
  {
   "cell_type": "markdown",
   "metadata": {},
   "source": [
    "#### Q4. In a class, how do you capture in-place addition?\n"
   ]
  },
  {
   "cell_type": "markdown",
   "metadata": {},
   "source": [
    "*Ans:*\n",
    "\n",
    "In Python, you can capture in-place addition in a class by implementing the `__iadd__()` method. This method allows you to define what happens when the `+=` operator is used on an instance of your class."
   ]
  },
  {
   "cell_type": "code",
   "execution_count": 6,
   "metadata": {},
   "outputs": [
    {
     "name": "stdout",
     "output_type": "stream",
     "text": [
      "15\n"
     ]
    }
   ],
   "source": [
    "class MyNumber:\n",
    "    def __init__(self, value):\n",
    "        self.value = value\n",
    "    \n",
    "    def __iadd__(self, other):\n",
    "        self.value += other\n",
    "        return self\n",
    "    \n",
    "a = MyNumber(10)\n",
    "a += 5\n",
    "print(a.value)  "
   ]
  },
  {
   "cell_type": "markdown",
   "metadata": {},
   "source": [
    "#### Q5. When is it appropriate to use operator overloading?\n"
   ]
  },
  {
   "cell_type": "markdown",
   "metadata": {},
   "source": [
    "*Ans:*\n",
    "\n",
    "Operator overloading can be appropriate in situations where it makes code more concise, readable, and natural.\n",
    "\n",
    "Some examples of situations where operator overloading can be appropriate:\n",
    "\n",
    "- Mathematical operations: Overloading mathematical operators such as `+`, `-`, `*`, and `/` can make it easier to perform mathematical operations on custom data types, such as matrices or vectors.\n",
    "\n",
    "- Comparisons: Overloading comparison operators such as `==`, `!=`, `<`, `<=`, `>`, and `>=` can make it easier to compare custom data types, such as complex numbers or dates.\n",
    "\n",
    "- Iteration: Overloading the `__iter__()` and `__next__()` methods can make it easier to iterate over custom data types, such as trees or graphs.\n",
    "\n",
    "- -Container operations: Overloading container operators such as `in` and `[]` can make it easier to manipulate custom data types, such as sets or dictionaries.\n",
    "\n",
    "- String representation: Overloading the `__str__()` and `__repr__()` methods can make it easier to display custom data types in a user-friendly way.\n",
    "\n",
    "Operator overloading can be appropriate when it makes code more natural and intuitive, and when it doesn't lead to confusion or unexpected behavior. It's important to use operator overloading judiciously, however, and to ensure that the behavior of overloaded operators is well-defined and consistent with the expectations of users."
   ]
  },
  {
   "cell_type": "code",
   "execution_count": 7,
   "metadata": {},
   "outputs": [
    {
     "name": "stdout",
     "output_type": "stream",
     "text": [
      "(4, 6)\n",
      "(-2, -2)\n",
      "(2, 4)\n",
      "(9, 12)\n"
     ]
    }
   ],
   "source": [
    "class Vector:\n",
    "    def __init__(self, x, y):\n",
    "        self.x = x\n",
    "        self.y = y\n",
    "        \n",
    "    def __add__(self, other):\n",
    "        return Vector(self.x + other.x, self.y + other.y)\n",
    "    \n",
    "    def __sub__(self, other):\n",
    "        return Vector(self.x - other.x, self.y - other.y)\n",
    "    \n",
    "    def __mul__(self, other):\n",
    "        return Vector(self.x * other, self.y * other)\n",
    "    \n",
    "    def __rmul__(self, other):\n",
    "        return Vector(self.x * other, self.y * other)\n",
    "    \n",
    "    def __str__(self):\n",
    "        return f\"({self.x}, {self.y})\"\n",
    "\n",
    "    \n",
    "v1 = Vector(1, 2)\n",
    "v2 = Vector(3, 4)\n",
    "\n",
    "v3 = v1 + v2\n",
    "print(v3)    \n",
    "\n",
    "v4 = v1 - v2\n",
    "print(v4)   \n",
    "\n",
    "v5 = v1 * 2\n",
    "print(v5)    \n",
    "\n",
    "v6 = 3 * v2\n",
    "print(v6)   \n"
   ]
  },
  {
   "cell_type": "code",
   "execution_count": null,
   "metadata": {},
   "outputs": [],
   "source": []
  }
 ],
 "metadata": {
  "kernelspec": {
   "display_name": "Python 3",
   "language": "python",
   "name": "python3"
  },
  "language_info": {
   "codemirror_mode": {
    "name": "ipython",
    "version": 3
   },
   "file_extension": ".py",
   "mimetype": "text/x-python",
   "name": "python",
   "nbconvert_exporter": "python",
   "pygments_lexer": "ipython3",
   "version": "3.8.5"
  },
  "toc": {
   "base_numbering": 1,
   "nav_menu": {},
   "number_sections": true,
   "sideBar": true,
   "skip_h1_title": false,
   "title_cell": "Table of Contents",
   "title_sidebar": "Contents",
   "toc_cell": false,
   "toc_position": {},
   "toc_section_display": true,
   "toc_window_display": false
  }
 },
 "nbformat": 4,
 "nbformat_minor": 4
}
