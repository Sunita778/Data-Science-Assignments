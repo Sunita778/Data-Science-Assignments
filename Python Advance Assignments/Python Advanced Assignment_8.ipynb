{
 "cells": [
  {
   "cell_type": "markdown",
   "metadata": {},
   "source": [
    "# Python Advanced Assignment_8\n",
    "Submitted by - *Sunita Pradhan*\n",
    "\n",
    "---------------------------------------------------"
   ]
  },
  {
   "cell_type": "markdown",
   "metadata": {},
   "source": [
    "#### Q1. What are the two latest user-defined exception constraints in Python 3.X?\n"
   ]
  },
  {
   "cell_type": "markdown",
   "metadata": {},
   "source": [
    "*Ans:*\n",
    "\n",
    "In Python 3.x, there are no specific constraints on user-defined exceptions. You can create your own exceptions by defining a new class that inherits from the built-in `Exception` class or one of its subclasses, and you can define any behavior or attributes you want for your exception class.\n",
    "\n",
    "However, in Python 3.3 and later, there are two new features related to exception handling i.e \n",
    "\n",
    "1. The `except` statement now supports an optional `as` keyword, which allows you to assign the exception object to a variable. This can be useful if you need to access attributes of the exception or pass it to another function for further processing.\n",
    "\n",
    "2. The `raise` statement now supports a `from` keyword, which allows you to chain exceptions together. This can be useful if you want to raise a new exception that is caused by another exception, but you still want to preserve the original exception's traceback and other attributes."
   ]
  },
  {
   "cell_type": "markdown",
   "metadata": {},
   "source": [
    "#### Q2. How are class-based exceptions that have been raised matched to handlers?\n"
   ]
  },
  {
   "cell_type": "markdown",
   "metadata": {},
   "source": [
    "*Ans:*\n",
    "\n",
    "When a class-based exception is raised in Python, the interpreter searches for an appropriate exception handler to process the exception. The search for a handler proceeds as follows:\n",
    "\n",
    "- The interpreter looks for an `except` clause that explicitly matches the type of the raised exception. If it finds one, the corresponding handler is executed.\n",
    "\n",
    "- If the interpreter does not find an `except` clause that explicitly matches the type of the raised exception, it looks for a handler that matches a base class of the exception. If it finds one, that handler is executed.\n",
    "\n",
    "- If the interpreter does not find any matching `except` clauses, the exception propagates up the call stack until it reaches the top level of the program. If the exception still has not been handled, the interpreter prints a traceback and terminates the program."
   ]
  },
  {
   "cell_type": "code",
   "execution_count": 2,
   "metadata": {},
   "outputs": [
    {
     "ename": "My_error",
     "evalue": "error raised",
     "output_type": "error",
     "traceback": [
      "\u001b[1;31m---------------------------------------------------------------------------\u001b[0m",
      "\u001b[1;31mMy_error\u001b[0m                                  Traceback (most recent call last)",
      "\u001b[1;32m<ipython-input-2-31cf2f5b9325>\u001b[0m in \u001b[0;36m<module>\u001b[1;34m\u001b[0m\n\u001b[0;32m      3\u001b[0m         \u001b[0mself\u001b[0m\u001b[1;33m.\u001b[0m\u001b[0mmsg\u001b[0m \u001b[1;33m=\u001b[0m \u001b[0mmsg\u001b[0m\u001b[1;33m\u001b[0m\u001b[1;33m\u001b[0m\u001b[0m\n\u001b[0;32m      4\u001b[0m \u001b[0mage\u001b[0m \u001b[1;33m=\u001b[0m \u001b[1;36m12\u001b[0m\u001b[1;33m\u001b[0m\u001b[1;33m\u001b[0m\u001b[0m\n\u001b[1;32m----> 5\u001b[1;33m \u001b[1;32mif\u001b[0m \u001b[0mage\u001b[0m \u001b[1;33m<=\u001b[0m \u001b[1;36m18\u001b[0m\u001b[1;33m:\u001b[0m \u001b[1;32mraise\u001b[0m \u001b[0mMy_error\u001b[0m\u001b[1;33m(\u001b[0m\u001b[1;34m'error raised'\u001b[0m\u001b[1;33m)\u001b[0m\u001b[1;33m\u001b[0m\u001b[1;33m\u001b[0m\u001b[0m\n\u001b[0m",
      "\u001b[1;31mMy_error\u001b[0m: error raised"
     ]
    }
   ],
   "source": [
    "class My_error(Exception):\n",
    "    def __init__(self,msg):\n",
    "        self.msg = msg\n",
    "age = 12\n",
    "if age <= 18: raise My_error('error raised')"
   ]
  },
  {
   "cell_type": "markdown",
   "metadata": {},
   "source": [
    "#### Q3. Describe two methods for attaching context information to exception artefacts.\n"
   ]
  },
  {
   "cell_type": "markdown",
   "metadata": {},
   "source": [
    "*Ans:*\n",
    "\n",
    "The `process()` method of LoggerAdapter is where the contextual information is added to the logging output. its passes the message and keyword arguments of the logging call, and it passes back modified versions of these to use in the call to the underlying logger.\n",
    "\n",
    "Other method that can be used is `exception()`, Logs a messgae with level ERROR on this logger. The arguments are interpreted as for `debug()`. Exception info is added to the logging message."
   ]
  },
  {
   "cell_type": "markdown",
   "metadata": {},
   "source": [
    "#### Q4. Describe two methods for specifying the text of an exception object's error message.\n"
   ]
  },
  {
   "cell_type": "markdown",
   "metadata": {},
   "source": [
    "*Ans:*\n",
    "\n",
    "Two methods for specifying the text of an exception object's error message are:\n",
    "\n",
    "Using the constructor argument: The constructor of an exception class can take one or more arguments to customize the error message of the exception. You can pass the error message as a string to the constructor.\n",
    "\n",
    "Using the `__str__` method: You can define a` __str__` method in your exception class to customize the error message of the exception. The `__str__` method should return a string that represents the error message."
   ]
  },
  {
   "cell_type": "markdown",
   "metadata": {},
   "source": [
    "#### Q5. Why do you no longer use string-based exceptions?\n"
   ]
  },
  {
   "cell_type": "markdown",
   "metadata": {},
   "source": [
    "*Ans:*\n",
    "\n",
    "String-based exceptions are no longer used in Python because they have been deprecated since Python 2.6 and removed in Python 3.0. Instead, Python now uses class-based exceptions, which are more flexible and powerful. With class-based exceptions, you can define your own exception hierarchy and customize the behavior of exceptions by overriding methods such as `__str__` and `__repr__`. Additionally, class-based exceptions are easier to catch and handle using the try-except statement, and provide better stack trace information for debugging."
   ]
  }
 ],
 "metadata": {
  "kernelspec": {
   "display_name": "Python 3",
   "language": "python",
   "name": "python3"
  },
  "language_info": {
   "codemirror_mode": {
    "name": "ipython",
    "version": 3
   },
   "file_extension": ".py",
   "mimetype": "text/x-python",
   "name": "python",
   "nbconvert_exporter": "python",
   "pygments_lexer": "ipython3",
   "version": "3.8.5"
  },
  "toc": {
   "base_numbering": 1,
   "nav_menu": {},
   "number_sections": true,
   "sideBar": true,
   "skip_h1_title": false,
   "title_cell": "Table of Contents",
   "title_sidebar": "Contents",
   "toc_cell": false,
   "toc_position": {},
   "toc_section_display": true,
   "toc_window_display": false
  }
 },
 "nbformat": 4,
 "nbformat_minor": 4
}
