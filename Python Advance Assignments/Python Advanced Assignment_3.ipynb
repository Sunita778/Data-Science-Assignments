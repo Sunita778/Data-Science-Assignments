{
 "cells": [
  {
   "cell_type": "markdown",
   "metadata": {},
   "source": [
    "# Python Advanced Assignment_3\n",
    "Submitted by - Sunita Pradhan\n",
    "\n",
    "----------------------------------------------"
   ]
  },
  {
   "cell_type": "markdown",
   "metadata": {},
   "source": [
    "#### 1. What is the concept of an abstract superclass?\n"
   ]
  },
  {
   "cell_type": "markdown",
   "metadata": {},
   "source": [
    "Ans:\n",
    "\n",
    "An abstract superclass is a class in object-oriented programming that cannot be instantiated directly but is meant to be inherited by its subclasses. Abstract superclasses are also known as abstract classes or abstract base classes.\n",
    "\n",
    "An abstract superclass is typically used to define a common interface or behavior that is shared by a group of related classes. The abstract superclass defines the methods and properties that its subclasses must implement, but it does not provide an implementation of those methods itself. Instead, the subclasses are responsible for providing their own implementations of the abstract methods.\n",
    "\n",
    "The main purpose of an abstract superclass is to provide a framework for defining related classes with a common set of properties and methods. This can help to reduce redundancy in the code and make it easier to maintain and extend the code over time."
   ]
  },
  {
   "cell_type": "code",
   "execution_count": 1,
   "metadata": {},
   "outputs": [],
   "source": [
    "from abc import ABCMeta, abstractmethod\n",
    "\n",
    "class Animal(metaclass=ABCMeta):\n",
    "    @abstractmethod\n",
    "    def speak(self):\n",
    "        pass\n",
    "\n",
    "class Dog(Animal):\n",
    "    def speak(self):\n",
    "        return \"Woof\"\n",
    "\n",
    "class Cat(Animal):\n",
    "    def speak(self):\n",
    "        return \"Meow\""
   ]
  },
  {
   "cell_type": "markdown",
   "metadata": {},
   "source": [
    "#### 2. What happens when a class statement's top level contains a basic assignment statement?\n"
   ]
  },
  {
   "cell_type": "markdown",
   "metadata": {},
   "source": [
    "Ans: \n",
    "\n",
    "When a Class statement's top level contains a basic assignment statement, it is usually treated as a class attribute or class level variable where as assignment statements inside methods are treated as instance attributes or local attributes.\n",
    "\n",
    "When an instance of a class is created, a single copy of class attributes is maintained and shared to all instances of class where as each instance object maintains its own copy of instance variables."
   ]
  },
  {
   "cell_type": "code",
   "execution_count": null,
   "metadata": {},
   "outputs": [],
   "source": [
    "class MyClass:\n",
    "    x = 0\n",
    "    \n",
    "    def __init__(self, y):\n",
    "        self.y = y"
   ]
  },
  {
   "cell_type": "markdown",
   "metadata": {},
   "source": [
    "#### 3. Why does a class need to manually call a superclass's __init__ method?\n"
   ]
  },
  {
   "cell_type": "markdown",
   "metadata": {},
   "source": [
    "Ans: if a child class has `__init__` method, then it will not inherit the `__init__` method of the parent class. In other words the `__init__` method of the child class overrides the `__init__` method of the parent class. So, we have to manually call a parent superclass's `__init__` using super() method"
   ]
  },
  {
   "cell_type": "code",
   "execution_count": null,
   "metadata": {},
   "outputs": [],
   "source": [
    "class Vehicle:\n",
    "    def __init__(self, make, model, year):\n",
    "        self.make = make\n",
    "        self.model = model\n",
    "        self.year = year\n",
    "\n",
    "class Car(Vehicle):\n",
    "    def __init__(self, make, model, year, doors):\n",
    "        self.doors = doors"
   ]
  },
  {
   "cell_type": "markdown",
   "metadata": {},
   "source": [
    "#### 4. How can you augment, instead of completely replacing, an inherited method?\n"
   ]
  },
  {
   "cell_type": "markdown",
   "metadata": {},
   "source": [
    "Ans: \n",
    "\n",
    "In Python, we can augment, or modify, an inherited method in a subclass by using method overriding. Method overriding is the process of redefining a method in a subclass that was already defined in its superclass. To augment a method instead of completely replacing it, we can call the superclass's method from within the subclass's method."
   ]
  },
  {
   "cell_type": "code",
   "execution_count": 2,
   "metadata": {},
   "outputs": [],
   "source": [
    "class Animal:\n",
    "    def make_sound(self):\n",
    "        print(\"The animal makes a sound.\")\n",
    "\n",
    "class Cat(Animal):\n",
    "    def make_sound(self):\n",
    "        super().make_sound()\n",
    "        print(\"Meow!\")"
   ]
  },
  {
   "cell_type": "markdown",
   "metadata": {},
   "source": [
    "#### 5. How is the local scope of a class different from that of a function?\n"
   ]
  },
  {
   "cell_type": "markdown",
   "metadata": {},
   "source": [
    "Ans:\n",
    "\n",
    "- Name resolution: In a function, a name defined within the function's scope takes precedence over names defined in an outer scope. This means that if a function defines a variable with the same name as a variable defined in the global scope, the function's variable will take precedence. In a class, however, the class's scope takes precedence over the local scope of any method or function defined within the class.\n",
    "\n",
    "- Access to variables: In a function, we can access variables defined in the outer scope, but we cannot modify them unless they are declared as global. In a class, we can access and modify class variables from within any method or function defined within the class.\n",
    "\n",
    "- Lifetime of variables: In a function, variables defined within the function's scope are destroyed when the function returns. In a class, class variables are maintained for the lifetime of the class.\n",
    "\n",
    "- Use of decorators: In Python, decorators can be used to modify the behavior of functions. However, decorators cannot be used to modify the behavior of class variables or methods in the same way. Instead, class decorators can be used to modify the behavior of the entire class."
   ]
  }
 ],
 "metadata": {
  "kernelspec": {
   "display_name": "Python 3",
   "language": "python",
   "name": "python3"
  },
  "language_info": {
   "codemirror_mode": {
    "name": "ipython",
    "version": 3
   },
   "file_extension": ".py",
   "mimetype": "text/x-python",
   "name": "python",
   "nbconvert_exporter": "python",
   "pygments_lexer": "ipython3",
   "version": "3.8.5"
  },
  "toc": {
   "base_numbering": 1,
   "nav_menu": {},
   "number_sections": true,
   "sideBar": true,
   "skip_h1_title": false,
   "title_cell": "Table of Contents",
   "title_sidebar": "Contents",
   "toc_cell": false,
   "toc_position": {},
   "toc_section_display": true,
   "toc_window_display": false
  }
 },
 "nbformat": 4,
 "nbformat_minor": 4
}
