{
 "cells": [
  {
   "cell_type": "markdown",
   "metadata": {},
   "source": [
    "# Python Advanced Assignment_11\n",
    "Submitted by - *Sunita Pradhan*\n",
    "\n",
    "---------------------------------------------------"
   ]
  },
  {
   "cell_type": "markdown",
   "metadata": {},
   "source": [
    "### Q1. What is the concept of a metaclass?\n"
   ]
  },
  {
   "cell_type": "markdown",
   "metadata": {},
   "source": [
    "*Ans:*\n",
    "\n",
    "Metaclasses are a powerful feature of Python that allow you to customize the behavior of classes in ways that are not possible with standard class definitions. However, they are also a complex feature that should be used with caution, and only when they are really needed."
   ]
  },
  {
   "cell_type": "markdown",
   "metadata": {},
   "source": [
    "### Q2. What is the best way to declare a class's metaclass?\n"
   ]
  },
  {
   "cell_type": "markdown",
   "metadata": {},
   "source": [
    "*Ans:*\n",
    "\n",
    "The most common way to declare a class's metaclass in Python is to define a new class that inherits from `type`, and use it as the `metaclass` argument in the class definition."
   ]
  },
  {
   "cell_type": "code",
   "execution_count": 1,
   "metadata": {},
   "outputs": [
    {
     "name": "stdout",
     "output_type": "stream",
     "text": [
      "Hello, my name is Alice\n"
     ]
    }
   ],
   "source": [
    "# A custom metaclass to automatically add a prefix to all method names in a class\n",
    "\n",
    "class PrefixMeta(type):\n",
    "    def __new__(cls, name, bases, dct):\n",
    "        # Add prefix to all method names in the class\n",
    "        for key, value in dct.items():\n",
    "            if callable(value) and key != '__init__':\n",
    "                dct[key] = lambda *args, **kwargs: value(*args, **kwargs)\n",
    "\n",
    "        # Create the class using the updated dictionary\n",
    "        return super().__new__(cls, name, bases, dct)\n",
    "\n",
    "class MyClass(metaclass=PrefixMeta):\n",
    "    def __init__(self, name):\n",
    "        self.name = name\n",
    "\n",
    "    def say_hello(self):\n",
    "        print(f\"Hello, my name is {self.name}\")\n",
    "\n",
    "# Create an instance of MyClass and call the modified method\n",
    "my_object = MyClass(\"Alice\")\n",
    "my_object.say_hello() "
   ]
  },
  {
   "cell_type": "markdown",
   "metadata": {},
   "source": [
    "### Q3. How do class decorators overlap with metaclasses for handling classes?\n"
   ]
  },
  {
   "cell_type": "markdown",
   "metadata": {},
   "source": [
    "*Ans:*\n",
    "\n",
    "Class decorators and metaclasses both provide a way to customize the behavior of classes in Python, but they differ in how they are applied.\n",
    "\n",
    "Class decorators are a way to modify the behavior of a class by wrapping it in another class. This can be done by defining a function that takes a class as an argument and returns a new class that wraps the original class. The decorator function is then applied to the original class by placing the decorator syntax `@decorator` immediately before the class definition.\n",
    "\n",
    "Metaclasses, on the other hand, are a way to define the behavior of a class at the time of its creation. A metaclass is a class that is used as a template for creating other classes. When a new class is defined with a metaclass, the metaclass is used to create the class object, which can be customized by modifying its attributes.\n",
    "\n",
    "In terms of how they overlap, it is possible to use a class decorator to modify the behavior of a class that is created using a metaclass. This can be done by applying the decorator to the class object returned by the metaclass."
   ]
  },
  {
   "cell_type": "code",
   "execution_count": 2,
   "metadata": {},
   "outputs": [],
   "source": [
    "class Singleton(type):\n",
    "    _instances = {}\n",
    "\n",
    "    def __call__(cls, *args, **kwargs):\n",
    "        if cls not in cls._instances:\n",
    "            cls._instances[cls] = super().__call__(*args, **kwargs)\n",
    "        return cls._instances[cls]\n"
   ]
  },
  {
   "cell_type": "code",
   "execution_count": 3,
   "metadata": {},
   "outputs": [],
   "source": [
    "def log_instantiation(cls):\n",
    "    def __init__(self, *args, **kwargs):\n",
    "        super().__init__(*args, **kwargs)\n",
    "        print(f\"Instantiated {self.__class__.__name__}\")\n",
    "    cls.__init__ = __init__\n",
    "    return cls\n",
    "\n"
   ]
  },
  {
   "cell_type": "code",
   "execution_count": 4,
   "metadata": {},
   "outputs": [],
   "source": [
    "@log_instantiation\n",
    "class MyClass(metaclass=Singleton):\n",
    "    pass\n"
   ]
  },
  {
   "cell_type": "markdown",
   "metadata": {},
   "source": [
    "### Q4. How do class decorators overlap with metaclasses for handling instances?\n"
   ]
  },
  {
   "cell_type": "markdown",
   "metadata": {},
   "source": [
    "*Ans:*\n",
    "\n",
    "Class decorators and metaclasses can overlap in their ability to modify the behavior of class instances, although they do so in slightly different ways.\n",
    "\n",
    "A metaclass is used to control the creation of class instances. When a class is defined with a metaclass, the metaclass is responsible for creating the class object and all of its instances. This gives the metaclass a great deal of control over the behavior of instances, as it can intercept and modify instance creation and initialization.\n",
    "\n",
    "A class decorator, on the other hand, is applied to a class after it has been defined and is responsible for modifying the class object itself. This means that a class decorator can only modify the behavior of instances indirectly, by modifying the class that the instances belong to.\n",
    "\n",
    "That being said, it is possible to use class decorators to modify the behavior of instances in a similar way to metaclasses. For example, a class decorator can add methods or attributes to a class that are used by instances at runtime. This can be useful for adding functionality to instances without requiring a metaclass to be defined."
   ]
  },
  {
   "cell_type": "code",
   "execution_count": 5,
   "metadata": {},
   "outputs": [
    {
     "name": "stdout",
     "output_type": "stream",
     "text": [
      "foo\n"
     ]
    }
   ],
   "source": [
    "def add_foo_method(cls):\n",
    "    def foo(self):\n",
    "        print(\"foo\")\n",
    "    cls.foo = foo\n",
    "    return cls\n",
    "\n",
    "@add_foo_method\n",
    "class MyClass:\n",
    "    pass\n",
    "\n",
    "my_instance = MyClass()\n",
    "my_instance.foo() "
   ]
  },
  {
   "cell_type": "code",
   "execution_count": null,
   "metadata": {},
   "outputs": [],
   "source": []
  }
 ],
 "metadata": {
  "kernelspec": {
   "display_name": "Python 3",
   "language": "python",
   "name": "python3"
  },
  "language_info": {
   "codemirror_mode": {
    "name": "ipython",
    "version": 3
   },
   "file_extension": ".py",
   "mimetype": "text/x-python",
   "name": "python",
   "nbconvert_exporter": "python",
   "pygments_lexer": "ipython3",
   "version": "3.8.5"
  },
  "toc": {
   "base_numbering": 1,
   "nav_menu": {},
   "number_sections": true,
   "sideBar": true,
   "skip_h1_title": false,
   "title_cell": "Table of Contents",
   "title_sidebar": "Contents",
   "toc_cell": false,
   "toc_position": {},
   "toc_section_display": true,
   "toc_window_display": false
  }
 },
 "nbformat": 4,
 "nbformat_minor": 4
}
