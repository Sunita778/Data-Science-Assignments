{
 "cells": [
  {
   "cell_type": "markdown",
   "metadata": {},
   "source": [
    "# Python Advanced Assignment_9\n",
    "Submitted by - *Sunita Pradhan*\n",
    "\n",
    "---------------------------------------------------"
   ]
  },
  {
   "cell_type": "markdown",
   "metadata": {},
   "source": [
    "#### Q1. In Python 3.X, what are the names and functions of string object types?\n"
   ]
  },
  {
   "cell_type": "markdown",
   "metadata": {},
   "source": [
    "*Ans:*\n",
    "\n",
    "- `str`: This is the Unicode string type, which represents a sequence of Unicode code points. It is the default string type in Python 3.x and can represent any Unicode character.\n",
    "\n",
    "- `bytes`: This type represents a sequence of bytes, which can be used to represent binary data such as images, audio files, and network packets. It is often used in combination with the str type to encode and decode text into byte sequences, and vice versa.\n",
    "\n",
    "In addition to these two types, there are also other string-related objects and functions, such as `bytearray`, `memoryview`, and various string formatting functions."
   ]
  },
  {
   "cell_type": "markdown",
   "metadata": {},
   "source": [
    "#### Q2. How do the string forms in Python 3.X vary in terms of operations?"
   ]
  },
  {
   "cell_type": "markdown",
   "metadata": {},
   "source": [
    "*Ans:*\n",
    "\n",
    "In Python 3.x, there are two `str`ing forms - `str` and `bytes` - which differ in their operations.\n",
    "\n",
    "`str` objects are Unicode `str`ings and support a wide range of operations related to Unicode text, such as searching, replacing, slicing, and formatting. `str` objects can also be compared and concatenated with other `str` objects.\n",
    "\n",
    "On the other hand, `bytes` objects represent sequences of `bytes` and support operations that are more relevant to binary data, such as searching for byte patterns, replacing byte patterns, and splitting `bytes` into smaller chunks. `bytes` objects can also be compared and concatenated with other `bytes` objects.\n",
    "\n",
    "While there is some overlap in the operations that can be performed on `str` and `bytes` objects, it's important to use the appropriate type depending on the nature of the data being processed. Mixing `str` and `bytes` objects in the same operation can result in type errors or unexpected behavior."
   ]
  },
  {
   "cell_type": "markdown",
   "metadata": {},
   "source": [
    "#### Q3. In 3.X, how do you put non-ASCII Unicode characters in a string?\n"
   ]
  },
  {
   "cell_type": "markdown",
   "metadata": {},
   "source": [
    "*Ans:*\n",
    "\n",
    "We can include non-ASCII Unicode characters directly in a string by using Unicode character escapes. To include a Unicode character, use the syntax `\\uXXXX` or `\\UXXXXXXXX`, where `XXXX` or `XXXXXXXX` is the Unicode code point in hexadecimal format."
   ]
  },
  {
   "cell_type": "code",
   "execution_count": 1,
   "metadata": {},
   "outputs": [
    {
     "name": "stdout",
     "output_type": "stream",
     "text": [
      "Ω is the symbol for the Ohm unit of electrical resistance.\n"
     ]
    }
   ],
   "source": [
    "s = \"\\u03A9 is the symbol for the Ohm unit of electrical resistance.\"\n",
    "print(s)"
   ]
  },
  {
   "cell_type": "markdown",
   "metadata": {},
   "source": [
    "#### Q4. In Python 3.X, what are the key differences between text-mode and binary-mode files?\n"
   ]
  },
  {
   "cell_type": "markdown",
   "metadata": {},
   "source": [
    "*Ans:*\n",
    "\n",
    "- **Text-mode files**: In text mode, files are opened and read as text. All input/output operations are performed using Unicode, and the newline character is automatically converted to the platform-specific newline character(s) (i.e., \\r\\n on Windows, \\n on Unix/Linux/MacOS). When writing to a text file, any Unicode strings can be written directly to the file.\n",
    "\n",
    "- **Binary-mode files**: In binary mode, files are opened and read as raw data. All input/output operations are performed byte-by-byte, and no character encoding/decoding is performed. When reading from a binary file, the returned data is always bytes objects, and when writing to a binary file, only bytes objects can be written directly to the file."
   ]
  },
  {
   "cell_type": "markdown",
   "metadata": {},
   "source": [
    "#### Q5. How can you interpret a Unicode text file containing text encoded in a different encoding than your platform's default?\n"
   ]
  },
  {
   "cell_type": "markdown",
   "metadata": {},
   "source": [
    "\n",
    "\n",
    "Use of `encode()` and `decode()` method can be used to you interpret a Unicode text file containing text encoded in a different encoding than your platform's default, by default encoding parameter is `UTF-8`."
   ]
  },
  {
   "cell_type": "markdown",
   "metadata": {},
   "source": [
    "#### Q6. What is the best way to make a Unicode text file in a particular encoding format?\n"
   ]
  },
  {
   "cell_type": "markdown",
   "metadata": {},
   "source": [
    "*Ans:*\n",
    "\n",
    "To create a Unicode text file in a particular encoding format, you can use the `open()` function with the encoding parameter set to the desired encoding. "
   ]
  },
  {
   "cell_type": "code",
   "execution_count": 2,
   "metadata": {},
   "outputs": [],
   "source": [
    "with open('myfile.txt', 'w', encoding='utf-8') as f:\n",
    "    f.write('Hello, world!')"
   ]
  },
  {
   "cell_type": "markdown",
   "metadata": {},
   "source": [
    "#### Q7. What qualifies ASCII text as a form of Unicode text?\n"
   ]
  },
  {
   "cell_type": "markdown",
   "metadata": {},
   "source": [
    "*Ans:*\n",
    "\n",
    "ASCII text is a subset of Unicode text that only includes characters in the ASCII character set, which consists of 128 characters with codes from 0 to 127. Since Unicode encompasses a much larger character set than ASCII, ASCII text is considered a form of Unicode text."
   ]
  },
  {
   "cell_type": "markdown",
   "metadata": {},
   "source": [
    "#### Q8. How much of an effect does the change in string types in Python 3.X have on your code?\n"
   ]
  },
  {
   "cell_type": "markdown",
   "metadata": {},
   "source": [
    "*Ans:*\n",
    "\n",
    "Python 3 stores strings as Unicode by default whereas Python 2 requires you to mark a string with a `u` if we want to store it as Unicode. Unicode strings are more versatile than ASCII strings, which are the Python 3.X default, as they can store letters from foreign languages as well as emoji and the standard Roman letters and numerals."
   ]
  },
  {
   "cell_type": "code",
   "execution_count": null,
   "metadata": {},
   "outputs": [],
   "source": []
  }
 ],
 "metadata": {
  "kernelspec": {
   "display_name": "Python 3",
   "language": "python",
   "name": "python3"
  },
  "language_info": {
   "codemirror_mode": {
    "name": "ipython",
    "version": 3
   },
   "file_extension": ".py",
   "mimetype": "text/x-python",
   "name": "python",
   "nbconvert_exporter": "python",
   "pygments_lexer": "ipython3",
   "version": "3.8.5"
  },
  "toc": {
   "base_numbering": 1,
   "nav_menu": {},
   "number_sections": true,
   "sideBar": true,
   "skip_h1_title": false,
   "title_cell": "Table of Contents",
   "title_sidebar": "Contents",
   "toc_cell": false,
   "toc_position": {},
   "toc_section_display": true,
   "toc_window_display": false
  }
 },
 "nbformat": 4,
 "nbformat_minor": 4
}
