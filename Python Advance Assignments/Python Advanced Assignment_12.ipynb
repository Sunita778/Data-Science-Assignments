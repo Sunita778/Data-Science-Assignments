{
 "cells": [
  {
   "cell_type": "markdown",
   "metadata": {},
   "source": [
    "# Python Advanced Assignment_12\n",
    "Submitted by - *Sunita Pradhan*\n",
    "\n",
    "---------------------------------------------------"
   ]
  },
  {
   "cell_type": "markdown",
   "metadata": {},
   "source": [
    "### Q1. Does assigning a value to a string's indexed character violate Python's string immutability?\n"
   ]
  },
  {
   "cell_type": "markdown",
   "metadata": {},
   "source": [
    "*Ans:*\n",
    "    \n",
    "No, assigning a value to a string's indexed character does not violate Python's string immutability. In Python, strings are immutable, which means that once a string is created, its contents cannot be changed. However, assigning a value to a string's indexed character does not change the string itself. Instead, it creates a new string object that contains the new value at the specified index, and leaves the original string object unchanged. This new string object can then be assigned to a new variable or used as needed. So, in summary, while the original string remains unchanged, it is possible to create a new string object that has the desired modifications."
   ]
  },
  {
   "cell_type": "markdown",
   "metadata": {},
   "source": [
    "### Q2. Does using the += operator to concatenate strings violate Python's string immutability? Why or why not?\n"
   ]
  },
  {
   "cell_type": "markdown",
   "metadata": {},
   "source": [
    "*Ans:*\n",
    "\n",
    "No, using the `+=` operator to concatenate strings does not violate Python's string immutability. When `+=` is used to concatenate strings, a new string object is created that contains the concatenation of the original string and the new string. This new string object is then assigned back to the original variable. In other words, the original string object is not modified; a new object is created and assigned to the same variable. Therefore, the immutability of the original string object is preserved."
   ]
  },
  {
   "cell_type": "markdown",
   "metadata": {},
   "source": [
    "### Q3. In Python, how many different ways are there to index a character?\n"
   ]
  },
  {
   "cell_type": "markdown",
   "metadata": {},
   "source": [
    "*Ans:*\n",
    "\n",
    "In Python, there are two different ways to index a character:\n",
    "\n",
    "1. Using positive indexing: In positive indexing, the first character of a string has an index of 0, the second character has an index of 1, and so on. For example, to index the first character of a string s, you would use s[0].\n",
    "\n",
    "2. Using negative indexing: In negative indexing, the last character of a string has an index of -1, the second-to-last character has an index of -2, and so on. For example, to index the last character of a string s, you would use s[-1]."
   ]
  },
  {
   "cell_type": "markdown",
   "metadata": {},
   "source": [
    "### Q4. What is the relationship between indexing and slicing?\n"
   ]
  },
  {
   "cell_type": "markdown",
   "metadata": {},
   "source": [
    "*Ans:*\n",
    "\n",
    "Indexing is used to access a specific element in a sequence, such as a string or a list, while slicing is used to extract a section of the sequence.\n",
    "\n",
    "Slicing is accomplished using the index notation, but instead of passing a single index value, you pass a range of values. The result is a new sequence that includes only the specified range of elements.\n",
    "\n",
    "In other words, indexing returns a single element, while slicing returns a subset of the original sequence."
   ]
  },
  {
   "cell_type": "markdown",
   "metadata": {},
   "source": [
    "### Q5. What is an indexed character's exact data type? What is the data form of a slicing-generated substring?\n"
   ]
  },
  {
   "cell_type": "markdown",
   "metadata": {},
   "source": [
    "*Ans:*\n",
    "\n",
    "In Python, an indexed character is represented as a string of length 1, so its data type is `str`.\n",
    "\n",
    "On the other hand, a slicing-generated substring is also represented as a string, but it may have a length greater than 1 depending on the range of the slice. Therefore, its data type is also `str`."
   ]
  },
  {
   "cell_type": "markdown",
   "metadata": {},
   "source": [
    "### Q6. What is the relationship between string and character \"types\" in Python?\n"
   ]
  },
  {
   "cell_type": "markdown",
   "metadata": {},
   "source": [
    "*Ans:*\n",
    "\n",
    "In Python, a string is a sequence of characters, and each character in the string is represented by a Unicode code point. Therefore, a string is essentially a collection of characters, and each character is a distinct element of the string.\n",
    "\n",
    "In terms of data types, a string is considered a sequence type, while a character is not a distinct data type in Python. Instead, a character is simply a single element of a string, which can be accessed using indexing or slicing.\n",
    "\n",
    "A string is a collection of characters, and a character is a single element of a string."
   ]
  },
  {
   "cell_type": "markdown",
   "metadata": {},
   "source": [
    "### Q7. Identify at least two operators and one method that allow you to combine one or more smaller strings to create a larger string.\n"
   ]
  },
  {
   "cell_type": "markdown",
   "metadata": {},
   "source": [
    "*Ans:*\n",
    "\n",
    "Two operators that allow you to combine one or more smaller strings to create a larger string are the addition operator (+) and the multiplication operator (*).\n",
    "\n",
    "The method that allows you to combine strings is the join() method. It takes an iterable of strings and joins them together into a single string using a specified separator."
   ]
  },
  {
   "cell_type": "code",
   "execution_count": 2,
   "metadata": {},
   "outputs": [
    {
     "name": "stdout",
     "output_type": "stream",
     "text": [
      "Hello suni\n"
     ]
    }
   ],
   "source": [
    "words = ['Hello', 'suni']\n",
    "separator = ' '\n",
    "combined = separator.join(words)\n",
    "print(combined)"
   ]
  },
  {
   "cell_type": "markdown",
   "metadata": {},
   "source": [
    "### Q8. What is the benefit of first checking the target string with in or not in before using the index method to find a substring?\n"
   ]
  },
  {
   "cell_type": "markdown",
   "metadata": {},
   "source": [
    "*Ans:*\n",
    "\n",
    "The `in` and `not in` operators can be used to check if a substring is present in a target string without raising an error if the substring is not found. On the other hand, if the `index` method is used to find the position of a substring in a target string, and the substring is not present, a `ValueError` will be raised.\n",
    "\n",
    "By using `in` or `not in` before `index`, you can avoid raising a `ValueError` and handle the absence of the substring in a more graceful manner."
   ]
  },
  {
   "cell_type": "markdown",
   "metadata": {},
   "source": [
    "### Q9. Which operators and built-in string methods produce simple Boolean (true/false) results?\n"
   ]
  },
  {
   "cell_type": "markdown",
   "metadata": {},
   "source": [
    "*Ans:*\n",
    "\n",
    "There are several operators and built-in string methods in Python that produce simple Boolean (true/false) results:\n",
    "\n",
    "- Comparison operators `(e.g., ==, !=, <, >, <=, >=)` compare two strings or string expressions and return True if the comparison is `true`, and `False` otherwise.\n",
    "\n",
    "- The in and not in operators check whether a substring is present or absent in a string and return `True` or `False` accordingly.\n",
    "\n",
    "- The `startswith()` and e`ndswith()` methods check whether a string starts or ends with a specified substring and return `True` or `False` accordingly.\n",
    "\n",
    "- The `isalpha()`, `isdigit()`, `isalnum()`, `isspace()`, and `islower()` methods check whether a string consists of certain types of characters `(e.g., alphabetic, numeric, alphanumeric, whitespace, lowercase)` and return `True` or `False` accordingly.\n",
    "\n",
    "- The `isupper()` method checks whether a string consists of all uppercase letters and returns `True` or `False` accordingly.\n",
    "\n",
    "- The `isnumeric()` method checks whether a string consists of only numeric characters and returns `True` or `False` accordingly."
   ]
  }
 ],
 "metadata": {
  "kernelspec": {
   "display_name": "Python 3",
   "language": "python",
   "name": "python3"
  },
  "language_info": {
   "codemirror_mode": {
    "name": "ipython",
    "version": 3
   },
   "file_extension": ".py",
   "mimetype": "text/x-python",
   "name": "python",
   "nbconvert_exporter": "python",
   "pygments_lexer": "ipython3",
   "version": "3.8.5"
  },
  "toc": {
   "base_numbering": 1,
   "nav_menu": {},
   "number_sections": true,
   "sideBar": true,
   "skip_h1_title": false,
   "title_cell": "Table of Contents",
   "title_sidebar": "Contents",
   "toc_cell": false,
   "toc_position": {},
   "toc_section_display": true,
   "toc_window_display": false
  }
 },
 "nbformat": 4,
 "nbformat_minor": 4
}
