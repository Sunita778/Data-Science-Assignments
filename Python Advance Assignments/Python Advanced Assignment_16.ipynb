{
 "cells": [
  {
   "cell_type": "markdown",
   "id": "4338f8db",
   "metadata": {},
   "source": [
    "# Python Advanced Assignment_16\n",
    "Submitted by - Sunita Pradhan\n",
    "\n",
    "-----------------------------------------------------------"
   ]
  },
  {
   "cell_type": "markdown",
   "id": "a0f71cbf",
   "metadata": {},
   "source": [
    "## Q1. What is the benefit of regular expressions?"
   ]
  },
  {
   "cell_type": "markdown",
   "id": "7f42e3af",
   "metadata": {},
   "source": [
    "#### Ans: \n",
    "Regular Expressions, also known as regex or regexp, are used to match strings of text such as particular characters, words, or patterns of characters. It means that we can match and extract any string pattern from the text with the help of regular expressions. it helps the programmers to Write less and cleaner code. it also avoids multiple use of if/else statements. Regular expressions are a powerful feature of any language and solve a particular class of problems extraordinarily well. They can be used to validate user input, extract relevant data from a string, or even modify a string based on its contents.\n",
    "\n",
    "Python's regular expression library is called \"re\" and is based on Perl's regular expression engine, which is pretty much an industry standard now."
   ]
  },
  {
   "cell_type": "markdown",
   "id": "9cef612e",
   "metadata": {},
   "source": [
    "## Q2. Describe the difference between the effects of \"(ab)c+\" and \"a(bc)+\" Which of these, if any, is the unqualified pattern \"abc+\"?"
   ]
  },
  {
   "cell_type": "markdown",
   "id": "76e2774a",
   "metadata": {},
   "source": [
    "#### Ans: \n",
    "Both (ab)c+ and a(bc)+ are valid patterns. The difference between both these patterns is that in (ab)c+ ab is a group whereas in a(bc)+ bc is a group. Capturing groups are a way to treat multiple characters as a single unit. They are created by placing the characters to be grouped inside a set of parentheses.\n",
    "\n"
   ]
  },
  {
   "cell_type": "markdown",
   "id": "a1cecc25",
   "metadata": {},
   "source": [
    "## Q3. How much do you need to use the following sentence while using regular expressions?"
   ]
  },
  {
   "cell_type": "markdown",
   "id": "759cba10",
   "metadata": {},
   "source": [
    "import re"
   ]
  },
  {
   "cell_type": "markdown",
   "id": "6f60c45c",
   "metadata": {},
   "source": [
    "#### Ans: \n",
    "import re statement always has to be imported before using regular expressions. In a program, we need to import this once so that we can use Regular Expressions subsequently."
   ]
  },
  {
   "cell_type": "markdown",
   "id": "ee3c7d45",
   "metadata": {},
   "source": [
    "## Q4. Which characters have special significance in square brackets when expressing a range, and under what circumstances?"
   ]
  },
  {
   "cell_type": "markdown",
   "id": "7e37ff59",
   "metadata": {},
   "source": [
    "#### Ans: \n",
    "The Characters .,*,?,^,or,(), have a special signiface when used with square brackets. They need not be be explicitly escaped by \\ as in case of pattern texts in a raw string. Range in Regular Expressions Ranges of characters can be indicated by giving two characters and separating them by a ‘-‘, for example [a-z] will match any lowercase ASCII letter, [0-5][0-9] will match all the two-digits numbers from 00 to 59."
   ]
  },
  {
   "cell_type": "markdown",
   "id": "a275e6ce",
   "metadata": {},
   "source": [
    "## Q5. How does compiling a regular-expression object benefit you?"
   ]
  },
  {
   "cell_type": "markdown",
   "id": "d87db1a5",
   "metadata": {},
   "source": [
    "#### Ans: \n",
    "We can Combine a regular expression pattern into pattern Objects which can be used for pattern matching. It also helps to search a pattern again without rewriting it."
   ]
  },
  {
   "cell_type": "markdown",
   "id": "ae54028e",
   "metadata": {},
   "source": [
    "## Q6. What are some examples of how to use the match object returned by re.match and re.search?"
   ]
  },
  {
   "cell_type": "markdown",
   "id": "8cd37974",
   "metadata": {},
   "source": [
    "#### Ans: \n",
    "The re.search() and re.match() both are functions of re module in python. These functions are very efficient and fast for searching in strings. The function searches for some substring in a string and returns a match object if found, else it returns none.\n",
    "\n",
    "There is a difference between the use of both functions. Both return the first match of a substring found in the string, but re.match() searches only from the beginning of the string and return match object if found. But if a match of substring is found somewhere in the middle of the string, it returns none.\n",
    "\n",
    "Where as re.search() searches for the whole string even if the string contains multi-lines and tries to find a match of the substring in all the lines of string"
   ]
  },
  {
   "cell_type": "code",
   "execution_count": 1,
   "id": "a52139be",
   "metadata": {},
   "outputs": [
    {
     "name": "stdout",
     "output_type": "stream",
     "text": [
      "<re.Match object; span=(61, 67), match='string'>\n",
      "None\n",
      "<re.Match object; span=(0, 6), match='string'>\n",
      "<re.Match object; span=(0, 6), match='string'>\n"
     ]
    }
   ],
   "source": [
    "import re\n",
    "Substring ='string' \n",
    "String1 ='We are learning regex with iNeuron. Regex is very useful for string matching. It is fast too.' \n",
    "String2 ='string We are learning regex with iNeuron. Regex is very useful for string matching. It is fast too.'\n",
    "print(re.search(Substring, String1, re.IGNORECASE))\n",
    "print(re.match(Substring, String1, re.IGNORECASE))\n",
    "print(re.search(Substring, String2, re.IGNORECASE))\n",
    "print(re.match(Substring, String2, re.IGNORECASE))"
   ]
  },
  {
   "cell_type": "markdown",
   "id": "6eb32d0f",
   "metadata": {},
   "source": [
    "## Q7. What is the difference between using a vertical bar (|) as an alteration and using square brackets as a character set?"
   ]
  },
  {
   "cell_type": "markdown",
   "id": "c0973dcd",
   "metadata": {},
   "source": [
    "#### Ans: \n",
    "When | us used then patterns searches for or option. i.e <pattern_1>|<pattern_2> means it searches as <pattern_1>or<<pattern_2> in the searched string. The first occurance of matched string will be returned as the Match Object. Using Character set in square Brackets searches for all the character set in the square bracket and if match is found, it returns it."
   ]
  },
  {
   "cell_type": "code",
   "execution_count": 2,
   "id": "6d35b751",
   "metadata": {},
   "outputs": [],
   "source": [
    "#For example\n",
    "#[p – t] = [ pqrst ]\n",
    "#For example, (x|y|z)ab match by any string-like, x, y, z, a, b."
   ]
  },
  {
   "cell_type": "markdown",
   "id": "d5e5175f",
   "metadata": {},
   "source": [
    "## Q8. In regular-expression search patterns, why is it necessary to use the raw-string indicator (r)? In replacement strings?"
   ]
  },
  {
   "cell_type": "markdown",
   "id": "20399f6c",
   "metadata": {},
   "source": [
    "#### Ans: \n",
    "Raw Strings are used in the regular-expression search patterns, so that backslash do not have to be escaped. When one wants to match a literal backslash, it must be escaped in the regular expression. With raw string notation, this means r\"\\\". Without raw string notation, one must use 4 times back slashes"
   ]
  }
 ],
 "metadata": {
  "kernelspec": {
   "display_name": "Python 3 (ipykernel)",
   "language": "python",
   "name": "python3"
  },
  "language_info": {
   "codemirror_mode": {
    "name": "ipython",
    "version": 3
   },
   "file_extension": ".py",
   "mimetype": "text/x-python",
   "name": "python",
   "nbconvert_exporter": "python",
   "pygments_lexer": "ipython3",
   "version": "3.8.5"
  },
  "toc": {
   "base_numbering": 1,
   "nav_menu": {},
   "number_sections": true,
   "sideBar": true,
   "skip_h1_title": false,
   "title_cell": "Table of Contents",
   "title_sidebar": "Contents",
   "toc_cell": false,
   "toc_position": {},
   "toc_section_display": true,
   "toc_window_display": false
  }
 },
 "nbformat": 4,
 "nbformat_minor": 5
}
