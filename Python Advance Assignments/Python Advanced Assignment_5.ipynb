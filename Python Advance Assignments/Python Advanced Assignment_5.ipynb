{
 "cells": [
  {
   "cell_type": "markdown",
   "metadata": {},
   "source": [
    "# Python Advanced Assignment_5\n",
    "Submitted by - *Sunita Pradhan*\n",
    "\n",
    "---------------------------------------------------"
   ]
  },
  {
   "cell_type": "markdown",
   "metadata": {},
   "source": [
    "### Q1. What is the meaning of multiple inheritance?\n"
   ]
  },
  {
   "cell_type": "markdown",
   "metadata": {},
   "source": [
    "*Ans:*\n",
    "\n",
    "Multiple inheritance is a feature of object-oriented programming languages, such as Python, that allows a class to inherit from more than one parent class. In other words, a class can have multiple superclasses, each providing a set of attributes and methods that the subclass can use.\n",
    "\n",
    "When a class inherits from multiple parent classes, it inherits all the attributes and methods of each parent class. This can lead to a complex hierarchy of classes, with methods and attributes potentially being overridden or conflicting with each other. To handle these conflicts, Python follows a specific method resolution order (MRO) that determines the order in which parent classes are searched for attributes and methods."
   ]
  },
  {
   "cell_type": "code",
   "execution_count": 1,
   "metadata": {},
   "outputs": [
    {
     "name": "stdout",
     "output_type": "stream",
     "text": [
      "A.foo\n",
      "B.bar\n",
      "C.baz\n"
     ]
    }
   ],
   "source": [
    "class A:\n",
    "    def foo(self):\n",
    "        print('A.foo')\n",
    "        \n",
    "class B:\n",
    "    def bar(self):\n",
    "        print('B.bar')\n",
    "        \n",
    "class C(A, B):\n",
    "    def baz(self):\n",
    "        print('C.baz')\n",
    "\n",
    "c = C()\n",
    "c.foo()    # Output: A.foo\n",
    "c.bar()    # Output: B.bar\n",
    "c.baz()    # Output: C.baz"
   ]
  },
  {
   "cell_type": "markdown",
   "metadata": {},
   "source": [
    "### Q2. What is the concept of delegation?\n"
   ]
  },
  {
   "cell_type": "markdown",
   "metadata": {},
   "source": [
    "*Ans:*\n",
    "\n",
    "Delegation is a programming pattern where an object passes on a method call to another object to perform the requested action. In delegation, the responsibility for performing an operation is delegated from one object to another object.\n",
    "\n",
    "Delegation is often used to simplify complex systems and to separate concerns between different objects. Instead of having one object do everything, the object delegates some of its responsibilities to other objects, each of which specializes in a specific task."
   ]
  },
  {
   "cell_type": "code",
   "execution_count": 2,
   "metadata": {},
   "outputs": [
    {
     "name": "stdout",
     "output_type": "stream",
     "text": [
      "Engine started.\n",
      "Engine stopped.\n"
     ]
    }
   ],
   "source": [
    "class Engine:\n",
    "    def start(self):\n",
    "        print(\"Engine started.\")\n",
    "        \n",
    "    def stop(self):\n",
    "        print(\"Engine stopped.\")\n",
    "        \n",
    "class Car:\n",
    "    def __init__(self):\n",
    "        self.engine = Engine()\n",
    "        \n",
    "    def start(self):\n",
    "        self.engine.start()\n",
    "        \n",
    "    def stop(self):\n",
    "        self.engine.stop()\n",
    "\n",
    "my_car = Car()\n",
    "my_car.start()   \n",
    "my_car.stop()    "
   ]
  },
  {
   "cell_type": "markdown",
   "metadata": {},
   "source": [
    "### Q3. What is the concept of composition?\n"
   ]
  },
  {
   "cell_type": "markdown",
   "metadata": {},
   "source": [
    "*Ans:*\n",
    "\n",
    "Composition is a concept in object-oriented programming that involves creating complex objects by combining simpler objects. In composition, an object is made up of other objects, and it delegates some of its responsibilities to these other objects.\n",
    "\n",
    "Composition is often used as an alternative to inheritance. Instead of creating a new class by inheriting from an existing class and adding or modifying its behavior, we can create a new class by composing existing objects and defining how they work together."
   ]
  },
  {
   "cell_type": "code",
   "execution_count": 4,
   "metadata": {},
   "outputs": [
    {
     "name": "stdout",
     "output_type": "stream",
     "text": [
      "Engine started.\n",
      "Shifted up.\n"
     ]
    }
   ],
   "source": [
    "class Engine:\n",
    "    def start(self):\n",
    "        print(\"Engine started.\")\n",
    "\n",
    "class Transmission:\n",
    "    def shift_up(self):\n",
    "        print(\"Shifted up.\")\n",
    "\n",
    "class Car:\n",
    "    def __init__(self):\n",
    "        self.engine = Engine()\n",
    "        self.transmission = Transmission()\n",
    "        \n",
    "    def start(self):\n",
    "        self.engine.start()\n",
    "        \n",
    "    def shift_up(self):\n",
    "        self.transmission.shift_up()\n",
    "        \n",
    "        \n",
    "car = Car()\n",
    "car.start()      \n",
    "car.shift_up()  "
   ]
  },
  {
   "cell_type": "markdown",
   "metadata": {},
   "source": [
    "### Q4. What are bound methods and how do we use them?\n"
   ]
  },
  {
   "cell_type": "markdown",
   "metadata": {},
   "source": [
    "*Ans:*\n",
    "\n",
    "Bound methods are methods that are associated with a specific instance of a class. When a method is called on an instance of a class, it is automatically bound to that instance, meaning that the first argument (usually called `self`) is set to the instance that the method was called on."
   ]
  },
  {
   "cell_type": "code",
   "execution_count": 5,
   "metadata": {},
   "outputs": [
    {
     "name": "stdout",
     "output_type": "stream",
     "text": [
      "42\n"
     ]
    }
   ],
   "source": [
    "class MyClass:\n",
    "    def __init__(self, value):\n",
    "        self.value = value\n",
    "        \n",
    "    def print_value(self):\n",
    "        print(self.value)\n",
    "\n",
    "my_obj = MyClass(42)\n",
    "my_obj.print_value() "
   ]
  },
  {
   "cell_type": "markdown",
   "metadata": {},
   "source": [
    "### Q5. What is the purpose of pseudoprivate attributes?\n"
   ]
  },
  {
   "cell_type": "markdown",
   "metadata": {},
   "source": [
    "*Ans:*\n",
    "\n",
    "Pseudoprivate attributes (also known as name mangling) are a way to create attributes that are intended to be used only within a single class, but are not truly private. In Python, there is no concept of true private attributes, as all attributes and methods can be accessed from outside the class if their name is known. However, name mangling provides a way to make it more difficult for other code to access or modify an attribute that is intended to be used only within a class.\n",
    "\n",
    "To use pseudoprivate attributes, you simply add two underscores (`__`) to the beginning of the attribute name."
   ]
  },
  {
   "cell_type": "code",
   "execution_count": 6,
   "metadata": {},
   "outputs": [
    {
     "name": "stdout",
     "output_type": "stream",
     "text": [
      "Hello\n"
     ]
    }
   ],
   "source": [
    "class MyClass:\n",
    "    def __init__(self):\n",
    "        self.__pseudoprivate_attr = \"Hello\"\n",
    "        \n",
    "    def do_something(self):\n",
    "        print(self.__pseudoprivate_attr)\n",
    "\n",
    "a = MyClass()        \n",
    "a.do_something()"
   ]
  },
  {
   "cell_type": "markdown",
   "metadata": {},
   "source": [
    "The purpose of pseudoprivate attributes is to prevent accidental name collisions with attributes defined in subclasses or in code outside the class. By using name mangling, you can ensure that the attribute name will be unique within the class and will not clash with other attribute names. However, it's important to note that pseudoprivate attributes are not truly private, and can still be accessed and modified if the attribute name is known. Therefore, they should be used with caution and should not be relied upon for security or protection of sensitive data."
   ]
  },
  {
   "cell_type": "code",
   "execution_count": null,
   "metadata": {},
   "outputs": [],
   "source": []
  }
 ],
 "metadata": {
  "kernelspec": {
   "display_name": "Python 3",
   "language": "python",
   "name": "python3"
  },
  "language_info": {
   "codemirror_mode": {
    "name": "ipython",
    "version": 3
   },
   "file_extension": ".py",
   "mimetype": "text/x-python",
   "name": "python",
   "nbconvert_exporter": "python",
   "pygments_lexer": "ipython3",
   "version": "3.8.5"
  },
  "toc": {
   "base_numbering": 1,
   "nav_menu": {},
   "number_sections": true,
   "sideBar": true,
   "skip_h1_title": false,
   "title_cell": "Table of Contents",
   "title_sidebar": "Contents",
   "toc_cell": false,
   "toc_position": {},
   "toc_section_display": true,
   "toc_window_display": false
  }
 },
 "nbformat": 4,
 "nbformat_minor": 4
}
