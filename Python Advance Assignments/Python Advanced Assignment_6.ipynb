{
 "cells": [
  {
   "cell_type": "markdown",
   "metadata": {},
   "source": [
    "# Python Advanced Assignment_6\n",
    "Submitted by - *Sunita Pradhan*\n",
    "\n",
    "---------------------------------------------------"
   ]
  },
  {
   "cell_type": "markdown",
   "metadata": {},
   "source": [
    "#### Q1. Describe three applications for exception processing.\n"
   ]
  },
  {
   "cell_type": "markdown",
   "metadata": {},
   "source": [
    "*Ans:*\n",
    "    \n",
    "Exception processing is an important feature of many programming languages, including Python. Exceptions are used to signal and handle error conditions that occur during the execution of a program. Here are three common applications of exception processing:\n",
    "\n",
    "- **Error handling**\\: Exceptions are commonly used to handle errors and exceptional conditions that can occur during the execution of a program. For example, if a file is not found when trying to open it, an exception is raised. By catching the exception, the program can handle the error gracefully and provide feedback to the user.\n",
    "\n",
    "- **Resource management**: Exceptions can also be used to manage resources such as files, network connections, and database connections. When a resource is acquired, an exception can be raised if the resource is unavailable or cannot be acquired. By catching the exception, the program can gracefully handle the error and release the resource.\n",
    "\n",
    "- **Control flow**: Exceptions can also be used to control the flow of a program. For example, exceptions can be used to break out of nested loops or to terminate a program when a critical error occurs. By catching the exception at the appropriate level, the program can continue to execute or gracefully terminate as needed.\n",
    "\n",
    "*Exception processing is a powerful tool for handling errors and exceptional conditions that can occur during the execution of a program. By using exceptions, programs can be made more robust and resilient, and can provide better feedback to users when errors occur.*"
   ]
  },
  {
   "cell_type": "markdown",
   "metadata": {},
   "source": [
    "#### Q2. What happens if you don't do something extra to treat an exception?\n"
   ]
  },
  {
   "cell_type": "markdown",
   "metadata": {},
   "source": [
    "*Ans:*\n",
    "\n",
    "If you don't handle or treat an exception in some way, the program will terminate and an error message will be displayed. The error message will typically include information about the exception that occurred, including the type of exception and the location in the code where the exception occurred.\n",
    "\n",
    "When an exception is raised and not handled, it will propagate up the call stack until it reaches the top level of the program, at which point the program will terminate. This can result in the loss of data or other undesirable consequences.\n",
    "\n",
    "Therefore, it is important to handle exceptions in a way that allows the program to recover from errors and continue executing as much as possible. This can involve catching the exception and performing some error handling, such as displaying an error message, logging the error, or attempting to recover from the error."
   ]
  },
  {
   "cell_type": "markdown",
   "metadata": {},
   "source": [
    "#### Q3. What are your options for recovering from an exception in your script?\n"
   ]
  },
  {
   "cell_type": "markdown",
   "metadata": {},
   "source": [
    "*Ans:*\n",
    "\n",
    "When an exception is raised in a Python script, there are several options for recovering from the error and allowing the script to continue executing. Here are some of the common strategies for recovering from exceptions:\n",
    "\n",
    "- **Catch and handle the exception**: The most common way to recover from an exception is to catch it using a `try-except` block and handle it appropriately. This can involve displaying an error message, logging the error, or attempting to recover from the error.\n",
    "\n",
    "- **Retry the operation**: If the exception is caused by a temporary error, such as a network timeout, it may be possible to recover by retrying the operation. This can be done by wrapping the operation in a loop and retrying it until it succeeds, or by using a library that provides automatic retry functionality.\n",
    "\n",
    "- **Roll back the transaction**: If the exception occurs during a database transaction, it may be necessary to roll back the transaction to avoid leaving the database in an inconsistent state. This can be done using a try-finally block to ensure that the transaction is rolled back even if an exception is raised.\n",
    "\n",
    "- **Ignore the exception**: In some cases, it may be safe to ignore an exception and continue executing the script. This is generally not recommended, as it can result in unpredictable behavior and may hide underlying issues.\n",
    "\n",
    "The appropriate strategy for recovering from an exception will depend on the specific circumstances of the error and the requirements of the application. It is important to handle exceptions in a way that allows the program to recover from errors and continue executing as much as possible."
   ]
  },
  {
   "cell_type": "markdown",
   "metadata": {},
   "source": [
    "#### Q4. Describe two methods for triggering exceptions in your script.\n"
   ]
  },
  {
   "cell_type": "markdown",
   "metadata": {},
   "source": [
    "*Ans:*\n",
    "\n",
    "In Python, there are several ways to trigger exceptions in your script. Here are two common methods:\n",
    "\n",
    "Using the raise statement: The raise statement is used to explicitly `raise` an exception in your script. You can raise any built-in or user-defined exception by passing the exception object to the `raise` statement. For example, to raise a `ValueError` exception with a custom error message, you can use the following code:"
   ]
  },
  {
   "cell_type": "code",
   "execution_count": 1,
   "metadata": {},
   "outputs": [
    {
     "ename": "ValueError",
     "evalue": "Invalid input value",
     "output_type": "error",
     "traceback": [
      "\u001b[1;31m---------------------------------------------------------------------------\u001b[0m",
      "\u001b[1;31mValueError\u001b[0m                                Traceback (most recent call last)",
      "\u001b[1;32m<ipython-input-1-e93b0a154565>\u001b[0m in \u001b[0;36m<module>\u001b[1;34m\u001b[0m\n\u001b[1;32m----> 1\u001b[1;33m \u001b[1;32mraise\u001b[0m \u001b[0mValueError\u001b[0m\u001b[1;33m(\u001b[0m\u001b[1;34m\"Invalid input value\"\u001b[0m\u001b[1;33m)\u001b[0m\u001b[1;33m\u001b[0m\u001b[1;33m\u001b[0m\u001b[0m\n\u001b[0m",
      "\u001b[1;31mValueError\u001b[0m: Invalid input value"
     ]
    }
   ],
   "source": [
    "raise ValueError(\"Invalid input value\")\n",
    "\n",
    "#This will raise a ValueError exception with the specified error message."
   ]
  },
  {
   "cell_type": "markdown",
   "metadata": {},
   "source": [
    "2. Calling a function that raises an exception: Another way to trigger an exception in your script is to call a function that raises an exception. Many built-in functions and methods in Python will raise exceptions under certain circumstances, such as when an invalid argument is passed or when a file cannot be opened. For example, if you try to `open` a file that does not exist using the open function, it will raise a `FileNotFoundError` exception. You can handle this exception using a try-except block,"
   ]
  },
  {
   "cell_type": "code",
   "execution_count": 2,
   "metadata": {},
   "outputs": [
    {
     "name": "stdout",
     "output_type": "stream",
     "text": [
      "File not found!\n"
     ]
    }
   ],
   "source": [
    "try:\n",
    "    f = open(\"nonexistent_file.txt\", \"r\")\n",
    "except FileNotFoundError:\n",
    "    print(\"File not found!\")"
   ]
  },
  {
   "cell_type": "markdown",
   "metadata": {},
   "source": [
    "#### Q5. Identify two methods for specifying actions to be executed at termination time, regardless of whether or not an exception exists.\n"
   ]
  },
  {
   "cell_type": "markdown",
   "metadata": {},
   "source": [
    "*Ans:*\n",
    "\n",
    "In Python, you can specify actions to be executed at termination time using two methods:\n",
    "\n",
    "1. `try-finally block`: The `try-finally` block is a control flow structure that allows you to specify a block of code that will be executed regardless of whether an exception is raised or not. The `finally` block is placed after the `try` block, and the code inside the `finally` block will always be executed, even if an exception is raised in the `try` block. \n",
    "\n",
    "2. `atexit modul`: The `atexit` module provides a way to register functions to be called when a program is about to exit. These functions are executed when the Python interpreter is about to exit, either normally or due to an unhandled exception. To `register` a function with `atexit`, you can use the `register` function."
   ]
  }
 ],
 "metadata": {
  "kernelspec": {
   "display_name": "Python 3",
   "language": "python",
   "name": "python3"
  },
  "language_info": {
   "codemirror_mode": {
    "name": "ipython",
    "version": 3
   },
   "file_extension": ".py",
   "mimetype": "text/x-python",
   "name": "python",
   "nbconvert_exporter": "python",
   "pygments_lexer": "ipython3",
   "version": "3.8.5"
  },
  "toc": {
   "base_numbering": 1,
   "nav_menu": {},
   "number_sections": true,
   "sideBar": true,
   "skip_h1_title": false,
   "title_cell": "Table of Contents",
   "title_sidebar": "Contents",
   "toc_cell": false,
   "toc_position": {},
   "toc_section_display": true,
   "toc_window_display": false
  }
 },
 "nbformat": 4,
 "nbformat_minor": 4
}
