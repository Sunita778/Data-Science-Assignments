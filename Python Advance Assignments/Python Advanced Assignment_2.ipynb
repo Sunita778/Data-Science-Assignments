{
 "cells": [
  {
   "cell_type": "markdown",
   "metadata": {},
   "source": [
    "# Python Advanced Assignment_2\n",
    "Submitted by - *Sunita Pradhan*\n",
    "\n",
    "---------------------------------------------------"
   ]
  },
  {
   "cell_type": "markdown",
   "metadata": {},
   "source": [
    "#### Q1. What is the relationship between classes and modules?\n"
   ]
  },
  {
   "cell_type": "markdown",
   "metadata": {},
   "source": [
    "Ans:\n",
    "\n",
    "Classes and modules are both used to organize and structure code in Python. A module is a single Python file that can contain functions, variables, and classes, while a class is a blueprint for creating objects, which can have attributes and methods.\n",
    "\n",
    "A class can be defined within a module, making it accessible to other parts of the code within the same module. When the module is imported into another script, the classes defined within the module can be used within the importing script. This allows for code reuse and organization, as related classes can be grouped together within a single module."
   ]
  },
  {
   "cell_type": "markdown",
   "metadata": {},
   "source": [
    "#### Q2. How do you make instances and classes?"
   ]
  },
  {
   "cell_type": "markdown",
   "metadata": {},
   "source": [
    "Ans:\n",
    "\n",
    "To create a class in Python, use the `class` keyword followed by the name of the class. The class definition typically contains a constructor method `__init__` and other methods. The `__init__` method is called when an object of the class is created and is used to initialize the object's attributes."
   ]
  },
  {
   "cell_type": "markdown",
   "metadata": {},
   "source": [
    "#### Q3. Where and how should be class attributes created?\n"
   ]
  },
  {
   "cell_type": "markdown",
   "metadata": {},
   "source": [
    "Ans:\n",
    "    \n",
    "Class attributes in Python are attributes that are shared among all instances of a class. They are defined outside of any method in the class definition, usually at the top level."
   ]
  },
  {
   "cell_type": "code",
   "execution_count": 1,
   "metadata": {},
   "outputs": [
    {
     "name": "stdout",
     "output_type": "stream",
     "text": [
      "This is a class\n",
      "This is a class\n"
     ]
    }
   ],
   "source": [
    "class Example:\n",
    "    class_attribute = \"This is a class\"\n",
    "    \n",
    "    def __init__(self, sub):\n",
    "        self.sub = sub\n",
    "        \n",
    "    def some_method(self):\n",
    "        pass\n",
    "    \n",
    "example_object = Example(\"value\")\n",
    "\n",
    "print(example_object.class_attribute)\n",
    "print(Example.class_attribute)"
   ]
  },
  {
   "cell_type": "markdown",
   "metadata": {},
   "source": [
    "Class attributes are different from instance attributes, which are specific to each instance of the class. Instance attributes are defined in the `__init__` method and can be different for each instance."
   ]
  },
  {
   "cell_type": "markdown",
   "metadata": {},
   "source": [
    "#### Q5. What does the term \"self\" in a Python class mean?\n"
   ]
  },
  {
   "cell_type": "markdown",
   "metadata": {},
   "source": [
    "Ans:\n",
    "\n",
    "In Python, the term `self` is used to refer to the instance of an object that a method is being called on within a class. It is a convention to use `self` as the first parameter in the method definition to refer to the instance, although it can be named something else if desired."
   ]
  },
  {
   "cell_type": "code",
   "execution_count": 2,
   "metadata": {},
   "outputs": [
    {
     "name": "stdout",
     "output_type": "stream",
     "text": [
      "value\n"
     ]
    }
   ],
   "source": [
    "#Example\n",
    "\n",
    "class Example:\n",
    "    def __init__(self, word):\n",
    "        self.word = word\n",
    "        \n",
    "    def some_method(self):\n",
    "        print(self.word)\n",
    "        \n",
    "example_object = Example(\"value\")\n",
    "example_object.some_method() "
   ]
  },
  {
   "cell_type": "markdown",
   "metadata": {},
   "source": [
    "#### Q6. How does a Python class handle operator overloading?\n"
   ]
  },
  {
   "cell_type": "markdown",
   "metadata": {},
   "source": [
    "Ans:\n",
    "\n",
    "In Python, operator overloading is a way to define the behavior of operators (such as +, -, *, /, <, >, etc.) for custom classes. This means that when we apply an operator to an instance of a class, Python will call a method on that instance that is associated with the operator being used.\n",
    "\n",
    "To overload an operator, we can define a special method in our class that corresponds to the operator we want to overload. For example, to overload the + operator, we can define a method named \"add\" in our class. The method should take two arguments: self (the instance on the left side of the operator) and other (the instance on the right side of the operator). The method should return the result of the operation."
   ]
  },
  {
   "cell_type": "code",
   "execution_count": 3,
   "metadata": {},
   "outputs": [
    {
     "name": "stdout",
     "output_type": "stream",
     "text": [
      "The total number of pages in 2 books is 1200\n"
     ]
    }
   ],
   "source": [
    "class Book:\n",
    "    def __init__(self,pages):\n",
    "        self.pages = pages\n",
    "    def __add__(self,other):\n",
    "        return self.pages + other.pages\n",
    "b1 = Book(500)\n",
    "b2 = Book(700)\n",
    "print(f'The total number of pages in 2 books is {b1+b2}')"
   ]
  },
  {
   "cell_type": "markdown",
   "metadata": {},
   "source": [
    "#### Q7. When do you consider allowing operator overloading of your classes?\n"
   ]
  },
  {
   "cell_type": "markdown",
   "metadata": {},
   "source": [
    "Ans:\n",
    "\n",
    "We consider allowing operator overloading when we want to have different meaning for the same operator. For example operator + is used to add two integers as well as join two strings and merge two lists. It is achievable because ‘+’ operator is overloaded by int class and str class."
   ]
  },
  {
   "cell_type": "markdown",
   "metadata": {},
   "source": [
    "#### Q8. What is the most popular form of operator overloading?\n"
   ]
  },
  {
   "cell_type": "markdown",
   "metadata": {},
   "source": [
    "Ans: \n",
    "\n",
    "The most popular form of operator overloading in python is by special methods called `Magic methods`. It usually begins and ends with double underscore `__<method name>__`"
   ]
  },
  {
   "cell_type": "markdown",
   "metadata": {},
   "source": [
    "#### Q9. What are the two most important concepts to grasp in order to comprehend Python OOP code?\n"
   ]
  },
  {
   "cell_type": "markdown",
   "metadata": {},
   "source": [
    "Ans: \n",
    "\n",
    "Classes and objects are the two most important concepts to grasp in order to comprehend python OOP code as more formally objects are entities that represent instances of general abstract concept called class.\n",
    "\n",
    "Along with classes and objects the important concepts to grasp are:\n",
    "\n",
    "- Inheritence\n",
    "- Abstraction\n",
    "- Polymorphism\n",
    "- Encapsulation"
   ]
  }
 ],
 "metadata": {
  "kernelspec": {
   "display_name": "Python 3",
   "language": "python",
   "name": "python3"
  },
  "language_info": {
   "codemirror_mode": {
    "name": "ipython",
    "version": 3
   },
   "file_extension": ".py",
   "mimetype": "text/x-python",
   "name": "python",
   "nbconvert_exporter": "python",
   "pygments_lexer": "ipython3",
   "version": "3.8.5"
  },
  "toc": {
   "base_numbering": 1,
   "nav_menu": {},
   "number_sections": true,
   "sideBar": true,
   "skip_h1_title": false,
   "title_cell": "Table of Contents",
   "title_sidebar": "Contents",
   "toc_cell": false,
   "toc_position": {},
   "toc_section_display": true,
   "toc_window_display": false
  }
 },
 "nbformat": 4,
 "nbformat_minor": 4
}
