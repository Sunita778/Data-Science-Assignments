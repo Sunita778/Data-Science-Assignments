{
 "cells": [
  {
   "cell_type": "markdown",
   "metadata": {},
   "source": [
    "`The world turns aside to let any man pass who knows where he is going.`\n",
    "\n",
    "``'Epictetus'``"
   ]
  },
  {
   "cell_type": "markdown",
   "metadata": {},
   "source": [
    "# Python Advanced Assignment_1\n",
    "Submitted by - Sunita Pradhan\n",
    "\n",
    "---------------------"
   ]
  },
  {
   "cell_type": "markdown",
   "metadata": {},
   "source": [
    "#### 1. What is the purpose of Python's OOP?"
   ]
  },
  {
   "cell_type": "markdown",
   "metadata": {},
   "source": [
    "Ans:\n",
    "\n",
    "The purpose of Object-Oriented Programming (OOP) in Python is to provide a way to organize code into reusable and modular structures. OOP allows you to define classes and objects, which can encapsulate data and behavior, making it easier to build complex software systems.\n",
    "\n",
    "In OOP, we can define classes that encapsulate data and behavior, which can then be instantiated as objects. These objects can interact with one another to perform complex operations and provide abstraction, making it easier to build and maintain software systems. OOP also provides inheritance and polymorphism, which allow you to create new classes that inherit attributes and behavior from existing classes, and to create objects that can be treated as instances of multiple types.\n",
    "\n",
    "Overall, the use of OOP in Python is to help developers write more maintainable, scalable, and flexible code, by breaking down complex problems into manageable pieces and providing abstractions that make it easier to reason about the code and reuse it across multiple projects."
   ]
  },
  {
   "cell_type": "markdown",
   "metadata": {},
   "source": [
    "#### 2. Where does an inheritance search look for an attribute?"
   ]
  },
  {
   "cell_type": "markdown",
   "metadata": {},
   "source": [
    "Ans:\n",
    "\n",
    "In Python, inheritance searches for an attribute start with the object's class and then proceed up the chain of parent classes.\n",
    "\n",
    "When a program tries to access an attribute of an object, Python first looks for the attribute in the object's class. If the attribute is not found in the class, Python will then look in the parent class, and so on, until it reaches the base class.\n",
    "\n",
    "This process is known as the method resolution order (MRO), and it determines the order in which Python will search for an attribute in the parent classes. In Python, the MRO is determined by the C3 linearization algorithm, which provides a deterministic and efficient way of resolving method calls in a multiple inheritance scenario.\n",
    "\n",
    "If the attribute is not found in any of the parent classes, Python will raise an AttributeError.\n",
    "\n",
    "In this way, inheritance in Python provides a mechanism for creating objects that inherit attributes and behaviors from parent classes, allowing you to build complex systems from simpler components and to create reusable code."
   ]
  },
  {
   "cell_type": "markdown",
   "metadata": {},
   "source": [
    "OR"
   ]
  },
  {
   "cell_type": "markdown",
   "metadata": {},
   "source": [
    "An inheritance search in Python starts with the object's own class, then looks in its parent class (base class), and then in its parent's parent class, and so on, until the attribute is found or the search reaches the top-most class (usually object). If the attribute is not found, an AttributeError is raised."
   ]
  },
  {
   "cell_type": "markdown",
   "metadata": {},
   "source": [
    "#### 3. How do you distinguish between a class object and an instance object?"
   ]
  },
  {
   "cell_type": "markdown",
   "metadata": {},
   "source": [
    "Ans:\n",
    "\n",
    "A class object is a blueprint or a template for creating instances, while an instance object is a concrete object created from a class.\n",
    "\n",
    "A class defines the attributes and methods that instances of that class will have. When you create an instance of a class, you get a separate and distinct object with its own state and behavior, but sharing the same class definition.\n",
    "\n",
    "You can distinguish between a class object and an instance object by checking whether the object is an instance of the 'type' class. If it is, it's a class object. If not, it's an instance object. Another way is to check the presence of the '__class__' attribute. An instance object has a '__class__' attribute that references its class, while a class object does not have an instance."
   ]
  },
  {
   "cell_type": "code",
   "execution_count": 1,
   "metadata": {},
   "outputs": [
    {
     "name": "stdout",
     "output_type": "stream",
     "text": [
      "True\n",
      "True\n",
      "False\n",
      "True\n"
     ]
    }
   ],
   "source": [
    "class MyClass:\n",
    "    pass\n",
    "\n",
    "obj = MyClass()\n",
    "\n",
    "# Check if obj is an instance object\n",
    "print(isinstance(obj, MyClass)) \n",
    "print(isinstance(MyClass, type))\n",
    "\n",
    "# Check if MyClass is a class object\n",
    "print(isinstance(MyClass, MyClass)) \n",
    "print(isinstance(MyClass, type)) "
   ]
  },
  {
   "cell_type": "markdown",
   "metadata": {},
   "source": [
    "#### 4. What makes the first argument in a class’s method function special?"
   ]
  },
  {
   "cell_type": "markdown",
   "metadata": {},
   "source": [
    "Ans:\n",
    "\n",
    "The first argument in a class's method function is special because it refers to the instance of the object that the method is being called on. This argument is usually named self, although you can name it anything you want.\n",
    "\n",
    "The self argument acts as a reference to the instance of the class, and it is automatically passed to the method when the method is called. The self argument provides access to the attributes and methods of the instance within the method.\n"
   ]
  },
  {
   "cell_type": "code",
   "execution_count": 2,
   "metadata": {},
   "outputs": [
    {
     "name": "stdout",
     "output_type": "stream",
     "text": [
      "10\n"
     ]
    }
   ],
   "source": [
    "#For example\n",
    "    \n",
    "class MyClass:\n",
    "    def __init__(self, value):\n",
    "        self.value = value\n",
    "        \n",
    "    def print_value(self):\n",
    "        print(self.value)\n",
    "\n",
    "obj = MyClass(10)\n",
    "obj.print_value()"
   ]
  },
  {
   "cell_type": "markdown",
   "metadata": {},
   "source": [
    "#### 5. What is the purpose of the __init__ method?"
   ]
  },
  {
   "cell_type": "markdown",
   "metadata": {},
   "source": [
    "Ans:\n",
    "\n",
    "The `__init__` method is a special method in Python's object-oriented programming (OOP) that serves as the constructor of a class. It is automatically called when a new instance of the class is created.\n",
    "\n",
    "The purpose of the `__init__` method is to initialize the attributes of the class with the values passed as arguments when an instance is created. This allows you to set up the internal state of the object in a consistent manner, and to provide default values for the attributes if necessary."
   ]
  },
  {
   "cell_type": "code",
   "execution_count": 1,
   "metadata": {},
   "outputs": [
    {
     "name": "stdout",
     "output_type": "stream",
     "text": [
      "10\n",
      "20\n"
     ]
    }
   ],
   "source": [
    "#Example\n",
    "\n",
    "class MyClass:\n",
    "    def __init__(self, first, second):\n",
    "        self.first = first\n",
    "        self.second = second\n",
    "\n",
    "obj = MyClass(10, 20)\n",
    "print(obj.first) \n",
    "print(obj.second) \n"
   ]
  },
  {
   "cell_type": "markdown",
   "metadata": {},
   "source": [
    "In this example, the `__init__` method takes two arguments `value1` and `value2` and assigns them to the attributes `value1` and `value2` of the instance. When a new instance obj is created, it is automatically initialized with the values 10 and 20 respectively."
   ]
  },
  {
   "cell_type": "markdown",
   "metadata": {},
   "source": [
    "#### 6. What is the process for creating a class instance?"
   ]
  },
  {
   "cell_type": "markdown",
   "metadata": {},
   "source": [
    "Ans:\n",
    "\n",
    "To create a class instance in Python, we need to follow these steps:\n",
    "\n",
    "- Define the class: The first step is to define a class, which is essentially a blueprint for creating objects. The class should define the attributes and methods of the objects we want to create.\n",
    "\n",
    "- Call the class: After we have defined the class, we can create an instance of the class by calling the class name as if it were a function. The syntax for this is `instance_name = Class_name()`, where instance_name is the name we want to give to the instance, and `Class_name` is the name of the class.\n",
    "\n",
    "- Pass arguments: If the class has an `__init__` method, we can pass arguments to it during the creation of the instance. The arguments are passed inside the parentheses when we call the class. For example, `instance_name = Class_name(arg1, arg2, ...)`.\n",
    "\n",
    "- Use the instance: Once the instance is created, we can use it to access the attributes and methods of the class. we can also modify the attributes, call the methods, and perform other operations on the instance."
   ]
  },
  {
   "cell_type": "code",
   "execution_count": 2,
   "metadata": {},
   "outputs": [
    {
     "name": "stdout",
     "output_type": "stream",
     "text": [
      "Rufus\n",
      "Poodle\n",
      "Woof!\n"
     ]
    }
   ],
   "source": [
    "class Dog:\n",
    "    def __init__(self, name, breed):\n",
    "        self.name = name\n",
    "        self.breed = breed\n",
    "\n",
    "    def bark(self):\n",
    "        print(\"Woof!\")\n",
    "\n",
    "dog1 = Dog(\"Rufus\", \"Labrador\")\n",
    "dog2 = Dog(\"Max\", \"Poodle\")\n",
    "\n",
    "print(dog1.name) # Output: Rufus\n",
    "print(dog2.breed) # Output: Poodle\n",
    "dog1.bark() # Output: Woof!\n"
   ]
  },
  {
   "cell_type": "markdown",
   "metadata": {},
   "source": [
    "#### 7. What is the process for creating a class?\n"
   ]
  },
  {
   "cell_type": "markdown",
   "metadata": {},
   "source": [
    "Ans:\n",
    "\n",
    "The process for creating a class involves the following steps:\n",
    "\n",
    "- Define the class using the \"class\" keyword followed by the name of the class.\n",
    "\n",
    "- Define the attributes and methods of the class within the class definition.\n",
    "\n",
    "- Define the init method to initialize the attributes of the class when a new instance is created.\n",
    "\n",
    "- Define any additional methods that the class needs.\n",
    "\n",
    "- Use the class by creating instances of the class."
   ]
  },
  {
   "cell_type": "markdown",
   "metadata": {},
   "source": [
    "#### 8. How would you define the superclasses of a class?"
   ]
  },
  {
   "cell_type": "markdown",
   "metadata": {},
   "source": [
    "Ans:\n",
    "\n",
    "In Python, you can define the superclasses of a class using inheritance. To define a subclass, you write the name of the parent class in parentheses after the name of the subclass. This creates an inheritance relationship between the two classes, with the subclass inheriting attributes and methods from the parent class."
   ]
  },
  {
   "cell_type": "code",
   "execution_count": null,
   "metadata": {},
   "outputs": [],
   "source": [
    "#Example\n",
    "\n",
    "class ParentClass:\n",
    "    # parent class attributes and methods\n",
    "    pass\n",
    "\n",
    "class ChildClass(ParentClass):\n",
    "    # child class attributes and methods\n",
    "    pass"
   ]
  }
 ],
 "metadata": {
  "kernelspec": {
   "display_name": "Python 3",
   "language": "python",
   "name": "python3"
  },
  "language_info": {
   "codemirror_mode": {
    "name": "ipython",
    "version": 3
   },
   "file_extension": ".py",
   "mimetype": "text/x-python",
   "name": "python",
   "nbconvert_exporter": "python",
   "pygments_lexer": "ipython3",
   "version": "3.8.5"
  },
  "toc": {
   "base_numbering": 1,
   "nav_menu": {},
   "number_sections": true,
   "sideBar": true,
   "skip_h1_title": false,
   "title_cell": "Table of Contents",
   "title_sidebar": "Contents",
   "toc_cell": false,
   "toc_position": {},
   "toc_section_display": true,
   "toc_window_display": false
  }
 },
 "nbformat": 4,
 "nbformat_minor": 4
}
