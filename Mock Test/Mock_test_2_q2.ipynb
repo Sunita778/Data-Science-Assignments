{
 "cells": [
  {
   "cell_type": "markdown",
   "id": "8af3ea37",
   "metadata": {},
   "source": [
    "You are given two non-empty linked lists representing two non-negative integers. The digits are stored in reverse order, and each of their nodes contains a single digit. Add the two numbers and return the sum as a linked list.\n",
    "\n",
    "You may assume the two numbers do not contain any leading zero, except the number 0 itself.\n",
    "\n",
    "\n",
    "Example 1:\n",
    "\n",
    "Input: l1 = [2,4,3], l2 = [5,6,4]\n",
    "\n",
    "Output: [7,0,8] \n",
    "\n",
    "Explanation: 342 + 465 = 807.\n",
    "\n",
    "Example 2:\n",
    "\n",
    "Input: l1 = [0], l2 = [0] \n",
    "\n",
    "Output: [0]\n",
    "\n",
    "Example 3:\n",
    "\n",
    "Input: l1 = [9,9,9,9,9,9,9], l2 = [9,9,9,9] Output: [8,9,9,9,0,0,0,1]\n",
    "\n",
    " \n",
    "\n",
    "Constraints:\n",
    "\n",
    "The number of nodes in each linked list is in the range [1, 100].\n",
    "0 <= Node.val <= 9 It is guaranteed that the list represents a number that does not have leading zeros."
   ]
  },
  {
   "cell_type": "code",
   "execution_count": 2,
   "id": "e1f7f2a4",
   "metadata": {},
   "outputs": [],
   "source": [
    "class ListNode:\n",
    "    def __init__(self, val=0, next=None):\n",
    "        self.val = val\n",
    "        self.next = next\n",
    "\n",
    "\n",
    "def add_number(l1, l2):\n",
    "    dummy = ListNode(0)\n",
    "    current = dummy\n",
    "    carry = 0\n",
    "\n",
    "    while l1 or l2:\n",
    "        x = l1.val if l1 else 0\n",
    "        y = l2.val if l2 else 0\n",
    "\n",
    "        sum = carry + x + y\n",
    "        carry = sum // 10\n",
    "\n",
    "        current.next = ListNode(sum % 10)\n",
    "        current = current.next\n",
    "\n",
    "        if l1:\n",
    "            l1 = l1.next\n",
    "        if l2:\n",
    "            l2 = l2.next\n",
    "\n",
    "    if carry:\n",
    "        current.next = ListNode(carry)\n",
    "\n",
    "    return dummy.next"
   ]
  },
  {
   "cell_type": "code",
   "execution_count": 3,
   "id": "dc59f213",
   "metadata": {
    "scrolled": true
   },
   "outputs": [
    {
     "ename": "AttributeError",
     "evalue": "'list' object has no attribute 'val'",
     "output_type": "error",
     "traceback": [
      "\u001b[1;31m---------------------------------------------------------------------------\u001b[0m",
      "\u001b[1;31mAttributeError\u001b[0m                            Traceback (most recent call last)",
      "\u001b[1;32m<ipython-input-3-393f0e2a24c0>\u001b[0m in \u001b[0;36m<module>\u001b[1;34m\u001b[0m\n\u001b[0;32m      1\u001b[0m \u001b[0ml1\u001b[0m \u001b[1;33m=\u001b[0m \u001b[1;33m[\u001b[0m\u001b[1;36m9\u001b[0m\u001b[1;33m,\u001b[0m\u001b[1;36m9\u001b[0m\u001b[1;33m,\u001b[0m\u001b[1;36m9\u001b[0m\u001b[1;33m,\u001b[0m\u001b[1;36m9\u001b[0m\u001b[1;33m,\u001b[0m\u001b[1;36m9\u001b[0m\u001b[1;33m,\u001b[0m\u001b[1;36m9\u001b[0m\u001b[1;33m,\u001b[0m\u001b[1;36m9\u001b[0m\u001b[1;33m]\u001b[0m\u001b[1;33m\u001b[0m\u001b[1;33m\u001b[0m\u001b[0m\n\u001b[0;32m      2\u001b[0m \u001b[0ml2\u001b[0m \u001b[1;33m=\u001b[0m \u001b[1;33m[\u001b[0m\u001b[1;36m9\u001b[0m\u001b[1;33m,\u001b[0m\u001b[1;36m9\u001b[0m\u001b[1;33m,\u001b[0m\u001b[1;36m9\u001b[0m\u001b[1;33m,\u001b[0m\u001b[1;36m9\u001b[0m\u001b[1;33m]\u001b[0m\u001b[1;33m\u001b[0m\u001b[1;33m\u001b[0m\u001b[0m\n\u001b[1;32m----> 3\u001b[1;33m \u001b[0madd_number\u001b[0m\u001b[1;33m(\u001b[0m\u001b[0ml1\u001b[0m\u001b[1;33m,\u001b[0m \u001b[0ml2\u001b[0m\u001b[1;33m)\u001b[0m\u001b[1;33m\u001b[0m\u001b[1;33m\u001b[0m\u001b[0m\n\u001b[0m",
      "\u001b[1;32m<ipython-input-2-09db6e42a2b7>\u001b[0m in \u001b[0;36madd_number\u001b[1;34m(l1, l2)\u001b[0m\n\u001b[0;32m     11\u001b[0m \u001b[1;33m\u001b[0m\u001b[0m\n\u001b[0;32m     12\u001b[0m     \u001b[1;32mwhile\u001b[0m \u001b[0ml1\u001b[0m \u001b[1;32mor\u001b[0m \u001b[0ml2\u001b[0m\u001b[1;33m:\u001b[0m\u001b[1;33m\u001b[0m\u001b[1;33m\u001b[0m\u001b[0m\n\u001b[1;32m---> 13\u001b[1;33m         \u001b[0mx\u001b[0m \u001b[1;33m=\u001b[0m \u001b[0ml1\u001b[0m\u001b[1;33m.\u001b[0m\u001b[0mval\u001b[0m \u001b[1;32mif\u001b[0m \u001b[0ml1\u001b[0m \u001b[1;32melse\u001b[0m \u001b[1;36m0\u001b[0m\u001b[1;33m\u001b[0m\u001b[1;33m\u001b[0m\u001b[0m\n\u001b[0m\u001b[0;32m     14\u001b[0m         \u001b[0my\u001b[0m \u001b[1;33m=\u001b[0m \u001b[0ml2\u001b[0m\u001b[1;33m.\u001b[0m\u001b[0mval\u001b[0m \u001b[1;32mif\u001b[0m \u001b[0ml2\u001b[0m \u001b[1;32melse\u001b[0m \u001b[1;36m0\u001b[0m\u001b[1;33m\u001b[0m\u001b[1;33m\u001b[0m\u001b[0m\n\u001b[0;32m     15\u001b[0m \u001b[1;33m\u001b[0m\u001b[0m\n",
      "\u001b[1;31mAttributeError\u001b[0m: 'list' object has no attribute 'val'"
     ]
    }
   ],
   "source": [
    "l1 = [9,9,9,9,9,9,9]\n",
    "l2 = [9,9,9,9]\n",
    "add_number(l1, l2)"
   ]
  },
  {
   "cell_type": "code",
   "execution_count": null,
   "id": "0af437df",
   "metadata": {},
   "outputs": [],
   "source": [
    "class ListNode:\n",
    "    def __init__(self, val=0, next=None):\n",
    "        self.val = val\n",
    "        self.next = next\n",
    "\n",
    "def addTwoNumbers(l1, l2):\n",
    "    dummy = ListNode(0)\n",
    "    current = dummy\n",
    "    carry = 0\n",
    "\n",
    "    i = 0\n",
    "    while l1 or l2 or carry:\n",
    "        val1 = l1[i] if i < len(l1) else 0\n",
    "        val2 = l2[i] if i < len(l2) else 0\n",
    "\n",
    "        sum = val1 + val2 + carry\n",
    "        carry = sum // 10\n",
    "        current.next = ListNode(sum % 10)\n",
    "        current = current.next\n",
    "\n",
    "        i += 1\n",
    "\n",
    "    return dummy.next\n",
    "\n",
    "\n",
    "l1 = [9, 9, 9, 9, 9, 9, 9]\n",
    "l2 = [9, 9, 9, 9]\n",
    "result = addTwoNumbers(l1, l2)\n",
    "\n",
    "while result:\n",
    "    print(result.val, end=' ')\n",
    "    result = result.next"
   ]
  },
  {
   "cell_type": "code",
   "execution_count": null,
   "id": "947f8d07",
   "metadata": {},
   "outputs": [],
   "source": []
  }
 ],
 "metadata": {
  "kernelspec": {
   "display_name": "Python 3 (ipykernel)",
   "language": "python",
   "name": "python3"
  },
  "language_info": {
   "codemirror_mode": {
    "name": "ipython",
    "version": 3
   },
   "file_extension": ".py",
   "mimetype": "text/x-python",
   "name": "python",
   "nbconvert_exporter": "python",
   "pygments_lexer": "ipython3",
   "version": "3.8.5"
  },
  "toc": {
   "base_numbering": 1,
   "nav_menu": {},
   "number_sections": true,
   "sideBar": true,
   "skip_h1_title": false,
   "title_cell": "Table of Contents",
   "title_sidebar": "Contents",
   "toc_cell": false,
   "toc_position": {},
   "toc_section_display": true,
   "toc_window_display": false
  }
 },
 "nbformat": 4,
 "nbformat_minor": 5
}
