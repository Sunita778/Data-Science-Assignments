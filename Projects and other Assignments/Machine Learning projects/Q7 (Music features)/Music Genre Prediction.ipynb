{
 "cells": [
  {
   "attachments": {},
   "cell_type": "markdown",
   "id": "8072b286",
   "metadata": {},
   "source": [
    "## *Submitted by* - `Sunita Pradhan`"
   ]
  },
  {
   "cell_type": "code",
   "execution_count": 2,
   "id": "f8367b5d",
   "metadata": {},
   "outputs": [],
   "source": [
    "#Importing Required Libraries\n",
    "\n",
    "import pandas as pd\n",
    "import numpy as np\n",
    "import seaborn as sns\n",
    "import matplotlib.pyplot as plt\n",
    "import warnings\n",
    "from sklearn.preprocessing import LabelEncoder\n",
    "pd.set_option('display.max_columns', None)\n",
    "warnings.filterwarnings('ignore')\n",
    "%matplotlib inline\n",
    "\n",
    "from sklearn.preprocessing import StandardScaler\n"
   ]
  },
  {
   "cell_type": "code",
   "execution_count": 3,
   "id": "46e84cd1",
   "metadata": {},
   "outputs": [],
   "source": [
    "#Reading datas\n",
    "df1  = pd.read_csv('data.csv')\n",
    "df2 = pd.read_csv('data_2genre.csv')"
   ]
  },
  {
   "cell_type": "code",
   "execution_count": 4,
   "id": "56e231b6",
   "metadata": {},
   "outputs": [
    {
     "data": {
      "text/html": [
       "<div>\n",
       "<style scoped>\n",
       "    .dataframe tbody tr th:only-of-type {\n",
       "        vertical-align: middle;\n",
       "    }\n",
       "\n",
       "    .dataframe tbody tr th {\n",
       "        vertical-align: top;\n",
       "    }\n",
       "\n",
       "    .dataframe thead th {\n",
       "        text-align: right;\n",
       "    }\n",
       "</style>\n",
       "<table border=\"1\" class=\"dataframe\">\n",
       "  <thead>\n",
       "    <tr style=\"text-align: right;\">\n",
       "      <th></th>\n",
       "      <th>filename</th>\n",
       "      <th>tempo</th>\n",
       "      <th>beats</th>\n",
       "      <th>chroma_stft</th>\n",
       "      <th>rmse</th>\n",
       "      <th>spectral_centroid</th>\n",
       "      <th>spectral_bandwidth</th>\n",
       "      <th>rolloff</th>\n",
       "      <th>zero_crossing_rate</th>\n",
       "      <th>mfcc1</th>\n",
       "      <th>mfcc2</th>\n",
       "      <th>mfcc3</th>\n",
       "      <th>mfcc4</th>\n",
       "      <th>mfcc5</th>\n",
       "      <th>mfcc6</th>\n",
       "      <th>mfcc7</th>\n",
       "      <th>mfcc8</th>\n",
       "      <th>mfcc9</th>\n",
       "      <th>mfcc10</th>\n",
       "      <th>mfcc11</th>\n",
       "      <th>mfcc12</th>\n",
       "      <th>mfcc13</th>\n",
       "      <th>mfcc14</th>\n",
       "      <th>mfcc15</th>\n",
       "      <th>mfcc16</th>\n",
       "      <th>mfcc17</th>\n",
       "      <th>mfcc18</th>\n",
       "      <th>mfcc19</th>\n",
       "      <th>mfcc20</th>\n",
       "      <th>label</th>\n",
       "    </tr>\n",
       "  </thead>\n",
       "  <tbody>\n",
       "    <tr>\n",
       "      <th>0</th>\n",
       "      <td>blues.00081.au</td>\n",
       "      <td>103.359375</td>\n",
       "      <td>50</td>\n",
       "      <td>0.380260</td>\n",
       "      <td>0.248262</td>\n",
       "      <td>2116.942959</td>\n",
       "      <td>1956.611056</td>\n",
       "      <td>4196.107960</td>\n",
       "      <td>0.127272</td>\n",
       "      <td>-26.929785</td>\n",
       "      <td>107.334008</td>\n",
       "      <td>-46.809993</td>\n",
       "      <td>40.932634</td>\n",
       "      <td>-21.463776</td>\n",
       "      <td>24.816275</td>\n",
       "      <td>-18.945571</td>\n",
       "      <td>15.253459</td>\n",
       "      <td>-15.050104</td>\n",
       "      <td>12.262823</td>\n",
       "      <td>-15.234050</td>\n",
       "      <td>14.336612</td>\n",
       "      <td>-13.821769</td>\n",
       "      <td>7.562789</td>\n",
       "      <td>-6.181372</td>\n",
       "      <td>0.330165</td>\n",
       "      <td>-6.829571</td>\n",
       "      <td>0.965922</td>\n",
       "      <td>-7.570825</td>\n",
       "      <td>2.918987</td>\n",
       "      <td>blues</td>\n",
       "    </tr>\n",
       "    <tr>\n",
       "      <th>1</th>\n",
       "      <td>blues.00022.au</td>\n",
       "      <td>95.703125</td>\n",
       "      <td>44</td>\n",
       "      <td>0.306451</td>\n",
       "      <td>0.113475</td>\n",
       "      <td>1156.070496</td>\n",
       "      <td>1497.668176</td>\n",
       "      <td>2170.053545</td>\n",
       "      <td>0.058613</td>\n",
       "      <td>-233.860772</td>\n",
       "      <td>136.170239</td>\n",
       "      <td>3.289490</td>\n",
       "      <td>48.931193</td>\n",
       "      <td>8.699106</td>\n",
       "      <td>13.954752</td>\n",
       "      <td>5.359449</td>\n",
       "      <td>0.381334</td>\n",
       "      <td>-13.490265</td>\n",
       "      <td>16.871769</td>\n",
       "      <td>5.145258</td>\n",
       "      <td>-2.250578</td>\n",
       "      <td>3.959198</td>\n",
       "      <td>5.322555</td>\n",
       "      <td>0.812028</td>\n",
       "      <td>-1.107202</td>\n",
       "      <td>-4.556555</td>\n",
       "      <td>-2.436490</td>\n",
       "      <td>3.316913</td>\n",
       "      <td>-0.608485</td>\n",
       "      <td>blues</td>\n",
       "    </tr>\n",
       "  </tbody>\n",
       "</table>\n",
       "</div>"
      ],
      "text/plain": [
       "         filename       tempo  beats  chroma_stft      rmse   \n",
       "0  blues.00081.au  103.359375     50     0.380260  0.248262  \\\n",
       "1  blues.00022.au   95.703125     44     0.306451  0.113475   \n",
       "\n",
       "   spectral_centroid  spectral_bandwidth      rolloff  zero_crossing_rate   \n",
       "0        2116.942959         1956.611056  4196.107960            0.127272  \\\n",
       "1        1156.070496         1497.668176  2170.053545            0.058613   \n",
       "\n",
       "        mfcc1       mfcc2      mfcc3      mfcc4      mfcc5      mfcc6   \n",
       "0  -26.929785  107.334008 -46.809993  40.932634 -21.463776  24.816275  \\\n",
       "1 -233.860772  136.170239   3.289490  48.931193   8.699106  13.954752   \n",
       "\n",
       "       mfcc7      mfcc8      mfcc9     mfcc10     mfcc11     mfcc12   \n",
       "0 -18.945571  15.253459 -15.050104  12.262823 -15.234050  14.336612  \\\n",
       "1   5.359449   0.381334 -13.490265  16.871769   5.145258  -2.250578   \n",
       "\n",
       "      mfcc13    mfcc14    mfcc15    mfcc16    mfcc17    mfcc18    mfcc19   \n",
       "0 -13.821769  7.562789 -6.181372  0.330165 -6.829571  0.965922 -7.570825  \\\n",
       "1   3.959198  5.322555  0.812028 -1.107202 -4.556555 -2.436490  3.316913   \n",
       "\n",
       "     mfcc20  label  \n",
       "0  2.918987  blues  \n",
       "1 -0.608485  blues  "
      ]
     },
     "execution_count": 4,
     "metadata": {},
     "output_type": "execute_result"
    }
   ],
   "source": [
    "df1.head(2)"
   ]
  },
  {
   "cell_type": "code",
   "execution_count": 5,
   "id": "89a98e66",
   "metadata": {},
   "outputs": [
    {
     "data": {
      "text/html": [
       "<div>\n",
       "<style scoped>\n",
       "    .dataframe tbody tr th:only-of-type {\n",
       "        vertical-align: middle;\n",
       "    }\n",
       "\n",
       "    .dataframe tbody tr th {\n",
       "        vertical-align: top;\n",
       "    }\n",
       "\n",
       "    .dataframe thead th {\n",
       "        text-align: right;\n",
       "    }\n",
       "</style>\n",
       "<table border=\"1\" class=\"dataframe\">\n",
       "  <thead>\n",
       "    <tr style=\"text-align: right;\">\n",
       "      <th></th>\n",
       "      <th>filename</th>\n",
       "      <th>tempo</th>\n",
       "      <th>beats</th>\n",
       "      <th>chroma_stft</th>\n",
       "      <th>rmse</th>\n",
       "      <th>spectral_centroid</th>\n",
       "      <th>spectral_bandwidth</th>\n",
       "      <th>rolloff</th>\n",
       "      <th>zero_crossing_rate</th>\n",
       "      <th>mfcc1</th>\n",
       "      <th>mfcc2</th>\n",
       "      <th>mfcc3</th>\n",
       "      <th>mfcc4</th>\n",
       "      <th>mfcc5</th>\n",
       "      <th>mfcc6</th>\n",
       "      <th>mfcc7</th>\n",
       "      <th>mfcc8</th>\n",
       "      <th>mfcc9</th>\n",
       "      <th>mfcc10</th>\n",
       "      <th>mfcc11</th>\n",
       "      <th>mfcc12</th>\n",
       "      <th>mfcc13</th>\n",
       "      <th>mfcc14</th>\n",
       "      <th>mfcc15</th>\n",
       "      <th>mfcc16</th>\n",
       "      <th>mfcc17</th>\n",
       "      <th>mfcc18</th>\n",
       "      <th>mfcc19</th>\n",
       "      <th>mfcc20</th>\n",
       "      <th>label</th>\n",
       "    </tr>\n",
       "  </thead>\n",
       "  <tbody>\n",
       "    <tr>\n",
       "      <th>0</th>\n",
       "      <td>pop.00024.au</td>\n",
       "      <td>117.453835</td>\n",
       "      <td>57</td>\n",
       "      <td>0.410990</td>\n",
       "      <td>0.207584</td>\n",
       "      <td>3301.781785</td>\n",
       "      <td>3175.656592</td>\n",
       "      <td>7302.597509</td>\n",
       "      <td>0.144527</td>\n",
       "      <td>-40.802069</td>\n",
       "      <td>61.522054</td>\n",
       "      <td>9.868217</td>\n",
       "      <td>10.097928</td>\n",
       "      <td>8.456293</td>\n",
       "      <td>5.367917</td>\n",
       "      <td>8.377963</td>\n",
       "      <td>3.506944</td>\n",
       "      <td>8.253806</td>\n",
       "      <td>5.883242</td>\n",
       "      <td>-0.101842</td>\n",
       "      <td>-0.568772</td>\n",
       "      <td>0.552448</td>\n",
       "      <td>-1.981371</td>\n",
       "      <td>1.915755</td>\n",
       "      <td>0.076505</td>\n",
       "      <td>-1.270496</td>\n",
       "      <td>1.233082</td>\n",
       "      <td>1.493700</td>\n",
       "      <td>0.949931</td>\n",
       "      <td>1</td>\n",
       "    </tr>\n",
       "    <tr>\n",
       "      <th>1</th>\n",
       "      <td>pop.00099.au</td>\n",
       "      <td>78.302557</td>\n",
       "      <td>38</td>\n",
       "      <td>0.360462</td>\n",
       "      <td>0.138195</td>\n",
       "      <td>2765.747194</td>\n",
       "      <td>3222.713605</td>\n",
       "      <td>6873.391771</td>\n",
       "      <td>0.096015</td>\n",
       "      <td>-119.320605</td>\n",
       "      <td>85.941142</td>\n",
       "      <td>33.884536</td>\n",
       "      <td>9.990760</td>\n",
       "      <td>17.699190</td>\n",
       "      <td>0.516018</td>\n",
       "      <td>9.563375</td>\n",
       "      <td>-5.300430</td>\n",
       "      <td>4.168149</td>\n",
       "      <td>8.118337</td>\n",
       "      <td>-7.978898</td>\n",
       "      <td>1.566938</td>\n",
       "      <td>-2.932391</td>\n",
       "      <td>-1.609138</td>\n",
       "      <td>-0.200545</td>\n",
       "      <td>-2.429376</td>\n",
       "      <td>1.207988</td>\n",
       "      <td>5.848729</td>\n",
       "      <td>1.609469</td>\n",
       "      <td>7.580263</td>\n",
       "      <td>1</td>\n",
       "    </tr>\n",
       "  </tbody>\n",
       "</table>\n",
       "</div>"
      ],
      "text/plain": [
       "       filename       tempo  beats  chroma_stft      rmse  spectral_centroid   \n",
       "0  pop.00024.au  117.453835     57     0.410990  0.207584        3301.781785  \\\n",
       "1  pop.00099.au   78.302557     38     0.360462  0.138195        2765.747194   \n",
       "\n",
       "   spectral_bandwidth      rolloff  zero_crossing_rate       mfcc1      mfcc2   \n",
       "0         3175.656592  7302.597509            0.144527  -40.802069  61.522054  \\\n",
       "1         3222.713605  6873.391771            0.096015 -119.320605  85.941142   \n",
       "\n",
       "       mfcc3      mfcc4      mfcc5     mfcc6     mfcc7     mfcc8     mfcc9   \n",
       "0   9.868217  10.097928   8.456293  5.367917  8.377963  3.506944  8.253806  \\\n",
       "1  33.884536   9.990760  17.699190  0.516018  9.563375 -5.300430  4.168149   \n",
       "\n",
       "     mfcc10    mfcc11    mfcc12    mfcc13    mfcc14    mfcc15    mfcc16   \n",
       "0  5.883242 -0.101842 -0.568772  0.552448 -1.981371  1.915755  0.076505  \\\n",
       "1  8.118337 -7.978898  1.566938 -2.932391 -1.609138 -0.200545 -2.429376   \n",
       "\n",
       "     mfcc17    mfcc18    mfcc19    mfcc20  label  \n",
       "0 -1.270496  1.233082  1.493700  0.949931      1  \n",
       "1  1.207988  5.848729  1.609469  7.580263      1  "
      ]
     },
     "execution_count": 5,
     "metadata": {},
     "output_type": "execute_result"
    }
   ],
   "source": [
    "df2.head(2)"
   ]
  },
  {
   "cell_type": "code",
   "execution_count": 6,
   "id": "380001c7",
   "metadata": {},
   "outputs": [
    {
     "data": {
      "text/plain": [
       "Index(['filename', 'tempo', 'beats', 'chroma_stft', 'rmse',\n",
       "       'spectral_centroid', 'spectral_bandwidth', 'rolloff',\n",
       "       'zero_crossing_rate', 'mfcc1', 'mfcc2', 'mfcc3', 'mfcc4', 'mfcc5',\n",
       "       'mfcc6', 'mfcc7', 'mfcc8', 'mfcc9', 'mfcc10', 'mfcc11', 'mfcc12',\n",
       "       'mfcc13', 'mfcc14', 'mfcc15', 'mfcc16', 'mfcc17', 'mfcc18', 'mfcc19',\n",
       "       'mfcc20', 'label'],\n",
       "      dtype='object')"
      ]
     },
     "execution_count": 6,
     "metadata": {},
     "output_type": "execute_result"
    }
   ],
   "source": [
    "#columns in df1 dataframe\n",
    "df1.columns"
   ]
  },
  {
   "cell_type": "code",
   "execution_count": 7,
   "id": "59502c59",
   "metadata": {},
   "outputs": [
    {
     "data": {
      "text/plain": [
       "Index(['filename', 'tempo', 'beats', 'chroma_stft', 'rmse',\n",
       "       'spectral_centroid', 'spectral_bandwidth', 'rolloff',\n",
       "       'zero_crossing_rate', 'mfcc1', 'mfcc2', 'mfcc3', 'mfcc4', 'mfcc5',\n",
       "       'mfcc6', 'mfcc7', 'mfcc8', 'mfcc9', 'mfcc10', 'mfcc11', 'mfcc12',\n",
       "       'mfcc13', 'mfcc14', 'mfcc15', 'mfcc16', 'mfcc17', 'mfcc18', 'mfcc19',\n",
       "       'mfcc20', 'label'],\n",
       "      dtype='object')"
      ]
     },
     "execution_count": 7,
     "metadata": {},
     "output_type": "execute_result"
    }
   ],
   "source": [
    "#columns in df1 dataframe\n",
    "df2.columns"
   ]
  },
  {
   "cell_type": "code",
   "execution_count": 8,
   "id": "2a86f15c",
   "metadata": {},
   "outputs": [],
   "source": [
    "data = pd.concat([df1,df2])"
   ]
  },
  {
   "cell_type": "code",
   "execution_count": 9,
   "id": "19833af2",
   "metadata": {},
   "outputs": [
    {
     "data": {
      "text/plain": [
       "(1200, 30)"
      ]
     },
     "execution_count": 9,
     "metadata": {},
     "output_type": "execute_result"
    }
   ],
   "source": [
    "#shape of final data\n",
    "data.shape"
   ]
  },
  {
   "cell_type": "code",
   "execution_count": 10,
   "id": "148d2779",
   "metadata": {},
   "outputs": [],
   "source": [
    "#Creating a copy of original data\n",
    "df = data.copy()"
   ]
  },
  {
   "cell_type": "code",
   "execution_count": 11,
   "id": "d090305e",
   "metadata": {},
   "outputs": [
    {
     "name": "stdout",
     "output_type": "stream",
     "text": [
      "<class 'pandas.core.frame.DataFrame'>\n",
      "Index: 1200 entries, 0 to 199\n",
      "Data columns (total 30 columns):\n",
      " #   Column              Non-Null Count  Dtype  \n",
      "---  ------              --------------  -----  \n",
      " 0   filename            1200 non-null   object \n",
      " 1   tempo               1200 non-null   float64\n",
      " 2   beats               1200 non-null   int64  \n",
      " 3   chroma_stft         1200 non-null   float64\n",
      " 4   rmse                1200 non-null   float64\n",
      " 5   spectral_centroid   1200 non-null   float64\n",
      " 6   spectral_bandwidth  1200 non-null   float64\n",
      " 7   rolloff             1200 non-null   float64\n",
      " 8   zero_crossing_rate  1200 non-null   float64\n",
      " 9   mfcc1               1200 non-null   float64\n",
      " 10  mfcc2               1200 non-null   float64\n",
      " 11  mfcc3               1200 non-null   float64\n",
      " 12  mfcc4               1200 non-null   float64\n",
      " 13  mfcc5               1200 non-null   float64\n",
      " 14  mfcc6               1200 non-null   float64\n",
      " 15  mfcc7               1200 non-null   float64\n",
      " 16  mfcc8               1200 non-null   float64\n",
      " 17  mfcc9               1200 non-null   float64\n",
      " 18  mfcc10              1200 non-null   float64\n",
      " 19  mfcc11              1200 non-null   float64\n",
      " 20  mfcc12              1200 non-null   float64\n",
      " 21  mfcc13              1200 non-null   float64\n",
      " 22  mfcc14              1200 non-null   float64\n",
      " 23  mfcc15              1200 non-null   float64\n",
      " 24  mfcc16              1200 non-null   float64\n",
      " 25  mfcc17              1200 non-null   float64\n",
      " 26  mfcc18              1200 non-null   float64\n",
      " 27  mfcc19              1200 non-null   float64\n",
      " 28  mfcc20              1200 non-null   float64\n",
      " 29  label               1200 non-null   object \n",
      "dtypes: float64(27), int64(1), object(2)\n",
      "memory usage: 290.6+ KB\n"
     ]
    }
   ],
   "source": [
    "df.info()"
   ]
  },
  {
   "cell_type": "code",
   "execution_count": 11,
   "id": "bbe9d17b",
   "metadata": {},
   "outputs": [
    {
     "data": {
      "text/plain": [
       "filename              0\n",
       "tempo                 0\n",
       "beats                 0\n",
       "chroma_stft           0\n",
       "rmse                  0\n",
       "spectral_centroid     0\n",
       "spectral_bandwidth    0\n",
       "rolloff               0\n",
       "zero_crossing_rate    0\n",
       "mfcc1                 0\n",
       "mfcc2                 0\n",
       "mfcc3                 0\n",
       "mfcc4                 0\n",
       "mfcc5                 0\n",
       "mfcc6                 0\n",
       "mfcc7                 0\n",
       "mfcc8                 0\n",
       "mfcc9                 0\n",
       "mfcc10                0\n",
       "mfcc11                0\n",
       "mfcc12                0\n",
       "mfcc13                0\n",
       "mfcc14                0\n",
       "mfcc15                0\n",
       "mfcc16                0\n",
       "mfcc17                0\n",
       "mfcc18                0\n",
       "mfcc19                0\n",
       "mfcc20                0\n",
       "label                 0\n",
       "dtype: int64"
      ]
     },
     "execution_count": 11,
     "metadata": {},
     "output_type": "execute_result"
    }
   ],
   "source": [
    "# Missing value detection\n",
    "df.isnull().sum()"
   ]
  },
  {
   "attachments": {},
   "cell_type": "markdown",
   "id": "ec95c831",
   "metadata": {},
   "source": [
    "There were no missing values."
   ]
  },
  {
   "cell_type": "code",
   "execution_count": 12,
   "id": "f47150b8",
   "metadata": {},
   "outputs": [
    {
     "data": {
      "text/plain": [
       "0"
      ]
     },
     "execution_count": 12,
     "metadata": {},
     "output_type": "execute_result"
    }
   ],
   "source": [
    "#Checking if there any duplicated value\n",
    "df.duplicated().sum()"
   ]
  },
  {
   "attachments": {},
   "cell_type": "markdown",
   "id": "64d2e210",
   "metadata": {},
   "source": [
    "There is no duplicate value also."
   ]
  },
  {
   "cell_type": "code",
   "execution_count": 12,
   "id": "2e11b5fb",
   "metadata": {},
   "outputs": [
    {
     "data": {
      "text/plain": [
       "label\n",
       "blues        100\n",
       "classical    100\n",
       "country      100\n",
       "disco        100\n",
       "hiphop       100\n",
       "jazz         100\n",
       "metal        100\n",
       "pop          100\n",
       "reggae       100\n",
       "rock         100\n",
       "1            100\n",
       "2            100\n",
       "Name: count, dtype: int64"
      ]
     },
     "execution_count": 12,
     "metadata": {},
     "output_type": "execute_result"
    }
   ],
   "source": [
    "#Value count of label features\n",
    "df['label'].value_counts()"
   ]
  },
  {
   "attachments": {},
   "cell_type": "markdown",
   "id": "95f6545e",
   "metadata": {},
   "source": [
    "##### By looking at the data we can see that \"1\" corresponds to \"pop\" and the \"2\" corresponds to \"classical\". Let's change those."
   ]
  },
  {
   "cell_type": "code",
   "execution_count": 13,
   "id": "6a6bbf40",
   "metadata": {},
   "outputs": [],
   "source": [
    "df['label'] = df['label'].replace(to_replace={1: 'pop', 2: 'classical'})"
   ]
  },
  {
   "cell_type": "code",
   "execution_count": 16,
   "id": "d4896631",
   "metadata": {},
   "outputs": [
    {
     "data": {
      "text/plain": [
       "array(['blues', 'classical', 'country', 'disco', 'hiphop', 'jazz',\n",
       "       'metal', 'pop', 'reggae', 'rock'], dtype=object)"
      ]
     },
     "execution_count": 16,
     "metadata": {},
     "output_type": "execute_result"
    }
   ],
   "source": [
    "#after changeing values of label feature\n",
    "\n",
    "df1.label.unique()"
   ]
  },
  {
   "cell_type": "code",
   "execution_count": 14,
   "id": "7bc359e3",
   "metadata": {},
   "outputs": [
    {
     "data": {
      "text/plain": [
       "<Axes: ylabel='count'>"
      ]
     },
     "execution_count": 14,
     "metadata": {},
     "output_type": "execute_result"
    },
    {
     "data": {
      "image/png": "[encoded data removed]",
      "text/plain": [
       "<Figure size 720x720 with 1 Axes>"
      ]
     },
     "metadata": {},
     "output_type": "display_data"
    }
   ],
   "source": [
    "#Plotting a pie plot of label feature\n",
    "\n",
    "df[\"label\"].value_counts().plot.pie( autopct='%.2f', figsize=(10, 10),fontsize=20)"
   ]
  },
  {
   "cell_type": "code",
   "execution_count": 15,
   "id": "acbb16f8",
   "metadata": {},
   "outputs": [
    {
     "data": {
      "text/html": [
       "<div>\n",
       "<style scoped>\n",
       "    .dataframe tbody tr th:only-of-type {\n",
       "        vertical-align: middle;\n",
       "    }\n",
       "\n",
       "    .dataframe tbody tr th {\n",
       "        vertical-align: top;\n",
       "    }\n",
       "\n",
       "    .dataframe thead th {\n",
       "        text-align: right;\n",
       "    }\n",
       "</style>\n",
       "<table border=\"1\" class=\"dataframe\">\n",
       "  <thead>\n",
       "    <tr style=\"text-align: right;\">\n",
       "      <th></th>\n",
       "      <th>tempo</th>\n",
       "      <th>beats</th>\n",
       "      <th>chroma_stft</th>\n",
       "      <th>rmse</th>\n",
       "      <th>spectral_centroid</th>\n",
       "      <th>spectral_bandwidth</th>\n",
       "      <th>rolloff</th>\n",
       "      <th>zero_crossing_rate</th>\n",
       "      <th>mfcc1</th>\n",
       "      <th>mfcc2</th>\n",
       "      <th>...</th>\n",
       "      <th>mfcc11</th>\n",
       "      <th>mfcc12</th>\n",
       "      <th>mfcc13</th>\n",
       "      <th>mfcc14</th>\n",
       "      <th>mfcc15</th>\n",
       "      <th>mfcc16</th>\n",
       "      <th>mfcc17</th>\n",
       "      <th>mfcc18</th>\n",
       "      <th>mfcc19</th>\n",
       "      <th>mfcc20</th>\n",
       "    </tr>\n",
       "  </thead>\n",
       "  <tbody>\n",
       "    <tr>\n",
       "      <th>count</th>\n",
       "      <td>1200.000000</td>\n",
       "      <td>1200.000000</td>\n",
       "      <td>1200.000000</td>\n",
       "      <td>1200.000000</td>\n",
       "      <td>1200.000000</td>\n",
       "      <td>1200.000000</td>\n",
       "      <td>1200.000000</td>\n",
       "      <td>1200.000000</td>\n",
       "      <td>1200.000000</td>\n",
       "      <td>1200.000000</td>\n",
       "      <td>...</td>\n",
       "      <td>1200.000000</td>\n",
       "      <td>1200.000000</td>\n",
       "      <td>1200.000000</td>\n",
       "      <td>1200.000000</td>\n",
       "      <td>1200.000000</td>\n",
       "      <td>1200.000000</td>\n",
       "      <td>1200.000000</td>\n",
       "      <td>1200.000000</td>\n",
       "      <td>1200.000000</td>\n",
       "      <td>1200.000000</td>\n",
       "    </tr>\n",
       "    <tr>\n",
       "      <th>mean</th>\n",
       "      <td>119.650771</td>\n",
       "      <td>56.882500</td>\n",
       "      <td>0.370632</td>\n",
       "      <td>0.129331</td>\n",
       "      <td>2203.833135</td>\n",
       "      <td>2246.295208</td>\n",
       "      <td>4571.216473</td>\n",
       "      <td>0.103968</td>\n",
       "      <td>-152.721641</td>\n",
       "      <td>100.395629</td>\n",
       "      <td>...</td>\n",
       "      <td>-5.694288</td>\n",
       "      <td>3.696146</td>\n",
       "      <td>-4.212006</td>\n",
       "      <td>1.364958</td>\n",
       "      <td>-3.308531</td>\n",
       "      <td>0.962490</td>\n",
       "      <td>-3.322924</td>\n",
       "      <td>0.514315</td>\n",
       "      <td>-1.958679</td>\n",
       "      <td>-0.975615</td>\n",
       "    </tr>\n",
       "    <tr>\n",
       "      <th>std</th>\n",
       "      <td>28.595204</td>\n",
       "      <td>14.484769</td>\n",
       "      <td>0.084014</td>\n",
       "      <td>0.070874</td>\n",
       "      <td>767.091516</td>\n",
       "      <td>580.235661</td>\n",
       "      <td>1721.201024</td>\n",
       "      <td>0.041925</td>\n",
       "      <td>111.544452</td>\n",
       "      <td>33.575997</td>\n",
       "      <td>...</td>\n",
       "      <td>6.578539</td>\n",
       "      <td>6.660127</td>\n",
       "      <td>6.032812</td>\n",
       "      <td>4.979126</td>\n",
       "      <td>4.870773</td>\n",
       "      <td>4.520644</td>\n",
       "      <td>4.674349</td>\n",
       "      <td>3.836801</td>\n",
       "      <td>3.770014</td>\n",
       "      <td>3.781028</td>\n",
       "    </tr>\n",
       "    <tr>\n",
       "      <th>min</th>\n",
       "      <td>54.978391</td>\n",
       "      <td>18.000000</td>\n",
       "      <td>0.171782</td>\n",
       "      <td>0.005276</td>\n",
       "      <td>569.930721</td>\n",
       "      <td>897.994319</td>\n",
       "      <td>749.062137</td>\n",
       "      <td>0.021701</td>\n",
       "      <td>-552.064063</td>\n",
       "      <td>-1.527148</td>\n",
       "      <td>...</td>\n",
       "      <td>-28.052265</td>\n",
       "      <td>-15.805227</td>\n",
       "      <td>-27.542309</td>\n",
       "      <td>-12.598773</td>\n",
       "      <td>-17.545474</td>\n",
       "      <td>-15.693589</td>\n",
       "      <td>-17.227765</td>\n",
       "      <td>-11.975698</td>\n",
       "      <td>-18.504188</td>\n",
       "      <td>-19.935203</td>\n",
       "    </tr>\n",
       "    <tr>\n",
       "      <th>25%</th>\n",
       "      <td>99.384014</td>\n",
       "      <td>47.000000</td>\n",
       "      <td>0.304514</td>\n",
       "      <td>0.079168</td>\n",
       "      <td>1548.496850</td>\n",
       "      <td>1815.497242</td>\n",
       "      <td>3172.968313</td>\n",
       "      <td>0.070809</td>\n",
       "      <td>-217.159272</td>\n",
       "      <td>74.875960</td>\n",
       "      <td>...</td>\n",
       "      <td>-10.095268</td>\n",
       "      <td>-0.967632</td>\n",
       "      <td>-8.376523</td>\n",
       "      <td>-2.048828</td>\n",
       "      <td>-6.514669</td>\n",
       "      <td>-2.005988</td>\n",
       "      <td>-6.667356</td>\n",
       "      <td>-2.003979</td>\n",
       "      <td>-4.405887</td>\n",
       "      <td>-3.272533</td>\n",
       "    </tr>\n",
       "    <tr>\n",
       "      <th>50%</th>\n",
       "      <td>117.453835</td>\n",
       "      <td>55.000000</td>\n",
       "      <td>0.376657</td>\n",
       "      <td>0.122036</td>\n",
       "      <td>2192.798091</td>\n",
       "      <td>2223.270960</td>\n",
       "      <td>4603.684662</td>\n",
       "      <td>0.099478</td>\n",
       "      <td>-121.409818</td>\n",
       "      <td>98.738478</td>\n",
       "      <td>...</td>\n",
       "      <td>-5.505038</td>\n",
       "      <td>2.979597</td>\n",
       "      <td>-3.621954</td>\n",
       "      <td>1.351666</td>\n",
       "      <td>-3.007097</td>\n",
       "      <td>0.966397</td>\n",
       "      <td>-3.201921</td>\n",
       "      <td>0.665095</td>\n",
       "      <td>-1.902843</td>\n",
       "      <td>-0.985806</td>\n",
       "    </tr>\n",
       "    <tr>\n",
       "      <th>75%</th>\n",
       "      <td>135.999178</td>\n",
       "      <td>65.000000</td>\n",
       "      <td>0.432291</td>\n",
       "      <td>0.182267</td>\n",
       "      <td>2753.175473</td>\n",
       "      <td>2664.676118</td>\n",
       "      <td>5679.811488</td>\n",
       "      <td>0.132843</td>\n",
       "      <td>-69.786929</td>\n",
       "      <td>123.917582</td>\n",
       "      <td>...</td>\n",
       "      <td>-0.868188</td>\n",
       "      <td>8.714135</td>\n",
       "      <td>0.388630</td>\n",
       "      <td>4.696107</td>\n",
       "      <td>0.068461</td>\n",
       "      <td>3.994902</td>\n",
       "      <td>-0.089599</td>\n",
       "      <td>3.021267</td>\n",
       "      <td>0.620840</td>\n",
       "      <td>1.381480</td>\n",
       "    </tr>\n",
       "    <tr>\n",
       "      <th>max</th>\n",
       "      <td>234.907670</td>\n",
       "      <td>117.000000</td>\n",
       "      <td>0.663573</td>\n",
       "      <td>0.398012</td>\n",
       "      <td>4434.439444</td>\n",
       "      <td>3509.578677</td>\n",
       "      <td>8676.405868</td>\n",
       "      <td>0.274829</td>\n",
       "      <td>42.034587</td>\n",
       "      <td>193.096518</td>\n",
       "      <td>...</td>\n",
       "      <td>17.421038</td>\n",
       "      <td>23.037571</td>\n",
       "      <td>13.054333</td>\n",
       "      <td>18.161663</td>\n",
       "      <td>12.357588</td>\n",
       "      <td>13.468803</td>\n",
       "      <td>11.489994</td>\n",
       "      <td>15.379257</td>\n",
       "      <td>14.686910</td>\n",
       "      <td>15.368966</td>\n",
       "    </tr>\n",
       "  </tbody>\n",
       "</table>\n",
       "<p>8 rows × 28 columns</p>\n",
       "</div>"
      ],
      "text/plain": [
       "             tempo        beats  chroma_stft         rmse  spectral_centroid   \n",
       "count  1200.000000  1200.000000  1200.000000  1200.000000        1200.000000  \\\n",
       "mean    119.650771    56.882500     0.370632     0.129331        2203.833135   \n",
       "std      28.595204    14.484769     0.084014     0.070874         767.091516   \n",
       "min      54.978391    18.000000     0.171782     0.005276         569.930721   \n",
       "25%      99.384014    47.000000     0.304514     0.079168        1548.496850   \n",
       "50%     117.453835    55.000000     0.376657     0.122036        2192.798091   \n",
       "75%     135.999178    65.000000     0.432291     0.182267        2753.175473   \n",
       "max     234.907670   117.000000     0.663573     0.398012        4434.439444   \n",
       "\n",
       "       spectral_bandwidth      rolloff  zero_crossing_rate        mfcc1   \n",
       "count         1200.000000  1200.000000         1200.000000  1200.000000  \\\n",
       "mean          2246.295208  4571.216473            0.103968  -152.721641   \n",
       "std            580.235661  1721.201024            0.041925   111.544452   \n",
       "min            897.994319   749.062137            0.021701  -552.064063   \n",
       "25%           1815.497242  3172.968313            0.070809  -217.159272   \n",
       "50%           2223.270960  4603.684662            0.099478  -121.409818   \n",
       "75%           2664.676118  5679.811488            0.132843   -69.786929   \n",
       "max           3509.578677  8676.405868            0.274829    42.034587   \n",
       "\n",
       "             mfcc2  ...       mfcc11       mfcc12       mfcc13       mfcc14   \n",
       "count  1200.000000  ...  1200.000000  1200.000000  1200.000000  1200.000000  \\\n",
       "mean    100.395629  ...    -5.694288     3.696146    -4.212006     1.364958   \n",
       "std      33.575997  ...     6.578539     6.660127     6.032812     4.979126   \n",
       "min      -1.527148  ...   -28.052265   -15.805227   -27.542309   -12.598773   \n",
       "25%      74.875960  ...   -10.095268    -0.967632    -8.376523    -2.048828   \n",
       "50%      98.738478  ...    -5.505038     2.979597    -3.621954     1.351666   \n",
       "75%     123.917582  ...    -0.868188     8.714135     0.388630     4.696107   \n",
       "max     193.096518  ...    17.421038    23.037571    13.054333    18.161663   \n",
       "\n",
       "            mfcc15       mfcc16       mfcc17       mfcc18       mfcc19   \n",
       "count  1200.000000  1200.000000  1200.000000  1200.000000  1200.000000  \\\n",
       "mean     -3.308531     0.962490    -3.322924     0.514315    -1.958679   \n",
       "std       4.870773     4.520644     4.674349     3.836801     3.770014   \n",
       "min     -17.545474   -15.693589   -17.227765   -11.975698   -18.504188   \n",
       "25%      -6.514669    -2.005988    -6.667356    -2.003979    -4.405887   \n",
       "50%      -3.007097     0.966397    -3.201921     0.665095    -1.902843   \n",
       "75%       0.068461     3.994902    -0.089599     3.021267     0.620840   \n",
       "max      12.357588    13.468803    11.489994    15.379257    14.686910   \n",
       "\n",
       "            mfcc20  \n",
       "count  1200.000000  \n",
       "mean     -0.975615  \n",
       "std       3.781028  \n",
       "min     -19.935203  \n",
       "25%      -3.272533  \n",
       "50%      -0.985806  \n",
       "75%       1.381480  \n",
       "max      15.368966  \n",
       "\n",
       "[8 rows x 28 columns]"
      ]
     },
     "execution_count": 15,
     "metadata": {},
     "output_type": "execute_result"
    }
   ],
   "source": [
    "df.describe()"
   ]
  },
  {
   "cell_type": "code",
   "execution_count": 16,
   "id": "1d8278ac",
   "metadata": {},
   "outputs": [
    {
     "data": {
      "image/png": "[encoded data removed]",
      "text/plain": [
       "<Figure size 1440x1080 with 30 Axes>"
      ]
     },
     "metadata": {
      "needs_background": "light"
     },
     "output_type": "display_data"
    }
   ],
   "source": [
    "df.hist(bins=50, figsize=(20,15))\n",
    "plt.show()"
   ]
  },
  {
   "cell_type": "code",
   "execution_count": 26,
   "id": "e1d7c3b8",
   "metadata": {},
   "outputs": [
    {
     "data": {
      "text/plain": [
       "Index(['tempo', 'beats', 'chroma_stft', 'rmse', 'spectral_centroid',\n",
       "       'spectral_bandwidth', 'rolloff', 'zero_crossing_rate', 'mfcc1', 'mfcc2',\n",
       "       'mfcc3', 'mfcc4', 'mfcc5', 'mfcc6', 'mfcc7', 'mfcc8', 'mfcc9', 'mfcc10',\n",
       "       'mfcc11', 'mfcc12', 'mfcc13', 'mfcc14', 'mfcc15', 'mfcc16', 'mfcc17',\n",
       "       'mfcc18', 'mfcc19', 'mfcc20'],\n",
       "      dtype='object')"
      ]
     },
     "execution_count": 26,
     "metadata": {},
     "output_type": "execute_result"
    }
   ],
   "source": [
    "#Numerical columns of data\n",
    "\n",
    "numerical_col = df.select_dtypes([\"float64\",\"int64\"]).columns\n",
    "numerical_col"
   ]
  },
  {
   "cell_type": "code",
   "execution_count": 27,
   "id": "5d71d6d6",
   "metadata": {},
   "outputs": [
    {
     "data": {
      "text/plain": [
       "Index(['filename', 'label'], dtype='object')"
      ]
     },
     "execution_count": 27,
     "metadata": {},
     "output_type": "execute_result"
    }
   ],
   "source": [
    "#Numerical columns of data\n",
    "\n",
    "categorical_col = df.select_dtypes([\"object\"]).columns\n",
    "categorical_col"
   ]
  },
  {
   "cell_type": "code",
   "execution_count": 19,
   "id": "0f12abcc",
   "metadata": {},
   "outputs": [],
   "source": [
    "features = df.copy()"
   ]
  },
  {
   "attachments": {},
   "cell_type": "markdown",
   "id": "dd7f6f42",
   "metadata": {},
   "source": [
    "###### As we can see file name and label feature are related each other. 1st word of file name is indicate the labels. So i Dropped that column. As it has no much use. "
   ]
  },
  {
   "cell_type": "code",
   "execution_count": 23,
   "id": "cc2caf4a",
   "metadata": {},
   "outputs": [],
   "source": [
    "features.drop(['filename'],axis=1,inplace=True)"
   ]
  },
  {
   "cell_type": "code",
   "execution_count": 24,
   "id": "2b14f61d",
   "metadata": {},
   "outputs": [
    {
     "data": {
      "text/plain": [
       "Index(['tempo', 'beats', 'chroma_stft', 'rmse', 'spectral_centroid',\n",
       "       'spectral_bandwidth', 'rolloff', 'zero_crossing_rate', 'mfcc1', 'mfcc2',\n",
       "       'mfcc3', 'mfcc4', 'mfcc5', 'mfcc6', 'mfcc7', 'mfcc8', 'mfcc9', 'mfcc10',\n",
       "       'mfcc11', 'mfcc12', 'mfcc13', 'mfcc14', 'mfcc15', 'mfcc16', 'mfcc17',\n",
       "       'mfcc18', 'mfcc19', 'mfcc20', 'label'],\n",
       "      dtype='object')"
      ]
     },
     "execution_count": 24,
     "metadata": {},
     "output_type": "execute_result"
    }
   ],
   "source": [
    "#After Dropping columnslumns present in data\n",
    "features.columns"
   ]
  },
  {
   "cell_type": "code",
   "execution_count": 33,
   "id": "058b24e9",
   "metadata": {},
   "outputs": [],
   "source": [
    "#Converting label fetures into numerical by labelencoding\n",
    "from sklearn.preprocessing import LabelEncoder\n",
    "\n",
    "lblEn = LabelEncoder()\n",
    "\n",
    "features['label'] = lblEn.fit_transform(features['label'])"
   ]
  },
  {
   "cell_type": "code",
   "execution_count": 29,
   "id": "3967ff4d",
   "metadata": {},
   "outputs": [
    {
     "data": {
      "text/plain": [
       "array(['blues', 'classical', 'country', 'disco', 'hiphop', 'jazz',\n",
       "       'metal', 'pop', 'reggae', 'rock'], dtype=object)"
      ]
     },
     "execution_count": 29,
     "metadata": {},
     "output_type": "execute_result"
    }
   ],
   "source": [
    "df.label.unique()"
   ]
  },
  {
   "cell_type": "code",
   "execution_count": 34,
   "id": "b326ba47",
   "metadata": {},
   "outputs": [
    {
     "data": {
      "text/plain": [
       "array([0, 1, 2, 3, 4, 5, 6, 7, 8, 9])"
      ]
     },
     "execution_count": 34,
     "metadata": {},
     "output_type": "execute_result"
    }
   ],
   "source": [
    "features.label.unique()"
   ]
  },
  {
   "attachments": {},
   "cell_type": "markdown",
   "id": "9dbb9a13",
   "metadata": {},
   "source": [
    "### KMeans clustering"
   ]
  },
  {
   "cell_type": "code",
   "execution_count": 18,
   "id": "1d02d927",
   "metadata": {},
   "outputs": [],
   "source": [
    "from sklearn.cluster import KMeans\n",
    "from sklearn.metrics import silhouette_score"
   ]
  },
  {
   "cell_type": "code",
   "execution_count": 36,
   "id": "5b222dc1",
   "metadata": {},
   "outputs": [
    {
     "name": "stderr",
     "output_type": "stream",
     "text": [
      "C:\\Users\\sssun\\anaconda3\\lib\\site-packages\\sklearn\\cluster\\_kmeans.py:870: FutureWarning: The default value of `n_init` will change from 10 to 'auto' in 1.4. Set the value of `n_init` explicitly to suppress the warning\n",
      "  warnings.warn(\n",
      "C:\\Users\\sssun\\anaconda3\\lib\\site-packages\\sklearn\\cluster\\_kmeans.py:870: FutureWarning: The default value of `n_init` will change from 10 to 'auto' in 1.4. Set the value of `n_init` explicitly to suppress the warning\n",
      "  warnings.warn(\n",
      "C:\\Users\\sssun\\anaconda3\\lib\\site-packages\\sklearn\\cluster\\_kmeans.py:870: FutureWarning: The default value of `n_init` will change from 10 to 'auto' in 1.4. Set the value of `n_init` explicitly to suppress the warning\n",
      "  warnings.warn(\n",
      "C:\\Users\\sssun\\anaconda3\\lib\\site-packages\\sklearn\\cluster\\_kmeans.py:870: FutureWarning: The default value of `n_init` will change from 10 to 'auto' in 1.4. Set the value of `n_init` explicitly to suppress the warning\n",
      "  warnings.warn(\n",
      "C:\\Users\\sssun\\anaconda3\\lib\\site-packages\\sklearn\\cluster\\_kmeans.py:870: FutureWarning: The default value of `n_init` will change from 10 to 'auto' in 1.4. Set the value of `n_init` explicitly to suppress the warning\n",
      "  warnings.warn(\n",
      "C:\\Users\\sssun\\anaconda3\\lib\\site-packages\\sklearn\\cluster\\_kmeans.py:870: FutureWarning: The default value of `n_init` will change from 10 to 'auto' in 1.4. Set the value of `n_init` explicitly to suppress the warning\n",
      "  warnings.warn(\n",
      "C:\\Users\\sssun\\anaconda3\\lib\\site-packages\\sklearn\\cluster\\_kmeans.py:870: FutureWarning: The default value of `n_init` will change from 10 to 'auto' in 1.4. Set the value of `n_init` explicitly to suppress the warning\n",
      "  warnings.warn(\n",
      "C:\\Users\\sssun\\anaconda3\\lib\\site-packages\\sklearn\\cluster\\_kmeans.py:870: FutureWarning: The default value of `n_init` will change from 10 to 'auto' in 1.4. Set the value of `n_init` explicitly to suppress the warning\n",
      "  warnings.warn(\n",
      "C:\\Users\\sssun\\anaconda3\\lib\\site-packages\\sklearn\\cluster\\_kmeans.py:870: FutureWarning: The default value of `n_init` will change from 10 to 'auto' in 1.4. Set the value of `n_init` explicitly to suppress the warning\n",
      "  warnings.warn(\n",
      "C:\\Users\\sssun\\anaconda3\\lib\\site-packages\\sklearn\\cluster\\_kmeans.py:870: FutureWarning: The default value of `n_init` will change from 10 to 'auto' in 1.4. Set the value of `n_init` explicitly to suppress the warning\n",
      "  warnings.warn(\n"
     ]
    },
    {
     "data": {
      "image/png": "[encoded data removed]",
      "text/plain": [
       "<Figure size 864x432 with 1 Axes>"
      ]
     },
     "metadata": {
      "needs_background": "light"
     },
     "output_type": "display_data"
    }
   ],
   "source": [
    "from sklearn.cluster import KMeans\n",
    "\n",
    "wcss = []\n",
    "\n",
    "for k in range(1,11):\n",
    "    kmeans = KMeans(n_clusters=k, init='k-means++', random_state=42)\n",
    "    kmeans.fit(features)\n",
    "    wcss.append(kmeans.inertia_)\n",
    "plt.figure(figsize=(12,6))\n",
    "plt.grid()\n",
    "plt.plot(range(1,11),wcss, linewidth=2, color='navy', marker='8')\n",
    "plt.xlabel('k value')\n",
    "plt.ylabel('WCSS')\n",
    "plt.show()"
   ]
  },
  {
   "cell_type": "code",
   "execution_count": 39,
   "id": "b06655b1",
   "metadata": {},
   "outputs": [],
   "source": [
    "# Standardize the location coordinates\n",
    "scaler = StandardScaler()\n",
    "scaled_feature = scaler.fit_transform(features)"
   ]
  },
  {
   "cell_type": "code",
   "execution_count": 40,
   "id": "d284350e",
   "metadata": {},
   "outputs": [],
   "source": [
    "# Apply K-means clustering algorithm\n",
    "kmeans = KMeans(n_clusters=4)  \n",
    "label = kmeans.fit(scaled_feature)\n",
    "features['cluster_label'] = kmeans.labels_"
   ]
  },
  {
   "cell_type": "code",
   "execution_count": 44,
   "id": "f237b14f",
   "metadata": {},
   "outputs": [
    {
     "data": {
      "image/png": "[encoded data removed]",
      "text/plain": [
       "<Figure size 432x288 with 1 Axes>"
      ]
     },
     "metadata": {
      "needs_background": "light"
     },
     "output_type": "display_data"
    }
   ],
   "source": [
    "# Map visualization\n",
    "# Plot clusters on a map\n",
    "plt.scatter(features['label'],features['beats'], c=features['cluster_label'])\n",
    "plt.xlabel('Label')\n",
    "# plt.ylabel('Latitude')\n",
    "# plt.title('High Booking Areas')\n",
    "plt.show()"
   ]
  },
  {
   "cell_type": "code",
   "execution_count": 46,
   "id": "44017ad0",
   "metadata": {},
   "outputs": [],
   "source": [
    "cluster_data = features.copy()\n",
    "cluster_data['cluster'] = label"
   ]
  },
  {
   "cell_type": "code",
   "execution_count": 47,
   "id": "b83086e3",
   "metadata": {},
   "outputs": [
    {
     "name": "stdout",
     "output_type": "stream",
     "text": [
      "[[ 0.10591781  0.07241894 -0.53059798 -0.29816141 -0.74068751 -0.59553223\n",
      "  -0.71696452 -0.77058897 -0.33838137  0.63300629 -0.10539312  0.10875879\n",
      "   0.11523011 -0.10935701 -0.0376643  -0.25619803 -0.29956997 -0.47588081\n",
      "  -0.10576702 -0.51244949 -0.14792447 -0.65726345 -0.25311557 -0.80288302\n",
      "  -0.48816148 -0.91437485 -0.32963542 -0.74453736 -0.29528827]\n",
      " [ 0.13248132 -0.04475877 -1.31818082 -1.2190823  -1.21856224 -1.30501971\n",
      "  -1.29450678 -0.83474531 -1.57374006  1.29272684 -0.29668759 -0.47254154\n",
      "  -0.0892867  -0.81863848 -0.20511828 -0.91555452 -0.03602999 -0.75491945\n",
      "   0.03053914 -0.6742665   0.43230072 -0.35659958  0.63069045  0.04253613\n",
      "   0.86400295  0.05686085  0.51068384 -0.00296104 -0.97524022]\n",
      " [ 0.00871954  0.07029462  0.58452296  0.12322604  0.13098286 -0.06803133\n",
      "   0.11402552  0.3284577   0.41311514 -0.13924538 -0.61432921  0.9656583\n",
      "  -0.94084279  1.10533142 -0.94906472  1.16163748 -0.88001585  1.11533323\n",
      "  -0.84671906  1.13362185 -0.9621918   0.92619835 -0.89062884  0.80197707\n",
      "  -0.7283008   0.61143355 -0.57249383  0.37251068  0.11613845]\n",
      " [-0.1392193  -0.08246977  0.47132094  0.70220364  0.95284975  1.09415052\n",
      "   0.99428259  0.58961101  0.6489487  -0.92153213  0.77445165 -0.69113947\n",
      "   0.83309493 -0.50894063  0.99050302 -0.42352335  0.9917493  -0.33782107\n",
      "   0.81362023 -0.375446    0.73195695 -0.26970647  0.62418473 -0.28174601\n",
      "   0.49144079 -0.0514484   0.44324816  0.0976763   0.57890981]]\n"
     ]
    }
   ],
   "source": [
    "print(kmeans.cluster_centers_)"
   ]
  },
  {
   "cell_type": "code",
   "execution_count": 48,
   "id": "7e101e0b",
   "metadata": {},
   "outputs": [],
   "source": [
    "features['Clusters'] = cluster_data.cluster"
   ]
  },
  {
   "cell_type": "code",
   "execution_count": 50,
   "id": "8c4418f6",
   "metadata": {},
   "outputs": [
    {
     "data": {
      "text/plain": [
       "array([0, 1, 2, 3, 4, 5, 6, 7, 8, 9])"
      ]
     },
     "execution_count": 50,
     "metadata": {},
     "output_type": "execute_result"
    }
   ],
   "source": [
    "cluster_data.label.unique()"
   ]
  },
  {
   "cell_type": "code",
   "execution_count": 52,
   "id": "289c0a2d",
   "metadata": {},
   "outputs": [
    {
     "name": "stdout",
     "output_type": "stream",
     "text": [
      "Shape of scaled features: (1200, 29)\n"
     ]
    }
   ],
   "source": [
    "print(\"Shape of scaled features:\", scaled_feature.shape)"
   ]
  },
  {
   "cell_type": "code",
   "execution_count": 53,
   "id": "f0c5728f",
   "metadata": {},
   "outputs": [
    {
     "name": "stdout",
     "output_type": "stream",
     "text": [
      "Shape of labels: (1200,)\n"
     ]
    }
   ],
   "source": [
    "labels = kmeans.labels_\n",
    "print(\"Shape of labels:\", labels.shape)"
   ]
  },
  {
   "cell_type": "code",
   "execution_count": 54,
   "id": "d6b1db47",
   "metadata": {},
   "outputs": [],
   "source": [
    "labels = labels.reshape(-1)"
   ]
  },
  {
   "cell_type": "code",
   "execution_count": 55,
   "id": "7ed41605",
   "metadata": {},
   "outputs": [
    {
     "data": {
      "text/plain": [
       "array([2, 1, 0, ..., 0, 1, 1])"
      ]
     },
     "execution_count": 55,
     "metadata": {},
     "output_type": "execute_result"
    }
   ],
   "source": [
    "labels"
   ]
  },
  {
   "cell_type": "code",
   "execution_count": 56,
   "id": "f0879c1c",
   "metadata": {},
   "outputs": [
    {
     "name": "stdout",
     "output_type": "stream",
     "text": [
      "Silhouette Score: 0.2324541739703186\n"
     ]
    }
   ],
   "source": [
    "silhouette_avg = silhouette_score(scaled_feature, labels)\n",
    "print(\"Silhouette Score:\", silhouette_avg)"
   ]
  },
  {
   "attachments": {},
   "cell_type": "markdown",
   "id": "8725e4b7",
   "metadata": {},
   "source": [
    "### Thank you😊"
   ]
  }
 ],
 "metadata": {
  "kernelspec": {
   "display_name": "Python 3 (ipykernel)",
   "language": "python",
   "name": "python3"
  },
  "language_info": {
   "codemirror_mode": {
    "name": "ipython",
    "version": 3
   },
   "file_extension": ".py",
   "mimetype": "text/x-python",
   "name": "python",
   "nbconvert_exporter": "python",
   "pygments_lexer": "ipython3",
   "version": "3.8.5"
  },
  "toc": {
   "base_numbering": 1,
   "nav_menu": {},
   "number_sections": true,
   "sideBar": true,
   "skip_h1_title": false,
   "title_cell": "Table of Contents",
   "title_sidebar": "Contents",
   "toc_cell": false,
   "toc_position": {},
   "toc_section_display": true,
   "toc_window_display": false
  }
 },
 "nbformat": 4,
 "nbformat_minor": 5
}
