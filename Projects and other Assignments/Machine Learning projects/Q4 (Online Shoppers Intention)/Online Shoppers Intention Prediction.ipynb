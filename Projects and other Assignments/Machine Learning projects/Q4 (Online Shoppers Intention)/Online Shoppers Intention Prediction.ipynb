{
 "cells": [
  {
   "cell_type": "markdown",
   "id": "879e611e",
   "metadata": {},
   "source": [
    "## *Submitted by:* - `Sunita Pradhan`"
   ]
  },
  {
   "cell_type": "code",
   "execution_count": 90,
   "id": "38c6fccf",
   "metadata": {},
   "outputs": [],
   "source": [
    "#Importing required libraries\n",
    "\n",
    "import pandas as pd\n",
    "import numpy as np\n",
    "import seaborn as sns\n",
    "import matplotlib.pyplot as plt\n",
    "import warnings\n",
    "\n",
    "from sklearn.preprocessing import LabelEncoder\n",
    "from sklearn.impute import KNNImputer\n",
    "# from imblearn.over_sampling import SMOTENC,RandomOverSampler,KMeansSMOTE\n",
    "from sklearn.model_selection import train_test_split\n",
    "from sklearn.svm import SVC\n",
    "from sklearn.linear_model import LogisticRegression\n",
    "from sklearn.neighbors import KNeighborsClassifier\n",
    "from sklearn.tree import DecisionTreeClassifier\n",
    "from sklearn.ensemble import RandomForestClassifier\n",
    "from sklearn.metrics import roc_curve, precision_score, recall_score, f1_score, roc_auc_score\n",
    "from sklearn.metrics import accuracy_score,confusion_matrix,classification_report,roc_curve,auc,RocCurveDisplay\n",
    "from sklearn.model_selection import cross_val_score\n",
    "\n",
    "pd.set_option('display.max_rows', None)\n",
    "pd.set_option('display.max_columns', None)\n",
    "warnings.filterwarnings('ignore')\n",
    "%matplotlib inline"
   ]
  },
  {
   "cell_type": "code",
   "execution_count": 3,
   "id": "d5cc8e57",
   "metadata": {},
   "outputs": [],
   "source": [
    "#Reading data\n",
    "data = pd.read_csv('online_shoppers_intention.csv')"
   ]
  },
  {
   "cell_type": "code",
   "execution_count": 4,
   "id": "9440bc64",
   "metadata": {},
   "outputs": [
    {
     "data": {
      "text/html": [
       "<div>\n",
       "<style scoped>\n",
       "    .dataframe tbody tr th:only-of-type {\n",
       "        vertical-align: middle;\n",
       "    }\n",
       "\n",
       "    .dataframe tbody tr th {\n",
       "        vertical-align: top;\n",
       "    }\n",
       "\n",
       "    .dataframe thead th {\n",
       "        text-align: right;\n",
       "    }\n",
       "</style>\n",
       "<table border=\"1\" class=\"dataframe\">\n",
       "  <thead>\n",
       "    <tr style=\"text-align: right;\">\n",
       "      <th></th>\n",
       "      <th>Administrative</th>\n",
       "      <th>Administrative_Duration</th>\n",
       "      <th>Informational</th>\n",
       "      <th>Informational_Duration</th>\n",
       "      <th>ProductRelated</th>\n",
       "      <th>ProductRelated_Duration</th>\n",
       "      <th>BounceRates</th>\n",
       "      <th>ExitRates</th>\n",
       "      <th>PageValues</th>\n",
       "      <th>SpecialDay</th>\n",
       "      <th>Month</th>\n",
       "      <th>OperatingSystems</th>\n",
       "      <th>Browser</th>\n",
       "      <th>Region</th>\n",
       "      <th>TrafficType</th>\n",
       "      <th>VisitorType</th>\n",
       "      <th>Weekend</th>\n",
       "      <th>Revenue</th>\n",
       "    </tr>\n",
       "  </thead>\n",
       "  <tbody>\n",
       "    <tr>\n",
       "      <th>0</th>\n",
       "      <td>0</td>\n",
       "      <td>0.0</td>\n",
       "      <td>0</td>\n",
       "      <td>0.0</td>\n",
       "      <td>1</td>\n",
       "      <td>0.000000</td>\n",
       "      <td>0.20</td>\n",
       "      <td>0.20</td>\n",
       "      <td>0.0</td>\n",
       "      <td>0.0</td>\n",
       "      <td>Feb</td>\n",
       "      <td>1</td>\n",
       "      <td>1</td>\n",
       "      <td>1</td>\n",
       "      <td>1</td>\n",
       "      <td>Returning_Visitor</td>\n",
       "      <td>False</td>\n",
       "      <td>False</td>\n",
       "    </tr>\n",
       "    <tr>\n",
       "      <th>1</th>\n",
       "      <td>0</td>\n",
       "      <td>0.0</td>\n",
       "      <td>0</td>\n",
       "      <td>0.0</td>\n",
       "      <td>2</td>\n",
       "      <td>64.000000</td>\n",
       "      <td>0.00</td>\n",
       "      <td>0.10</td>\n",
       "      <td>0.0</td>\n",
       "      <td>0.0</td>\n",
       "      <td>Feb</td>\n",
       "      <td>2</td>\n",
       "      <td>2</td>\n",
       "      <td>1</td>\n",
       "      <td>2</td>\n",
       "      <td>Returning_Visitor</td>\n",
       "      <td>False</td>\n",
       "      <td>False</td>\n",
       "    </tr>\n",
       "    <tr>\n",
       "      <th>2</th>\n",
       "      <td>0</td>\n",
       "      <td>0.0</td>\n",
       "      <td>0</td>\n",
       "      <td>0.0</td>\n",
       "      <td>1</td>\n",
       "      <td>0.000000</td>\n",
       "      <td>0.20</td>\n",
       "      <td>0.20</td>\n",
       "      <td>0.0</td>\n",
       "      <td>0.0</td>\n",
       "      <td>Feb</td>\n",
       "      <td>4</td>\n",
       "      <td>1</td>\n",
       "      <td>9</td>\n",
       "      <td>3</td>\n",
       "      <td>Returning_Visitor</td>\n",
       "      <td>False</td>\n",
       "      <td>False</td>\n",
       "    </tr>\n",
       "    <tr>\n",
       "      <th>3</th>\n",
       "      <td>0</td>\n",
       "      <td>0.0</td>\n",
       "      <td>0</td>\n",
       "      <td>0.0</td>\n",
       "      <td>2</td>\n",
       "      <td>2.666667</td>\n",
       "      <td>0.05</td>\n",
       "      <td>0.14</td>\n",
       "      <td>0.0</td>\n",
       "      <td>0.0</td>\n",
       "      <td>Feb</td>\n",
       "      <td>3</td>\n",
       "      <td>2</td>\n",
       "      <td>2</td>\n",
       "      <td>4</td>\n",
       "      <td>Returning_Visitor</td>\n",
       "      <td>False</td>\n",
       "      <td>False</td>\n",
       "    </tr>\n",
       "    <tr>\n",
       "      <th>4</th>\n",
       "      <td>0</td>\n",
       "      <td>0.0</td>\n",
       "      <td>0</td>\n",
       "      <td>0.0</td>\n",
       "      <td>10</td>\n",
       "      <td>627.500000</td>\n",
       "      <td>0.02</td>\n",
       "      <td>0.05</td>\n",
       "      <td>0.0</td>\n",
       "      <td>0.0</td>\n",
       "      <td>Feb</td>\n",
       "      <td>3</td>\n",
       "      <td>3</td>\n",
       "      <td>1</td>\n",
       "      <td>4</td>\n",
       "      <td>Returning_Visitor</td>\n",
       "      <td>True</td>\n",
       "      <td>False</td>\n",
       "    </tr>\n",
       "  </tbody>\n",
       "</table>\n",
       "</div>"
      ],
      "text/plain": [
       "   Administrative  Administrative_Duration  Informational   \n",
       "0               0                      0.0              0  \\\n",
       "1               0                      0.0              0   \n",
       "2               0                      0.0              0   \n",
       "3               0                      0.0              0   \n",
       "4               0                      0.0              0   \n",
       "\n",
       "   Informational_Duration  ProductRelated  ProductRelated_Duration   \n",
       "0                     0.0               1                 0.000000  \\\n",
       "1                     0.0               2                64.000000   \n",
       "2                     0.0               1                 0.000000   \n",
       "3                     0.0               2                 2.666667   \n",
       "4                     0.0              10               627.500000   \n",
       "\n",
       "   BounceRates  ExitRates  PageValues  SpecialDay Month  OperatingSystems   \n",
       "0         0.20       0.20         0.0         0.0   Feb                 1  \\\n",
       "1         0.00       0.10         0.0         0.0   Feb                 2   \n",
       "2         0.20       0.20         0.0         0.0   Feb                 4   \n",
       "3         0.05       0.14         0.0         0.0   Feb                 3   \n",
       "4         0.02       0.05         0.0         0.0   Feb                 3   \n",
       "\n",
       "   Browser  Region  TrafficType        VisitorType  Weekend  Revenue  \n",
       "0        1       1            1  Returning_Visitor    False    False  \n",
       "1        2       1            2  Returning_Visitor    False    False  \n",
       "2        1       9            3  Returning_Visitor    False    False  \n",
       "3        2       2            4  Returning_Visitor    False    False  \n",
       "4        3       1            4  Returning_Visitor     True    False  "
      ]
     },
     "execution_count": 4,
     "metadata": {},
     "output_type": "execute_result"
    }
   ],
   "source": [
    "#Fatchiing 1st 5 rows of data\n",
    "data.head()"
   ]
  },
  {
   "cell_type": "code",
   "execution_count": 5,
   "id": "aa8bc7dd",
   "metadata": {},
   "outputs": [
    {
     "data": {
      "text/plain": [
       "(12330, 18)"
      ]
     },
     "execution_count": 5,
     "metadata": {},
     "output_type": "execute_result"
    }
   ],
   "source": [
    "data.shape"
   ]
  },
  {
   "cell_type": "code",
   "execution_count": 6,
   "id": "6735c2cf",
   "metadata": {},
   "outputs": [
    {
     "name": "stdout",
     "output_type": "stream",
     "text": [
      "<class 'pandas.core.frame.DataFrame'>\n",
      "RangeIndex: 12330 entries, 0 to 12329\n",
      "Data columns (total 18 columns):\n",
      " #   Column                   Non-Null Count  Dtype  \n",
      "---  ------                   --------------  -----  \n",
      " 0   Administrative           12330 non-null  int64  \n",
      " 1   Administrative_Duration  12330 non-null  float64\n",
      " 2   Informational            12330 non-null  int64  \n",
      " 3   Informational_Duration   12330 non-null  float64\n",
      " 4   ProductRelated           12330 non-null  int64  \n",
      " 5   ProductRelated_Duration  12330 non-null  float64\n",
      " 6   BounceRates              12330 non-null  float64\n",
      " 7   ExitRates                12330 non-null  float64\n",
      " 8   PageValues               12330 non-null  float64\n",
      " 9   SpecialDay               12330 non-null  float64\n",
      " 10  Month                    12330 non-null  object \n",
      " 11  OperatingSystems         12330 non-null  int64  \n",
      " 12  Browser                  12330 non-null  int64  \n",
      " 13  Region                   12330 non-null  int64  \n",
      " 14  TrafficType              12330 non-null  int64  \n",
      " 15  VisitorType              12330 non-null  object \n",
      " 16  Weekend                  12330 non-null  bool   \n",
      " 17  Revenue                  12330 non-null  bool   \n",
      "dtypes: bool(2), float64(7), int64(7), object(2)\n",
      "memory usage: 1.5+ MB\n"
     ]
    }
   ],
   "source": [
    "#Brief info about data\n",
    "data.info()"
   ]
  },
  {
   "cell_type": "markdown",
   "id": "0573d8d2",
   "metadata": {},
   "source": [
    "### Missing value detection"
   ]
  },
  {
   "cell_type": "code",
   "execution_count": 7,
   "id": "4d7cf66b",
   "metadata": {
    "scrolled": true
   },
   "outputs": [
    {
     "data": {
      "text/plain": [
       "Administrative             0\n",
       "Administrative_Duration    0\n",
       "Informational              0\n",
       "Informational_Duration     0\n",
       "ProductRelated             0\n",
       "ProductRelated_Duration    0\n",
       "BounceRates                0\n",
       "ExitRates                  0\n",
       "PageValues                 0\n",
       "SpecialDay                 0\n",
       "Month                      0\n",
       "OperatingSystems           0\n",
       "Browser                    0\n",
       "Region                     0\n",
       "TrafficType                0\n",
       "VisitorType                0\n",
       "Weekend                    0\n",
       "Revenue                    0\n",
       "dtype: int64"
      ]
     },
     "execution_count": 7,
     "metadata": {},
     "output_type": "execute_result"
    }
   ],
   "source": [
    "data.isna().sum()"
   ]
  },
  {
   "cell_type": "code",
   "execution_count": 8,
   "id": "aced3796",
   "metadata": {},
   "outputs": [
    {
     "data": {
      "text/plain": [
       "125"
      ]
     },
     "execution_count": 8,
     "metadata": {},
     "output_type": "execute_result"
    }
   ],
   "source": [
    "#Checking if there any duplicated value\n",
    "data.duplicated().sum()"
   ]
  },
  {
   "cell_type": "markdown",
   "id": "6023d15a",
   "metadata": {},
   "source": [
    "There is 1125 duplicate values."
   ]
  },
  {
   "cell_type": "code",
   "execution_count": 9,
   "id": "33073c41",
   "metadata": {},
   "outputs": [],
   "source": [
    "#Creating a copy of original dataframe\n",
    "df = data.copy()"
   ]
  },
  {
   "cell_type": "code",
   "execution_count": 10,
   "id": "5469294a",
   "metadata": {},
   "outputs": [],
   "source": [
    "# Remove duplicates in-place\n",
    "df.drop_duplicates(inplace=True)"
   ]
  },
  {
   "cell_type": "code",
   "execution_count": 11,
   "id": "982fb832",
   "metadata": {},
   "outputs": [
    {
     "data": {
      "text/plain": [
       "0"
      ]
     },
     "execution_count": 11,
     "metadata": {},
     "output_type": "execute_result"
    }
   ],
   "source": [
    "df.duplicated().sum()"
   ]
  },
  {
   "cell_type": "code",
   "execution_count": 12,
   "id": "40f87160",
   "metadata": {},
   "outputs": [],
   "source": [
    "#all numerical columns\n",
    "numerical_col = ['Administrative',\n",
    " 'Administrative_Duration',\n",
    " 'Informational',\n",
    " 'Informational_Duration',\n",
    " 'ProductRelated',\n",
    " 'ProductRelated_Duration',\n",
    " 'BounceRates',\n",
    " 'ExitRates',\n",
    " 'PageValues',\n",
    " 'SpecialDay',\n",
    " 'OperatingSystems',\n",
    " 'Browser',\n",
    " 'Region',\n",
    " 'TrafficType']"
   ]
  },
  {
   "cell_type": "code",
   "execution_count": 13,
   "id": "3aff5d9e",
   "metadata": {},
   "outputs": [
    {
     "data": {
      "text/plain": [
       "['Month', 'VisitorType']"
      ]
     },
     "execution_count": 13,
     "metadata": {},
     "output_type": "execute_result"
    }
   ],
   "source": [
    "#all Categorical columns\n",
    "categorical_col = [fea for fea in df.columns if df[fea].dtype == 'O']\n",
    "categorical_col"
   ]
  },
  {
   "cell_type": "markdown",
   "id": "7ba61ac7",
   "metadata": {},
   "source": [
    "### Outliers Detection"
   ]
  },
  {
   "cell_type": "code",
   "execution_count": 14,
   "id": "be2fddc8",
   "metadata": {},
   "outputs": [
    {
     "data": {
      "image/png": "[encoded data removed]",
      "text/plain": [
       "<Figure size 1440x2160 with 14 Axes>"
      ]
     },
     "metadata": {
      "needs_background": "light"
     },
     "output_type": "display_data"
    }
   ],
   "source": [
    "## Plot boxplots for each numerical column\n",
    "\n",
    "fig = plt.figure(figsize=[20,30])\n",
    "for i ,col in enumerate(numerical_col):  \n",
    "    ax1 = fig.add_subplot(7,2, i+1);\n",
    "    ax1 = sns.boxplot(data = df, x=col)"
   ]
  },
  {
   "cell_type": "markdown",
   "id": "5fa5d3c2",
   "metadata": {},
   "source": [
    "There are lots of outliers preesnt. I need to handle these for model building."
   ]
  },
  {
   "cell_type": "code",
   "execution_count": 15,
   "id": "6462582e",
   "metadata": {},
   "outputs": [
    {
     "data": {
      "text/plain": [
       "Administrative               int64\n",
       "Administrative_Duration    float64\n",
       "Informational                int64\n",
       "Informational_Duration     float64\n",
       "ProductRelated               int64\n",
       "ProductRelated_Duration    float64\n",
       "BounceRates                float64\n",
       "ExitRates                  float64\n",
       "PageValues                 float64\n",
       "SpecialDay                 float64\n",
       "Month                       object\n",
       "OperatingSystems             int64\n",
       "Browser                      int64\n",
       "Region                       int64\n",
       "TrafficType                  int64\n",
       "VisitorType                 object\n",
       "Weekend                       bool\n",
       "Revenue                       bool\n",
       "dtype: object"
      ]
     },
     "execution_count": 15,
     "metadata": {},
     "output_type": "execute_result"
    }
   ],
   "source": [
    "df.dtypes"
   ]
  },
  {
   "cell_type": "code",
   "execution_count": 16,
   "id": "cab48244",
   "metadata": {},
   "outputs": [
    {
     "name": "stdout",
     "output_type": "stream",
     "text": [
      "Administrative [ 0  1  2  4 12  3 10  6  5  9  8 16 13 11  7 18 14 17 19 15 24 22 21 20\n",
      " 23 27 26]\n",
      "Administrative_Duration [  0.         53.         64.6       ... 167.9107143 305.125\n",
      " 150.3571429]\n",
      "Informational [ 0  1  2  4 16  5  3 14  6 12  7  9 10  8 11 24 13]\n",
      "Informational_Duration [  0.   120.    16.   ... 547.75 368.25 211.25]\n",
      "ProductRelated [  1   2  10  19   0   3  16   7   6  23  13  20   8   5  32   4  45  14\n",
      "  52   9  46  15  22  11  12  36  42  27  90  18  38  17 128  25  30  21\n",
      "  51  26  28  31  24  50  96  49  68  98  67  55  35  37  29  34  71  63\n",
      "  87  40  33  54  64  75  39 111  81  61  47  44  88 149  41  79  66  43\n",
      " 258  80  62  83 173  48  58  57  56  69  82  59 109 287  53  84  78 137\n",
      " 113  89  65  60 104 129  77  74  93  76  72 194 140 110 132 115  73 328\n",
      " 160  86 150  95 130 151 117 124 127 125 116 105  92 157 154 220 187 112\n",
      " 131 159  94 204 142 206 102 313 145  85  97 198 181 126 106 101 108 119\n",
      "  70 122  91 276 100 291 114 172 217 141 133 156 136 180 135 195  99 362\n",
      " 179 118 175 148 440 103 178 184 705 134 176 146 189 120 193 222 121 107\n",
      " 305 199 439 223 230 280 377 310 158 486 153 139 182 221 229 216 170 202\n",
      " 346 274 240 162 123 211 227 168 161 429 686 167 518 256 255 358 213 191\n",
      " 282 155 138 246 237 271 171 414 219 262 409 243 241 197 449 143 188 391\n",
      " 238 152 165 293 174 584 164 311 340 250 200 385 292 232 251 517 225 169\n",
      " 309 235 501 224 275 318 144 397 343 245 186 337 351 166 349 423 359 163\n",
      " 147 264 312 226 324 266 260 338 272 534 470 207 218 326 190 304 205 233\n",
      " 401 177 330 286 247 357 315 231 339 283 374 248 279 281 234 261 290 336\n",
      " 378 254 183 210 192]\n",
      "ProductRelated_Duration [  0.          64.           2.66666667 ... 465.75       184.25\n",
      " 346.        ]\n",
      "BounceRates [0.2        0.         0.05       ... 0.00382775 0.00086956 0.01114899]\n",
      "ExitRates [0.2        0.1        0.14       ... 0.01276133 0.01395349 0.02903061]\n",
      "PageValues [ 0.         54.17976426 19.44707913 ... 78.81172527  3.68540082\n",
      " 12.24171745]\n",
      "SpecialDay [0.  0.4 0.8 1.  0.2 0.6]\n",
      "Month ['Feb' 'Mar' 'May' 'Oct' 'June' 'Jul' 'Aug' 'Nov' 'Sep' 'Dec']\n",
      "OperatingSystems [1 2 4 3 7 6 8 5]\n",
      "Browser [ 1  2  3  4  5  6  7 10  8  9 12 13 11]\n",
      "Region [1 9 2 3 4 5 6 7 8]\n",
      "TrafficType [ 1  2  3  4  5  6  7  8  9 10 11 12 13 14 15 18 19 16 17 20]\n",
      "VisitorType ['Returning_Visitor' 'New_Visitor' 'Other']\n",
      "Weekend [False  True]\n",
      "Revenue [False  True]\n"
     ]
    }
   ],
   "source": [
    "for col in df.columns:\n",
    "    print(col, df[col].unique())"
   ]
  },
  {
   "cell_type": "code",
   "execution_count": 17,
   "id": "b526bd01",
   "metadata": {},
   "outputs": [
    {
     "data": {
      "text/plain": [
       "<Axes: xlabel='Revenue', ylabel='count'>"
      ]
     },
     "execution_count": 17,
     "metadata": {},
     "output_type": "execute_result"
    },
    {
     "data": {
      "image/png": "[encoded data removed]",
      "text/plain": [
       "<Figure size 576x360 with 1 Axes>"
      ]
     },
     "metadata": {
      "needs_background": "light"
     },
     "output_type": "display_data"
    }
   ],
   "source": [
    "plt.figure(figsize=(8, 5))\n",
    "sns.countplot(data=df, x='Revenue', hue='Weekend',palette='Blues')"
   ]
  },
  {
   "cell_type": "code",
   "execution_count": 18,
   "id": "f343ab2a",
   "metadata": {},
   "outputs": [],
   "source": [
    "# <!-- monthly = df['Month'].value_counts()\n",
    "\n",
    "# sns.countplot(df['Month'], order=monthly.index)\n",
    "# plt.title('Entries per Month', fontsize=15)\n",
    "# xval = -.42\n",
    "# plt.ylim(0,4000)\n",
    "\n",
    "# for index, value in monthly.items():\n",
    "#     plt.text(x=xval, y=value+50, s=str(value))\n",
    "#     xval += 1.02 -->"
   ]
  },
  {
   "cell_type": "code",
   "execution_count": 19,
   "id": "cad3106c",
   "metadata": {},
   "outputs": [
    {
     "data": {
      "text/plain": [
       "<Axes: xlabel='Month', ylabel='count'>"
      ]
     },
     "execution_count": 19,
     "metadata": {},
     "output_type": "execute_result"
    },
    {
     "data": {
      "image/png": "[encoded data removed]",
      "text/plain": [
       "<Figure size 1080x576 with 1 Axes>"
      ]
     },
     "metadata": {
      "needs_background": "light"
     },
     "output_type": "display_data"
    }
   ],
   "source": [
    "plt.figure(figsize=(15, 8))\n",
    "sns.countplot(data=df, x='Month', hue='Revenue',palette='rocket')\n",
    "#Revenue 0 for False and 1 for True"
   ]
  },
  {
   "cell_type": "code",
   "execution_count": 20,
   "id": "959b0c36",
   "metadata": {
    "scrolled": false
   },
   "outputs": [
    {
     "data": {
      "text/plain": [
       "<Axes: xlabel='VisitorType', ylabel='count'>"
      ]
     },
     "execution_count": 20,
     "metadata": {},
     "output_type": "execute_result"
    },
    {
     "data": {
      "image/png": "[encoded data removed]",
      "text/plain": [
       "<Figure size 720x432 with 1 Axes>"
      ]
     },
     "metadata": {
      "needs_background": "light"
     },
     "output_type": "display_data"
    }
   ],
   "source": [
    "plt.figure(figsize=(10, 6))\n",
    "sns.countplot(data=df, x='VisitorType', hue='Revenue',palette='viridis')"
   ]
  },
  {
   "cell_type": "code",
   "execution_count": 21,
   "id": "926a113a",
   "metadata": {},
   "outputs": [
    {
     "data": {
      "text/plain": [
       "<Axes: xlabel='Revenue', ylabel='count'>"
      ]
     },
     "execution_count": 21,
     "metadata": {},
     "output_type": "execute_result"
    },
    {
     "data": {
      "image/png": "[encoded data removed]",
      "text/plain": [
       "<Figure size 432x288 with 1 Axes>"
      ]
     },
     "metadata": {
      "needs_background": "light"
     },
     "output_type": "display_data"
    }
   ],
   "source": [
    "sns.countplot(data=df,x='Revenue', palette='magma')"
   ]
  },
  {
   "cell_type": "code",
   "execution_count": 22,
   "id": "8488656c",
   "metadata": {
    "scrolled": true
   },
   "outputs": [
    {
     "data": {
      "text/plain": [
       "<Axes: xlabel='Weekend', ylabel='count'>"
      ]
     },
     "execution_count": 22,
     "metadata": {},
     "output_type": "execute_result"
    },
    {
     "data": {
      "image/png": "[encoded data removed]",
      "text/plain": [
       "<Figure size 432x288 with 1 Axes>"
      ]
     },
     "metadata": {
      "needs_background": "light"
     },
     "output_type": "display_data"
    }
   ],
   "source": [
    "sns.countplot(data=df,x='Weekend')"
   ]
  },
  {
   "cell_type": "markdown",
   "id": "39e0c287",
   "metadata": {},
   "source": []
  },
  {
   "cell_type": "markdown",
   "id": "df11fe20",
   "metadata": {},
   "source": [
    "##### Weekend feture is the target feture but it is imbalaced."
   ]
  },
  {
   "cell_type": "markdown",
   "id": "3d2d476b",
   "metadata": {},
   "source": [
    "### Transformation categorical data into numerical"
   ]
  },
  {
   "cell_type": "code",
   "execution_count": 23,
   "id": "9431e528",
   "metadata": {},
   "outputs": [],
   "source": [
    "#Converting all categorical fetures into numerical by labelencoding\n",
    "\n",
    "col_for_encode = ['Month','VisitorType','Weekend', 'Revenue']\n",
    "lblEn = LabelEncoder()\n",
    "\n",
    "for col in col_for_encode:\n",
    "    df[col] = lblEn.fit_transform(df[col])"
   ]
  },
  {
   "cell_type": "markdown",
   "id": "ca4ff4af",
   "metadata": {},
   "source": [
    "### Handling Outliers"
   ]
  },
  {
   "cell_type": "code",
   "execution_count": 24,
   "id": "67595936",
   "metadata": {},
   "outputs": [],
   "source": [
    "#Calculate the median\n",
    "# median = df[numerical_col].median()\n",
    "\n",
    "# # Replace outliers with median\n",
    "# df[numerical_col] = np.where((df[numerical_col] < median - 1.5 * (df[numerical_col].quantile(0.75) - df[numerical_col].quantile(0.25))) |\n",
    "#                         (df[numerical_col] > median + 1.5 * (df[numerical_col].quantile(0.75) - df[numerical_col].quantile(0.25))),\n",
    "#                         median, df[numerical_col])"
   ]
  },
  {
   "cell_type": "code",
   "execution_count": 25,
   "id": "80690f63",
   "metadata": {},
   "outputs": [
    {
     "data": {
      "text/plain": [
       "(12205, 18)"
      ]
     },
     "execution_count": 25,
     "metadata": {},
     "output_type": "execute_result"
    }
   ],
   "source": [
    "df.shape"
   ]
  },
  {
   "cell_type": "code",
   "execution_count": 26,
   "id": "82c174fd",
   "metadata": {},
   "outputs": [],
   "source": [
    "# Calculate IQR for numerical columns\n",
    "# Q1 = df[numerical_col].quantile(0.25)\n",
    "# Q3 = df[numerical_col].quantile(0.75)\n",
    "# IQR = Q3 - Q1\n",
    "\n",
    "# # Remove data points outside the lower and upper bounds\n",
    "# lower_bound = Q1 - 1.5 * IQR\n",
    "# upper_bound = Q3 + 1.5 * IQR\n",
    "# df = df[~((df[numerical_col] < lower_bound) | (df[numerical_col] > upper_bound)).any(axis=1)]"
   ]
  },
  {
   "cell_type": "code",
   "execution_count": 27,
   "id": "67e6cff6",
   "metadata": {},
   "outputs": [
    {
     "data": {
      "text/plain": [
       "(12205, 18)"
      ]
     },
     "execution_count": 27,
     "metadata": {},
     "output_type": "execute_result"
    }
   ],
   "source": [
    "df.shape"
   ]
  },
  {
   "cell_type": "code",
   "execution_count": 28,
   "id": "93a7ea8d",
   "metadata": {},
   "outputs": [],
   "source": [
    "# \n",
    "# X = df.drop('Weekend', axis=1)\n",
    "# Y = df['Weekend']"
   ]
  },
  {
   "cell_type": "code",
   "execution_count": 29,
   "id": "28e1f094",
   "metadata": {},
   "outputs": [],
   "source": [
    "# X_normalized = (X-X.mean())/X.std()"
   ]
  },
  {
   "cell_type": "code",
   "execution_count": 30,
   "id": "b5071e0e",
   "metadata": {},
   "outputs": [],
   "source": [
    "# # IQR\n",
    "# # Find Q1, Q3\n",
    "# # 1.\n",
    "# Q1 = np.percentile(X , 25)\n",
    "# Q3 = np.percentile(X , 75)\n",
    "\n",
    "# # 2.\n",
    "# Q1,Q3 = np.percentile(X , [25,75])\n",
    "\n",
    "# # Find IQR, upper limit, lower limit\n",
    "# IQR = Q3 - Q1\n",
    "# ul = Q3+1.5*IQR\n",
    "# ll = Q1-1.5*IQR\n",
    "\n",
    "# # Find outliers\n",
    "# outliers = X[(X > ul) | (X < ll)]"
   ]
  },
  {
   "cell_type": "code",
   "execution_count": 31,
   "id": "96ee6c56",
   "metadata": {},
   "outputs": [],
   "source": [
    "# We can also count the outliers per column:\n",
    "# outliers.count()"
   ]
  },
  {
   "cell_type": "code",
   "execution_count": 32,
   "id": "dd3f0617",
   "metadata": {},
   "outputs": [],
   "source": [
    "lower_percentile = 5\n",
    "upper_percentile = 95\n",
    "\n",
    "# Calculate lower and upper bounds based on percentiles\n",
    "lower_bound = df[numerical_col].quantile(lower_percentile / 100)\n",
    "upper_bound = df[numerical_col].quantile(upper_percentile / 100)\n",
    "\n",
    "# Replace values below lower percentile with lower bound and values above upper percentile with upper bound\n",
    "df[numerical_col] = np.where(df[numerical_col] < lower_bound, lower_bound, df[numerical_col])\n",
    "df[numerical_col] = np.where(df[numerical_col] > upper_bound, upper_bound, df[numerical_col])"
   ]
  },
  {
   "cell_type": "code",
   "execution_count": 33,
   "id": "f978841e",
   "metadata": {},
   "outputs": [
    {
     "data": {
      "image/png": "[encoded data removed]",
      "text/plain": [
       "<Figure size 1440x2160 with 14 Axes>"
      ]
     },
     "metadata": {
      "needs_background": "light"
     },
     "output_type": "display_data"
    }
   ],
   "source": [
    "#Visualization After Handling Outliers\n",
    "fig = plt.figure(figsize=[20,30])\n",
    "for i ,col in enumerate(numerical_col):  \n",
    "    ax1 = fig.add_subplot(7,2, i+1);\n",
    "    ax1 = sns.boxplot(data = df, x=col)"
   ]
  },
  {
   "cell_type": "code",
   "execution_count": 34,
   "id": "91c050ae",
   "metadata": {},
   "outputs": [
    {
     "name": "stdout",
     "output_type": "stream",
     "text": [
      "[0. 1. 2. 3.]\n",
      "[  0.         120.          16.          94.          93.\n",
      "  75.          19.          22.         199.         153.\n",
      "  48.5         51.           3.         144.         125.\n",
      " 127.          84.          21.5        100.          64.\n",
      "  47.          70.          14.33333333  24.          40.\n",
      " 136.         116.          18.         155.5          9.\n",
      "  60.          28.         142.          18.5         39.\n",
      "   4.         132.          57.          14.         148.5\n",
      "  71.          28.5         90.          15.         125.0952381\n",
      " 103.         147.8666667   41.          53.         126.\n",
      "  77.          54.          40.66666667  23.          29.5\n",
      "  75.25       122.          60.5         81.         162.\n",
      "  30.         104.          17.          88.          26.\n",
      "  76.5         50.          13.          20.          74.75\n",
      " 102.         109.75        84.5         75.5        158.\n",
      "  32.          44.5         92.          81.33333333  32.5\n",
      "  52.25       123.3333333  125.5         87.          61.\n",
      "  63.          94.5         36.33333333  45.         138.5\n",
      "  56.          29.           8.         171.5         37.\n",
      "  62.          42.          17.66666667 109.          80.5\n",
      "  35.         105.6666667   33.          55.          73.\n",
      "   7.          58.          46.          21.          83.\n",
      " 139.         101.         141.         186.          23.5\n",
      "   9.5         20.5         67.         105.          34.\n",
      "  58.16666667  31.          65.          52.33333333 123.5\n",
      "  12.          11.         108.          78.           1.\n",
      "  44.          41.5        193.         146.          49.\n",
      " 111.         100.25        88.58333333 119.         168.8333333\n",
      " 175.5         25.         164.           2.         172.\n",
      "  65.5          5.5         89.33333333  72.83333333 166.\n",
      " 117.2857143  156.          13.5         48.          29.66666667\n",
      "  70.5        135.5         46.66666667  91.          97.\n",
      " 118.         144.5         89.5         80.         115.\n",
      "  58.95238095 191.         163.         188.          66.\n",
      "  49.5        161.         132.8333333   56.5         89.\n",
      "  52.          39.66666667  10.66666667 106.          10.\n",
      " 154.         140.           6.          17.33333333 112.\n",
      " 189.         124.          27.5         72.         141.1666667\n",
      " 113.         114.         168.5        173.         135.\n",
      " 165.         189.5         81.5        147.1666667    3.5\n",
      " 149.          10.16666667  27.          26.66666667 196.\n",
      "  59.5        193.25        76.          62.5        107.\n",
      " 104.5         93.66666667  10.5         38.5         69.\n",
      "  68.           1.5        111.5         86.          85.\n",
      " 134.         181.7222222  120.6666667  171.         134.3333333\n",
      "  37.5        101.5          2.5        140.8333333  176.\n",
      "  47.66666667 161.5          9.30769231  74.         148.\n",
      "  82.         194.         114.5        151.          30.66666667\n",
      "  11.5        160.5        151.6666667  163.6666667  136.75\n",
      " 129.          83.5          5.          53.5         99.\n",
      "  43.66666667  55.5         26.75        25.5        131.\n",
      " 153.5         22.5         36.          43.          95.\n",
      "  92.5        157.          75.66666667  72.5         38.\n",
      "  58.5        103.1666667   62.33333333  61.5         37.4\n",
      " 178.          96.33333333 187.          16.5         99.5\n",
      " 110.         194.5         79.         120.8         80.6\n",
      " 102.8         42.2         14.2         88.6         33.2\n",
      "  31.2        191.8666667   28.2         69.6        118.1\n",
      "  45.26666667 152.2         95.65        38.2         90.2\n",
      "  99.6         28.7         86.6         10.06666667  54.4\n",
      "  52.4         36.2          7.6         32.2         50.2\n",
      " 102.75        37.2         36.6         97.8        106.8\n",
      "  15.1         19.2         42.4        169.2         34.4\n",
      "  21.2         26.7         65.4         25.2        165.6666667\n",
      "  16.2         22.2         38.3        168.2        110.8666667\n",
      "  89.1        133.         103.8         76.6        100.8\n",
      " 115.8         17.72       140.5        101.7         35.7\n",
      "  53.2         99.8        189.3         63.4         59.4\n",
      "  64.4         63.1         43.2         66.4         13.4\n",
      "  35.2        173.2         16.6        160.4         14.8\n",
      " 183.2666667   84.8        179.5        112.6         18.4\n",
      "   6.5         18.2         43.4         44.4         29.2\n",
      "  28.4         26.2        112.8         27.6        100.2\n",
      "  91.2         34.3        186.5         39.4         12.5\n",
      "  72.6         37.3         67.4         69.4         97.64\n",
      "  17.2         85.14        96.8        108.3        141.88\n",
      " 105.1333333   94.8         51.4        105.8        173.54\n",
      " 144.2         13.1         11.4         16.13333333 148.1\n",
      "  40.8         49.4         92.33333333  98.8        194.4\n",
      "   8.1         53.4         24.7        189.4        113.8\n",
      "  49.3         30.2         48.3         41.2         66.13333333\n",
      "  62.6        137.         186.2333333   93.6        183.8\n",
      "  92.3         56.9        108.8        174.7         20.2\n",
      "  31.7        101.8         87.6         70.6         92.7\n",
      " 114.2         89.53333333  34.2         47.4         34.8\n",
      "  22.13333333  56.4         62.4         68.4         15.2\n",
      " 137.8166667   47.64       136.1714286  161.9666667   23.53333333\n",
      "  26.1        195.4         14.6         21.6         99.7\n",
      " 181.95       123.          32.7        177.8        108.9\n",
      "  73.6         24.2         96.2        100.1        173.2333333\n",
      "  45.8         44.2        116.8         81.4        145.\n",
      " 124.2         41.6        124.8         58.4        182.2\n",
      " 109.8         48.35       114.8         55.4         39.2\n",
      "  71.1         88.9        102.3         40.02        87.7\n",
      " 118.8         49.73333333  30.26666667  74.5        124.2666667\n",
      "  20.6        124.9         11.1         22.6         27.2\n",
      "  46.4        141.2         62.8        145.1666667   33.3\n",
      " 155.5666667   23.2         74.6         68.5        111.9\n",
      "  34.6         21.8         68.2         18.46666667 129.75\n",
      "  38.9         61.6         79.7        130.76       105.95\n",
      "  96.7        145.6        104.8        191.9         60.3\n",
      "  30.7         39.68        19.6        118.75        26.5\n",
      "  96.         197.4166667   43.5         88.5         91.30357143\n",
      " 121.         121.625       57.5        193.5        164.5\n",
      " 126.75       147.5         63.5         65.75         6.33333333\n",
      "  91.5        150.5         50.5         27.75       126.5\n",
      " 139.5         36.5        155.3333333  167.1666667  156.75\n",
      "  51.5         15.75        32.75        80.16666667  36.25\n",
      " 141.5         30.5         52.5         34.25        24.5\n",
      "  94.875      134.5         64.5        192.25        46.5\n",
      " 132.6666667   97.66666667  67.5        110.75        72.125\n",
      " 103.5         13.83333333 121.5         92.16666667  33.75\n",
      " 143.75        50.83333333  69.5         77.91666667  45.75\n",
      "  39.5        138.          89.95454545 114.75       162.5\n",
      " 182.1666667  114.3333333   93.41666667 167.1428571  162.6666667\n",
      "  17.75       119.375       47.5        160.          45.5\n",
      "  43.33333333  98.66666667  54.5        166.5        191.3333333\n",
      "  40.5         35.5         86.75       181.         151.5\n",
      " 158.5        147.          31.5         39.25       103.75\n",
      "   7.66666667   8.5        178.5        137.5         14.75\n",
      " 195.          34.5        111.1666667  137.8333333   17.9\n",
      " 146.6666667  167.          66.5        128.         157.5\n",
      " 130.5166667   59.          79.5         84.25        77.95833333\n",
      " 182.8          8.16666667  28.75        78.5        121.25\n",
      "  62.75       136.5         47.75       176.5        174.\n",
      " 181.25       138.6666667   82.5        185.5        143.25\n",
      "  12.25        25.75        96.5         33.5        170.5833333\n",
      "  19.75       124.25       162.75       151.25        19.25\n",
      " 185.75       102.25       110.25        53.83333333  25.16666667\n",
      " 160.8333333  122.5        124.5        193.1666667   70.25\n",
      " 143.5         13.25       119.5        129.125      191.75\n",
      " 132.5        170.          38.25       141.75        70.875\n",
      " 118.5         46.25        71.25        62.25        29.75\n",
      "  23.75       117.         112.25        21.25        34.625\n",
      " 115.25       154.8333333   19.5         88.725      183.\n",
      " 138.75        66.875       98.         191.5833333   68.75\n",
      " 139.75        94.16666667 117.25        54.91666667 152.5\n",
      " 190.4166667  168.375       12.83333333 145.5        127.5\n",
      "  97.75        17.25       164.625      155.375      121.5833333\n",
      "  73.75       184.5        167.8         37.83333333 102.5\n",
      " 103.25       182.7916667   32.66666667 120.5         97.16666667]\n",
      "[1. 2. 3. 4. 5.]\n",
      "[0.  0.4 0.6 0.2]\n",
      "[ 0.         38.30145653 19.44707913 ...  1.58247315  3.68540082\n",
      " 12.24171745]\n",
      "[1. 2. 3.]\n"
     ]
    }
   ],
   "source": [
    "print(df.Informational.unique())\n",
    "print(df.Informational_Duration.unique())\n",
    "print(df.Browser.unique())\n",
    "print(df.SpecialDay.unique())\n",
    "print(df.PageValues.unique())\n",
    "print(df.OperatingSystems.unique())"
   ]
  },
  {
   "cell_type": "code",
   "execution_count": 35,
   "id": "491a641e",
   "metadata": {},
   "outputs": [
    {
     "name": "stdout",
     "output_type": "stream",
     "text": [
      "Browser\n",
      "2.0    7883\n",
      "1.0    2427\n",
      "5.0    1059\n",
      "4.0     731\n",
      "3.0     105\n",
      "Name: count, dtype: int64\n",
      "OperatingSystems\n",
      "2.0    6541\n",
      "3.0    3115\n",
      "1.0    2549\n",
      "Name: count, dtype: int64\n"
     ]
    }
   ],
   "source": [
    "print(df.Browser.value_counts())\n",
    "\n",
    "print(df.OperatingSystems.value_counts())"
   ]
  },
  {
   "cell_type": "code",
   "execution_count": 36,
   "id": "5239f5dd",
   "metadata": {},
   "outputs": [
    {
     "data": {
      "text/plain": [
       "(12330, 18)"
      ]
     },
     "execution_count": 36,
     "metadata": {},
     "output_type": "execute_result"
    }
   ],
   "source": [
    "data.shape"
   ]
  },
  {
   "cell_type": "code",
   "execution_count": 37,
   "id": "07d59344",
   "metadata": {
    "scrolled": true
   },
   "outputs": [
    {
     "data": {
      "text/plain": [
       "(12205, 18)"
      ]
     },
     "execution_count": 37,
     "metadata": {},
     "output_type": "execute_result"
    }
   ],
   "source": [
    "df.shape"
   ]
  },
  {
   "cell_type": "code",
   "execution_count": 38,
   "id": "a8403ec8",
   "metadata": {},
   "outputs": [],
   "source": [
    "#Dropping Some Unnecessary columns\n",
    "df.drop(['Informational', 'SpecialDay','PageValues', 'Browser', 'Informational_Duration'], axis=1, inplace=True)"
   ]
  },
  {
   "cell_type": "code",
   "execution_count": 39,
   "id": "9d8cf5d7",
   "metadata": {},
   "outputs": [
    {
     "data": {
      "text/plain": [
       "(12205, 13)"
      ]
     },
     "execution_count": 39,
     "metadata": {},
     "output_type": "execute_result"
    }
   ],
   "source": [
    "df.shape"
   ]
  },
  {
   "cell_type": "code",
   "execution_count": 40,
   "id": "a99a3603",
   "metadata": {
    "scrolled": false
   },
   "outputs": [
    {
     "data": {
      "text/plain": [
       "Administrative             float64\n",
       "Administrative_Duration    float64\n",
       "ProductRelated             float64\n",
       "ProductRelated_Duration    float64\n",
       "BounceRates                float64\n",
       "ExitRates                  float64\n",
       "Month                        int32\n",
       "OperatingSystems           float64\n",
       "Region                     float64\n",
       "TrafficType                float64\n",
       "VisitorType                  int32\n",
       "Weekend                      int64\n",
       "Revenue                      int64\n",
       "dtype: object"
      ]
     },
     "execution_count": 40,
     "metadata": {},
     "output_type": "execute_result"
    }
   ],
   "source": [
    "df.dtypes"
   ]
  },
  {
   "cell_type": "code",
   "execution_count": 41,
   "id": "6dadcc69",
   "metadata": {},
   "outputs": [
    {
     "data": {
      "text/html": [
       "<div>\n",
       "<style scoped>\n",
       "    .dataframe tbody tr th:only-of-type {\n",
       "        vertical-align: middle;\n",
       "    }\n",
       "\n",
       "    .dataframe tbody tr th {\n",
       "        vertical-align: top;\n",
       "    }\n",
       "\n",
       "    .dataframe thead th {\n",
       "        text-align: right;\n",
       "    }\n",
       "</style>\n",
       "<table border=\"1\" class=\"dataframe\">\n",
       "  <thead>\n",
       "    <tr style=\"text-align: right;\">\n",
       "      <th></th>\n",
       "      <th>Administrative</th>\n",
       "      <th>Administrative_Duration</th>\n",
       "      <th>ProductRelated</th>\n",
       "      <th>ProductRelated_Duration</th>\n",
       "      <th>BounceRates</th>\n",
       "      <th>ExitRates</th>\n",
       "      <th>Month</th>\n",
       "      <th>OperatingSystems</th>\n",
       "      <th>Region</th>\n",
       "      <th>TrafficType</th>\n",
       "      <th>VisitorType</th>\n",
       "      <th>Weekend</th>\n",
       "      <th>Revenue</th>\n",
       "    </tr>\n",
       "  </thead>\n",
       "  <tbody>\n",
       "    <tr>\n",
       "      <th>count</th>\n",
       "      <td>12205.000000</td>\n",
       "      <td>12205.000000</td>\n",
       "      <td>12205.000000</td>\n",
       "      <td>12205.000000</td>\n",
       "      <td>12205.000000</td>\n",
       "      <td>12205.000000</td>\n",
       "      <td>12205.000000</td>\n",
       "      <td>12205.000000</td>\n",
       "      <td>12205.000000</td>\n",
       "      <td>12205.000000</td>\n",
       "      <td>12205.000000</td>\n",
       "      <td>12205.000000</td>\n",
       "      <td>12205.000000</td>\n",
       "    </tr>\n",
       "    <tr>\n",
       "      <th>mean</th>\n",
       "      <td>2.175666</td>\n",
       "      <td>65.800317</td>\n",
       "      <td>28.633101</td>\n",
       "      <td>1058.834048</td>\n",
       "      <td>0.017949</td>\n",
       "      <td>0.040289</td>\n",
       "      <td>5.168046</td>\n",
       "      <td>2.046374</td>\n",
       "      <td>3.111921</td>\n",
       "      <td>3.942565</td>\n",
       "      <td>1.715936</td>\n",
       "      <td>0.234248</td>\n",
       "      <td>0.156329</td>\n",
       "    </tr>\n",
       "    <tr>\n",
       "      <th>std</th>\n",
       "      <td>2.815060</td>\n",
       "      <td>100.065274</td>\n",
       "      <td>29.200935</td>\n",
       "      <td>1181.878123</td>\n",
       "      <td>0.036000</td>\n",
       "      <td>0.041851</td>\n",
       "      <td>2.374071</td>\n",
       "      <td>0.679676</td>\n",
       "      <td>2.308037</td>\n",
       "      <td>3.592925</td>\n",
       "      <td>0.693425</td>\n",
       "      <td>0.423545</td>\n",
       "      <td>0.363182</td>\n",
       "    </tr>\n",
       "    <tr>\n",
       "      <th>min</th>\n",
       "      <td>0.000000</td>\n",
       "      <td>0.000000</td>\n",
       "      <td>2.000000</td>\n",
       "      <td>0.000000</td>\n",
       "      <td>0.000000</td>\n",
       "      <td>0.004545</td>\n",
       "      <td>0.000000</td>\n",
       "      <td>1.000000</td>\n",
       "      <td>1.000000</td>\n",
       "      <td>1.000000</td>\n",
       "      <td>0.000000</td>\n",
       "      <td>0.000000</td>\n",
       "      <td>0.000000</td>\n",
       "    </tr>\n",
       "    <tr>\n",
       "      <th>25%</th>\n",
       "      <td>0.000000</td>\n",
       "      <td>0.000000</td>\n",
       "      <td>8.000000</td>\n",
       "      <td>193.000000</td>\n",
       "      <td>0.000000</td>\n",
       "      <td>0.014231</td>\n",
       "      <td>5.000000</td>\n",
       "      <td>2.000000</td>\n",
       "      <td>1.000000</td>\n",
       "      <td>2.000000</td>\n",
       "      <td>2.000000</td>\n",
       "      <td>0.000000</td>\n",
       "      <td>0.000000</td>\n",
       "    </tr>\n",
       "    <tr>\n",
       "      <th>50%</th>\n",
       "      <td>1.000000</td>\n",
       "      <td>9.000000</td>\n",
       "      <td>18.000000</td>\n",
       "      <td>608.942857</td>\n",
       "      <td>0.002899</td>\n",
       "      <td>0.025000</td>\n",
       "      <td>6.000000</td>\n",
       "      <td>2.000000</td>\n",
       "      <td>3.000000</td>\n",
       "      <td>2.000000</td>\n",
       "      <td>2.000000</td>\n",
       "      <td>0.000000</td>\n",
       "      <td>0.000000</td>\n",
       "    </tr>\n",
       "    <tr>\n",
       "      <th>75%</th>\n",
       "      <td>4.000000</td>\n",
       "      <td>94.700000</td>\n",
       "      <td>38.000000</td>\n",
       "      <td>1477.154762</td>\n",
       "      <td>0.016667</td>\n",
       "      <td>0.048529</td>\n",
       "      <td>7.000000</td>\n",
       "      <td>3.000000</td>\n",
       "      <td>4.000000</td>\n",
       "      <td>4.000000</td>\n",
       "      <td>2.000000</td>\n",
       "      <td>0.000000</td>\n",
       "      <td>0.000000</td>\n",
       "    </tr>\n",
       "    <tr>\n",
       "      <th>max</th>\n",
       "      <td>9.000000</td>\n",
       "      <td>352.208095</td>\n",
       "      <td>110.000000</td>\n",
       "      <td>4312.956282</td>\n",
       "      <td>0.149333</td>\n",
       "      <td>0.173714</td>\n",
       "      <td>9.000000</td>\n",
       "      <td>3.000000</td>\n",
       "      <td>8.000000</td>\n",
       "      <td>13.000000</td>\n",
       "      <td>2.000000</td>\n",
       "      <td>1.000000</td>\n",
       "      <td>1.000000</td>\n",
       "    </tr>\n",
       "  </tbody>\n",
       "</table>\n",
       "</div>"
      ],
      "text/plain": [
       "       Administrative  Administrative_Duration  ProductRelated   \n",
       "count    12205.000000             12205.000000    12205.000000  \\\n",
       "mean         2.175666                65.800317       28.633101   \n",
       "std          2.815060               100.065274       29.200935   \n",
       "min          0.000000                 0.000000        2.000000   \n",
       "25%          0.000000                 0.000000        8.000000   \n",
       "50%          1.000000                 9.000000       18.000000   \n",
       "75%          4.000000                94.700000       38.000000   \n",
       "max          9.000000               352.208095      110.000000   \n",
       "\n",
       "       ProductRelated_Duration   BounceRates     ExitRates         Month   \n",
       "count             12205.000000  12205.000000  12205.000000  12205.000000  \\\n",
       "mean               1058.834048      0.017949      0.040289      5.168046   \n",
       "std                1181.878123      0.036000      0.041851      2.374071   \n",
       "min                   0.000000      0.000000      0.004545      0.000000   \n",
       "25%                 193.000000      0.000000      0.014231      5.000000   \n",
       "50%                 608.942857      0.002899      0.025000      6.000000   \n",
       "75%                1477.154762      0.016667      0.048529      7.000000   \n",
       "max                4312.956282      0.149333      0.173714      9.000000   \n",
       "\n",
       "       OperatingSystems        Region   TrafficType   VisitorType   \n",
       "count      12205.000000  12205.000000  12205.000000  12205.000000  \\\n",
       "mean           2.046374      3.111921      3.942565      1.715936   \n",
       "std            0.679676      2.308037      3.592925      0.693425   \n",
       "min            1.000000      1.000000      1.000000      0.000000   \n",
       "25%            2.000000      1.000000      2.000000      2.000000   \n",
       "50%            2.000000      3.000000      2.000000      2.000000   \n",
       "75%            3.000000      4.000000      4.000000      2.000000   \n",
       "max            3.000000      8.000000     13.000000      2.000000   \n",
       "\n",
       "            Weekend       Revenue  \n",
       "count  12205.000000  12205.000000  \n",
       "mean       0.234248      0.156329  \n",
       "std        0.423545      0.363182  \n",
       "min        0.000000      0.000000  \n",
       "25%        0.000000      0.000000  \n",
       "50%        0.000000      0.000000  \n",
       "75%        0.000000      0.000000  \n",
       "max        1.000000      1.000000  "
      ]
     },
     "execution_count": 41,
     "metadata": {},
     "output_type": "execute_result"
    }
   ],
   "source": [
    "df.describe()"
   ]
  },
  {
   "cell_type": "code",
   "execution_count": 42,
   "id": "31af1527",
   "metadata": {
    "scrolled": true
   },
   "outputs": [
    {
     "data": {
      "text/html": [
       "<div>\n",
       "<style scoped>\n",
       "    .dataframe tbody tr th:only-of-type {\n",
       "        vertical-align: middle;\n",
       "    }\n",
       "\n",
       "    .dataframe tbody tr th {\n",
       "        vertical-align: top;\n",
       "    }\n",
       "\n",
       "    .dataframe thead th {\n",
       "        text-align: right;\n",
       "    }\n",
       "</style>\n",
       "<table border=\"1\" class=\"dataframe\">\n",
       "  <thead>\n",
       "    <tr style=\"text-align: right;\">\n",
       "      <th></th>\n",
       "      <th>Administrative</th>\n",
       "      <th>Administrative_Duration</th>\n",
       "      <th>ProductRelated</th>\n",
       "      <th>ProductRelated_Duration</th>\n",
       "      <th>BounceRates</th>\n",
       "      <th>ExitRates</th>\n",
       "      <th>Month</th>\n",
       "      <th>OperatingSystems</th>\n",
       "      <th>Region</th>\n",
       "      <th>TrafficType</th>\n",
       "      <th>VisitorType</th>\n",
       "      <th>Weekend</th>\n",
       "      <th>Revenue</th>\n",
       "    </tr>\n",
       "  </thead>\n",
       "  <tbody>\n",
       "    <tr>\n",
       "      <th>0</th>\n",
       "      <td>0.0</td>\n",
       "      <td>0.0</td>\n",
       "      <td>2.0</td>\n",
       "      <td>0.000000</td>\n",
       "      <td>0.149333</td>\n",
       "      <td>0.173714</td>\n",
       "      <td>2</td>\n",
       "      <td>1.0</td>\n",
       "      <td>1.0</td>\n",
       "      <td>1.0</td>\n",
       "      <td>2</td>\n",
       "      <td>0</td>\n",
       "      <td>0</td>\n",
       "    </tr>\n",
       "    <tr>\n",
       "      <th>1</th>\n",
       "      <td>0.0</td>\n",
       "      <td>0.0</td>\n",
       "      <td>2.0</td>\n",
       "      <td>64.000000</td>\n",
       "      <td>0.000000</td>\n",
       "      <td>0.100000</td>\n",
       "      <td>2</td>\n",
       "      <td>2.0</td>\n",
       "      <td>1.0</td>\n",
       "      <td>2.0</td>\n",
       "      <td>2</td>\n",
       "      <td>0</td>\n",
       "      <td>0</td>\n",
       "    </tr>\n",
       "    <tr>\n",
       "      <th>2</th>\n",
       "      <td>0.0</td>\n",
       "      <td>0.0</td>\n",
       "      <td>2.0</td>\n",
       "      <td>0.000000</td>\n",
       "      <td>0.149333</td>\n",
       "      <td>0.173714</td>\n",
       "      <td>2</td>\n",
       "      <td>3.0</td>\n",
       "      <td>8.0</td>\n",
       "      <td>3.0</td>\n",
       "      <td>2</td>\n",
       "      <td>0</td>\n",
       "      <td>0</td>\n",
       "    </tr>\n",
       "    <tr>\n",
       "      <th>3</th>\n",
       "      <td>0.0</td>\n",
       "      <td>0.0</td>\n",
       "      <td>2.0</td>\n",
       "      <td>2.666667</td>\n",
       "      <td>0.050000</td>\n",
       "      <td>0.140000</td>\n",
       "      <td>2</td>\n",
       "      <td>3.0</td>\n",
       "      <td>2.0</td>\n",
       "      <td>4.0</td>\n",
       "      <td>2</td>\n",
       "      <td>0</td>\n",
       "      <td>0</td>\n",
       "    </tr>\n",
       "    <tr>\n",
       "      <th>4</th>\n",
       "      <td>0.0</td>\n",
       "      <td>0.0</td>\n",
       "      <td>10.0</td>\n",
       "      <td>627.500000</td>\n",
       "      <td>0.020000</td>\n",
       "      <td>0.050000</td>\n",
       "      <td>2</td>\n",
       "      <td>3.0</td>\n",
       "      <td>1.0</td>\n",
       "      <td>4.0</td>\n",
       "      <td>2</td>\n",
       "      <td>1</td>\n",
       "      <td>0</td>\n",
       "    </tr>\n",
       "  </tbody>\n",
       "</table>\n",
       "</div>"
      ],
      "text/plain": [
       "   Administrative  Administrative_Duration  ProductRelated   \n",
       "0             0.0                      0.0             2.0  \\\n",
       "1             0.0                      0.0             2.0   \n",
       "2             0.0                      0.0             2.0   \n",
       "3             0.0                      0.0             2.0   \n",
       "4             0.0                      0.0            10.0   \n",
       "\n",
       "   ProductRelated_Duration  BounceRates  ExitRates  Month  OperatingSystems   \n",
       "0                 0.000000     0.149333   0.173714      2               1.0  \\\n",
       "1                64.000000     0.000000   0.100000      2               2.0   \n",
       "2                 0.000000     0.149333   0.173714      2               3.0   \n",
       "3                 2.666667     0.050000   0.140000      2               3.0   \n",
       "4               627.500000     0.020000   0.050000      2               3.0   \n",
       "\n",
       "   Region  TrafficType  VisitorType  Weekend  Revenue  \n",
       "0     1.0          1.0            2        0        0  \n",
       "1     1.0          2.0            2        0        0  \n",
       "2     8.0          3.0            2        0        0  \n",
       "3     2.0          4.0            2        0        0  \n",
       "4     1.0          4.0            2        1        0  "
      ]
     },
     "execution_count": 42,
     "metadata": {},
     "output_type": "execute_result"
    }
   ],
   "source": [
    "df.head()"
   ]
  },
  {
   "cell_type": "code",
   "execution_count": 43,
   "id": "212ff19b",
   "metadata": {},
   "outputs": [
    {
     "data": {
      "text/plain": [
       "<Axes: >"
      ]
     },
     "execution_count": 43,
     "metadata": {},
     "output_type": "execute_result"
    },
    {
     "data": {
      "image/png": "[encoded data removed]",
      "text/plain": [
       "<Figure size 1080x720 with 2 Axes>"
      ]
     },
     "metadata": {
      "needs_background": "light"
     },
     "output_type": "display_data"
    }
   ],
   "source": [
    "# Correlation Analysis Using Heatmap \n",
    "\n",
    "plt.figure(figsize=(15, 10))\n",
    "mask = np.triu(np.ones_like(df.corr()))\n",
    "sns.heatmap(df.corr(),mask= mask, annot=True, fmt='.2f', linewidths=0.5, cmap='PuOr')"
   ]
  },
  {
   "cell_type": "code",
   "execution_count": 44,
   "id": "4d51350c",
   "metadata": {},
   "outputs": [],
   "source": [
    "# Separating dependent and independent features\n",
    "\n",
    "x = df.drop('Weekend', axis=1)\n",
    "y = df['Weekend']"
   ]
  },
  {
   "cell_type": "code",
   "execution_count": 45,
   "id": "8f7fe0d3",
   "metadata": {},
   "outputs": [
    {
     "name": "stdout",
     "output_type": "stream",
     "text": [
      "Requirement already satisfied: imbalanced-learn in c:\\users\\sssun\\anaconda3\\lib\\site-packages (0.6.1)\n",
      "Requirement already satisfied: numpy>=1.11 in c:\\users\\sssun\\anaconda3\\lib\\site-packages (from imbalanced-learn) (1.24.3)\n",
      "Requirement already satisfied: scipy>=0.17 in c:\\users\\sssun\\anaconda3\\lib\\site-packages (from imbalanced-learn) (1.10.1)\n",
      "Requirement already satisfied: scikit-learn>=0.22 in c:\\users\\sssun\\anaconda3\\lib\\site-packages (from imbalanced-learn) (0.22.1)\n"
     ]
    },
    {
     "name": "stderr",
     "output_type": "stream",
     "text": [
      "WARNING: Ignoring invalid distribution -tatsmodels (c:\\users\\sssun\\anaconda3\\lib\\site-packages)\n",
      "WARNING: Ignoring invalid distribution -tatsmodels (c:\\users\\sssun\\anaconda3\\lib\\site-packages)\n"
     ]
    },
    {
     "name": "stdout",
     "output_type": "stream",
     "text": [
      "Requirement already satisfied: joblib>=0.11 in c:\\users\\sssun\\anaconda3\\lib\\site-packages (from imbalanced-learn) (0.14.1)\n"
     ]
    }
   ],
   "source": [
    "!pip install imbalanced-learn"
   ]
  },
  {
   "cell_type": "markdown",
   "id": "2392cd43",
   "metadata": {},
   "source": [
    "### Handling Imbalance data"
   ]
  },
  {
   "cell_type": "code",
   "execution_count": 47,
   "id": "fd0d20c8",
   "metadata": {},
   "outputs": [],
   "source": [
    "#For balancing the imbalance dataset\n",
    "from imblearn.over_sampling import SMOTENC,RandomOverSampler,KMeansSMOTE\n",
    "\n",
    "rdsample=RandomOverSampler()\n",
    "x_sampled,y_sampled  = rdsample.fit_sample(x,y)"
   ]
  },
  {
   "cell_type": "code",
   "execution_count": 48,
   "id": "0e479de7",
   "metadata": {},
   "outputs": [
    {
     "name": "stdout",
     "output_type": "stream",
     "text": [
      "(18692, 12)\n",
      "(18692,)\n"
     ]
    }
   ],
   "source": [
    "print(x_sampled.shape)\n",
    "print(y_sampled.shape)"
   ]
  },
  {
   "cell_type": "code",
   "execution_count": 49,
   "id": "a70fa421",
   "metadata": {},
   "outputs": [
    {
     "data": {
      "text/plain": [
       "<Axes: xlabel='Weekend', ylabel='count'>"
      ]
     },
     "execution_count": 49,
     "metadata": {},
     "output_type": "execute_result"
    },
    {
     "data": {
      "image/png": "[encoded data removed]",
      "text/plain": [
       "<Figure size 432x288 with 1 Axes>"
      ]
     },
     "metadata": {
      "needs_background": "light"
     },
     "output_type": "display_data"
    }
   ],
   "source": [
    "#after handling imbalance data\n",
    "sns.countplot(data=df, x= y_sampled)       "
   ]
  },
  {
   "cell_type": "code",
   "execution_count": 50,
   "id": "09d16fd3",
   "metadata": {},
   "outputs": [],
   "source": [
    "# Train test Split\n",
    "X_train, X_test, y_train, y_test = train_test_split(x, y, test_size=0.2, random_state=42)"
   ]
  },
  {
   "cell_type": "code",
   "execution_count": 51,
   "id": "dee680eb",
   "metadata": {},
   "outputs": [],
   "source": [
    "#standardize or feature scaling the datasets\n",
    "\n",
    "from sklearn.preprocessing import StandardScaler\n",
    "\n",
    "scaler = StandardScaler()\n",
    "\n",
    "X_train = scaler.fit_transform(X_train)\n",
    "\n",
    "# for avoiding data leakage here we use transform not fit_transform\n",
    "X_test = scaler.transform(X_test)"
   ]
  },
  {
   "cell_type": "markdown",
   "id": "5940c521",
   "metadata": {},
   "source": [
    "## Model Building"
   ]
  },
  {
   "cell_type": "markdown",
   "id": "345463f5",
   "metadata": {},
   "source": [
    "### Decision Tree"
   ]
  },
  {
   "cell_type": "code",
   "execution_count": 88,
   "id": "fd45f9d9",
   "metadata": {},
   "outputs": [],
   "source": [
    "classifier_tree=DecisionTreeClassifier()\n",
    "classifier_tree.fit(X_train,y_train)\n",
    "dt_pred=classifier_tree.predict(X_test)"
   ]
  },
  {
   "cell_type": "code",
   "execution_count": 91,
   "id": "7139e8c0",
   "metadata": {},
   "outputs": [
    {
     "name": "stdout",
     "output_type": "stream",
     "text": [
      "Accuracy: 0.6472757066775912 \n",
      "Precision: 0.2565905096660808 \n",
      "Recall: 0.25 \n",
      "f1_score: 0.2532523850823938 \n",
      "roc_auc_curve: 0.5111066235864297 \n",
      "Confusion matrix:\n",
      " [[1434  423]\n",
      " [ 438  146]]\n"
     ]
    }
   ],
   "source": [
    "# Evaluating the model performance\n",
    "\n",
    "cm=confusion_matrix(y_test, dt_pred)\n",
    "acc = accuracy_score(y_test, dt_pred)\n",
    "prec = precision_score(y_test, dt_pred)\n",
    "recl = recall_score(y_test, dt_pred)\n",
    "f1 = f1_score(y_test, dt_pred)\n",
    "roc_auc = roc_auc_score(y_test, dt_pred)\n",
    "\n",
    "print(f'Accuracy: {acc} \\nPrecision: {prec} \\nRecall: {recl} \\nf1_score: {f1} \\nroc_auc_curve: {roc_auc} \\nConfusion matrix:\\n {cm}')"
   ]
  },
  {
   "cell_type": "markdown",
   "id": "1f15d29f",
   "metadata": {},
   "source": [
    "### Random Forest"
   ]
  },
  {
   "cell_type": "code",
   "execution_count": 56,
   "id": "ff3e4721",
   "metadata": {},
   "outputs": [],
   "source": [
    "classifier_forest=RandomForestClassifier(criterion='entropy',random_state=0)\n",
    "\n",
    "# training the Random Forest model on the sampled train dataset\n",
    "classifier_forest.fit(X_train,y_train)\n",
    "\n",
    "# pedicting the labels on the test set\n",
    "rf_pred=classifier_forest.predict(X_test)"
   ]
  },
  {
   "cell_type": "code",
   "execution_count": 60,
   "id": "a76da4ca",
   "metadata": {},
   "outputs": [
    {
     "name": "stdout",
     "output_type": "stream",
     "text": [
      "Accuracy: 0.7521507578861123 \n",
      "Precision: 0.023972602739726026 \n",
      "Recall: 0.2857142857142857 \n",
      "f1_score: 0.044233807266982623 \n",
      "roc_auc_curve: 0.5237099856665074 \n",
      "Confusion matrix:\n",
      " [[1822  570]\n",
      " [  35   14]]\n"
     ]
    }
   ],
   "source": [
    "# Evaluating the model performance\n",
    "\n",
    "accuracy = accuracy_score(rf_pred, y_test)\n",
    "precision = precision_score(rf_pred, y_test)\n",
    "recall = recall_score(rf_pred, y_test)\n",
    "f1_score = f1_score(rf_pred, y_test)\n",
    "roc_auc_score = roc_auc_score(rf_pred, y_test)\n",
    "confusion_matrix = confusion_matrix(rf_pred, y_test)\n",
    "\n",
    "print(f'Accuracy: {accuracy} \\nPrecision: {precision} \\nRecall: {recall} \\nf1_score: {f1_score} \\nroc_auc_curve: {roc_auc_score} \\nConfusion matrix:\\n {confusion_matrix}')"
   ]
  },
  {
   "cell_type": "code",
   "execution_count": null,
   "id": "84c7c593",
   "metadata": {},
   "outputs": [],
   "source": []
  },
  {
   "cell_type": "code",
   "execution_count": 61,
   "id": "9dd2d8d6",
   "metadata": {},
   "outputs": [],
   "source": [
    "from sklearn.ensemble import BaggingClassifier\n",
    "from sklearn import tree\n",
    "model = BaggingClassifier(tree.DecisionTreeClassifier(random_state=1))\n",
    "model.fit(X_train, y_train)\n",
    "y_pred=model.predict(X_test)"
   ]
  },
  {
   "cell_type": "code",
   "execution_count": 64,
   "id": "d0c8bf1d",
   "metadata": {},
   "outputs": [
    {
     "name": "stdout",
     "output_type": "stream",
     "text": [
      "Accuracy: 0.725931995083982 \n",
      "Precision: 0.07534246575342465 \n",
      "Recall: 0.2543352601156069 \n",
      "f1_score: 0.11624834874504623 \n",
      "roc_auc_curve: 0.5081200110101844 \n",
      "Confusion matrix:\n",
      " [[1728  540]\n",
      " [ 129   44]]\n"
     ]
    }
   ],
   "source": [
    "# Evaluating the model performance\n",
    "\n",
    "accuracy = accuracy_score(y_pred, y_test)\n",
    "precision = precision_score(y_pred, y_test)\n",
    "recall = recall_score(y_pred, y_test)\n",
    "f1_score = f1_score(y_pred, y_test)\n",
    "roc_auc_score = roc_auc_score(y_pred, y_test)\n",
    "confusion_matrix = confusion_matrix(y_pred, y_test)\n",
    "\n",
    "print(f'Accuracy: {accuracy} \\nPrecision: {precision} \\nRecall: {recall} \\nf1_score: {f1_score} \\nroc_auc_curve: {roc_auc_score} \\nConfusion matrix:\\n {confusion_matrix}')"
   ]
  },
  {
   "cell_type": "markdown",
   "id": "c2fc9120",
   "metadata": {},
   "source": [
    "### AdaBoost"
   ]
  },
  {
   "cell_type": "code",
   "execution_count": 66,
   "id": "9c289d4a",
   "metadata": {},
   "outputs": [],
   "source": [
    "from sklearn.ensemble import AdaBoostClassifier\n",
    "ada_model = AdaBoostClassifier(random_state=1)\n",
    "ada_model.fit(X_train, y_train)\n",
    "ada_pred = ada_model.predict(X_test)"
   ]
  },
  {
   "cell_type": "code",
   "execution_count": 69,
   "id": "8bbfb5a2",
   "metadata": {},
   "outputs": [
    {
     "name": "stdout",
     "output_type": "stream",
     "text": [
      "Accuracy: 0.760344121261778 \n",
      "Precision: 0.0 \n",
      "Recall: 0.0 \n",
      "f1_score: 0.0 \n",
      "roc_auc_curve: 0.380327868852459 \n",
      "Confusion matrix:\n",
      " [[1856  584]\n",
      " [   1    0]]\n"
     ]
    }
   ],
   "source": [
    "# Evaluating the model performance\n",
    "\n",
    "accuracy = accuracy_score(ada_pred, y_test)\n",
    "precision = precision_score(ada_pred, y_test)\n",
    "recall = recall_score(ada_pred, y_test)\n",
    "f1_score = f1_score(ada_pred, y_test)\n",
    "roc_auc_score = roc_auc_score(ada_pred, y_test)\n",
    "confusion_matrix = confusion_matrix(ada_pred, y_test)\n",
    "\n",
    "print(f'Accuracy: {accuracy} \\nPrecision: {precision} \\nRecall: {recall} \\nf1_score: {f1_score} \\nroc_auc_curve: {roc_auc_score} \\nConfusion matrix:\\n {confusion_matrix}')"
   ]
  },
  {
   "cell_type": "markdown",
   "id": "21a124a0",
   "metadata": {},
   "source": [
    "### Gradient Boosting"
   ]
  },
  {
   "cell_type": "code",
   "execution_count": 70,
   "id": "6ae09b10",
   "metadata": {},
   "outputs": [],
   "source": [
    "from sklearn.ensemble import GradientBoostingClassifier\n",
    "grad_model = GradientBoostingClassifier(learning_rate=0.01,random_state=1)\n",
    "grad_model.fit(X_train, y_train)\n",
    "grad_pred = grad_model.predict(X_test)"
   ]
  },
  {
   "cell_type": "code",
   "execution_count": 76,
   "id": "2a1dfe58",
   "metadata": {},
   "outputs": [
    {
     "name": "stdout",
     "output_type": "stream",
     "text": [
      "Accuracy: 0.7607537894305613 \n",
      "Precision: 0.0 \n",
      "Recall: 0.0 \n",
      "f1_score: 0.0  \n",
      "Confusion matrix:\n",
      " [[1857  584]\n",
      " [   0    0]]\n"
     ]
    }
   ],
   "source": [
    "# Evaluating the model performance\n",
    "\n",
    "accuracy = accuracy_score(grad_pred, y_test)\n",
    "precision = precision_score(grad_pred, y_test)\n",
    "recall = recall_score(grad_pred, y_test)\n",
    "f1_score = f1_score(grad_pred, y_test)\n",
    "# roc_auc_score = roc_auc_score(grad_pred, y_test)\n",
    "confusion_matrix = confusion_matrix(grad_pred, y_test)\n",
    "\n",
    "print(f'Accuracy: {accuracy} \\nPrecision: {precision} \\nRecall: {recall} \\nf1_score: {f1_score}  \\nConfusion matrix:\\n {confusion_matrix}')"
   ]
  },
  {
   "cell_type": "markdown",
   "id": "0ee81569",
   "metadata": {},
   "source": [
    "### XGBoost"
   ]
  },
  {
   "cell_type": "code",
   "execution_count": 79,
   "id": "65483c52",
   "metadata": {},
   "outputs": [],
   "source": [
    "import xgboost as xgb\n",
    "model=xgb.XGBClassifier(random_state=1,learning_rate=0.01)\n",
    "model.fit(X_train, y_train)\n",
    "xg_pred  = model.predict(X_test)"
   ]
  },
  {
   "cell_type": "code",
   "execution_count": 83,
   "id": "734ecda2",
   "metadata": {},
   "outputs": [
    {
     "name": "stdout",
     "output_type": "stream",
     "text": [
      "Accuracy: 0.7607537894305613 \n",
      "Precision: 0.0 \n",
      "Recall: 0.0 \n",
      "f1_score: 0.0  \n",
      "Confusion matrix:\n",
      " [[1857  584]\n",
      " [   0    0]]\n"
     ]
    }
   ],
   "source": [
    "# Evaluating the model performance\n",
    "\n",
    "accuracy = accuracy_score(xg_pred, y_test)\n",
    "precision = precision_score(xg_pred, y_test)\n",
    "recall = recall_score(xg_pred, y_test)\n",
    "f1_score = f1_score(xg_pred, y_test)\n",
    "# roc_auc_score = roc_auc_score(xg_pred, y_test)\n",
    "confusion_matrix = confusion_matrix(xg_pred, y_test)\n",
    "\n",
    "print(f'Accuracy: {accuracy} \\nPrecision: {precision} \\nRecall: {recall} \\nf1_score: {f1_score}  \\nConfusion matrix:\\n {confusion_matrix}')"
   ]
  },
  {
   "cell_type": "markdown",
   "id": "e37bd63a",
   "metadata": {},
   "source": [
    "### Thank you😊"
   ]
  }
 ],
 "metadata": {
  "kernelspec": {
   "display_name": "Python 3 (ipykernel)",
   "language": "python",
   "name": "python3"
  },
  "language_info": {
   "codemirror_mode": {
    "name": "ipython",
    "version": 3
   },
   "file_extension": ".py",
   "mimetype": "text/x-python",
   "name": "python",
   "nbconvert_exporter": "python",
   "pygments_lexer": "ipython3",
   "version": "3.8.5"
  },
  "toc": {
   "base_numbering": 1,
   "nav_menu": {},
   "number_sections": true,
   "sideBar": true,
   "skip_h1_title": false,
   "title_cell": "Table of Contents",
   "title_sidebar": "Contents",
   "toc_cell": false,
   "toc_position": {},
   "toc_section_display": true,
   "toc_window_display": false
  }
 },
 "nbformat": 4,
 "nbformat_minor": 5
}
