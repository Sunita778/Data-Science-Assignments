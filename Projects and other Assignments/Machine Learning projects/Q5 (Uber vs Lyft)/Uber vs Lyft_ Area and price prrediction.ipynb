{
 "cells": [
  {
   "attachments": {},
   "cell_type": "markdown",
   "id": "ee518892",
   "metadata": {},
   "source": [
    "## *Submitted by* - `Sunita Pradhan`"
   ]
  },
  {
   "cell_type": "code",
   "execution_count": 3,
   "id": "13d521a5",
   "metadata": {
    "scrolled": true
   },
   "outputs": [],
   "source": [
    "#Importing required libraries\n",
    "\n",
    "import pandas as pd\n",
    "import numpy as np\n",
    "import seaborn as sns\n",
    "import matplotlib.pyplot as plt\n",
    "\n",
    "import warnings\n",
    "\n",
    "from sklearn.preprocessing import LabelEncoder\n",
    "from sklearn.model_selection import train_test_split\n",
    "\n",
    "from sklearn.svm import SVR\n",
    "from sklearn.linear_model import LinearRegression\n",
    "from sklearn.neighbors import KNeighborsRegressor\n",
    "from sklearn.tree import DecisionTreeRegressor\n",
    "from sklearn.ensemble import RandomForestRegressor\n",
    "from sklearn.preprocessing import StandardScaler\n",
    "from sklearn.metrics import mean_squared_error, mean_absolute_error, r2_score\n",
    "from sklearn.feature_extraction.text import CountVectorizer\n",
    "\n",
    "pd.set_option('display.max_columns', None)\n",
    "warnings.filterwarnings('ignore')\n",
    "%matplotlib inline"
   ]
  },
  {
   "cell_type": "code",
   "execution_count": 2,
   "id": "c18bb251",
   "metadata": {},
   "outputs": [],
   "source": [
    "#Reading datas\n",
    "\n",
    "data = pd.read_csv(r\"D:\\PA_data\\rideshare_kaggle.csv\")"
   ]
  },
  {
   "cell_type": "code",
   "execution_count": 3,
   "id": "ba7a66a7",
   "metadata": {},
   "outputs": [
    {
     "data": {
      "text/html": [
       "<div>\n",
       "<style scoped>\n",
       "    .dataframe tbody tr th:only-of-type {\n",
       "        vertical-align: middle;\n",
       "    }\n",
       "\n",
       "    .dataframe tbody tr th {\n",
       "        vertical-align: top;\n",
       "    }\n",
       "\n",
       "    .dataframe thead th {\n",
       "        text-align: right;\n",
       "    }\n",
       "</style>\n",
       "<table border=\"1\" class=\"dataframe\">\n",
       "  <thead>\n",
       "    <tr style=\"text-align: right;\">\n",
       "      <th></th>\n",
       "      <th>id</th>\n",
       "      <th>timestamp</th>\n",
       "      <th>hour</th>\n",
       "      <th>day</th>\n",
       "      <th>month</th>\n",
       "      <th>datetime</th>\n",
       "      <th>timezone</th>\n",
       "      <th>source</th>\n",
       "      <th>destination</th>\n",
       "      <th>cab_type</th>\n",
       "      <th>product_id</th>\n",
       "      <th>name</th>\n",
       "      <th>price</th>\n",
       "      <th>distance</th>\n",
       "      <th>surge_multiplier</th>\n",
       "      <th>latitude</th>\n",
       "      <th>longitude</th>\n",
       "      <th>temperature</th>\n",
       "      <th>apparentTemperature</th>\n",
       "      <th>short_summary</th>\n",
       "      <th>long_summary</th>\n",
       "      <th>precipIntensity</th>\n",
       "      <th>precipProbability</th>\n",
       "      <th>humidity</th>\n",
       "      <th>windSpeed</th>\n",
       "      <th>windGust</th>\n",
       "      <th>windGustTime</th>\n",
       "      <th>visibility</th>\n",
       "      <th>temperatureHigh</th>\n",
       "      <th>temperatureHighTime</th>\n",
       "      <th>temperatureLow</th>\n",
       "      <th>temperatureLowTime</th>\n",
       "      <th>apparentTemperatureHigh</th>\n",
       "      <th>apparentTemperatureHighTime</th>\n",
       "      <th>apparentTemperatureLow</th>\n",
       "      <th>apparentTemperatureLowTime</th>\n",
       "      <th>icon</th>\n",
       "      <th>dewPoint</th>\n",
       "      <th>pressure</th>\n",
       "      <th>windBearing</th>\n",
       "      <th>cloudCover</th>\n",
       "      <th>uvIndex</th>\n",
       "      <th>visibility.1</th>\n",
       "      <th>ozone</th>\n",
       "      <th>sunriseTime</th>\n",
       "      <th>sunsetTime</th>\n",
       "      <th>moonPhase</th>\n",
       "      <th>precipIntensityMax</th>\n",
       "      <th>uvIndexTime</th>\n",
       "      <th>temperatureMin</th>\n",
       "      <th>temperatureMinTime</th>\n",
       "      <th>temperatureMax</th>\n",
       "      <th>temperatureMaxTime</th>\n",
       "      <th>apparentTemperatureMin</th>\n",
       "      <th>apparentTemperatureMinTime</th>\n",
       "      <th>apparentTemperatureMax</th>\n",
       "      <th>apparentTemperatureMaxTime</th>\n",
       "    </tr>\n",
       "  </thead>\n",
       "  <tbody>\n",
       "    <tr>\n",
       "      <th>0</th>\n",
       "      <td>424553bb-7174-41ea-aeb4-fe06d4f4b9d7</td>\n",
       "      <td>1.544953e+09</td>\n",
       "      <td>9</td>\n",
       "      <td>16</td>\n",
       "      <td>12</td>\n",
       "      <td>2018-12-16 09:30:07</td>\n",
       "      <td>America/New_York</td>\n",
       "      <td>Haymarket Square</td>\n",
       "      <td>North Station</td>\n",
       "      <td>Lyft</td>\n",
       "      <td>lyft_line</td>\n",
       "      <td>Shared</td>\n",
       "      <td>5.0</td>\n",
       "      <td>0.44</td>\n",
       "      <td>1.0</td>\n",
       "      <td>42.2148</td>\n",
       "      <td>-71.033</td>\n",
       "      <td>42.34</td>\n",
       "      <td>37.12</td>\n",
       "      <td>Mostly Cloudy</td>\n",
       "      <td>Rain throughout the day.</td>\n",
       "      <td>0.0000</td>\n",
       "      <td>0.0</td>\n",
       "      <td>0.68</td>\n",
       "      <td>8.66</td>\n",
       "      <td>9.17</td>\n",
       "      <td>1545015600</td>\n",
       "      <td>10.000</td>\n",
       "      <td>43.68</td>\n",
       "      <td>1544968800</td>\n",
       "      <td>34.19</td>\n",
       "      <td>1545048000</td>\n",
       "      <td>37.95</td>\n",
       "      <td>1544968800</td>\n",
       "      <td>27.39</td>\n",
       "      <td>1545044400</td>\n",
       "      <td>partly-cloudy-night</td>\n",
       "      <td>32.70</td>\n",
       "      <td>1021.98</td>\n",
       "      <td>57</td>\n",
       "      <td>0.72</td>\n",
       "      <td>0</td>\n",
       "      <td>10.000</td>\n",
       "      <td>303.8</td>\n",
       "      <td>1544962084</td>\n",
       "      <td>1544994864</td>\n",
       "      <td>0.30</td>\n",
       "      <td>0.1276</td>\n",
       "      <td>1544979600</td>\n",
       "      <td>39.89</td>\n",
       "      <td>1545012000</td>\n",
       "      <td>43.68</td>\n",
       "      <td>1544968800</td>\n",
       "      <td>33.73</td>\n",
       "      <td>1545012000</td>\n",
       "      <td>38.07</td>\n",
       "      <td>1544958000</td>\n",
       "    </tr>\n",
       "    <tr>\n",
       "      <th>1</th>\n",
       "      <td>4bd23055-6827-41c6-b23b-3c491f24e74d</td>\n",
       "      <td>1.543284e+09</td>\n",
       "      <td>2</td>\n",
       "      <td>27</td>\n",
       "      <td>11</td>\n",
       "      <td>2018-11-27 02:00:23</td>\n",
       "      <td>America/New_York</td>\n",
       "      <td>Haymarket Square</td>\n",
       "      <td>North Station</td>\n",
       "      <td>Lyft</td>\n",
       "      <td>lyft_premier</td>\n",
       "      <td>Lux</td>\n",
       "      <td>11.0</td>\n",
       "      <td>0.44</td>\n",
       "      <td>1.0</td>\n",
       "      <td>42.2148</td>\n",
       "      <td>-71.033</td>\n",
       "      <td>43.58</td>\n",
       "      <td>37.35</td>\n",
       "      <td>Rain</td>\n",
       "      <td>Rain until morning, starting again in the eve...</td>\n",
       "      <td>0.1299</td>\n",
       "      <td>1.0</td>\n",
       "      <td>0.94</td>\n",
       "      <td>11.98</td>\n",
       "      <td>11.98</td>\n",
       "      <td>1543291200</td>\n",
       "      <td>4.786</td>\n",
       "      <td>47.30</td>\n",
       "      <td>1543251600</td>\n",
       "      <td>42.10</td>\n",
       "      <td>1543298400</td>\n",
       "      <td>43.92</td>\n",
       "      <td>1543251600</td>\n",
       "      <td>36.20</td>\n",
       "      <td>1543291200</td>\n",
       "      <td>rain</td>\n",
       "      <td>41.83</td>\n",
       "      <td>1003.97</td>\n",
       "      <td>90</td>\n",
       "      <td>1.00</td>\n",
       "      <td>0</td>\n",
       "      <td>4.786</td>\n",
       "      <td>291.1</td>\n",
       "      <td>1543232969</td>\n",
       "      <td>1543266992</td>\n",
       "      <td>0.64</td>\n",
       "      <td>0.1300</td>\n",
       "      <td>1543251600</td>\n",
       "      <td>40.49</td>\n",
       "      <td>1543233600</td>\n",
       "      <td>47.30</td>\n",
       "      <td>1543251600</td>\n",
       "      <td>36.20</td>\n",
       "      <td>1543291200</td>\n",
       "      <td>43.92</td>\n",
       "      <td>1543251600</td>\n",
       "    </tr>\n",
       "  </tbody>\n",
       "</table>\n",
       "</div>"
      ],
      "text/plain": [
       "                                     id     timestamp  hour  day  month   \n",
       "0  424553bb-7174-41ea-aeb4-fe06d4f4b9d7  1.544953e+09     9   16     12  \\\n",
       "1  4bd23055-6827-41c6-b23b-3c491f24e74d  1.543284e+09     2   27     11   \n",
       "\n",
       "              datetime          timezone            source    destination   \n",
       "0  2018-12-16 09:30:07  America/New_York  Haymarket Square  North Station  \\\n",
       "1  2018-11-27 02:00:23  America/New_York  Haymarket Square  North Station   \n",
       "\n",
       "  cab_type    product_id    name  price  distance  surge_multiplier  latitude   \n",
       "0     Lyft     lyft_line  Shared    5.0      0.44               1.0   42.2148  \\\n",
       "1     Lyft  lyft_premier     Lux   11.0      0.44               1.0   42.2148   \n",
       "\n",
       "   longitude  temperature  apparentTemperature    short_summary   \n",
       "0    -71.033        42.34                37.12   Mostly Cloudy   \\\n",
       "1    -71.033        43.58                37.35            Rain    \n",
       "\n",
       "                                        long_summary  precipIntensity   \n",
       "0                          Rain throughout the day.            0.0000  \\\n",
       "1   Rain until morning, starting again in the eve...           0.1299   \n",
       "\n",
       "   precipProbability  humidity  windSpeed  windGust  windGustTime  visibility   \n",
       "0                0.0      0.68       8.66      9.17    1545015600      10.000  \\\n",
       "1                1.0      0.94      11.98     11.98    1543291200       4.786   \n",
       "\n",
       "   temperatureHigh  temperatureHighTime  temperatureLow  temperatureLowTime   \n",
       "0            43.68           1544968800           34.19          1545048000  \\\n",
       "1            47.30           1543251600           42.10          1543298400   \n",
       "\n",
       "   apparentTemperatureHigh  apparentTemperatureHighTime   \n",
       "0                    37.95                   1544968800  \\\n",
       "1                    43.92                   1543251600   \n",
       "\n",
       "   apparentTemperatureLow  apparentTemperatureLowTime                   icon   \n",
       "0                   27.39                  1545044400   partly-cloudy-night   \\\n",
       "1                   36.20                  1543291200                  rain    \n",
       "\n",
       "   dewPoint  pressure  windBearing  cloudCover  uvIndex  visibility.1  ozone   \n",
       "0     32.70   1021.98           57        0.72        0        10.000  303.8  \\\n",
       "1     41.83   1003.97           90        1.00        0         4.786  291.1   \n",
       "\n",
       "   sunriseTime  sunsetTime  moonPhase  precipIntensityMax  uvIndexTime   \n",
       "0   1544962084  1544994864       0.30              0.1276   1544979600  \\\n",
       "1   1543232969  1543266992       0.64              0.1300   1543251600   \n",
       "\n",
       "   temperatureMin  temperatureMinTime  temperatureMax  temperatureMaxTime   \n",
       "0           39.89          1545012000           43.68          1544968800  \\\n",
       "1           40.49          1543233600           47.30          1543251600   \n",
       "\n",
       "   apparentTemperatureMin  apparentTemperatureMinTime  apparentTemperatureMax   \n",
       "0                   33.73                  1545012000                   38.07  \\\n",
       "1                   36.20                  1543291200                   43.92   \n",
       "\n",
       "   apparentTemperatureMaxTime  \n",
       "0                  1544958000  \n",
       "1                  1543251600  "
      ]
     },
     "execution_count": 3,
     "metadata": {},
     "output_type": "execute_result"
    }
   ],
   "source": [
    "#Fatchiing 1st 2 rows of data\n",
    "data.head(2)"
   ]
  },
  {
   "cell_type": "code",
   "execution_count": 4,
   "id": "2249d352",
   "metadata": {},
   "outputs": [
    {
     "data": {
      "text/plain": [
       "(693071, 57)"
      ]
     },
     "execution_count": 4,
     "metadata": {},
     "output_type": "execute_result"
    }
   ],
   "source": [
    "#Shape of the data\n",
    "data.shape"
   ]
  },
  {
   "cell_type": "code",
   "execution_count": 5,
   "id": "93f9c7ef",
   "metadata": {},
   "outputs": [
    {
     "name": "stdout",
     "output_type": "stream",
     "text": [
      "<class 'pandas.core.frame.DataFrame'>\n",
      "RangeIndex: 693071 entries, 0 to 693070\n",
      "Data columns (total 57 columns):\n",
      " #   Column                       Non-Null Count   Dtype  \n",
      "---  ------                       --------------   -----  \n",
      " 0   id                           693071 non-null  object \n",
      " 1   timestamp                    693071 non-null  float64\n",
      " 2   hour                         693071 non-null  int64  \n",
      " 3   day                          693071 non-null  int64  \n",
      " 4   month                        693071 non-null  int64  \n",
      " 5   datetime                     693071 non-null  object \n",
      " 6   timezone                     693071 non-null  object \n",
      " 7   source                       693071 non-null  object \n",
      " 8   destination                  693071 non-null  object \n",
      " 9   cab_type                     693071 non-null  object \n",
      " 10  product_id                   693071 non-null  object \n",
      " 11  name                         693071 non-null  object \n",
      " 12  price                        637976 non-null  float64\n",
      " 13  distance                     693071 non-null  float64\n",
      " 14  surge_multiplier             693071 non-null  float64\n",
      " 15  latitude                     693071 non-null  float64\n",
      " 16  longitude                    693071 non-null  float64\n",
      " 17  temperature                  693071 non-null  float64\n",
      " 18  apparentTemperature          693071 non-null  float64\n",
      " 19  short_summary                693071 non-null  object \n",
      " 20  long_summary                 693071 non-null  object \n",
      " 21  precipIntensity              693071 non-null  float64\n",
      " 22  precipProbability            693071 non-null  float64\n",
      " 23  humidity                     693071 non-null  float64\n",
      " 24  windSpeed                    693071 non-null  float64\n",
      " 25  windGust                     693071 non-null  float64\n",
      " 26  windGustTime                 693071 non-null  int64  \n",
      " 27  visibility                   693071 non-null  float64\n",
      " 28  temperatureHigh              693071 non-null  float64\n",
      " 29  temperatureHighTime          693071 non-null  int64  \n",
      " 30  temperatureLow               693071 non-null  float64\n",
      " 31  temperatureLowTime           693071 non-null  int64  \n",
      " 32  apparentTemperatureHigh      693071 non-null  float64\n",
      " 33  apparentTemperatureHighTime  693071 non-null  int64  \n",
      " 34  apparentTemperatureLow       693071 non-null  float64\n",
      " 35  apparentTemperatureLowTime   693071 non-null  int64  \n",
      " 36  icon                         693071 non-null  object \n",
      " 37  dewPoint                     693071 non-null  float64\n",
      " 38  pressure                     693071 non-null  float64\n",
      " 39  windBearing                  693071 non-null  int64  \n",
      " 40  cloudCover                   693071 non-null  float64\n",
      " 41  uvIndex                      693071 non-null  int64  \n",
      " 42  visibility.1                 693071 non-null  float64\n",
      " 43  ozone                        693071 non-null  float64\n",
      " 44  sunriseTime                  693071 non-null  int64  \n",
      " 45  sunsetTime                   693071 non-null  int64  \n",
      " 46  moonPhase                    693071 non-null  float64\n",
      " 47  precipIntensityMax           693071 non-null  float64\n",
      " 48  uvIndexTime                  693071 non-null  int64  \n",
      " 49  temperatureMin               693071 non-null  float64\n",
      " 50  temperatureMinTime           693071 non-null  int64  \n",
      " 51  temperatureMax               693071 non-null  float64\n",
      " 52  temperatureMaxTime           693071 non-null  int64  \n",
      " 53  apparentTemperatureMin       693071 non-null  float64\n",
      " 54  apparentTemperatureMinTime   693071 non-null  int64  \n",
      " 55  apparentTemperatureMax       693071 non-null  float64\n",
      " 56  apparentTemperatureMaxTime   693071 non-null  int64  \n",
      "dtypes: float64(29), int64(17), object(11)\n",
      "memory usage: 301.4+ MB\n"
     ]
    }
   ],
   "source": [
    "#Brief info about data\n",
    "data.info()"
   ]
  },
  {
   "attachments": {},
   "cell_type": "markdown",
   "id": "e140f109",
   "metadata": {},
   "source": [
    "### Missing value detection"
   ]
  },
  {
   "cell_type": "code",
   "execution_count": 6,
   "id": "6562e35f",
   "metadata": {
    "scrolled": true
   },
   "outputs": [
    {
     "data": {
      "text/plain": [
       "id                                 0\n",
       "timestamp                          0\n",
       "hour                               0\n",
       "day                                0\n",
       "month                              0\n",
       "datetime                           0\n",
       "timezone                           0\n",
       "source                             0\n",
       "destination                        0\n",
       "cab_type                           0\n",
       "product_id                         0\n",
       "name                               0\n",
       "price                          55095\n",
       "distance                           0\n",
       "surge_multiplier                   0\n",
       "latitude                           0\n",
       "longitude                          0\n",
       "temperature                        0\n",
       "apparentTemperature                0\n",
       "short_summary                      0\n",
       "long_summary                       0\n",
       "precipIntensity                    0\n",
       "precipProbability                  0\n",
       "humidity                           0\n",
       "windSpeed                          0\n",
       "windGust                           0\n",
       "windGustTime                       0\n",
       "visibility                         0\n",
       "temperatureHigh                    0\n",
       "temperatureHighTime                0\n",
       "temperatureLow                     0\n",
       "temperatureLowTime                 0\n",
       "apparentTemperatureHigh            0\n",
       "apparentTemperatureHighTime        0\n",
       "apparentTemperatureLow             0\n",
       "apparentTemperatureLowTime         0\n",
       "icon                               0\n",
       "dewPoint                           0\n",
       "pressure                           0\n",
       "windBearing                        0\n",
       "cloudCover                         0\n",
       "uvIndex                            0\n",
       "visibility.1                       0\n",
       "ozone                              0\n",
       "sunriseTime                        0\n",
       "sunsetTime                         0\n",
       "moonPhase                          0\n",
       "precipIntensityMax                 0\n",
       "uvIndexTime                        0\n",
       "temperatureMin                     0\n",
       "temperatureMinTime                 0\n",
       "temperatureMax                     0\n",
       "temperatureMaxTime                 0\n",
       "apparentTemperatureMin             0\n",
       "apparentTemperatureMinTime         0\n",
       "apparentTemperatureMax             0\n",
       "apparentTemperatureMaxTime         0\n",
       "dtype: int64"
      ]
     },
     "execution_count": 6,
     "metadata": {},
     "output_type": "execute_result"
    }
   ],
   "source": [
    "data.isnull().sum()"
   ]
  },
  {
   "cell_type": "code",
   "execution_count": 7,
   "id": "f68ff6d3",
   "metadata": {},
   "outputs": [
    {
     "data": {
      "text/plain": [
       "0"
      ]
     },
     "execution_count": 7,
     "metadata": {},
     "output_type": "execute_result"
    }
   ],
   "source": [
    "#Checking if there any duplicated value\n",
    "data.duplicated().sum()"
   ]
  },
  {
   "attachments": {},
   "cell_type": "markdown",
   "id": "cd881b52",
   "metadata": {},
   "source": [
    "There is no duplicate values."
   ]
  },
  {
   "cell_type": "code",
   "execution_count": 4,
   "id": "c8146e63",
   "metadata": {},
   "outputs": [],
   "source": [
    "#Creating a copy of original data\n",
    "df = data.copy()"
   ]
  },
  {
   "cell_type": "code",
   "execution_count": 5,
   "id": "9c2a495b",
   "metadata": {},
   "outputs": [
    {
     "data": {
      "text/plain": [
       "Index(['timestamp', 'hour', 'day', 'month', 'price', 'distance',\n",
       "       'surge_multiplier', 'latitude', 'longitude', 'temperature',\n",
       "       'apparentTemperature', 'precipIntensity', 'precipProbability',\n",
       "       'humidity', 'windSpeed', 'windGust', 'windGustTime', 'visibility',\n",
       "       'temperatureHigh', 'temperatureHighTime', 'temperatureLow',\n",
       "       'temperatureLowTime', 'apparentTemperatureHigh',\n",
       "       'apparentTemperatureHighTime', 'apparentTemperatureLow',\n",
       "       'apparentTemperatureLowTime', 'dewPoint', 'pressure', 'windBearing',\n",
       "       'cloudCover', 'uvIndex', 'visibility.1', 'ozone', 'sunriseTime',\n",
       "       'sunsetTime', 'moonPhase', 'precipIntensityMax', 'uvIndexTime',\n",
       "       'temperatureMin', 'temperatureMinTime', 'temperatureMax',\n",
       "       'temperatureMaxTime', 'apparentTemperatureMin',\n",
       "       'apparentTemperatureMinTime', 'apparentTemperatureMax',\n",
       "       'apparentTemperatureMaxTime'],\n",
       "      dtype='object')"
      ]
     },
     "execution_count": 5,
     "metadata": {},
     "output_type": "execute_result"
    }
   ],
   "source": [
    "#all numerical columns\n",
    "numerical_col = df.select_dtypes([\"float64\",\"int64\"]).columns\n",
    "numerical_col"
   ]
  },
  {
   "cell_type": "code",
   "execution_count": 6,
   "id": "4e6df9b0",
   "metadata": {},
   "outputs": [
    {
     "data": {
      "text/plain": [
       "Index(['id', 'datetime', 'timezone', 'source', 'destination', 'cab_type',\n",
       "       'product_id', 'name', 'short_summary', 'long_summary', 'icon'],\n",
       "      dtype='object')"
      ]
     },
     "execution_count": 6,
     "metadata": {},
     "output_type": "execute_result"
    }
   ],
   "source": [
    "#all Categorical columns\n",
    "categorical_col = df.select_dtypes([\"object\"]).columns\n",
    "categorical_col"
   ]
  },
  {
   "cell_type": "code",
   "execution_count": 11,
   "id": "7d12ae9e",
   "metadata": {},
   "outputs": [
    {
     "name": "stdout",
     "output_type": "stream",
     "text": [
      "id : 693071\n",
      "datetime : 31350\n",
      "timezone : 1\n",
      "source : 12\n",
      "destination : 12\n",
      "cab_type : 2\n",
      "product_id : 13\n",
      "name : 13\n",
      "short_summary : 9\n",
      "long_summary : 11\n",
      "icon : 7\n"
     ]
    }
   ],
   "source": [
    "#Unique values of categorical columns\n",
    "for col in categorical_col:\n",
    "    print(f'{col} : {df[col].nunique()}')"
   ]
  },
  {
   "cell_type": "code",
   "execution_count": 12,
   "id": "004742c0",
   "metadata": {},
   "outputs": [
    {
     "data": {
      "text/html": [
       "<div>\n",
       "<style scoped>\n",
       "    .dataframe tbody tr th:only-of-type {\n",
       "        vertical-align: middle;\n",
       "    }\n",
       "\n",
       "    .dataframe tbody tr th {\n",
       "        vertical-align: top;\n",
       "    }\n",
       "\n",
       "    .dataframe thead th {\n",
       "        text-align: right;\n",
       "    }\n",
       "</style>\n",
       "<table border=\"1\" class=\"dataframe\">\n",
       "  <thead>\n",
       "    <tr style=\"text-align: right;\">\n",
       "      <th></th>\n",
       "      <th>timestamp</th>\n",
       "      <th>hour</th>\n",
       "      <th>day</th>\n",
       "      <th>month</th>\n",
       "      <th>price</th>\n",
       "      <th>distance</th>\n",
       "      <th>surge_multiplier</th>\n",
       "      <th>latitude</th>\n",
       "      <th>longitude</th>\n",
       "      <th>temperature</th>\n",
       "      <th>apparentTemperature</th>\n",
       "      <th>precipIntensity</th>\n",
       "      <th>precipProbability</th>\n",
       "      <th>humidity</th>\n",
       "      <th>windSpeed</th>\n",
       "      <th>windGust</th>\n",
       "      <th>windGustTime</th>\n",
       "      <th>visibility</th>\n",
       "      <th>temperatureHigh</th>\n",
       "      <th>temperatureHighTime</th>\n",
       "      <th>temperatureLow</th>\n",
       "      <th>temperatureLowTime</th>\n",
       "      <th>apparentTemperatureHigh</th>\n",
       "      <th>apparentTemperatureHighTime</th>\n",
       "      <th>apparentTemperatureLow</th>\n",
       "      <th>apparentTemperatureLowTime</th>\n",
       "      <th>dewPoint</th>\n",
       "      <th>pressure</th>\n",
       "      <th>windBearing</th>\n",
       "      <th>cloudCover</th>\n",
       "      <th>uvIndex</th>\n",
       "      <th>visibility.1</th>\n",
       "      <th>ozone</th>\n",
       "      <th>sunriseTime</th>\n",
       "      <th>sunsetTime</th>\n",
       "      <th>moonPhase</th>\n",
       "      <th>precipIntensityMax</th>\n",
       "      <th>uvIndexTime</th>\n",
       "      <th>temperatureMin</th>\n",
       "      <th>temperatureMinTime</th>\n",
       "      <th>temperatureMax</th>\n",
       "      <th>temperatureMaxTime</th>\n",
       "      <th>apparentTemperatureMin</th>\n",
       "      <th>apparentTemperatureMinTime</th>\n",
       "      <th>apparentTemperatureMax</th>\n",
       "      <th>apparentTemperatureMaxTime</th>\n",
       "    </tr>\n",
       "  </thead>\n",
       "  <tbody>\n",
       "    <tr>\n",
       "      <th>count</th>\n",
       "      <td>6.930710e+05</td>\n",
       "      <td>693071.000000</td>\n",
       "      <td>693071.000000</td>\n",
       "      <td>693071.000000</td>\n",
       "      <td>637976.000000</td>\n",
       "      <td>693071.000000</td>\n",
       "      <td>693071.000000</td>\n",
       "      <td>693071.000000</td>\n",
       "      <td>693071.000000</td>\n",
       "      <td>693071.000000</td>\n",
       "      <td>693071.000000</td>\n",
       "      <td>693071.000000</td>\n",
       "      <td>693071.000000</td>\n",
       "      <td>693071.000000</td>\n",
       "      <td>693071.000000</td>\n",
       "      <td>693071.000000</td>\n",
       "      <td>6.930710e+05</td>\n",
       "      <td>693071.000000</td>\n",
       "      <td>693071.000000</td>\n",
       "      <td>6.930710e+05</td>\n",
       "      <td>693071.000000</td>\n",
       "      <td>6.930710e+05</td>\n",
       "      <td>693071.000000</td>\n",
       "      <td>6.930710e+05</td>\n",
       "      <td>693071.000000</td>\n",
       "      <td>6.930710e+05</td>\n",
       "      <td>693071.000000</td>\n",
       "      <td>693071.000000</td>\n",
       "      <td>693071.000000</td>\n",
       "      <td>693071.000000</td>\n",
       "      <td>693071.000000</td>\n",
       "      <td>693071.000000</td>\n",
       "      <td>693071.000000</td>\n",
       "      <td>6.930710e+05</td>\n",
       "      <td>6.930710e+05</td>\n",
       "      <td>693071.000000</td>\n",
       "      <td>693071.000000</td>\n",
       "      <td>6.930710e+05</td>\n",
       "      <td>693071.000000</td>\n",
       "      <td>6.930710e+05</td>\n",
       "      <td>693071.000000</td>\n",
       "      <td>6.930710e+05</td>\n",
       "      <td>693071.000000</td>\n",
       "      <td>6.930710e+05</td>\n",
       "      <td>693071.000000</td>\n",
       "      <td>6.930710e+05</td>\n",
       "    </tr>\n",
       "    <tr>\n",
       "      <th>mean</th>\n",
       "      <td>1.544046e+09</td>\n",
       "      <td>11.619137</td>\n",
       "      <td>17.794365</td>\n",
       "      <td>11.586684</td>\n",
       "      <td>16.545125</td>\n",
       "      <td>2.189430</td>\n",
       "      <td>1.013870</td>\n",
       "      <td>42.338172</td>\n",
       "      <td>-71.066151</td>\n",
       "      <td>39.584388</td>\n",
       "      <td>35.881222</td>\n",
       "      <td>0.008922</td>\n",
       "      <td>0.146076</td>\n",
       "      <td>0.741119</td>\n",
       "      <td>6.186253</td>\n",
       "      <td>8.469860</td>\n",
       "      <td>1.544049e+09</td>\n",
       "      <td>8.467970</td>\n",
       "      <td>45.040982</td>\n",
       "      <td>1.544050e+09</td>\n",
       "      <td>34.150736</td>\n",
       "      <td>1.544102e+09</td>\n",
       "      <td>41.614054</td>\n",
       "      <td>1.544050e+09</td>\n",
       "      <td>30.139824</td>\n",
       "      <td>1.544099e+09</td>\n",
       "      <td>31.656256</td>\n",
       "      <td>1010.094766</td>\n",
       "      <td>220.055853</td>\n",
       "      <td>0.686502</td>\n",
       "      <td>0.248908</td>\n",
       "      <td>8.467970</td>\n",
       "      <td>313.513635</td>\n",
       "      <td>1.544027e+09</td>\n",
       "      <td>1.544060e+09</td>\n",
       "      <td>0.579066</td>\n",
       "      <td>0.037374</td>\n",
       "      <td>1.544044e+09</td>\n",
       "      <td>33.457774</td>\n",
       "      <td>1.544042e+09</td>\n",
       "      <td>45.261313</td>\n",
       "      <td>1.544047e+09</td>\n",
       "      <td>29.731002</td>\n",
       "      <td>1.544048e+09</td>\n",
       "      <td>41.997343</td>\n",
       "      <td>1.544048e+09</td>\n",
       "    </tr>\n",
       "    <tr>\n",
       "      <th>std</th>\n",
       "      <td>6.891925e+05</td>\n",
       "      <td>6.948114</td>\n",
       "      <td>9.982286</td>\n",
       "      <td>0.492429</td>\n",
       "      <td>9.324359</td>\n",
       "      <td>1.138937</td>\n",
       "      <td>0.091641</td>\n",
       "      <td>0.047840</td>\n",
       "      <td>0.020302</td>\n",
       "      <td>6.726084</td>\n",
       "      <td>7.918707</td>\n",
       "      <td>0.026901</td>\n",
       "      <td>0.328938</td>\n",
       "      <td>0.138595</td>\n",
       "      <td>3.148223</td>\n",
       "      <td>5.289179</td>\n",
       "      <td>6.928244e+05</td>\n",
       "      <td>2.602888</td>\n",
       "      <td>5.996541</td>\n",
       "      <td>6.937921e+05</td>\n",
       "      <td>6.383163</td>\n",
       "      <td>6.922923e+05</td>\n",
       "      <td>7.666138</td>\n",
       "      <td>6.941699e+05</td>\n",
       "      <td>8.057468</td>\n",
       "      <td>6.927378e+05</td>\n",
       "      <td>9.142355</td>\n",
       "      <td>13.472899</td>\n",
       "      <td>99.102736</td>\n",
       "      <td>0.358534</td>\n",
       "      <td>0.474097</td>\n",
       "      <td>2.602888</td>\n",
       "      <td>27.953061</td>\n",
       "      <td>6.911393e+05</td>\n",
       "      <td>6.906634e+05</td>\n",
       "      <td>0.244705</td>\n",
       "      <td>0.055214</td>\n",
       "      <td>6.912028e+05</td>\n",
       "      <td>6.467224</td>\n",
       "      <td>6.901954e+05</td>\n",
       "      <td>5.645046</td>\n",
       "      <td>6.901353e+05</td>\n",
       "      <td>7.110494</td>\n",
       "      <td>6.871862e+05</td>\n",
       "      <td>6.936841</td>\n",
       "      <td>6.910777e+05</td>\n",
       "    </tr>\n",
       "    <tr>\n",
       "      <th>min</th>\n",
       "      <td>1.543204e+09</td>\n",
       "      <td>0.000000</td>\n",
       "      <td>1.000000</td>\n",
       "      <td>11.000000</td>\n",
       "      <td>2.500000</td>\n",
       "      <td>0.020000</td>\n",
       "      <td>1.000000</td>\n",
       "      <td>42.214800</td>\n",
       "      <td>-71.105400</td>\n",
       "      <td>18.910000</td>\n",
       "      <td>12.130000</td>\n",
       "      <td>0.000000</td>\n",
       "      <td>0.000000</td>\n",
       "      <td>0.380000</td>\n",
       "      <td>0.450000</td>\n",
       "      <td>0.800000</td>\n",
       "      <td>1.543151e+09</td>\n",
       "      <td>0.717000</td>\n",
       "      <td>32.680000</td>\n",
       "      <td>1.543154e+09</td>\n",
       "      <td>17.850000</td>\n",
       "      <td>1.543234e+09</td>\n",
       "      <td>22.620000</td>\n",
       "      <td>1.543187e+09</td>\n",
       "      <td>11.810000</td>\n",
       "      <td>1.543234e+09</td>\n",
       "      <td>4.390000</td>\n",
       "      <td>988.090000</td>\n",
       "      <td>2.000000</td>\n",
       "      <td>0.000000</td>\n",
       "      <td>0.000000</td>\n",
       "      <td>0.717000</td>\n",
       "      <td>269.400000</td>\n",
       "      <td>1.543147e+09</td>\n",
       "      <td>1.543181e+09</td>\n",
       "      <td>0.090000</td>\n",
       "      <td>0.000000</td>\n",
       "      <td>1.543162e+09</td>\n",
       "      <td>15.630000</td>\n",
       "      <td>1.543122e+09</td>\n",
       "      <td>33.510000</td>\n",
       "      <td>1.543154e+09</td>\n",
       "      <td>11.810000</td>\n",
       "      <td>1.543136e+09</td>\n",
       "      <td>28.950000</td>\n",
       "      <td>1.543187e+09</td>\n",
       "    </tr>\n",
       "    <tr>\n",
       "      <th>25%</th>\n",
       "      <td>1.543444e+09</td>\n",
       "      <td>6.000000</td>\n",
       "      <td>13.000000</td>\n",
       "      <td>11.000000</td>\n",
       "      <td>9.000000</td>\n",
       "      <td>1.280000</td>\n",
       "      <td>1.000000</td>\n",
       "      <td>42.350300</td>\n",
       "      <td>-71.081000</td>\n",
       "      <td>36.450000</td>\n",
       "      <td>31.910000</td>\n",
       "      <td>0.000000</td>\n",
       "      <td>0.000000</td>\n",
       "      <td>0.640000</td>\n",
       "      <td>3.410000</td>\n",
       "      <td>4.060000</td>\n",
       "      <td>1.543432e+09</td>\n",
       "      <td>8.432000</td>\n",
       "      <td>42.570000</td>\n",
       "      <td>1.543439e+09</td>\n",
       "      <td>30.170000</td>\n",
       "      <td>1.543489e+09</td>\n",
       "      <td>36.570000</td>\n",
       "      <td>1.543439e+09</td>\n",
       "      <td>27.700000</td>\n",
       "      <td>1.543478e+09</td>\n",
       "      <td>27.490000</td>\n",
       "      <td>999.820000</td>\n",
       "      <td>124.000000</td>\n",
       "      <td>0.370000</td>\n",
       "      <td>0.000000</td>\n",
       "      <td>8.432000</td>\n",
       "      <td>290.900000</td>\n",
       "      <td>1.543406e+09</td>\n",
       "      <td>1.543440e+09</td>\n",
       "      <td>0.300000</td>\n",
       "      <td>0.000000</td>\n",
       "      <td>1.543421e+09</td>\n",
       "      <td>30.170000</td>\n",
       "      <td>1.543399e+09</td>\n",
       "      <td>42.570000</td>\n",
       "      <td>1.543439e+09</td>\n",
       "      <td>27.760000</td>\n",
       "      <td>1.543399e+09</td>\n",
       "      <td>36.570000</td>\n",
       "      <td>1.543439e+09</td>\n",
       "    </tr>\n",
       "    <tr>\n",
       "      <th>50%</th>\n",
       "      <td>1.543737e+09</td>\n",
       "      <td>12.000000</td>\n",
       "      <td>17.000000</td>\n",
       "      <td>12.000000</td>\n",
       "      <td>13.500000</td>\n",
       "      <td>2.160000</td>\n",
       "      <td>1.000000</td>\n",
       "      <td>42.351900</td>\n",
       "      <td>-71.063100</td>\n",
       "      <td>40.490000</td>\n",
       "      <td>35.900000</td>\n",
       "      <td>0.000000</td>\n",
       "      <td>0.000000</td>\n",
       "      <td>0.710000</td>\n",
       "      <td>5.910000</td>\n",
       "      <td>7.550000</td>\n",
       "      <td>1.543756e+09</td>\n",
       "      <td>9.880000</td>\n",
       "      <td>44.680000</td>\n",
       "      <td>1.543788e+09</td>\n",
       "      <td>34.180000</td>\n",
       "      <td>1.543817e+09</td>\n",
       "      <td>40.950000</td>\n",
       "      <td>1.543788e+09</td>\n",
       "      <td>30.030000</td>\n",
       "      <td>1.543817e+09</td>\n",
       "      <td>30.690000</td>\n",
       "      <td>1009.250000</td>\n",
       "      <td>258.000000</td>\n",
       "      <td>0.820000</td>\n",
       "      <td>0.000000</td>\n",
       "      <td>9.880000</td>\n",
       "      <td>307.400000</td>\n",
       "      <td>1.543752e+09</td>\n",
       "      <td>1.543785e+09</td>\n",
       "      <td>0.680000</td>\n",
       "      <td>0.000400</td>\n",
       "      <td>1.543770e+09</td>\n",
       "      <td>34.240000</td>\n",
       "      <td>1.543727e+09</td>\n",
       "      <td>44.680000</td>\n",
       "      <td>1.543788e+09</td>\n",
       "      <td>30.130000</td>\n",
       "      <td>1.543745e+09</td>\n",
       "      <td>40.950000</td>\n",
       "      <td>1.543788e+09</td>\n",
       "    </tr>\n",
       "    <tr>\n",
       "      <th>75%</th>\n",
       "      <td>1.544828e+09</td>\n",
       "      <td>18.000000</td>\n",
       "      <td>28.000000</td>\n",
       "      <td>12.000000</td>\n",
       "      <td>22.500000</td>\n",
       "      <td>2.920000</td>\n",
       "      <td>1.000000</td>\n",
       "      <td>42.364700</td>\n",
       "      <td>-71.054200</td>\n",
       "      <td>43.580000</td>\n",
       "      <td>40.080000</td>\n",
       "      <td>0.000000</td>\n",
       "      <td>0.000000</td>\n",
       "      <td>0.880000</td>\n",
       "      <td>8.410000</td>\n",
       "      <td>11.740000</td>\n",
       "      <td>1.544846e+09</td>\n",
       "      <td>9.996000</td>\n",
       "      <td>46.910000</td>\n",
       "      <td>1.544814e+09</td>\n",
       "      <td>38.730000</td>\n",
       "      <td>1.544836e+09</td>\n",
       "      <td>44.120000</td>\n",
       "      <td>1.544818e+09</td>\n",
       "      <td>35.320000</td>\n",
       "      <td>1.544836e+09</td>\n",
       "      <td>38.120000</td>\n",
       "      <td>1021.860000</td>\n",
       "      <td>303.000000</td>\n",
       "      <td>1.000000</td>\n",
       "      <td>0.000000</td>\n",
       "      <td>9.996000</td>\n",
       "      <td>331.800000</td>\n",
       "      <td>1.544789e+09</td>\n",
       "      <td>1.544822e+09</td>\n",
       "      <td>0.790000</td>\n",
       "      <td>0.091600</td>\n",
       "      <td>1.544807e+09</td>\n",
       "      <td>38.880000</td>\n",
       "      <td>1.544789e+09</td>\n",
       "      <td>46.910000</td>\n",
       "      <td>1.544814e+09</td>\n",
       "      <td>35.710000</td>\n",
       "      <td>1.544789e+09</td>\n",
       "      <td>44.120000</td>\n",
       "      <td>1.544818e+09</td>\n",
       "    </tr>\n",
       "    <tr>\n",
       "      <th>max</th>\n",
       "      <td>1.545161e+09</td>\n",
       "      <td>23.000000</td>\n",
       "      <td>30.000000</td>\n",
       "      <td>12.000000</td>\n",
       "      <td>97.500000</td>\n",
       "      <td>7.860000</td>\n",
       "      <td>3.000000</td>\n",
       "      <td>42.366100</td>\n",
       "      <td>-71.033000</td>\n",
       "      <td>57.220000</td>\n",
       "      <td>57.220000</td>\n",
       "      <td>0.144700</td>\n",
       "      <td>1.000000</td>\n",
       "      <td>0.960000</td>\n",
       "      <td>15.000000</td>\n",
       "      <td>27.250000</td>\n",
       "      <td>1.545127e+09</td>\n",
       "      <td>10.000000</td>\n",
       "      <td>57.870000</td>\n",
       "      <td>1.545160e+09</td>\n",
       "      <td>46.600000</td>\n",
       "      <td>1.545221e+09</td>\n",
       "      <td>57.200000</td>\n",
       "      <td>1.545160e+09</td>\n",
       "      <td>47.250000</td>\n",
       "      <td>1.545199e+09</td>\n",
       "      <td>50.670000</td>\n",
       "      <td>1035.550000</td>\n",
       "      <td>356.000000</td>\n",
       "      <td>1.000000</td>\n",
       "      <td>2.000000</td>\n",
       "      <td>10.000000</td>\n",
       "      <td>378.900000</td>\n",
       "      <td>1.545135e+09</td>\n",
       "      <td>1.545168e+09</td>\n",
       "      <td>0.930000</td>\n",
       "      <td>0.145900</td>\n",
       "      <td>1.545152e+09</td>\n",
       "      <td>43.100000</td>\n",
       "      <td>1.545192e+09</td>\n",
       "      <td>57.870000</td>\n",
       "      <td>1.545109e+09</td>\n",
       "      <td>40.050000</td>\n",
       "      <td>1.545134e+09</td>\n",
       "      <td>57.200000</td>\n",
       "      <td>1.545109e+09</td>\n",
       "    </tr>\n",
       "  </tbody>\n",
       "</table>\n",
       "</div>"
      ],
      "text/plain": [
       "          timestamp           hour            day          month   \n",
       "count  6.930710e+05  693071.000000  693071.000000  693071.000000  \\\n",
       "mean   1.544046e+09      11.619137      17.794365      11.586684   \n",
       "std    6.891925e+05       6.948114       9.982286       0.492429   \n",
       "min    1.543204e+09       0.000000       1.000000      11.000000   \n",
       "25%    1.543444e+09       6.000000      13.000000      11.000000   \n",
       "50%    1.543737e+09      12.000000      17.000000      12.000000   \n",
       "75%    1.544828e+09      18.000000      28.000000      12.000000   \n",
       "max    1.545161e+09      23.000000      30.000000      12.000000   \n",
       "\n",
       "               price       distance  surge_multiplier       latitude   \n",
       "count  637976.000000  693071.000000     693071.000000  693071.000000  \\\n",
       "mean       16.545125       2.189430          1.013870      42.338172   \n",
       "std         9.324359       1.138937          0.091641       0.047840   \n",
       "min         2.500000       0.020000          1.000000      42.214800   \n",
       "25%         9.000000       1.280000          1.000000      42.350300   \n",
       "50%        13.500000       2.160000          1.000000      42.351900   \n",
       "75%        22.500000       2.920000          1.000000      42.364700   \n",
       "max        97.500000       7.860000          3.000000      42.366100   \n",
       "\n",
       "           longitude    temperature  apparentTemperature  precipIntensity   \n",
       "count  693071.000000  693071.000000        693071.000000    693071.000000  \\\n",
       "mean      -71.066151      39.584388            35.881222         0.008922   \n",
       "std         0.020302       6.726084             7.918707         0.026901   \n",
       "min       -71.105400      18.910000            12.130000         0.000000   \n",
       "25%       -71.081000      36.450000            31.910000         0.000000   \n",
       "50%       -71.063100      40.490000            35.900000         0.000000   \n",
       "75%       -71.054200      43.580000            40.080000         0.000000   \n",
       "max       -71.033000      57.220000            57.220000         0.144700   \n",
       "\n",
       "       precipProbability       humidity      windSpeed       windGust   \n",
       "count      693071.000000  693071.000000  693071.000000  693071.000000  \\\n",
       "mean            0.146076       0.741119       6.186253       8.469860   \n",
       "std             0.328938       0.138595       3.148223       5.289179   \n",
       "min             0.000000       0.380000       0.450000       0.800000   \n",
       "25%             0.000000       0.640000       3.410000       4.060000   \n",
       "50%             0.000000       0.710000       5.910000       7.550000   \n",
       "75%             0.000000       0.880000       8.410000      11.740000   \n",
       "max             1.000000       0.960000      15.000000      27.250000   \n",
       "\n",
       "       windGustTime     visibility  temperatureHigh  temperatureHighTime   \n",
       "count  6.930710e+05  693071.000000    693071.000000         6.930710e+05  \\\n",
       "mean   1.544049e+09       8.467970        45.040982         1.544050e+09   \n",
       "std    6.928244e+05       2.602888         5.996541         6.937921e+05   \n",
       "min    1.543151e+09       0.717000        32.680000         1.543154e+09   \n",
       "25%    1.543432e+09       8.432000        42.570000         1.543439e+09   \n",
       "50%    1.543756e+09       9.880000        44.680000         1.543788e+09   \n",
       "75%    1.544846e+09       9.996000        46.910000         1.544814e+09   \n",
       "max    1.545127e+09      10.000000        57.870000         1.545160e+09   \n",
       "\n",
       "       temperatureLow  temperatureLowTime  apparentTemperatureHigh   \n",
       "count   693071.000000        6.930710e+05            693071.000000  \\\n",
       "mean        34.150736        1.544102e+09                41.614054   \n",
       "std          6.383163        6.922923e+05                 7.666138   \n",
       "min         17.850000        1.543234e+09                22.620000   \n",
       "25%         30.170000        1.543489e+09                36.570000   \n",
       "50%         34.180000        1.543817e+09                40.950000   \n",
       "75%         38.730000        1.544836e+09                44.120000   \n",
       "max         46.600000        1.545221e+09                57.200000   \n",
       "\n",
       "       apparentTemperatureHighTime  apparentTemperatureLow   \n",
       "count                 6.930710e+05           693071.000000  \\\n",
       "mean                  1.544050e+09               30.139824   \n",
       "std                   6.941699e+05                8.057468   \n",
       "min                   1.543187e+09               11.810000   \n",
       "25%                   1.543439e+09               27.700000   \n",
       "50%                   1.543788e+09               30.030000   \n",
       "75%                   1.544818e+09               35.320000   \n",
       "max                   1.545160e+09               47.250000   \n",
       "\n",
       "       apparentTemperatureLowTime       dewPoint       pressure   \n",
       "count                6.930710e+05  693071.000000  693071.000000  \\\n",
       "mean                 1.544099e+09      31.656256    1010.094766   \n",
       "std                  6.927378e+05       9.142355      13.472899   \n",
       "min                  1.543234e+09       4.390000     988.090000   \n",
       "25%                  1.543478e+09      27.490000     999.820000   \n",
       "50%                  1.543817e+09      30.690000    1009.250000   \n",
       "75%                  1.544836e+09      38.120000    1021.860000   \n",
       "max                  1.545199e+09      50.670000    1035.550000   \n",
       "\n",
       "         windBearing     cloudCover        uvIndex   visibility.1   \n",
       "count  693071.000000  693071.000000  693071.000000  693071.000000  \\\n",
       "mean      220.055853       0.686502       0.248908       8.467970   \n",
       "std        99.102736       0.358534       0.474097       2.602888   \n",
       "min         2.000000       0.000000       0.000000       0.717000   \n",
       "25%       124.000000       0.370000       0.000000       8.432000   \n",
       "50%       258.000000       0.820000       0.000000       9.880000   \n",
       "75%       303.000000       1.000000       0.000000       9.996000   \n",
       "max       356.000000       1.000000       2.000000      10.000000   \n",
       "\n",
       "               ozone   sunriseTime    sunsetTime      moonPhase   \n",
       "count  693071.000000  6.930710e+05  6.930710e+05  693071.000000  \\\n",
       "mean      313.513635  1.544027e+09  1.544060e+09       0.579066   \n",
       "std        27.953061  6.911393e+05  6.906634e+05       0.244705   \n",
       "min       269.400000  1.543147e+09  1.543181e+09       0.090000   \n",
       "25%       290.900000  1.543406e+09  1.543440e+09       0.300000   \n",
       "50%       307.400000  1.543752e+09  1.543785e+09       0.680000   \n",
       "75%       331.800000  1.544789e+09  1.544822e+09       0.790000   \n",
       "max       378.900000  1.545135e+09  1.545168e+09       0.930000   \n",
       "\n",
       "       precipIntensityMax   uvIndexTime  temperatureMin  temperatureMinTime   \n",
       "count       693071.000000  6.930710e+05   693071.000000        6.930710e+05  \\\n",
       "mean             0.037374  1.544044e+09       33.457774        1.544042e+09   \n",
       "std              0.055214  6.912028e+05        6.467224        6.901954e+05   \n",
       "min              0.000000  1.543162e+09       15.630000        1.543122e+09   \n",
       "25%              0.000000  1.543421e+09       30.170000        1.543399e+09   \n",
       "50%              0.000400  1.543770e+09       34.240000        1.543727e+09   \n",
       "75%              0.091600  1.544807e+09       38.880000        1.544789e+09   \n",
       "max              0.145900  1.545152e+09       43.100000        1.545192e+09   \n",
       "\n",
       "       temperatureMax  temperatureMaxTime  apparentTemperatureMin   \n",
       "count   693071.000000        6.930710e+05           693071.000000  \\\n",
       "mean        45.261313        1.544047e+09               29.731002   \n",
       "std          5.645046        6.901353e+05                7.110494   \n",
       "min         33.510000        1.543154e+09               11.810000   \n",
       "25%         42.570000        1.543439e+09               27.760000   \n",
       "50%         44.680000        1.543788e+09               30.130000   \n",
       "75%         46.910000        1.544814e+09               35.710000   \n",
       "max         57.870000        1.545109e+09               40.050000   \n",
       "\n",
       "       apparentTemperatureMinTime  apparentTemperatureMax   \n",
       "count                6.930710e+05           693071.000000  \\\n",
       "mean                 1.544048e+09               41.997343   \n",
       "std                  6.871862e+05                6.936841   \n",
       "min                  1.543136e+09               28.950000   \n",
       "25%                  1.543399e+09               36.570000   \n",
       "50%                  1.543745e+09               40.950000   \n",
       "75%                  1.544789e+09               44.120000   \n",
       "max                  1.545134e+09               57.200000   \n",
       "\n",
       "       apparentTemperatureMaxTime  \n",
       "count                6.930710e+05  \n",
       "mean                 1.544048e+09  \n",
       "std                  6.910777e+05  \n",
       "min                  1.543187e+09  \n",
       "25%                  1.543439e+09  \n",
       "50%                  1.543788e+09  \n",
       "75%                  1.544818e+09  \n",
       "max                  1.545109e+09  "
      ]
     },
     "execution_count": 12,
     "metadata": {},
     "output_type": "execute_result"
    }
   ],
   "source": [
    "df_numerical_col = df[['timestamp', 'hour', 'day', 'month', 'price', 'distance',\n",
    "       'surge_multiplier', 'latitude', 'longitude', 'temperature',\n",
    "       'apparentTemperature', 'precipIntensity', 'precipProbability',\n",
    "       'humidity', 'windSpeed', 'windGust', 'windGustTime', 'visibility',\n",
    "       'temperatureHigh', 'temperatureHighTime', 'temperatureLow',\n",
    "       'temperatureLowTime', 'apparentTemperatureHigh',\n",
    "       'apparentTemperatureHighTime', 'apparentTemperatureLow',\n",
    "       'apparentTemperatureLowTime', 'dewPoint', 'pressure', 'windBearing',\n",
    "       'cloudCover', 'uvIndex', 'visibility.1', 'ozone', 'sunriseTime',\n",
    "       'sunsetTime', 'moonPhase', 'precipIntensityMax', 'uvIndexTime',\n",
    "       'temperatureMin', 'temperatureMinTime', 'temperatureMax',\n",
    "       'temperatureMaxTime', 'apparentTemperatureMin',\n",
    "       'apparentTemperatureMinTime', 'apparentTemperatureMax',\n",
    "       'apparentTemperatureMaxTime']]\n",
    "\n",
    "df_numerical_col.describe()"
   ]
  },
  {
   "cell_type": "code",
   "execution_count": 13,
   "id": "7768f2cd",
   "metadata": {},
   "outputs": [
    {
     "data": {
      "text/html": [
       "<div>\n",
       "<style scoped>\n",
       "    .dataframe tbody tr th:only-of-type {\n",
       "        vertical-align: middle;\n",
       "    }\n",
       "\n",
       "    .dataframe tbody tr th {\n",
       "        vertical-align: top;\n",
       "    }\n",
       "\n",
       "    .dataframe thead th {\n",
       "        text-align: right;\n",
       "    }\n",
       "</style>\n",
       "<table border=\"1\" class=\"dataframe\">\n",
       "  <thead>\n",
       "    <tr style=\"text-align: right;\">\n",
       "      <th></th>\n",
       "      <th>id</th>\n",
       "      <th>datetime</th>\n",
       "      <th>timezone</th>\n",
       "      <th>source</th>\n",
       "      <th>destination</th>\n",
       "      <th>cab_type</th>\n",
       "      <th>product_id</th>\n",
       "      <th>name</th>\n",
       "      <th>short_summary</th>\n",
       "      <th>long_summary</th>\n",
       "      <th>icon</th>\n",
       "    </tr>\n",
       "  </thead>\n",
       "  <tbody>\n",
       "    <tr>\n",
       "      <th>count</th>\n",
       "      <td>693071</td>\n",
       "      <td>693071</td>\n",
       "      <td>693071</td>\n",
       "      <td>693071</td>\n",
       "      <td>693071</td>\n",
       "      <td>693071</td>\n",
       "      <td>693071</td>\n",
       "      <td>693071</td>\n",
       "      <td>693071</td>\n",
       "      <td>693071</td>\n",
       "      <td>693071</td>\n",
       "    </tr>\n",
       "    <tr>\n",
       "      <th>unique</th>\n",
       "      <td>693071</td>\n",
       "      <td>31350</td>\n",
       "      <td>1</td>\n",
       "      <td>12</td>\n",
       "      <td>12</td>\n",
       "      <td>2</td>\n",
       "      <td>13</td>\n",
       "      <td>13</td>\n",
       "      <td>9</td>\n",
       "      <td>11</td>\n",
       "      <td>7</td>\n",
       "    </tr>\n",
       "    <tr>\n",
       "      <th>top</th>\n",
       "      <td>424553bb-7174-41ea-aeb4-fe06d4f4b9d7</td>\n",
       "      <td>2018-11-26 23:21:14</td>\n",
       "      <td>America/New_York</td>\n",
       "      <td>Financial District</td>\n",
       "      <td>Financial District</td>\n",
       "      <td>Uber</td>\n",
       "      <td>6f72dfc5-27f1-42e8-84db-ccc7a75f6969</td>\n",
       "      <td>UberXL</td>\n",
       "      <td>Overcast</td>\n",
       "      <td>Mostly cloudy throughout the day.</td>\n",
       "      <td>cloudy</td>\n",
       "    </tr>\n",
       "    <tr>\n",
       "      <th>freq</th>\n",
       "      <td>1</td>\n",
       "      <td>156</td>\n",
       "      <td>693071</td>\n",
       "      <td>58857</td>\n",
       "      <td>58851</td>\n",
       "      <td>385663</td>\n",
       "      <td>55096</td>\n",
       "      <td>55096</td>\n",
       "      <td>218895</td>\n",
       "      <td>202340</td>\n",
       "      <td>218895</td>\n",
       "    </tr>\n",
       "  </tbody>\n",
       "</table>\n",
       "</div>"
      ],
      "text/plain": [
       "                                          id             datetime   \n",
       "count                                 693071               693071  \\\n",
       "unique                                693071                31350   \n",
       "top     424553bb-7174-41ea-aeb4-fe06d4f4b9d7  2018-11-26 23:21:14   \n",
       "freq                                       1                  156   \n",
       "\n",
       "                timezone              source         destination cab_type   \n",
       "count             693071              693071              693071   693071  \\\n",
       "unique                 1                  12                  12        2   \n",
       "top     America/New_York  Financial District  Financial District     Uber   \n",
       "freq              693071               58857               58851   385663   \n",
       "\n",
       "                                  product_id    name short_summary   \n",
       "count                                 693071  693071        693071  \\\n",
       "unique                                    13      13             9   \n",
       "top     6f72dfc5-27f1-42e8-84db-ccc7a75f6969  UberXL     Overcast    \n",
       "freq                                   55096   55096        218895   \n",
       "\n",
       "                               long_summary      icon  \n",
       "count                                693071    693071  \n",
       "unique                                   11         7  \n",
       "top      Mostly cloudy throughout the day.    cloudy   \n",
       "freq                                 202340    218895  "
      ]
     },
     "execution_count": 13,
     "metadata": {},
     "output_type": "execute_result"
    }
   ],
   "source": [
    "df_categorical_col = df[['id', 'datetime', 'timezone', 'source', 'destination', 'cab_type',\n",
    "       'product_id', 'name', 'short_summary', 'long_summary', 'icon']]\n",
    "\n",
    "df_categorical_col.describe()"
   ]
  },
  {
   "cell_type": "code",
   "execution_count": 14,
   "id": "0e4944d5",
   "metadata": {},
   "outputs": [
    {
     "data": {
      "text/plain": [
       "(693071, 57)"
      ]
     },
     "execution_count": 14,
     "metadata": {},
     "output_type": "execute_result"
    }
   ],
   "source": [
    "df.shape"
   ]
  },
  {
   "attachments": {},
   "cell_type": "markdown",
   "id": "bbb0f57a",
   "metadata": {},
   "source": [
    "### Handling missing values"
   ]
  },
  {
   "cell_type": "code",
   "execution_count": 7,
   "id": "5cd2438e",
   "metadata": {},
   "outputs": [],
   "source": [
    "df['price'] = df['price'].fillna(df['price'].median())"
   ]
  },
  {
   "cell_type": "code",
   "execution_count": 8,
   "id": "953b9524",
   "metadata": {},
   "outputs": [
    {
     "data": {
      "text/plain": [
       "(693071, 57)"
      ]
     },
     "execution_count": 8,
     "metadata": {},
     "output_type": "execute_result"
    }
   ],
   "source": [
    "df.shape"
   ]
  },
  {
   "attachments": {},
   "cell_type": "markdown",
   "id": "2a56e808",
   "metadata": {},
   "source": [
    "### Checking For Outliers"
   ]
  },
  {
   "cell_type": "code",
   "execution_count": 17,
   "id": "b6dd3d91",
   "metadata": {},
   "outputs": [
    {
     "data": {
      "image/png": "[encoded data removed]",
      "text/plain": [
       "<Figure size 2880x3600 with 46 Axes>"
      ]
     },
     "metadata": {
      "needs_background": "light"
     },
     "output_type": "display_data"
    }
   ],
   "source": [
    "fig = plt.figure(figsize=[40,50])\n",
    "for i ,col in enumerate(numerical_col):  \n",
    "    ax1 = fig.add_subplot(10,5, i+1);\n",
    "    ax1 = sns.boxplot(data = df, x=col)"
   ]
  },
  {
   "attachments": {},
   "cell_type": "markdown",
   "id": "b3a78aa1",
   "metadata": {},
   "source": [
    "### Handling Outliers"
   ]
  },
  {
   "cell_type": "code",
   "execution_count": 9,
   "id": "ef0090b1",
   "metadata": {},
   "outputs": [],
   "source": [
    "# Calculate IQR for numerical columns\n",
    "Q1 = df[numerical_col].quantile(0.25)\n",
    "Q3 = df[numerical_col].quantile(0.75)\n",
    "IQR = Q3 - Q1\n",
    "\n",
    "# Remove data points outside the lower and upper bounds\n",
    "lower_bound = Q1 - 1.5 * IQR\n",
    "upper_bound = Q3 + 1.5 * IQR\n",
    "df = df[~((df[numerical_col] < lower_bound) | (df[numerical_col] > upper_bound)).any(axis=1)]"
   ]
  },
  {
   "cell_type": "code",
   "execution_count": 10,
   "id": "67c57ea6",
   "metadata": {},
   "outputs": [],
   "source": [
    "lower_percentile = 5\n",
    "upper_percentile = 95\n",
    "\n",
    "# Calculate lower and upper bounds based on percentiles\n",
    "lower_bound = df[numerical_col].quantile(lower_percentile / 100)\n",
    "upper_bound = df[numerical_col].quantile(upper_percentile / 100)\n",
    "\n",
    "# Replace values below lower percentile with lower bound and values above upper percentile with upper bound\n",
    "df[numerical_col] = np.where(df[numerical_col] < lower_bound, lower_bound, df[numerical_col])\n",
    "df[numerical_col] = np.where(df[numerical_col] > upper_bound, upper_bound, df[numerical_col])\n"
   ]
  },
  {
   "cell_type": "code",
   "execution_count": 20,
   "id": "c59ee86c",
   "metadata": {
    "scrolled": true
   },
   "outputs": [
    {
     "data": {
      "image/png": "[encoded data removed]",
      "text/plain": [
       "<Figure size 2880x3600 with 46 Axes>"
      ]
     },
     "metadata": {
      "needs_background": "light"
     },
     "output_type": "display_data"
    }
   ],
   "source": [
    "#After Handling Outliers\n",
    "fig = plt.figure(figsize=[40,50])\n",
    "for i ,col in enumerate(numerical_col):  \n",
    "    ax1 = fig.add_subplot(10,5, i+1);\n",
    "    ax1 = sns.boxplot(data = df, x=col)"
   ]
  },
  {
   "attachments": {},
   "cell_type": "markdown",
   "id": "a3b8c145",
   "metadata": {},
   "source": [
    "#### Analyzing data"
   ]
  },
  {
   "cell_type": "code",
   "execution_count": 11,
   "id": "c54be01d",
   "metadata": {},
   "outputs": [],
   "source": [
    "import calendar"
   ]
  },
  {
   "cell_type": "code",
   "execution_count": 12,
   "id": "bc3b25c9",
   "metadata": {},
   "outputs": [],
   "source": [
    "#Creating a new date column in datetime format \n",
    "df[\"date\"] = pd.to_datetime(df['datetime'], format=\"%Y-%m-%d %H:%M:%S\")"
   ]
  },
  {
   "cell_type": "code",
   "execution_count": 13,
   "id": "08638d7f",
   "metadata": {},
   "outputs": [],
   "source": [
    "#Cretaing new columns from date\n",
    "df['HOURS'] = [x.hour for x in df['date']]\n",
    "df['DAY'] = [x.day for x in df['date']]\n",
    "df['MONTH'] = [x.month for x in df['date']]\n",
    "df['DAY_OF_WEEK'] = [x.day_of_week for x in df['date']]\n",
    "df[\"WEEKDAY\"] = [calendar.day_name[x.day_of_week] for x in df['date']]"
   ]
  },
  {
   "cell_type": "code",
   "execution_count": 24,
   "id": "d40dc408",
   "metadata": {},
   "outputs": [
    {
     "data": {
      "image/png": "[encoded data removed]",
      "text/plain": [
       "<Figure size 1152x432 with 1 Axes>"
      ]
     },
     "metadata": {
      "needs_background": "light"
     },
     "output_type": "display_data"
    }
   ],
   "source": [
    "#visualizing trip of every day\n",
    "plt.figure(figsize=(16,6))\n",
    "df[\"WEEKDAY\"].value_counts().plot(kind='barh')\n",
    "plt.xlabel(\"Frequency\")\n",
    "plt.title(\"Number of tripes vs days\", fontsize=22)\n",
    "plt.show()"
   ]
  },
  {
   "cell_type": "code",
   "execution_count": 14,
   "id": "db710e70",
   "metadata": {},
   "outputs": [
    {
     "data": {
      "text/plain": [
       "['Haymarket Square',\n",
       " 'Back Bay',\n",
       " 'North End',\n",
       " 'North Station',\n",
       " 'Beacon Hill',\n",
       " 'Boston University',\n",
       " 'Fenway',\n",
       " 'South Station',\n",
       " 'Theatre District',\n",
       " 'West End',\n",
       " 'Financial District',\n",
       " 'Northeastern University']"
      ]
     },
     "execution_count": 14,
     "metadata": {},
     "output_type": "execute_result"
    }
   ],
   "source": [
    "# Creating lists for source and counts\n",
    "src_freq = list(data[\"source\"].value_counts())\n",
    "src = list(data['source'].unique())\n",
    "src"
   ]
  },
  {
   "cell_type": "code",
   "execution_count": 15,
   "id": "73660a33",
   "metadata": {},
   "outputs": [
    {
     "data": {
      "text/html": [
       "<div>\n",
       "<style scoped>\n",
       "    .dataframe tbody tr th:only-of-type {\n",
       "        vertical-align: middle;\n",
       "    }\n",
       "\n",
       "    .dataframe tbody tr th {\n",
       "        vertical-align: top;\n",
       "    }\n",
       "\n",
       "    .dataframe thead th {\n",
       "        text-align: right;\n",
       "    }\n",
       "</style>\n",
       "<table border=\"1\" class=\"dataframe\">\n",
       "  <thead>\n",
       "    <tr style=\"text-align: right;\">\n",
       "      <th></th>\n",
       "      <th>source</th>\n",
       "      <th>count</th>\n",
       "    </tr>\n",
       "  </thead>\n",
       "  <tbody>\n",
       "    <tr>\n",
       "      <th>0</th>\n",
       "      <td>North Station</td>\n",
       "      <td>18362</td>\n",
       "    </tr>\n",
       "    <tr>\n",
       "      <th>1</th>\n",
       "      <td>North End</td>\n",
       "      <td>18350</td>\n",
       "    </tr>\n",
       "    <tr>\n",
       "      <th>2</th>\n",
       "      <td>West End</td>\n",
       "      <td>18336</td>\n",
       "    </tr>\n",
       "    <tr>\n",
       "      <th>3</th>\n",
       "      <td>Haymarket Square</td>\n",
       "      <td>18246</td>\n",
       "    </tr>\n",
       "    <tr>\n",
       "      <th>4</th>\n",
       "      <td>South Station</td>\n",
       "      <td>18040</td>\n",
       "    </tr>\n",
       "    <tr>\n",
       "      <th>5</th>\n",
       "      <td>Beacon Hill</td>\n",
       "      <td>17897</td>\n",
       "    </tr>\n",
       "    <tr>\n",
       "      <th>6</th>\n",
       "      <td>Fenway</td>\n",
       "      <td>17590</td>\n",
       "    </tr>\n",
       "    <tr>\n",
       "      <th>7</th>\n",
       "      <td>Northeastern University</td>\n",
       "      <td>17461</td>\n",
       "    </tr>\n",
       "    <tr>\n",
       "      <th>8</th>\n",
       "      <td>Theatre District</td>\n",
       "      <td>17398</td>\n",
       "    </tr>\n",
       "    <tr>\n",
       "      <th>9</th>\n",
       "      <td>Boston University</td>\n",
       "      <td>17343</td>\n",
       "    </tr>\n",
       "    <tr>\n",
       "      <th>10</th>\n",
       "      <td>Back Bay</td>\n",
       "      <td>17155</td>\n",
       "    </tr>\n",
       "    <tr>\n",
       "      <th>11</th>\n",
       "      <td>Financial District</td>\n",
       "      <td>16051</td>\n",
       "    </tr>\n",
       "  </tbody>\n",
       "</table>\n",
       "</div>"
      ],
      "text/plain": [
       "                     source  count\n",
       "0             North Station  18362\n",
       "1                 North End  18350\n",
       "2                  West End  18336\n",
       "3          Haymarket Square  18246\n",
       "4             South Station  18040\n",
       "5               Beacon Hill  17897\n",
       "6                    Fenway  17590\n",
       "7   Northeastern University  17461\n",
       "8          Theatre District  17398\n",
       "9         Boston University  17343\n",
       "10                 Back Bay  17155\n",
       "11       Financial District  16051"
      ]
     },
     "execution_count": 15,
     "metadata": {},
     "output_type": "execute_result"
    }
   ],
   "source": [
    "df[\"source\"].value_counts().reset_index()"
   ]
  },
  {
   "cell_type": "code",
   "execution_count": 27,
   "id": "baf725de",
   "metadata": {},
   "outputs": [
    {
     "data": {
      "image/png": "[encoded data removed]",
      "text/plain": [
       "<Figure size 576x576 with 1 Axes>"
      ]
     },
     "metadata": {},
     "output_type": "display_data"
    }
   ],
   "source": [
    "#Pie plot for visualizing source feature\n",
    "import matplotlib.pyplot as plt\n",
    "\n",
    "def make_autopct(values):\n",
    "    def my_autopct(pct):\n",
    "        return '{p:.1f}%'.format(p=pct)\n",
    "    return my_autopct\n",
    "\n",
    "fig, ax = plt.subplots(figsize=(8, 8))\n",
    "ax.pie(src_freq, labels=src, autopct=make_autopct(src_freq))\n",
    "ax.set_title(\"Percentage count of source\", fontsize=15)\n",
    "plt.show()"
   ]
  },
  {
   "attachments": {},
   "cell_type": "markdown",
   "id": "d585421d",
   "metadata": {},
   "source": [
    "### Converting object datatype to integer"
   ]
  },
  {
   "cell_type": "code",
   "execution_count": 16,
   "id": "a0073fa5",
   "metadata": {},
   "outputs": [],
   "source": [
    "#Converting all categorical fetures into numerical by labelencoding\n",
    "from sklearn.preprocessing import LabelEncoder\n",
    "\n",
    "lblEn = LabelEncoder()\n",
    "\n",
    "for col in categorical_col:\n",
    "    df[col] = lblEn.fit_transform(df[col])"
   ]
  },
  {
   "cell_type": "code",
   "execution_count": 29,
   "id": "eb215948",
   "metadata": {},
   "outputs": [
    {
     "data": {
      "text/html": [
       "<div>\n",
       "<style scoped>\n",
       "    .dataframe tbody tr th:only-of-type {\n",
       "        vertical-align: middle;\n",
       "    }\n",
       "\n",
       "    .dataframe tbody tr th {\n",
       "        vertical-align: top;\n",
       "    }\n",
       "\n",
       "    .dataframe thead th {\n",
       "        text-align: right;\n",
       "    }\n",
       "</style>\n",
       "<table border=\"1\" class=\"dataframe\">\n",
       "  <thead>\n",
       "    <tr style=\"text-align: right;\">\n",
       "      <th></th>\n",
       "      <th>id</th>\n",
       "      <th>timestamp</th>\n",
       "      <th>hour</th>\n",
       "      <th>day</th>\n",
       "      <th>month</th>\n",
       "      <th>datetime</th>\n",
       "      <th>timezone</th>\n",
       "      <th>source</th>\n",
       "      <th>destination</th>\n",
       "      <th>cab_type</th>\n",
       "      <th>product_id</th>\n",
       "      <th>name</th>\n",
       "      <th>price</th>\n",
       "      <th>distance</th>\n",
       "      <th>surge_multiplier</th>\n",
       "      <th>latitude</th>\n",
       "      <th>longitude</th>\n",
       "      <th>temperature</th>\n",
       "      <th>apparentTemperature</th>\n",
       "      <th>short_summary</th>\n",
       "      <th>long_summary</th>\n",
       "      <th>precipIntensity</th>\n",
       "      <th>precipProbability</th>\n",
       "      <th>humidity</th>\n",
       "      <th>windSpeed</th>\n",
       "      <th>windGust</th>\n",
       "      <th>windGustTime</th>\n",
       "      <th>visibility</th>\n",
       "      <th>temperatureHigh</th>\n",
       "      <th>temperatureHighTime</th>\n",
       "      <th>temperatureLow</th>\n",
       "      <th>temperatureLowTime</th>\n",
       "      <th>apparentTemperatureHigh</th>\n",
       "      <th>apparentTemperatureHighTime</th>\n",
       "      <th>apparentTemperatureLow</th>\n",
       "      <th>apparentTemperatureLowTime</th>\n",
       "      <th>icon</th>\n",
       "      <th>dewPoint</th>\n",
       "      <th>pressure</th>\n",
       "      <th>windBearing</th>\n",
       "      <th>cloudCover</th>\n",
       "      <th>uvIndex</th>\n",
       "      <th>visibility.1</th>\n",
       "      <th>ozone</th>\n",
       "      <th>sunriseTime</th>\n",
       "      <th>sunsetTime</th>\n",
       "      <th>moonPhase</th>\n",
       "      <th>precipIntensityMax</th>\n",
       "      <th>uvIndexTime</th>\n",
       "      <th>temperatureMin</th>\n",
       "      <th>temperatureMinTime</th>\n",
       "      <th>temperatureMax</th>\n",
       "      <th>temperatureMaxTime</th>\n",
       "      <th>apparentTemperatureMin</th>\n",
       "      <th>apparentTemperatureMinTime</th>\n",
       "      <th>apparentTemperatureMax</th>\n",
       "      <th>apparentTemperatureMaxTime</th>\n",
       "      <th>date</th>\n",
       "      <th>HOURS</th>\n",
       "      <th>DAY</th>\n",
       "      <th>MONTH</th>\n",
       "      <th>DAY_OF_WEEK</th>\n",
       "      <th>WEEKDAY</th>\n",
       "    </tr>\n",
       "  </thead>\n",
       "  <tbody>\n",
       "    <tr>\n",
       "      <th>11</th>\n",
       "      <td>179510</td>\n",
       "      <td>1.543433e+09</td>\n",
       "      <td>19.0</td>\n",
       "      <td>28.0</td>\n",
       "      <td>11.0</td>\n",
       "      <td>882</td>\n",
       "      <td>0</td>\n",
       "      <td>0</td>\n",
       "      <td>8</td>\n",
       "      <td>0</td>\n",
       "      <td>7</td>\n",
       "      <td>5</td>\n",
       "      <td>7.0</td>\n",
       "      <td>1.08</td>\n",
       "      <td>1.0</td>\n",
       "      <td>42.3503</td>\n",
       "      <td>-71.0810</td>\n",
       "      <td>41.47</td>\n",
       "      <td>35.66</td>\n",
       "      <td>2</td>\n",
       "      <td>3</td>\n",
       "      <td>0.0</td>\n",
       "      <td>0.0</td>\n",
       "      <td>0.63</td>\n",
       "      <td>9.54</td>\n",
       "      <td>14.86</td>\n",
       "      <td>1.543432e+09</td>\n",
       "      <td>10.000</td>\n",
       "      <td>42.72</td>\n",
       "      <td>1.543439e+09</td>\n",
       "      <td>37.59</td>\n",
       "      <td>1.543486e+09</td>\n",
       "      <td>36.75</td>\n",
       "      <td>1.543439e+09</td>\n",
       "      <td>32.25</td>\n",
       "      <td>1.543478e+09</td>\n",
       "      <td>2</td>\n",
       "      <td>29.72</td>\n",
       "      <td>991.85</td>\n",
       "      <td>295.0</td>\n",
       "      <td>1.00</td>\n",
       "      <td>0.0</td>\n",
       "      <td>10.000</td>\n",
       "      <td>354.2</td>\n",
       "      <td>1.543406e+09</td>\n",
       "      <td>1.543440e+09</td>\n",
       "      <td>0.72</td>\n",
       "      <td>0.0000</td>\n",
       "      <td>1.543421e+09</td>\n",
       "      <td>33.82</td>\n",
       "      <td>1.543399e+09</td>\n",
       "      <td>42.72</td>\n",
       "      <td>1.543439e+09</td>\n",
       "      <td>30.19</td>\n",
       "      <td>1.543399e+09</td>\n",
       "      <td>36.75</td>\n",
       "      <td>1.543439e+09</td>\n",
       "      <td>2018-11-28 19:23:07</td>\n",
       "      <td>19</td>\n",
       "      <td>28</td>\n",
       "      <td>11</td>\n",
       "      <td>2</td>\n",
       "      <td>Wednesday</td>\n",
       "    </tr>\n",
       "    <tr>\n",
       "      <th>12</th>\n",
       "      <td>517</td>\n",
       "      <td>1.543616e+09</td>\n",
       "      <td>22.0</td>\n",
       "      <td>30.0</td>\n",
       "      <td>11.0</td>\n",
       "      <td>4413</td>\n",
       "      <td>0</td>\n",
       "      <td>6</td>\n",
       "      <td>11</td>\n",
       "      <td>1</td>\n",
       "      <td>3</td>\n",
       "      <td>11</td>\n",
       "      <td>12.0</td>\n",
       "      <td>1.11</td>\n",
       "      <td>1.0</td>\n",
       "      <td>42.3647</td>\n",
       "      <td>-71.0542</td>\n",
       "      <td>40.13</td>\n",
       "      <td>38.08</td>\n",
       "      <td>2</td>\n",
       "      <td>3</td>\n",
       "      <td>0.0</td>\n",
       "      <td>0.0</td>\n",
       "      <td>0.60</td>\n",
       "      <td>3.38</td>\n",
       "      <td>3.99</td>\n",
       "      <td>1.543554e+09</td>\n",
       "      <td>9.833</td>\n",
       "      <td>42.52</td>\n",
       "      <td>1.543601e+09</td>\n",
       "      <td>31.71</td>\n",
       "      <td>1.543658e+09</td>\n",
       "      <td>40.53</td>\n",
       "      <td>1.543612e+09</td>\n",
       "      <td>28.06</td>\n",
       "      <td>1.543658e+09</td>\n",
       "      <td>2</td>\n",
       "      <td>27.31</td>\n",
       "      <td>1017.16</td>\n",
       "      <td>281.0</td>\n",
       "      <td>1.00</td>\n",
       "      <td>0.0</td>\n",
       "      <td>9.833</td>\n",
       "      <td>281.8</td>\n",
       "      <td>1.543579e+09</td>\n",
       "      <td>1.543612e+09</td>\n",
       "      <td>0.79</td>\n",
       "      <td>0.0003</td>\n",
       "      <td>1.543594e+09</td>\n",
       "      <td>28.79</td>\n",
       "      <td>1.543579e+09</td>\n",
       "      <td>42.52</td>\n",
       "      <td>1.543601e+09</td>\n",
       "      <td>26.41</td>\n",
       "      <td>1.543576e+09</td>\n",
       "      <td>40.53</td>\n",
       "      <td>1.543612e+09</td>\n",
       "      <td>2018-11-30 22:13:01</td>\n",
       "      <td>22</td>\n",
       "      <td>30</td>\n",
       "      <td>11</td>\n",
       "      <td>4</td>\n",
       "      <td>Friday</td>\n",
       "    </tr>\n",
       "    <tr>\n",
       "      <th>17</th>\n",
       "      <td>187519</td>\n",
       "      <td>1.543519e+09</td>\n",
       "      <td>19.0</td>\n",
       "      <td>29.0</td>\n",
       "      <td>11.0</td>\n",
       "      <td>2277</td>\n",
       "      <td>0</td>\n",
       "      <td>6</td>\n",
       "      <td>11</td>\n",
       "      <td>1</td>\n",
       "      <td>5</td>\n",
       "      <td>9</td>\n",
       "      <td>6.5</td>\n",
       "      <td>1.11</td>\n",
       "      <td>1.0</td>\n",
       "      <td>42.3647</td>\n",
       "      <td>-71.0542</td>\n",
       "      <td>43.49</td>\n",
       "      <td>37.19</td>\n",
       "      <td>1</td>\n",
       "      <td>4</td>\n",
       "      <td>0.0</td>\n",
       "      <td>0.0</td>\n",
       "      <td>0.57</td>\n",
       "      <td>9.54</td>\n",
       "      <td>14.86</td>\n",
       "      <td>1.543514e+09</td>\n",
       "      <td>9.796</td>\n",
       "      <td>44.61</td>\n",
       "      <td>1.543511e+09</td>\n",
       "      <td>28.79</td>\n",
       "      <td>1.543579e+09</td>\n",
       "      <td>38.21</td>\n",
       "      <td>1.543511e+09</td>\n",
       "      <td>27.20</td>\n",
       "      <td>1.543576e+09</td>\n",
       "      <td>3</td>\n",
       "      <td>26.83</td>\n",
       "      <td>1007.12</td>\n",
       "      <td>313.0</td>\n",
       "      <td>0.53</td>\n",
       "      <td>0.0</td>\n",
       "      <td>9.796</td>\n",
       "      <td>309.7</td>\n",
       "      <td>1.543492e+09</td>\n",
       "      <td>1.543526e+09</td>\n",
       "      <td>0.75</td>\n",
       "      <td>0.0000</td>\n",
       "      <td>1.543511e+09</td>\n",
       "      <td>35.35</td>\n",
       "      <td>1.543550e+09</td>\n",
       "      <td>44.61</td>\n",
       "      <td>1.543511e+09</td>\n",
       "      <td>31.14</td>\n",
       "      <td>1.543550e+09</td>\n",
       "      <td>38.21</td>\n",
       "      <td>1.543511e+09</td>\n",
       "      <td>2018-11-29 19:18:00</td>\n",
       "      <td>19</td>\n",
       "      <td>29</td>\n",
       "      <td>11</td>\n",
       "      <td>3</td>\n",
       "      <td>Thursday</td>\n",
       "    </tr>\n",
       "    <tr>\n",
       "      <th>19</th>\n",
       "      <td>20733</td>\n",
       "      <td>1.544941e+09</td>\n",
       "      <td>6.0</td>\n",
       "      <td>16.0</td>\n",
       "      <td>12.0</td>\n",
       "      <td>8871</td>\n",
       "      <td>0</td>\n",
       "      <td>7</td>\n",
       "      <td>5</td>\n",
       "      <td>0</td>\n",
       "      <td>11</td>\n",
       "      <td>6</td>\n",
       "      <td>11.0</td>\n",
       "      <td>0.72</td>\n",
       "      <td>1.0</td>\n",
       "      <td>42.3661</td>\n",
       "      <td>-71.0631</td>\n",
       "      <td>40.36</td>\n",
       "      <td>35.52</td>\n",
       "      <td>0</td>\n",
       "      <td>5</td>\n",
       "      <td>0.0</td>\n",
       "      <td>0.0</td>\n",
       "      <td>0.69</td>\n",
       "      <td>7.08</td>\n",
       "      <td>8.47</td>\n",
       "      <td>1.545016e+09</td>\n",
       "      <td>10.000</td>\n",
       "      <td>43.78</td>\n",
       "      <td>1.544990e+09</td>\n",
       "      <td>34.12</td>\n",
       "      <td>1.545044e+09</td>\n",
       "      <td>38.39</td>\n",
       "      <td>1.544987e+09</td>\n",
       "      <td>28.21</td>\n",
       "      <td>1.545044e+09</td>\n",
       "      <td>1</td>\n",
       "      <td>30.94</td>\n",
       "      <td>1022.94</td>\n",
       "      <td>61.0</td>\n",
       "      <td>0.06</td>\n",
       "      <td>0.0</td>\n",
       "      <td>10.000</td>\n",
       "      <td>298.7</td>\n",
       "      <td>1.544962e+09</td>\n",
       "      <td>1.544995e+09</td>\n",
       "      <td>0.30</td>\n",
       "      <td>0.1246</td>\n",
       "      <td>1.544980e+09</td>\n",
       "      <td>38.94</td>\n",
       "      <td>1.544954e+09</td>\n",
       "      <td>43.78</td>\n",
       "      <td>1.544990e+09</td>\n",
       "      <td>33.76</td>\n",
       "      <td>1.545019e+09</td>\n",
       "      <td>38.39</td>\n",
       "      <td>1.544987e+09</td>\n",
       "      <td>2018-12-16 06:15:11</td>\n",
       "      <td>6</td>\n",
       "      <td>16</td>\n",
       "      <td>12</td>\n",
       "      <td>6</td>\n",
       "      <td>Sunday</td>\n",
       "    </tr>\n",
       "    <tr>\n",
       "      <th>20</th>\n",
       "      <td>52507</td>\n",
       "      <td>1.543359e+09</td>\n",
       "      <td>19.0</td>\n",
       "      <td>27.0</td>\n",
       "      <td>11.0</td>\n",
       "      <td>103</td>\n",
       "      <td>0</td>\n",
       "      <td>7</td>\n",
       "      <td>5</td>\n",
       "      <td>0</td>\n",
       "      <td>9</td>\n",
       "      <td>3</td>\n",
       "      <td>16.5</td>\n",
       "      <td>0.72</td>\n",
       "      <td>1.0</td>\n",
       "      <td>42.3661</td>\n",
       "      <td>-71.0631</td>\n",
       "      <td>42.95</td>\n",
       "      <td>37.54</td>\n",
       "      <td>1</td>\n",
       "      <td>1</td>\n",
       "      <td>0.0</td>\n",
       "      <td>0.0</td>\n",
       "      <td>0.72</td>\n",
       "      <td>9.42</td>\n",
       "      <td>13.80</td>\n",
       "      <td>1.543338e+09</td>\n",
       "      <td>10.000</td>\n",
       "      <td>46.83</td>\n",
       "      <td>1.543320e+09</td>\n",
       "      <td>33.75</td>\n",
       "      <td>1.543399e+09</td>\n",
       "      <td>43.85</td>\n",
       "      <td>1.543320e+09</td>\n",
       "      <td>29.97</td>\n",
       "      <td>1.543399e+09</td>\n",
       "      <td>3</td>\n",
       "      <td>34.56</td>\n",
       "      <td>991.05</td>\n",
       "      <td>257.0</td>\n",
       "      <td>0.81</td>\n",
       "      <td>0.0</td>\n",
       "      <td>10.000</td>\n",
       "      <td>313.6</td>\n",
       "      <td>1.543319e+09</td>\n",
       "      <td>1.543353e+09</td>\n",
       "      <td>0.68</td>\n",
       "      <td>0.1430</td>\n",
       "      <td>1.543338e+09</td>\n",
       "      <td>36.13</td>\n",
       "      <td>1.543378e+09</td>\n",
       "      <td>46.83</td>\n",
       "      <td>1.543320e+09</td>\n",
       "      <td>32.05</td>\n",
       "      <td>1.543378e+09</td>\n",
       "      <td>43.85</td>\n",
       "      <td>1.543320e+09</td>\n",
       "      <td>2018-11-27 19:18:22</td>\n",
       "      <td>19</td>\n",
       "      <td>27</td>\n",
       "      <td>11</td>\n",
       "      <td>1</td>\n",
       "      <td>Tuesday</td>\n",
       "    </tr>\n",
       "  </tbody>\n",
       "</table>\n",
       "</div>"
      ],
      "text/plain": [
       "        id     timestamp  hour   day  month  datetime  timezone  source   \n",
       "11  179510  1.543433e+09  19.0  28.0   11.0       882         0       0  \\\n",
       "12     517  1.543616e+09  22.0  30.0   11.0      4413         0       6   \n",
       "17  187519  1.543519e+09  19.0  29.0   11.0      2277         0       6   \n",
       "19   20733  1.544941e+09   6.0  16.0   12.0      8871         0       7   \n",
       "20   52507  1.543359e+09  19.0  27.0   11.0       103         0       7   \n",
       "\n",
       "    destination  cab_type  product_id  name  price  distance   \n",
       "11            8         0           7     5    7.0      1.08  \\\n",
       "12           11         1           3    11   12.0      1.11   \n",
       "17           11         1           5     9    6.5      1.11   \n",
       "19            5         0          11     6   11.0      0.72   \n",
       "20            5         0           9     3   16.5      0.72   \n",
       "\n",
       "    surge_multiplier  latitude  longitude  temperature  apparentTemperature   \n",
       "11               1.0   42.3503   -71.0810        41.47                35.66  \\\n",
       "12               1.0   42.3647   -71.0542        40.13                38.08   \n",
       "17               1.0   42.3647   -71.0542        43.49                37.19   \n",
       "19               1.0   42.3661   -71.0631        40.36                35.52   \n",
       "20               1.0   42.3661   -71.0631        42.95                37.54   \n",
       "\n",
       "    short_summary  long_summary  precipIntensity  precipProbability  humidity   \n",
       "11              2             3              0.0                0.0      0.63  \\\n",
       "12              2             3              0.0                0.0      0.60   \n",
       "17              1             4              0.0                0.0      0.57   \n",
       "19              0             5              0.0                0.0      0.69   \n",
       "20              1             1              0.0                0.0      0.72   \n",
       "\n",
       "    windSpeed  windGust  windGustTime  visibility  temperatureHigh   \n",
       "11       9.54     14.86  1.543432e+09      10.000            42.72  \\\n",
       "12       3.38      3.99  1.543554e+09       9.833            42.52   \n",
       "17       9.54     14.86  1.543514e+09       9.796            44.61   \n",
       "19       7.08      8.47  1.545016e+09      10.000            43.78   \n",
       "20       9.42     13.80  1.543338e+09      10.000            46.83   \n",
       "\n",
       "    temperatureHighTime  temperatureLow  temperatureLowTime   \n",
       "11         1.543439e+09           37.59        1.543486e+09  \\\n",
       "12         1.543601e+09           31.71        1.543658e+09   \n",
       "17         1.543511e+09           28.79        1.543579e+09   \n",
       "19         1.544990e+09           34.12        1.545044e+09   \n",
       "20         1.543320e+09           33.75        1.543399e+09   \n",
       "\n",
       "    apparentTemperatureHigh  apparentTemperatureHighTime   \n",
       "11                    36.75                 1.543439e+09  \\\n",
       "12                    40.53                 1.543612e+09   \n",
       "17                    38.21                 1.543511e+09   \n",
       "19                    38.39                 1.544987e+09   \n",
       "20                    43.85                 1.543320e+09   \n",
       "\n",
       "    apparentTemperatureLow  apparentTemperatureLowTime  icon  dewPoint   \n",
       "11                   32.25                1.543478e+09     2     29.72  \\\n",
       "12                   28.06                1.543658e+09     2     27.31   \n",
       "17                   27.20                1.543576e+09     3     26.83   \n",
       "19                   28.21                1.545044e+09     1     30.94   \n",
       "20                   29.97                1.543399e+09     3     34.56   \n",
       "\n",
       "    pressure  windBearing  cloudCover  uvIndex  visibility.1  ozone   \n",
       "11    991.85        295.0        1.00      0.0        10.000  354.2  \\\n",
       "12   1017.16        281.0        1.00      0.0         9.833  281.8   \n",
       "17   1007.12        313.0        0.53      0.0         9.796  309.7   \n",
       "19   1022.94         61.0        0.06      0.0        10.000  298.7   \n",
       "20    991.05        257.0        0.81      0.0        10.000  313.6   \n",
       "\n",
       "     sunriseTime    sunsetTime  moonPhase  precipIntensityMax   uvIndexTime   \n",
       "11  1.543406e+09  1.543440e+09       0.72              0.0000  1.543421e+09  \\\n",
       "12  1.543579e+09  1.543612e+09       0.79              0.0003  1.543594e+09   \n",
       "17  1.543492e+09  1.543526e+09       0.75              0.0000  1.543511e+09   \n",
       "19  1.544962e+09  1.544995e+09       0.30              0.1246  1.544980e+09   \n",
       "20  1.543319e+09  1.543353e+09       0.68              0.1430  1.543338e+09   \n",
       "\n",
       "    temperatureMin  temperatureMinTime  temperatureMax  temperatureMaxTime   \n",
       "11           33.82        1.543399e+09           42.72        1.543439e+09  \\\n",
       "12           28.79        1.543579e+09           42.52        1.543601e+09   \n",
       "17           35.35        1.543550e+09           44.61        1.543511e+09   \n",
       "19           38.94        1.544954e+09           43.78        1.544990e+09   \n",
       "20           36.13        1.543378e+09           46.83        1.543320e+09   \n",
       "\n",
       "    apparentTemperatureMin  apparentTemperatureMinTime   \n",
       "11                   30.19                1.543399e+09  \\\n",
       "12                   26.41                1.543576e+09   \n",
       "17                   31.14                1.543550e+09   \n",
       "19                   33.76                1.545019e+09   \n",
       "20                   32.05                1.543378e+09   \n",
       "\n",
       "    apparentTemperatureMax  apparentTemperatureMaxTime                date   \n",
       "11                   36.75                1.543439e+09 2018-11-28 19:23:07  \\\n",
       "12                   40.53                1.543612e+09 2018-11-30 22:13:01   \n",
       "17                   38.21                1.543511e+09 2018-11-29 19:18:00   \n",
       "19                   38.39                1.544987e+09 2018-12-16 06:15:11   \n",
       "20                   43.85                1.543320e+09 2018-11-27 19:18:22   \n",
       "\n",
       "    HOURS  DAY  MONTH  DAY_OF_WEEK    WEEKDAY  \n",
       "11     19   28     11            2  Wednesday  \n",
       "12     22   30     11            4     Friday  \n",
       "17     19   29     11            3   Thursday  \n",
       "19      6   16     12            6     Sunday  \n",
       "20     19   27     11            1    Tuesday  "
      ]
     },
     "execution_count": 29,
     "metadata": {},
     "output_type": "execute_result"
    }
   ],
   "source": [
    "df.head()"
   ]
  },
  {
   "cell_type": "code",
   "execution_count": 17,
   "id": "71a787e1",
   "metadata": {},
   "outputs": [],
   "source": [
    "#Creating another copy of dataframe for further use\n",
    "df1 = df.copy()"
   ]
  },
  {
   "cell_type": "code",
   "execution_count": 18,
   "id": "d2ca719d",
   "metadata": {},
   "outputs": [],
   "source": [
    "#Dropping date columns as these are not necessary \n",
    "df.drop(['HOURS', 'DAY', 'MONTH', 'DAY_OF_WEEK', 'WEEKDAY', 'date'], axis=1, inplace=True)"
   ]
  },
  {
   "cell_type": "code",
   "execution_count": 32,
   "id": "35e2af2a",
   "metadata": {},
   "outputs": [
    {
     "data": {
      "text/plain": [
       "Index(['id', 'timestamp', 'hour', 'day', 'month', 'datetime', 'timezone',\n",
       "       'source', 'destination', 'cab_type', 'product_id', 'name', 'price',\n",
       "       'distance', 'surge_multiplier', 'latitude', 'longitude', 'temperature',\n",
       "       'apparentTemperature', 'short_summary', 'long_summary',\n",
       "       'precipIntensity', 'precipProbability', 'humidity', 'windSpeed',\n",
       "       'windGust', 'windGustTime', 'visibility', 'temperatureHigh',\n",
       "       'temperatureHighTime', 'temperatureLow', 'temperatureLowTime',\n",
       "       'apparentTemperatureHigh', 'apparentTemperatureHighTime',\n",
       "       'apparentTemperatureLow', 'apparentTemperatureLowTime', 'icon',\n",
       "       'dewPoint', 'pressure', 'windBearing', 'cloudCover', 'uvIndex',\n",
       "       'visibility.1', 'ozone', 'sunriseTime', 'sunsetTime', 'moonPhase',\n",
       "       'precipIntensityMax', 'uvIndexTime', 'temperatureMin',\n",
       "       'temperatureMinTime', 'temperatureMax', 'temperatureMaxTime',\n",
       "       'apparentTemperatureMin', 'apparentTemperatureMinTime',\n",
       "       'apparentTemperatureMax', 'apparentTemperatureMaxTime'],\n",
       "      dtype='object')"
      ]
     },
     "execution_count": 32,
     "metadata": {},
     "output_type": "execute_result"
    }
   ],
   "source": [
    "df.columns"
   ]
  },
  {
   "cell_type": "code",
   "execution_count": 33,
   "id": "c13750ff",
   "metadata": {},
   "outputs": [],
   "source": [
    "# Using Heatmap Correlation Analysis\n",
    "\n",
    "# plt.figure(figsize=(20, 10))\n",
    "# mask = np.triu(np.ones_like(df.corr()))\n",
    "# sns.heatmap(df.corr(),mask= mask, annot=True, fmt='.2f', linewidths=0.5, cmap='PuOr')"
   ]
  },
  {
   "cell_type": "code",
   "execution_count": 19,
   "id": "0ba8299a",
   "metadata": {},
   "outputs": [],
   "source": [
    "# Split the data\n",
    "\n",
    "x = df.drop('price', axis=1)\n",
    "y = df['price']\n",
    "X_train, X_test, y_train, y_test = train_test_split(x, y, test_size=0.2, random_state=42)"
   ]
  },
  {
   "cell_type": "code",
   "execution_count": 20,
   "id": "ce6d44c7",
   "metadata": {},
   "outputs": [],
   "source": [
    "#standardize or feature scaling the datasets\n",
    "\n",
    "from sklearn.preprocessing import StandardScaler\n",
    "\n",
    "scaler = StandardScaler()\n",
    "\n",
    "X_train = scaler.fit_transform(X_train)\n",
    "\n",
    "# for avoiding data leakage here we use transform not fit_transform\n",
    "X_test = scaler.transform(X_test)"
   ]
  },
  {
   "attachments": {},
   "cell_type": "markdown",
   "id": "c140a23e",
   "metadata": {},
   "source": [
    "# Model Building for price prediction"
   ]
  },
  {
   "attachments": {},
   "cell_type": "markdown",
   "id": "2b9921c8",
   "metadata": {},
   "source": [
    "## Linear Rregression "
   ]
  },
  {
   "cell_type": "code",
   "execution_count": 21,
   "id": "66650a8d",
   "metadata": {},
   "outputs": [],
   "source": [
    "lin_model = LinearRegression()\n",
    "# Train the model\n",
    "lin_model.fit(X_train, y_train)\n",
    "# Make predictions\n",
    "pred = lin_model.predict(X_test)"
   ]
  },
  {
   "cell_type": "code",
   "execution_count": 37,
   "id": "172063e4",
   "metadata": {},
   "outputs": [
    {
     "data": {
      "text/plain": [
       "Text(0, 0.5, 'Test predicted data')"
      ]
     },
     "execution_count": 37,
     "metadata": {},
     "output_type": "execute_result"
    },
    {
     "data": {
      "image/png": "[encoded data removed]",
      "text/plain": [
       "<Figure size 432x288 with 1 Axes>"
      ]
     },
     "metadata": {
      "needs_background": "light"
     },
     "output_type": "display_data"
    }
   ],
   "source": [
    "# visualize the relationship between the truth point and predicted point\n",
    "\n",
    "plt.scatter(y_test, pred)       \n",
    "plt.xlabel('Test truth data')\n",
    "plt.ylabel('Test predicted data')"
   ]
  },
  {
   "cell_type": "code",
   "execution_count": 38,
   "id": "e2f28ea7",
   "metadata": {},
   "outputs": [
    {
     "data": {
      "text/plain": [
       "<Axes: xlabel='price', ylabel='Density'>"
      ]
     },
     "execution_count": 38,
     "metadata": {},
     "output_type": "execute_result"
    },
    {
     "data": {
      "image/png": "[encoded data removed]",
      "text/plain": [
       "<Figure size 432x288 with 1 Axes>"
      ]
     },
     "metadata": {
      "needs_background": "light"
     },
     "output_type": "display_data"
    }
   ],
   "source": [
    "#Residuals\n",
    "\n",
    "residuals = y_test - pred\n",
    "sns.distplot(residuals)"
   ]
  },
  {
   "cell_type": "code",
   "execution_count": 39,
   "id": "3f40b4f4",
   "metadata": {},
   "outputs": [
    {
     "data": {
      "text/plain": [
       "<matplotlib.collections.PathCollection at 0x1ec073acd00>"
      ]
     },
     "execution_count": 39,
     "metadata": {},
     "output_type": "execute_result"
    },
    {
     "data": {
      "image/png": "[encoded data removed]",
      "text/plain": [
       "<Figure size 432x288 with 1 Axes>"
      ]
     },
     "metadata": {
      "needs_background": "light"
     },
     "output_type": "display_data"
    }
   ],
   "source": [
    "# scattter plot with predictions and residuals\n",
    "#Check for Homoscedasticity\n",
    "plt.scatter(pred, residuals)"
   ]
  },
  {
   "cell_type": "code",
   "execution_count": 22,
   "id": "4a26a4b1",
   "metadata": {},
   "outputs": [],
   "source": [
    "# Evaluating the model performance\n",
    "mse = mean_squared_error(y_test, pred)\n",
    "mae = mean_absolute_error(y_test, pred)\n",
    "r2 = r2_score(y_test, pred)\n",
    "adj_r2 = 1 - (1-r2)*(len(y_test)-1) / (len(y_test) - X_test.shape[1]-1)"
   ]
  },
  {
   "cell_type": "code",
   "execution_count": 23,
   "id": "d27df623",
   "metadata": {},
   "outputs": [
    {
     "name": "stdout",
     "output_type": "stream",
     "text": [
      " MSE: 29.052379661847525,\n",
      " MAE: 4.325314277458909,\n",
      " R^2: 0.516821284353949,\n",
      " adj_r2: 0.5161829581826267\n"
     ]
    }
   ],
   "source": [
    "print(' MSE: {},\\n MAE: {},\\n R^2: {},\\n adj_r2: {}'.format(mse, mae, r2, adj_r2))"
   ]
  },
  {
   "attachments": {},
   "cell_type": "markdown",
   "id": "73c0ce79",
   "metadata": {},
   "source": [
    "## Decision Tree"
   ]
  },
  {
   "cell_type": "code",
   "execution_count": 24,
   "id": "bb6ec028",
   "metadata": {},
   "outputs": [],
   "source": [
    "# Fitting Decision Tree Regression to the dataset\n",
    "from sklearn.tree import DecisionTreeRegressor\n",
    "\n",
    "dt_regressor = DecisionTreeRegressor(max_depth=15,min_samples_leaf=300)\n",
    "dt_regressor.fit(X_train, y_train)\n",
    "\n",
    "# Predicting the test set results\n",
    "y_pred = dt_regressor.predict(X_test)"
   ]
  },
  {
   "cell_type": "code",
   "execution_count": 25,
   "id": "01162b50",
   "metadata": {},
   "outputs": [],
   "source": [
    "# Evaluating the model performance\n",
    "mse = mean_squared_error(y_test, y_pred)\n",
    "mae = mean_absolute_error(y_test, y_pred)\n",
    "r2 = r2_score(y_test, y_pred)\n",
    "adj_r2 = 1 - (1-r2)*(len(y_test)-1) / (len(y_test) - X_test.shape[1]-1)"
   ]
  },
  {
   "cell_type": "code",
   "execution_count": 26,
   "id": "112846a1",
   "metadata": {},
   "outputs": [
    {
     "name": "stdout",
     "output_type": "stream",
     "text": [
      " MSE: 2.0763166253452305,\n",
      " MAE: 0.8847901397172994,\n",
      " R^2: 0.9654681643298801,\n",
      " adj_r2: 0.9654225444096761\n"
     ]
    }
   ],
   "source": [
    "print(' MSE: {},\\n MAE: {},\\n R^2: {},\\n adj_r2: {}'.format(mse, mae, r2, adj_r2))"
   ]
  },
  {
   "attachments": {},
   "cell_type": "markdown",
   "id": "8d463dd9",
   "metadata": {},
   "source": [
    "## Random Forest"
   ]
  },
  {
   "cell_type": "code",
   "execution_count": 27,
   "id": "928a5446",
   "metadata": {},
   "outputs": [
    {
     "data": {
      "text/html": [
       "<style>#sk-container-id-1 {color: black;background-color: white;}#sk-container-id-1 pre{padding: 0;}#sk-container-id-1 div.sk-toggleable {background-color: white;}#sk-container-id-1 label.sk-toggleable__label {cursor: pointer;display: block;width: 100%;margin-bottom: 0;padding: 0.3em;box-sizing: border-box;text-align: center;}#sk-container-id-1 label.sk-toggleable__label-arrow:before {content: \"▸\";float: left;margin-right: 0.25em;color: #696969;}#sk-container-id-1 label.sk-toggleable__label-arrow:hover:before {color: black;}#sk-container-id-1 div.sk-estimator:hover label.sk-toggleable__label-arrow:before {color: black;}#sk-container-id-1 div.sk-toggleable__content {max-height: 0;max-width: 0;overflow: hidden;text-align: left;background-color: #f0f8ff;}#sk-container-id-1 div.sk-toggleable__content pre {margin: 0.2em;color: black;border-radius: 0.25em;background-color: #f0f8ff;}#sk-container-id-1 input.sk-toggleable__control:checked~div.sk-toggleable__content {max-height: 200px;max-width: 100%;overflow: auto;}#sk-container-id-1 input.sk-toggleable__control:checked~label.sk-toggleable__label-arrow:before {content: \"▾\";}#sk-container-id-1 div.sk-estimator input.sk-toggleable__control:checked~label.sk-toggleable__label {background-color: #d4ebff;}#sk-container-id-1 div.sk-label input.sk-toggleable__control:checked~label.sk-toggleable__label {background-color: #d4ebff;}#sk-container-id-1 input.sk-hidden--visually {border: 0;clip: rect(1px 1px 1px 1px);clip: rect(1px, 1px, 1px, 1px);height: 1px;margin: -1px;overflow: hidden;padding: 0;position: absolute;width: 1px;}#sk-container-id-1 div.sk-estimator {font-family: monospace;background-color: #f0f8ff;border: 1px dotted black;border-radius: 0.25em;box-sizing: border-box;margin-bottom: 0.5em;}#sk-container-id-1 div.sk-estimator:hover {background-color: #d4ebff;}#sk-container-id-1 div.sk-parallel-item::after {content: \"\";width: 100%;border-bottom: 1px solid gray;flex-grow: 1;}#sk-container-id-1 div.sk-label:hover label.sk-toggleable__label {background-color: #d4ebff;}#sk-container-id-1 div.sk-serial::before {content: \"\";position: absolute;border-left: 1px solid gray;box-sizing: border-box;top: 0;bottom: 0;left: 50%;z-index: 0;}#sk-container-id-1 div.sk-serial {display: flex;flex-direction: column;align-items: center;background-color: white;padding-right: 0.2em;padding-left: 0.2em;position: relative;}#sk-container-id-1 div.sk-item {position: relative;z-index: 1;}#sk-container-id-1 div.sk-parallel {display: flex;align-items: stretch;justify-content: center;background-color: white;position: relative;}#sk-container-id-1 div.sk-item::before, #sk-container-id-1 div.sk-parallel-item::before {content: \"\";position: absolute;border-left: 1px solid gray;box-sizing: border-box;top: 0;bottom: 0;left: 50%;z-index: -1;}#sk-container-id-1 div.sk-parallel-item {display: flex;flex-direction: column;z-index: 1;position: relative;background-color: white;}#sk-container-id-1 div.sk-parallel-item:first-child::after {align-self: flex-end;width: 50%;}#sk-container-id-1 div.sk-parallel-item:last-child::after {align-self: flex-start;width: 50%;}#sk-container-id-1 div.sk-parallel-item:only-child::after {width: 0;}#sk-container-id-1 div.sk-dashed-wrapped {border: 1px dashed gray;margin: 0 0.4em 0.5em 0.4em;box-sizing: border-box;padding-bottom: 0.4em;background-color: white;}#sk-container-id-1 div.sk-label label {font-family: monospace;font-weight: bold;display: inline-block;line-height: 1.2em;}#sk-container-id-1 div.sk-label-container {text-align: center;}#sk-container-id-1 div.sk-container {/* jupyter's `normalize.less` sets `[hidden] { display: none; }` but bootstrap.min.css set `[hidden] { display: none !important; }` so we also need the `!important` here to be able to override the default hidden behavior on the sphinx rendered scikit-learn.org. See: https://github.com/scikit-learn/scikit-learn/issues/21755 */display: inline-block !important;position: relative;}#sk-container-id-1 div.sk-text-repr-fallback {display: none;}</style><div id=\"sk-container-id-1\" class=\"sk-top-container\"><div class=\"sk-text-repr-fallback\"><pre>RandomForestRegressor(max_depth=6, min_samples_leaf=50, n_jobs=4)</pre><b>In a Jupyter environment, please rerun this cell to show the HTML representation or trust the notebook. <br />On GitHub, the HTML representation is unable to render, please try loading this page with nbviewer.org.</b></div><div class=\"sk-container\" hidden><div class=\"sk-item\"><div class=\"sk-estimator sk-toggleable\"><input class=\"sk-toggleable__control sk-hidden--visually\" id=\"sk-estimator-id-1\" type=\"checkbox\" checked><label for=\"sk-estimator-id-1\" class=\"sk-toggleable__label sk-toggleable__label-arrow\">RandomForestRegressor</label><div class=\"sk-toggleable__content\"><pre>RandomForestRegressor(max_depth=6, min_samples_leaf=50, n_jobs=4)</pre></div></div></div></div></div>"
      ],
      "text/plain": [
       "RandomForestRegressor(max_depth=6, min_samples_leaf=50, n_jobs=4)"
      ]
     },
     "execution_count": 27,
     "metadata": {},
     "output_type": "execute_result"
    }
   ],
   "source": [
    "from sklearn.ensemble import RandomForestRegressor\n",
    "\n",
    "rf = RandomForestRegressor(n_estimators=100,max_depth=6, min_samples_leaf=50,n_jobs=4)\n",
    "\n",
    "rf.fit(X_train,y_train)"
   ]
  },
  {
   "cell_type": "code",
   "execution_count": 28,
   "id": "7986e3a6",
   "metadata": {},
   "outputs": [],
   "source": [
    "# Predicting the test set results\n",
    "predictions=rf.predict(X_test)"
   ]
  },
  {
   "cell_type": "code",
   "execution_count": 29,
   "id": "f01fade9",
   "metadata": {},
   "outputs": [],
   "source": [
    "# Evaluating the model performance\n",
    "mse = mean_squared_error(y_test, predictions)\n",
    "mae = mean_absolute_error(y_test, predictions)\n",
    "r2 = r2_score(y_test, predictions)\n",
    "adj_r2 = 1 - (1-r2)*(len(y_test)-1) / (len(y_test) - X_test.shape[1]-1)"
   ]
  },
  {
   "cell_type": "code",
   "execution_count": 30,
   "id": "409d1ff2",
   "metadata": {},
   "outputs": [
    {
     "name": "stdout",
     "output_type": "stream",
     "text": [
      " MSE: 2.8274979578477732,\n",
      " MAE: 1.0903672012416161,\n",
      " R^2: 0.9529750454982923,\n",
      " adj_r2: 0.9529129209506008\n"
     ]
    }
   ],
   "source": [
    "print(' MSE: {},\\n MAE: {},\\n R^2: {},\\n adj_r2: {}'.format(mse, mae, r2, adj_r2))"
   ]
  },
  {
   "cell_type": "code",
   "execution_count": null,
   "id": "b80eae84",
   "metadata": {},
   "outputs": [],
   "source": []
  },
  {
   "attachments": {},
   "cell_type": "markdown",
   "id": "44aad01c",
   "metadata": {},
   "source": [
    "## Highest booking area Prediction"
   ]
  },
  {
   "attachments": {},
   "cell_type": "markdown",
   "id": "9756ccba",
   "metadata": {},
   "source": [
    "### KMeans Clustering"
   ]
  },
  {
   "cell_type": "code",
   "execution_count": 49,
   "id": "faaec5ec",
   "metadata": {},
   "outputs": [],
   "source": [
    "from sklearn.cluster import KMeans\n",
    "from sklearn.metrics import silhouette_score"
   ]
  },
  {
   "cell_type": "code",
   "execution_count": 61,
   "id": "07b18265",
   "metadata": {},
   "outputs": [],
   "source": [
    "features = df1[['latitude', 'longitude', 'hour', 'day', 'month', 'price', 'distance', 'surge_multiplier', 'temperature','source', 'destination', 'cab_type']]"
   ]
  },
  {
   "cell_type": "code",
   "execution_count": 60,
   "id": "33578819",
   "metadata": {},
   "outputs": [
    {
     "data": {
      "image/png": "[encoded data removed]",
      "text/plain": [
       "<Figure size 864x432 with 1 Axes>"
      ]
     },
     "metadata": {
      "needs_background": "light"
     },
     "output_type": "display_data"
    }
   ],
   "source": [
    "from sklearn.cluster import KMeans\n",
    "\n",
    "wcss = []\n",
    "\n",
    "for k in range(1,11):\n",
    "    kmeans = KMeans(n_clusters=k, init='k-means++', random_state=42)\n",
    "    kmeans.fit(features)\n",
    "    wcss.append(kmeans.inertia_)\n",
    "plt.figure(figsize=(12,6))\n",
    "plt.grid()\n",
    "plt.plot(range(1,11),wcss, linewidth=2, color='navy', marker='8')\n",
    "plt.xlabel('k value')\n",
    "plt.ylabel('WCSS')\n",
    "plt.show()"
   ]
  },
  {
   "cell_type": "code",
   "execution_count": 62,
   "id": "bcfb0895",
   "metadata": {},
   "outputs": [],
   "source": [
    "# Standardize the location coordinates\n",
    "scaler = StandardScaler()\n",
    "scaled_feature = scaler.fit_transform(features)"
   ]
  },
  {
   "cell_type": "code",
   "execution_count": 67,
   "id": "a3f03b37",
   "metadata": {},
   "outputs": [],
   "source": [
    "# Apply K-means clustering algorithm\n",
    "kmeans = KMeans(n_clusters=4)  \n",
    "label = kmeans.fit(scaled_feature)\n",
    "features['cluster_label'] = kmeans.labels_"
   ]
  },
  {
   "cell_type": "code",
   "execution_count": 64,
   "id": "339d823b",
   "metadata": {},
   "outputs": [
    {
     "data": {
      "image/png": "[encoded data removed]",
      "text/plain": [
       "<Figure size 432x288 with 1 Axes>"
      ]
     },
     "metadata": {
      "needs_background": "light"
     },
     "output_type": "display_data"
    }
   ],
   "source": [
    "# Map visualization\n",
    "# Plot clusters on a map\n",
    "plt.scatter(features['longitude'], features['latitude'], c=features['cluster_label'])\n",
    "plt.xlabel('Longitude')\n",
    "plt.ylabel('Latitude')\n",
    "plt.title('High Booking Areas')\n",
    "plt.show()"
   ]
  },
  {
   "cell_type": "code",
   "execution_count": 65,
   "id": "6b0ffd1e",
   "metadata": {},
   "outputs": [
    {
     "data": {
      "text/plain": [
       "array([0, 0, 0, ..., 2, 2, 2])"
      ]
     },
     "execution_count": 65,
     "metadata": {},
     "output_type": "execute_result"
    }
   ],
   "source": [
    "kmeans.labels_"
   ]
  },
  {
   "cell_type": "code",
   "execution_count": 68,
   "id": "612cfe9f",
   "metadata": {},
   "outputs": [],
   "source": [
    "cluster_data = features.copy()\n",
    "cluster_data['cluster'] = label"
   ]
  },
  {
   "cell_type": "code",
   "execution_count": 69,
   "id": "6a792875",
   "metadata": {},
   "outputs": [
    {
     "name": "stdout",
     "output_type": "stream",
     "text": [
      "[[ 3.64281581e-01  4.69519713e-01 -3.75812168e-01 -1.14276605e+00\n",
      "   1.13161872e+00  4.79677038e-03 -3.43682115e-03  0.00000000e+00\n",
      "  -4.32270166e-01 -5.12187537e-03 -1.87305748e-04 -8.07632947e-03]\n",
      " [ 4.09369051e-01  4.90263809e-01 -5.39179246e-01  8.27454183e-01\n",
      "  -8.83689870e-01 -7.47702579e-03 -4.75463963e-03  0.00000000e+00\n",
      "  -4.49279279e-01 -1.95888759e-03  2.11432356e-04  9.68823844e-03]\n",
      " [ 4.08206326e-01  5.26222032e-01  1.30134466e+00  5.44083828e-01\n",
      "  -5.53525845e-01  2.97525310e-03  4.69539423e-03  0.00000000e+00\n",
      "   9.49641411e-01  8.67928484e-03 -6.27331720e-03 -5.31248954e-03]\n",
      " [-1.27258097e+00 -1.59581035e+00 -4.36529937e-02 -1.06038685e-01\n",
      "   1.94366108e-01  6.44985576e-04  5.64756338e-03  0.00000000e+00\n",
      "   2.21476381e-01  8.52880276e-04  5.41692915e-03  2.63049791e-03]]\n"
     ]
    }
   ],
   "source": [
    "print(kmeans.cluster_centers_)"
   ]
  },
  {
   "cell_type": "code",
   "execution_count": 70,
   "id": "2181b0a2",
   "metadata": {},
   "outputs": [],
   "source": [
    "data['Clusters'] = cluster_data.cluster"
   ]
  },
  {
   "cell_type": "code",
   "execution_count": 74,
   "id": "5fbae901",
   "metadata": {},
   "outputs": [
    {
     "data": {
      "text/plain": [
       "array([ 0,  6,  7,  1,  2,  3,  9, 10, 11,  4,  8,  5])"
      ]
     },
     "execution_count": 74,
     "metadata": {},
     "output_type": "execute_result"
    }
   ],
   "source": [
    "cluster_data.source.unique()"
   ]
  },
  {
   "cell_type": "code",
   "execution_count": null,
   "id": "ad029143",
   "metadata": {},
   "outputs": [],
   "source": [
    "###########################################################################################################################"
   ]
  },
  {
   "cell_type": "code",
   "execution_count": 83,
   "id": "54150e7d",
   "metadata": {
    "collapsed": true
   },
   "outputs": [
    {
     "ename": "ValueError",
     "evalue": "y should be a 1d array, got an array of shape () instead.",
     "output_type": "error",
     "traceback": [
      "\u001b[1;31m---------------------------------------------------------------------------\u001b[0m",
      "\u001b[1;31mValueError\u001b[0m                                Traceback (most recent call last)",
      "\u001b[1;32m<ipython-input-83-78416e461b38>\u001b[0m in \u001b[0;36m<module>\u001b[1;34m\u001b[0m\n\u001b[0;32m      1\u001b[0m \u001b[1;31m# labels = kmeans.labels_\u001b[0m\u001b[1;33m\u001b[0m\u001b[1;33m\u001b[0m\u001b[1;33m\u001b[0m\u001b[0m\n\u001b[1;32m----> 2\u001b[1;33m \u001b[0msilhouette_avg\u001b[0m \u001b[1;33m=\u001b[0m \u001b[0msilhouette_score\u001b[0m\u001b[1;33m(\u001b[0m\u001b[0mscaled_feature\u001b[0m\u001b[1;33m,\u001b[0m \u001b[0mlabel\u001b[0m\u001b[1;33m)\u001b[0m\u001b[1;33m\u001b[0m\u001b[1;33m\u001b[0m\u001b[0m\n\u001b[0m",
      "\u001b[1;32m~\\anaconda3\\lib\\site-packages\\sklearn\\metrics\\cluster\\_unsupervised.py\u001b[0m in \u001b[0;36msilhouette_score\u001b[1;34m(X, labels, metric, sample_size, random_state, **kwds)\u001b[0m\n\u001b[0;32m    115\u001b[0m         \u001b[1;32melse\u001b[0m\u001b[1;33m:\u001b[0m\u001b[1;33m\u001b[0m\u001b[1;33m\u001b[0m\u001b[0m\n\u001b[0;32m    116\u001b[0m             \u001b[0mX\u001b[0m\u001b[1;33m,\u001b[0m \u001b[0mlabels\u001b[0m \u001b[1;33m=\u001b[0m \u001b[0mX\u001b[0m\u001b[1;33m[\u001b[0m\u001b[0mindices\u001b[0m\u001b[1;33m]\u001b[0m\u001b[1;33m,\u001b[0m \u001b[0mlabels\u001b[0m\u001b[1;33m[\u001b[0m\u001b[0mindices\u001b[0m\u001b[1;33m]\u001b[0m\u001b[1;33m\u001b[0m\u001b[1;33m\u001b[0m\u001b[0m\n\u001b[1;32m--> 117\u001b[1;33m     \u001b[1;32mreturn\u001b[0m \u001b[0mnp\u001b[0m\u001b[1;33m.\u001b[0m\u001b[0mmean\u001b[0m\u001b[1;33m(\u001b[0m\u001b[0msilhouette_samples\u001b[0m\u001b[1;33m(\u001b[0m\u001b[0mX\u001b[0m\u001b[1;33m,\u001b[0m \u001b[0mlabels\u001b[0m\u001b[1;33m,\u001b[0m \u001b[0mmetric\u001b[0m\u001b[1;33m=\u001b[0m\u001b[0mmetric\u001b[0m\u001b[1;33m,\u001b[0m \u001b[1;33m**\u001b[0m\u001b[0mkwds\u001b[0m\u001b[1;33m)\u001b[0m\u001b[1;33m)\u001b[0m\u001b[1;33m\u001b[0m\u001b[1;33m\u001b[0m\u001b[0m\n\u001b[0m\u001b[0;32m    118\u001b[0m \u001b[1;33m\u001b[0m\u001b[0m\n\u001b[0;32m    119\u001b[0m \u001b[1;33m\u001b[0m\u001b[0m\n",
      "\u001b[1;32m~\\anaconda3\\lib\\site-packages\\sklearn\\metrics\\cluster\\_unsupervised.py\u001b[0m in \u001b[0;36msilhouette_samples\u001b[1;34m(X, labels, metric, **kwds)\u001b[0m\n\u001b[0;32m    210\u001b[0m        \u001b[1;33m<\u001b[0m\u001b[0mhttps\u001b[0m\u001b[1;33m:\u001b[0m\u001b[1;33m//\u001b[0m\u001b[0men\u001b[0m\u001b[1;33m.\u001b[0m\u001b[0mwikipedia\u001b[0m\u001b[1;33m.\u001b[0m\u001b[0morg\u001b[0m\u001b[1;33m/\u001b[0m\u001b[0mwiki\u001b[0m\u001b[1;33m/\u001b[0m\u001b[0mSilhouette_\u001b[0m\u001b[1;33m(\u001b[0m\u001b[0mclustering\u001b[0m\u001b[1;33m)\u001b[0m\u001b[1;33m>\u001b[0m\u001b[0;31m`\u001b[0m\u001b[0m_\u001b[0m\u001b[1;33m\u001b[0m\u001b[1;33m\u001b[0m\u001b[0m\n\u001b[0;32m    211\u001b[0m     \"\"\"\n\u001b[1;32m--> 212\u001b[1;33m     \u001b[0mX\u001b[0m\u001b[1;33m,\u001b[0m \u001b[0mlabels\u001b[0m \u001b[1;33m=\u001b[0m \u001b[0mcheck_X_y\u001b[0m\u001b[1;33m(\u001b[0m\u001b[0mX\u001b[0m\u001b[1;33m,\u001b[0m \u001b[0mlabels\u001b[0m\u001b[1;33m,\u001b[0m \u001b[0maccept_sparse\u001b[0m\u001b[1;33m=\u001b[0m\u001b[1;33m[\u001b[0m\u001b[1;34m\"csc\"\u001b[0m\u001b[1;33m,\u001b[0m \u001b[1;34m\"csr\"\u001b[0m\u001b[1;33m]\u001b[0m\u001b[1;33m)\u001b[0m\u001b[1;33m\u001b[0m\u001b[1;33m\u001b[0m\u001b[0m\n\u001b[0m\u001b[0;32m    213\u001b[0m \u001b[1;33m\u001b[0m\u001b[0m\n\u001b[0;32m    214\u001b[0m     \u001b[1;31m# Check for non-zero diagonal entries in precomputed distance matrix\u001b[0m\u001b[1;33m\u001b[0m\u001b[1;33m\u001b[0m\u001b[1;33m\u001b[0m\u001b[0m\n",
      "\u001b[1;32m~\\anaconda3\\lib\\site-packages\\sklearn\\utils\\validation.py\u001b[0m in \u001b[0;36mcheck_X_y\u001b[1;34m(X, y, accept_sparse, accept_large_sparse, dtype, order, copy, force_all_finite, ensure_2d, allow_nd, multi_output, ensure_min_samples, ensure_min_features, y_numeric, estimator)\u001b[0m\n\u001b[0;32m   1120\u001b[0m     )\n\u001b[0;32m   1121\u001b[0m \u001b[1;33m\u001b[0m\u001b[0m\n\u001b[1;32m-> 1122\u001b[1;33m     \u001b[0my\u001b[0m \u001b[1;33m=\u001b[0m \u001b[0m_check_y\u001b[0m\u001b[1;33m(\u001b[0m\u001b[0my\u001b[0m\u001b[1;33m,\u001b[0m \u001b[0mmulti_output\u001b[0m\u001b[1;33m=\u001b[0m\u001b[0mmulti_output\u001b[0m\u001b[1;33m,\u001b[0m \u001b[0my_numeric\u001b[0m\u001b[1;33m=\u001b[0m\u001b[0my_numeric\u001b[0m\u001b[1;33m,\u001b[0m \u001b[0mestimator\u001b[0m\u001b[1;33m=\u001b[0m\u001b[0mestimator\u001b[0m\u001b[1;33m)\u001b[0m\u001b[1;33m\u001b[0m\u001b[1;33m\u001b[0m\u001b[0m\n\u001b[0m\u001b[0;32m   1123\u001b[0m \u001b[1;33m\u001b[0m\u001b[0m\n\u001b[0;32m   1124\u001b[0m     \u001b[0mcheck_consistent_length\u001b[0m\u001b[1;33m(\u001b[0m\u001b[0mX\u001b[0m\u001b[1;33m,\u001b[0m \u001b[0my\u001b[0m\u001b[1;33m)\u001b[0m\u001b[1;33m\u001b[0m\u001b[1;33m\u001b[0m\u001b[0m\n",
      "\u001b[1;32m~\\anaconda3\\lib\\site-packages\\sklearn\\utils\\validation.py\u001b[0m in \u001b[0;36m_check_y\u001b[1;34m(y, multi_output, y_numeric, estimator)\u001b[0m\n\u001b[0;32m   1141\u001b[0m     \u001b[1;32melse\u001b[0m\u001b[1;33m:\u001b[0m\u001b[1;33m\u001b[0m\u001b[1;33m\u001b[0m\u001b[0m\n\u001b[0;32m   1142\u001b[0m         \u001b[0mestimator_name\u001b[0m \u001b[1;33m=\u001b[0m \u001b[0m_check_estimator_name\u001b[0m\u001b[1;33m(\u001b[0m\u001b[0mestimator\u001b[0m\u001b[1;33m)\u001b[0m\u001b[1;33m\u001b[0m\u001b[1;33m\u001b[0m\u001b[0m\n\u001b[1;32m-> 1143\u001b[1;33m         \u001b[0my\u001b[0m \u001b[1;33m=\u001b[0m \u001b[0mcolumn_or_1d\u001b[0m\u001b[1;33m(\u001b[0m\u001b[0my\u001b[0m\u001b[1;33m,\u001b[0m \u001b[0mwarn\u001b[0m\u001b[1;33m=\u001b[0m\u001b[1;32mTrue\u001b[0m\u001b[1;33m)\u001b[0m\u001b[1;33m\u001b[0m\u001b[1;33m\u001b[0m\u001b[0m\n\u001b[0m\u001b[0;32m   1144\u001b[0m         \u001b[0m_assert_all_finite\u001b[0m\u001b[1;33m(\u001b[0m\u001b[0my\u001b[0m\u001b[1;33m,\u001b[0m \u001b[0minput_name\u001b[0m\u001b[1;33m=\u001b[0m\u001b[1;34m\"y\"\u001b[0m\u001b[1;33m,\u001b[0m \u001b[0mestimator_name\u001b[0m\u001b[1;33m=\u001b[0m\u001b[0mestimator_name\u001b[0m\u001b[1;33m)\u001b[0m\u001b[1;33m\u001b[0m\u001b[1;33m\u001b[0m\u001b[0m\n\u001b[0;32m   1145\u001b[0m         \u001b[0m_ensure_no_complex_data\u001b[0m\u001b[1;33m(\u001b[0m\u001b[0my\u001b[0m\u001b[1;33m)\u001b[0m\u001b[1;33m\u001b[0m\u001b[1;33m\u001b[0m\u001b[0m\n",
      "\u001b[1;32m~\\anaconda3\\lib\\site-packages\\sklearn\\utils\\validation.py\u001b[0m in \u001b[0;36mcolumn_or_1d\u001b[1;34m(y, dtype, warn)\u001b[0m\n\u001b[0;32m   1200\u001b[0m         \u001b[1;32mreturn\u001b[0m \u001b[0m_asarray_with_order\u001b[0m\u001b[1;33m(\u001b[0m\u001b[0mxp\u001b[0m\u001b[1;33m.\u001b[0m\u001b[0mreshape\u001b[0m\u001b[1;33m(\u001b[0m\u001b[0my\u001b[0m\u001b[1;33m,\u001b[0m \u001b[1;33m-\u001b[0m\u001b[1;36m1\u001b[0m\u001b[1;33m)\u001b[0m\u001b[1;33m,\u001b[0m \u001b[0morder\u001b[0m\u001b[1;33m=\u001b[0m\u001b[1;34m\"C\"\u001b[0m\u001b[1;33m,\u001b[0m \u001b[0mxp\u001b[0m\u001b[1;33m=\u001b[0m\u001b[0mxp\u001b[0m\u001b[1;33m)\u001b[0m\u001b[1;33m\u001b[0m\u001b[1;33m\u001b[0m\u001b[0m\n\u001b[0;32m   1201\u001b[0m \u001b[1;33m\u001b[0m\u001b[0m\n\u001b[1;32m-> 1202\u001b[1;33m     raise ValueError(\n\u001b[0m\u001b[0;32m   1203\u001b[0m         \u001b[1;34m\"y should be a 1d array, got an array of shape {} instead.\"\u001b[0m\u001b[1;33m.\u001b[0m\u001b[0mformat\u001b[0m\u001b[1;33m(\u001b[0m\u001b[0mshape\u001b[0m\u001b[1;33m)\u001b[0m\u001b[1;33m\u001b[0m\u001b[1;33m\u001b[0m\u001b[0m\n\u001b[0;32m   1204\u001b[0m     )\n",
      "\u001b[1;31mValueError\u001b[0m: y should be a 1d array, got an array of shape () instead."
     ]
    }
   ],
   "source": [
    "# labels = kmeans.labels_\n",
    "silhouette_avg = silhouette_score(scaled_feature, label)"
   ]
  },
  {
   "cell_type": "code",
   "execution_count": 85,
   "id": "9eb4afb3",
   "metadata": {},
   "outputs": [
    {
     "name": "stdout",
     "output_type": "stream",
     "text": [
      "Shape of scaled features: (212229, 12)\n"
     ]
    }
   ],
   "source": [
    "print(\"Shape of scaled features:\", scaled_feature.shape)\n"
   ]
  },
  {
   "cell_type": "code",
   "execution_count": 87,
   "id": "9542f630",
   "metadata": {},
   "outputs": [
    {
     "name": "stdout",
     "output_type": "stream",
     "text": [
      "Shape of labels: (212229,)\n"
     ]
    }
   ],
   "source": [
    "labels = kmeans.labels_\n",
    "print(\"Shape of labels:\", labels.shape)\n"
   ]
  },
  {
   "cell_type": "code",
   "execution_count": 88,
   "id": "10fc974e",
   "metadata": {},
   "outputs": [],
   "source": [
    "labels = labels.reshape(-1)\n"
   ]
  },
  {
   "cell_type": "code",
   "execution_count": null,
   "id": "0c580c8d",
   "metadata": {},
   "outputs": [],
   "source": [
    "labels"
   ]
  },
  {
   "attachments": {},
   "cell_type": "markdown",
   "id": "b6a49f45",
   "metadata": {},
   "source": [
    "silhouette_avg = silhouette_score(scaled_feature, labels)\n",
    "print(\"Silhouette Score:\", silhouette_avg)\n"
   ]
  },
  {
   "attachments": {},
   "cell_type": "markdown",
   "id": "ae582542",
   "metadata": {},
   "source": [
    "fig = plt.figure(figsize=(20,8))\n",
    "ax = fig.add_subplot(121)\n",
    "sns.swarmplot(x='source', y='price', data=features, ax=ax)\n",
    "ax.set_title('Labels According to Annual Income')\n",
    "\n",
    "ax = fig.add_subplot(122)\n",
    "sns.swarmplot(x='source', y='price', data=features, ax=ax)\n",
    "ax.set_title('Labels According to Scoring History')\n",
    "\n",
    "plt.show()"
   ]
  },
  {
   "attachments": {},
   "cell_type": "markdown",
   "id": "50b46c71",
   "metadata": {},
   "source": [
    "### Thank you😊"
   ]
  }
 ],
 "metadata": {
  "kernelspec": {
   "display_name": "Python 3 (ipykernel)",
   "language": "python",
   "name": "python3"
  },
  "language_info": {
   "codemirror_mode": {
    "name": "ipython",
    "version": 3
   },
   "file_extension": ".py",
   "mimetype": "text/x-python",
   "name": "python",
   "nbconvert_exporter": "python",
   "pygments_lexer": "ipython3",
   "version": "3.8.5"
  },
  "toc": {
   "base_numbering": 1,
   "nav_menu": {},
   "number_sections": true,
   "sideBar": true,
   "skip_h1_title": false,
   "title_cell": "Table of Contents",
   "title_sidebar": "Contents",
   "toc_cell": false,
   "toc_position": {},
   "toc_section_display": true,
   "toc_window_display": false
  }
 },
 "nbformat": 4,
 "nbformat_minor": 5
}
