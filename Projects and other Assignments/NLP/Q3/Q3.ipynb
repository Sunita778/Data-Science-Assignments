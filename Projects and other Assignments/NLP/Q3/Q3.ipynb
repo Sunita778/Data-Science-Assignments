{
 "cells": [
  {
   "attachments": {},
   "cell_type": "markdown",
   "id": "69440fc2",
   "metadata": {},
   "source": [
    "## *Submitted by:* - `Sunita Pradhan`"
   ]
  },
  {
   "cell_type": "code",
   "execution_count": 1,
   "id": "c594b886",
   "metadata": {
    "scrolled": true
   },
   "outputs": [
    {
     "name": "stdout",
     "output_type": "stream",
     "text": [
      "Collecting PyPDF2\n",
      "  Downloading pypdf2-3.0.1-py3-none-any.whl (232 kB)\n",
      "     ------------------------------------ 232.6/232.6 kB 791.2 kB/s eta 0:00:00\n",
      "Requirement already satisfied: typing_extensions>=3.10.0.0 in c:\\users\\sssun\\anaconda3\\lib\\site-packages (from PyPDF2) (4.3.0)\n",
      "Installing collected packages: PyPDF2\n",
      "Successfully installed PyPDF2-3.0.1\n",
      "Note: you may need to restart the kernel to use updated packages.\n"
     ]
    },
    {
     "name": "stderr",
     "output_type": "stream",
     "text": [
      "WARNING: Ignoring invalid distribution -tatsmodels (c:\\users\\sssun\\anaconda3\\lib\\site-packages)\n",
      "WARNING: Ignoring invalid distribution -tatsmodels (c:\\users\\sssun\\anaconda3\\lib\\site-packages)\n"
     ]
    }
   ],
   "source": [
    "pip install PyPDF2"
   ]
  },
  {
   "cell_type": "code",
   "execution_count": 2,
   "id": "eb6d4e6b",
   "metadata": {},
   "outputs": [],
   "source": [
    "import csv\n",
    "import PyPDF2\n",
    "from collections import Counter"
   ]
  },
  {
   "cell_type": "code",
   "execution_count": 3,
   "id": "0f1b5742",
   "metadata": {},
   "outputs": [],
   "source": [
    "pdf_path = r'\\Placement_Assessments\\Data Science.pdf'  \n",
    "\n",
    "# Open the PDF file in read-binary mode\n",
    "with open(pdf_path, \"rb\") as file:\n",
    "    reader = PyPDF2.PdfReader(file)\n",
    "    # Extract text from each page of the PDF\n",
    "    pages_text = [page.extract_text() for page in reader.pages]\n",
    "\n",
    "    # Concatenate the text from all pages\n",
    "    full_text = \" \".join(pages_text)\n"
   ]
  },
  {
   "cell_type": "code",
   "execution_count": 4,
   "id": "63392e93",
   "metadata": {},
   "outputs": [],
   "source": [
    "csv_path = \"Q2_pdf_text.csv\" \n",
    "\n",
    "# Save the text to a CSV file\n",
    "with open(csv_path, \"w\", newline=\"\", encoding=\"utf-8\") as file:\n",
    "    writer = csv.writer(file)\n",
    "    writer.writerow([\"Text\"])\n",
    "    writer.writerow([full_text])"
   ]
  },
  {
   "cell_type": "code",
   "execution_count": 5,
   "id": "f57efb28",
   "metadata": {},
   "outputs": [
    {
     "name": "stdout",
     "output_type": "stream",
     "text": [
      "Most repeated word: the\n"
     ]
    }
   ],
   "source": [
    "# Tokenize the text into words\n",
    "words = full_text.lower().split()\n",
    "\n",
    "# Count the occurrences of each word\n",
    "word_counts = Counter(words)\n",
    "\n",
    "# Find the most repeated word\n",
    "most_repeated_word = word_counts.most_common(1)[0][0]\n",
    "\n",
    "print(\"Most repeated word:\", most_repeated_word)\n"
   ]
  },
  {
   "attachments": {},
   "cell_type": "markdown",
   "id": "2ea3d36a",
   "metadata": {},
   "source": [
    "### Thank you😊"
   ]
  },
  {
   "cell_type": "code",
   "execution_count": null,
   "id": "9afea4a3",
   "metadata": {},
   "outputs": [],
   "source": []
  }
 ],
 "metadata": {
  "kernelspec": {
   "display_name": "Python 3 (ipykernel)",
   "language": "python",
   "name": "python3"
  },
  "language_info": {
   "codemirror_mode": {
    "name": "ipython",
    "version": 3
   },
   "file_extension": ".py",
   "mimetype": "text/x-python",
   "name": "python",
   "nbconvert_exporter": "python",
   "pygments_lexer": "ipython3",
   "version": "3.8.5"
  },
  "toc": {
   "base_numbering": 1,
   "nav_menu": {},
   "number_sections": true,
   "sideBar": true,
   "skip_h1_title": false,
   "title_cell": "Table of Contents",
   "title_sidebar": "Contents",
   "toc_cell": false,
   "toc_position": {},
   "toc_section_display": true,
   "toc_window_display": false
  }
 },
 "nbformat": 4,
 "nbformat_minor": 5
}
