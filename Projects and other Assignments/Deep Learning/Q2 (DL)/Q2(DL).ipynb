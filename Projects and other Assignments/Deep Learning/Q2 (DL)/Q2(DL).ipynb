{
 "cells": [
  {
   "attachments": {},
   "cell_type": "markdown",
   "metadata": {},
   "source": [
    "## *Submitted by:* `Sunta Pradhan`"
   ]
  },
  {
   "cell_type": "code",
   "execution_count": 1,
   "metadata": {
    "id": "fvk92BfCS4my"
   },
   "outputs": [],
   "source": [
    "import torch\n",
    "import torch.nn as nn\n",
    "import torch.optim as optim\n",
    "import torchvision\n",
    "import torchvision.transforms as transforms"
   ]
  },
  {
   "cell_type": "code",
   "execution_count": 2,
   "metadata": {
    "colab": {
     "base_uri": "https://localhost:8080/"
    },
    "id": "4cnmD-N3FZ7S",
    "outputId": "d638c3ac-5355-46ab-ece6-088c264854e5"
   },
   "outputs": [
    {
     "data": {
      "text/plain": [
       "<torch._C.Generator at 0x7fc8d41f0e30>"
      ]
     },
     "execution_count": 2,
     "metadata": {},
     "output_type": "execute_result"
    }
   ],
   "source": [
    "# Set random seed for reproducibility\n",
    "torch.manual_seed(42)"
   ]
  },
  {
   "cell_type": "code",
   "execution_count": 3,
   "metadata": {
    "id": "ny0jJBZ-FZ-y"
   },
   "outputs": [],
   "source": [
    "# Define transformations to apply to the CIFAR-10 dataset\n",
    "transform = transforms.Compose([\n",
    "    transforms.ToTensor(),\n",
    "    transforms.Normalize((0.5, 0.5, 0.5), (0.5, 0.5, 0.5))\n",
    "])"
   ]
  },
  {
   "cell_type": "code",
   "execution_count": 4,
   "metadata": {
    "colab": {
     "base_uri": "https://localhost:8080/"
    },
    "id": "9riD3N7NFdqL",
    "outputId": "b9ad9f30-fc98-4d0f-c168-b6a118d45f6a"
   },
   "outputs": [
    {
     "name": "stdout",
     "output_type": "stream",
     "text": [
      "Downloading https://www.cs.toronto.edu/~kriz/cifar-10-python.tar.gz to ./data/cifar-10-python.tar.gz\n"
     ]
    },
    {
     "name": "stderr",
     "output_type": "stream",
     "text": [
      "100%|██████████| 170498071/170498071 [00:02<00:00, 78658921.47it/s]\n"
     ]
    },
    {
     "name": "stdout",
     "output_type": "stream",
     "text": [
      "Extracting ./data/cifar-10-python.tar.gz to ./data\n",
      "Files already downloaded and verified\n"
     ]
    }
   ],
   "source": [
    "# Load CIFAR-10 dataset\n",
    "trainset = torchvision.datasets.CIFAR10(root='./data', train=True,\n",
    "                                        download=True, transform=transform)\n",
    "testset = torchvision.datasets.CIFAR10(root='./data', train=False,\n",
    "                                       download=True, transform=transform)"
   ]
  },
  {
   "cell_type": "code",
   "execution_count": 5,
   "metadata": {
    "id": "VKcXWRvzFdto"
   },
   "outputs": [],
   "source": [
    "# Define dataloaders for training and testing\n",
    "trainloader = torch.utils.data.DataLoader(trainset, batch_size=128,\n",
    "                                          shuffle=True, num_workers=2)\n",
    "testloader = torch.utils.data.DataLoader(testset, batch_size=128,\n",
    "                                         shuffle=False, num_workers=2)"
   ]
  },
  {
   "cell_type": "code",
   "execution_count": 6,
   "metadata": {
    "id": "xyTG5XB1Fh-A"
   },
   "outputs": [],
   "source": [
    "# Check if CUDA is available and set device accordingly\n",
    "device = torch.device(\"cuda\" if torch.cuda.is_available() else \"cpu\")"
   ]
  },
  {
   "cell_type": "code",
   "execution_count": 7,
   "metadata": {
    "id": "SdHDCCOpFiBd"
   },
   "outputs": [],
   "source": [
    "# Define a simple CNN architecture\n",
    "class Net(nn.Module):\n",
    "    def __init__(self):\n",
    "        super(Net, self).__init__()\n",
    "        self.conv1 = nn.Conv2d(3, 32, 3, padding=1)\n",
    "        self.conv2 = nn.Conv2d(32, 64, 3, padding=1)\n",
    "        self.pool = nn.MaxPool2d(2, 2)\n",
    "        self.fc1 = nn.Linear(64 * 8 * 8, 64)\n",
    "        self.fc2 = nn.Linear(64, 10)\n",
    "\n",
    "    def forward(self, x):\n",
    "        x = self.pool(torch.relu(self.conv1(x)))\n",
    "        x = self.pool(torch.relu(self.conv2(x)))\n",
    "        x = x.view(-1, 64 * 8 * 8)\n",
    "        x = torch.relu(self.fc1(x))\n",
    "        x = self.fc2(x)\n",
    "        return x"
   ]
  },
  {
   "cell_type": "code",
   "execution_count": 8,
   "metadata": {
    "id": "joTzGYHOFnZr"
   },
   "outputs": [],
   "source": [
    "# Instantiate the CNN models\n",
    "models = []\n",
    "models.append(Net().to(device))\n",
    "models.append(Net().to(device))\n",
    "models.append(Net().to(device))\n",
    "models.append(Net().to(device))\n",
    "models.append(Net().to(device))"
   ]
  },
  {
   "cell_type": "code",
   "execution_count": 9,
   "metadata": {
    "id": "AwJ-rgSWFndD"
   },
   "outputs": [],
   "source": [
    "# Define the loss function and optimizer for each model\n",
    "criterion = nn.CrossEntropyLoss()\n",
    "optimizers = [optim.Adam(model.parameters(), lr=0.001) for model in models]"
   ]
  },
  {
   "cell_type": "code",
   "execution_count": 10,
   "metadata": {
    "colab": {
     "base_uri": "https://localhost:8080/"
    },
    "id": "kXUF9MMlFs3F",
    "outputId": "51333bf3-a161-4390-fda7-86e6483d4fea"
   },
   "outputs": [
    {
     "name": "stdout",
     "output_type": "stream",
     "text": [
      "[Model 1] [1] Loss: 1.4864670788235677\n",
      "[Model 1] [2] Loss: 1.1259023027346873\n",
      "[Model 1] [3] Loss: 0.9687344375473764\n",
      "[Model 1] [4] Loss: 0.8816523660174416\n",
      "[Model 1] [5] Loss: 0.8000915047457761\n",
      "[Model 1] [6] Loss: 0.7324154758849717\n",
      "[Model 1] [7] Loss: 0.681418021469165\n",
      "[Model 1] [8] Loss: 0.6314457207537063\n",
      "[Model 1] [9] Loss: 0.5836518460222523\n",
      "[Model 1] [10] Loss: 0.5405042504563051\n",
      "[Model 2] [1] Loss: 1.4399494734566536\n",
      "[Model 2] [2] Loss: 1.0624853579894356\n",
      "[Model 2] [3] Loss: 0.9096878802075106\n",
      "[Model 2] [4] Loss: 0.8188221036930523\n",
      "[Model 2] [5] Loss: 0.7436945726499533\n",
      "[Model 2] [6] Loss: 0.6773942728786517\n",
      "[Model 2] [7] Loss: 0.6187874684705759\n",
      "[Model 2] [8] Loss: 0.5638641464283399\n",
      "[Model 2] [9] Loss: 0.5140456307269728\n",
      "[Model 2] [10] Loss: 0.4633843502425172\n",
      "[Model 3] [1] Loss: 1.4699561129445615\n",
      "[Model 3] [2] Loss: 1.0933105422712652\n",
      "[Model 3] [3] Loss: 0.9404634345522926\n",
      "[Model 3] [4] Loss: 0.8508815346166606\n",
      "[Model 3] [5] Loss: 0.7820139268170232\n",
      "[Model 3] [6] Loss: 0.7278545617752368\n",
      "[Model 3] [7] Loss: 0.6779110853172019\n",
      "[Model 3] [8] Loss: 0.6244726351002599\n",
      "[Model 3] [9] Loss: 0.5834569568219392\n",
      "[Model 3] [10] Loss: 0.5380200980721838\n",
      "[Model 4] [1] Loss: 1.4411220266995832\n",
      "[Model 4] [2] Loss: 1.0805081313528369\n",
      "[Model 4] [3] Loss: 0.9280038684835215\n",
      "[Model 4] [4] Loss: 0.8321688669112027\n",
      "[Model 4] [5] Loss: 0.7589155000341518\n",
      "[Model 4] [6] Loss: 0.6882536630801228\n",
      "[Model 4] [7] Loss: 0.6266798079013824\n",
      "[Model 4] [8] Loss: 0.5752982308949961\n",
      "[Model 4] [9] Loss: 0.5233394612589151\n",
      "[Model 4] [10] Loss: 0.4703482066273994\n",
      "[Model 5] [1] Loss: 1.4586462181852298\n",
      "[Model 5] [2] Loss: 1.1032323113182927\n",
      "[Model 5] [3] Loss: 0.9493568980175516\n",
      "[Model 5] [4] Loss: 0.846530376035539\n",
      "[Model 5] [5] Loss: 0.7717546011175951\n",
      "[Model 5] [6] Loss: 0.7054436975123023\n",
      "[Model 5] [7] Loss: 0.6506654396081519\n",
      "[Model 5] [8] Loss: 0.5978024351169996\n",
      "[Model 5] [9] Loss: 0.5491433319685709\n",
      "[Model 5] [10] Loss: 0.5022899568690669\n"
     ]
    }
   ],
   "source": [
    "# Training loop for each model\n",
    "for model, optimizer in zip(models, optimizers):\n",
    "    for epoch in range(10):\n",
    "        running_loss = 0.0\n",
    "        for i, data in enumerate(trainloader, 0):\n",
    "            inputs, labels = data[0].to(device), data[1].to(device)\n",
    "\n",
    "            # Resize inputs to match target labels\n",
    "            inputs = torch.nn.functional.interpolate(inputs, size=(32, 32))\n",
    "\n",
    "            optimizer.zero_grad()\n",
    "            outputs = model(inputs)\n",
    "            loss = criterion(outputs, labels)\n",
    "            loss.backward()\n",
    "            optimizer.step()\n",
    "\n",
    "            running_loss += loss.item()\n",
    "\n",
    "        print(f\"[Model {models.index(model) + 1}] [{epoch + 1}] Loss: {running_loss / len(trainloader)}\")"
   ]
  },
  {
   "cell_type": "code",
   "execution_count": 11,
   "metadata": {
    "colab": {
     "base_uri": "https://localhost:8080/"
    },
    "id": "_5f9tZvVTfPS",
    "outputId": "6c439d91-7861-491c-81ec-7b7c6ce9b400"
   },
   "outputs": [
    {
     "name": "stdout",
     "output_type": "stream",
     "text": [
      "[Model 1] Validation Accuracy: 72.24%\n",
      "[Model 2] Validation Accuracy: 72.39%\n",
      "[Model 3] Validation Accuracy: 71.84%\n",
      "[Model 4] Validation Accuracy: 72.82%\n",
      "[Model 5] Validation Accuracy: 71.86%\n"
     ]
    }
   ],
   "source": [
    "# Evaluate each model on the test set\n",
    "accuracies = []\n",
    "for model in models:\n",
    "    correct = 0\n",
    "    total = 0\n",
    "    with torch.no_grad():\n",
    "        for data in testloader:\n",
    "            images, labels = data[0].to(device), data[1].to(device)\n",
    "            \n",
    "            # Resize inputs to match target labels\n",
    "            images = torch.nn.functional.interpolate(images, size=(32, 32))\n",
    "\n",
    "            outputs = model(images)\n",
    "            _, predicted = torch.max(outputs.data, 1)\n",
    "            total += labels.size(0)\n",
    "            correct += (predicted == labels).sum().item()\n",
    "\n",
    "    accuracy = 100 * correct / total\n",
    "    accuracies.append(accuracy)\n",
    "    print(f\"[Model {models.index(model) + 1}] Validation Accuracy: {accuracy:.2f}%\")"
   ]
  },
  {
   "attachments": {},
   "cell_type": "markdown",
   "metadata": {},
   "source": [
    "### Thank you..😊"
   ]
  }
 ],
 "metadata": {
  "accelerator": "GPU",
  "colab": {
   "gpuType": "T4",
   "provenance": []
  },
  "gpuClass": "standard",
  "kernelspec": {
   "display_name": "Python 3 (ipykernel)",
   "language": "python",
   "name": "python3"
  },
  "language_info": {
   "codemirror_mode": {
    "name": "ipython",
    "version": 3
   },
   "file_extension": ".py",
   "mimetype": "text/x-python",
   "name": "python",
   "nbconvert_exporter": "python",
   "pygments_lexer": "ipython3",
   "version": "3.8.5"
  },
  "toc": {
   "base_numbering": 1,
   "nav_menu": {},
   "number_sections": true,
   "sideBar": true,
   "skip_h1_title": false,
   "title_cell": "Table of Contents",
   "title_sidebar": "Contents",
   "toc_cell": false,
   "toc_position": {},
   "toc_section_display": true,
   "toc_window_display": false
  }
 },
 "nbformat": 4,
 "nbformat_minor": 1
}
