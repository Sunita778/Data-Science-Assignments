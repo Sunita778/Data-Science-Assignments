{
 "cells": [
  {
   "attachments": {},
   "cell_type": "markdown",
   "id": "abb3e1f2",
   "metadata": {},
   "source": [
    "## *Submitted by* - `Sunita Pradhan`"
   ]
  },
  {
   "attachments": {},
   "cell_type": "markdown",
   "id": "74612283",
   "metadata": {},
   "source": [
    "# Question 8 -\n",
    "\n",
    "### Using the data from Question 5, write code the analyze the data and answer the following questions Note -\n",
    "1. Draw plots to demonstrate the analysis for the following questions and better visualizations\n",
    "2. Write code comments wherever required for code understanding\n",
    "\n",
    "Insights to be drawn -\n",
    "\n",
    "● Get all the overall ratings for each season and using plots compare the ratings for all the seasons, like season 1 ratings, season 2, and so on.\n",
    "\n",
    "● Get all the episode names, whose average rating is more than 8 for every season\n",
    "\n",
    "● Get all the episode names that aired before May 2019\n",
    "\n",
    "● Get the episode name from each season with the highest and lowest rating\n",
    "\n",
    "● Get the summary for the most popular ( ratings ) episode in every season"
   ]
  },
  {
   "cell_type": "code",
   "execution_count": 2,
   "id": "e52b8714",
   "metadata": {},
   "outputs": [
    {
     "name": "stdout",
     "output_type": "stream",
     "text": [
      "{\"id\": 2326658, \"url\": \"https://www.tvmaze.com/episodes/2326658/westworld-4x05-zhuangzi\", \"name\": \"Zhuangzi\", \"season\": 4, \"number\": 5, \"type\": \"regular\", \"airdate\": \"2022-07-24\", \"airtime\": \"21:00\", \"airstamp\": \"2022-07-25T01:00:00+00:00\", \"runtime\": 60, \"rating\": {\"average\": 7.8}, \"image\": {\"medium\": \"https://static.tvmaze.com/uploads/images/medium_landscape/416/1042460.jpg\", \"original\": \"https://static.tvmaze.com/uploads/images/original_untouched/416/1042460.jpg\"}, \"summary\": \"<p>God is bored.</p>\", \"_links\": {\"self\": {\"href\": \"https://api.tvmaze.com/episodes/2326658\"}, \"show\": {\"href\": \"https://api.tvmaze.com/shows/1371\"}}}\n"
     ]
    }
   ],
   "source": [
    "import pandas as pd\n",
    "import seaborn as sns\n",
    "import matplotlib.pyplot as plt\n",
    "import json\n",
    "import requests\n",
    "import warnings\n",
    "warnings.filterwarnings(\"ignore\")\n",
    "\n",
    "# Fetch JSON data from URL\n",
    "url = \"http://api.tvmaze.com/singlesearch/shows?q=westworld&embed=episodes\"\n",
    "response = requests.get(url)\n",
    "data = response.json()\n",
    "\n",
    "x=data['_embedded']['episodes']\n",
    "\n",
    "def extract_dictionary(list_of_dicts, key, value):\n",
    "    for dictionary in list_of_dicts:\n",
    "        if key in dictionary and dictionary[key] == value:\n",
    "            return dictionary\n",
    "    return None\n",
    "\n",
    "extracted_dict = extract_dictionary(x, \"id\", 2326658)\n",
    "# print(extracted_dict)\n",
    "\n",
    "import json\n",
    "\n",
    "# Convert dictionary to JSON\n",
    "json_data = json.dumps(extracted_dict)\n",
    "\n",
    "print(json_data)"
   ]
  },
  {
   "cell_type": "code",
   "execution_count": 3,
   "id": "a02ed5c5",
   "metadata": {},
   "outputs": [],
   "source": [
    "df=pd.DataFrame(x)"
   ]
  },
  {
   "attachments": {},
   "cell_type": "markdown",
   "id": "e680f5a0",
   "metadata": {},
   "source": [
    "##### A. Get all the overall ratings for each season and using plots compare the ratings for all the seasons, like season 1 ratings, season 2, and so on."
   ]
  },
  {
   "cell_type": "code",
   "execution_count": 6,
   "id": "50239255",
   "metadata": {},
   "outputs": [],
   "source": [
    "def rat(val):\n",
    "    return val['average']"
   ]
  },
  {
   "cell_type": "code",
   "execution_count": 7,
   "id": "7a7783e2",
   "metadata": {},
   "outputs": [],
   "source": [
    "df['rating_value']=df['rating'].apply(rat)"
   ]
  },
  {
   "cell_type": "code",
   "execution_count": 8,
   "id": "f8658341",
   "metadata": {},
   "outputs": [],
   "source": [
    "rating = pd.DataFrame(df.groupby(['season'])['rating_value'].sum())"
   ]
  },
  {
   "cell_type": "code",
   "execution_count": 9,
   "id": "dc1ea4f8",
   "metadata": {},
   "outputs": [
    {
     "data": {
      "text/html": [
       "<div>\n",
       "<style scoped>\n",
       "    .dataframe tbody tr th:only-of-type {\n",
       "        vertical-align: middle;\n",
       "    }\n",
       "\n",
       "    .dataframe tbody tr th {\n",
       "        vertical-align: top;\n",
       "    }\n",
       "\n",
       "    .dataframe thead th {\n",
       "        text-align: right;\n",
       "    }\n",
       "</style>\n",
       "<table border=\"1\" class=\"dataframe\">\n",
       "  <thead>\n",
       "    <tr style=\"text-align: right;\">\n",
       "      <th></th>\n",
       "      <th>rating_value</th>\n",
       "    </tr>\n",
       "    <tr>\n",
       "      <th>season</th>\n",
       "      <th></th>\n",
       "    </tr>\n",
       "  </thead>\n",
       "  <tbody>\n",
       "    <tr>\n",
       "      <th>1</th>\n",
       "      <td>80.9</td>\n",
       "    </tr>\n",
       "    <tr>\n",
       "      <th>2</th>\n",
       "      <td>80.0</td>\n",
       "    </tr>\n",
       "    <tr>\n",
       "      <th>3</th>\n",
       "      <td>62.2</td>\n",
       "    </tr>\n",
       "    <tr>\n",
       "      <th>4</th>\n",
       "      <td>60.3</td>\n",
       "    </tr>\n",
       "  </tbody>\n",
       "</table>\n",
       "</div>"
      ],
      "text/plain": [
       "        rating_value\n",
       "season              \n",
       "1               80.9\n",
       "2               80.0\n",
       "3               62.2\n",
       "4               60.3"
      ]
     },
     "execution_count": 9,
     "metadata": {},
     "output_type": "execute_result"
    }
   ],
   "source": [
    "rating"
   ]
  },
  {
   "cell_type": "code",
   "execution_count": 10,
   "id": "4c1f37fa",
   "metadata": {
    "scrolled": true
   },
   "outputs": [
    {
     "data": {
      "text/plain": [
       "<Axes: xlabel='season'>"
      ]
     },
     "execution_count": 10,
     "metadata": {},
     "output_type": "execute_result"
    },
    {
     "data": {
      "image/png": "[encoded data removed]",
      "text/plain": [
       "<Figure size 432x288 with 1 Axes>"
      ]
     },
     "metadata": {
      "needs_background": "light"
     },
     "output_type": "display_data"
    }
   ],
   "source": [
    "rating.plot(kind='bar',rot=0)"
   ]
  },
  {
   "attachments": {},
   "cell_type": "markdown",
   "id": "a78248b1",
   "metadata": {},
   "source": [
    "##### B. Get all the episode names, whose average rating is more than 8 for every season"
   ]
  },
  {
   "cell_type": "code",
   "execution_count": 11,
   "id": "24b9a3a8",
   "metadata": {},
   "outputs": [],
   "source": [
    "##Applying condition to get episode names\n",
    "ep_name = df[df['rating_value']>8]['name'].to_list()"
   ]
  },
  {
   "cell_type": "code",
   "execution_count": 13,
   "id": "4682d207",
   "metadata": {
    "scrolled": true
   },
   "outputs": [
    {
     "data": {
      "text/plain": [
       "[\"Trompe L'Oeil\",\n",
       " 'The Well-Tempered Clavier',\n",
       " 'The Bicameral Mind',\n",
       " 'Kiksuya',\n",
       " 'Vanishing Point',\n",
       " 'The Passenger']"
      ]
     },
     "execution_count": 13,
     "metadata": {},
     "output_type": "execute_result"
    }
   ],
   "source": [
    "##all the episode names, whose average rating is more than 8 for every season\n",
    "ep_name"
   ]
  },
  {
   "cell_type": "code",
   "execution_count": 22,
   "id": "4a7b4742",
   "metadata": {},
   "outputs": [
    {
     "data": {
      "image/png": "[encoded data removed]",
      "text/plain": [
       "<Figure size 1440x288 with 1 Axes>"
      ]
     },
     "metadata": {
      "needs_background": "light"
     },
     "output_type": "display_data"
    }
   ],
   "source": [
    "# Plot the count of TV shows\n",
    "plt.figure(figsize=(20, 4))\n",
    "plt.hist(ep_name, bins=len(ep_name), edgecolor='black')\n",
    "plt.xlabel('Episode Name')\n",
    "plt.ylabel('Count')\n",
    "plt.title('Count of all the episode names with Rating > 8')\n",
    "plt.show()"
   ]
  },
  {
   "attachments": {},
   "cell_type": "markdown",
   "id": "1dc6bc29",
   "metadata": {},
   "source": [
    "##### C.  Get all the episode names that aired before May 2019\n"
   ]
  },
  {
   "cell_type": "code",
   "execution_count": 18,
   "id": "c053aebc",
   "metadata": {},
   "outputs": [],
   "source": [
    "##Converting the airdate column to datatime datatype\n",
    "df['airdate'] = pd.to_datetime(df['airdate'])\n",
    "\n",
    "# Extract year, month, and day\n",
    "df['year'] = df['airdate'].dt.year\n",
    "df['month'] = df['airdate'].dt.month\n",
    "df['day'] = df['airdate'].dt.day"
   ]
  },
  {
   "cell_type": "code",
   "execution_count": 19,
   "id": "59783dec",
   "metadata": {},
   "outputs": [],
   "source": [
    "#Applying the condition\n",
    "filtered_ep_name = df[(df['year'] > 2019) & (df['month'] > 5)]['name'].to_list()"
   ]
  },
  {
   "cell_type": "code",
   "execution_count": 20,
   "id": "a88c8a10",
   "metadata": {
    "scrolled": true
   },
   "outputs": [
    {
     "data": {
      "text/plain": [
       "['The Auguries',\n",
       " 'Well Enough Alone',\n",
       " 'Années Folles',\n",
       " 'Generation Loss',\n",
       " 'Zhuangzi',\n",
       " 'Fidelity',\n",
       " 'Metanoia',\n",
       " 'Que Será, Será']"
      ]
     },
     "execution_count": 20,
     "metadata": {},
     "output_type": "execute_result"
    }
   ],
   "source": [
    "#All the episode names that aired before May 2019\n",
    "filtered_ep_name"
   ]
  },
  {
   "cell_type": "code",
   "execution_count": 25,
   "id": "818e91c7",
   "metadata": {},
   "outputs": [
    {
     "data": {
      "image/png": "[encoded data removed]",
      "text/plain": [
       "<Figure size 720x432 with 1 Axes>"
      ]
     },
     "metadata": {
      "needs_background": "light"
     },
     "output_type": "display_data"
    }
   ],
   "source": [
    "# Plot the count of TV shows\n",
    "plt.figure(figsize=(10, 6))\n",
    "plt.hist(filtered_ep_name, bins=len(filtered_ep_name), edgecolor='black')\n",
    "plt.xlabel('Episode Name')\n",
    "plt.ylabel('Count')\n",
    "plt.title('Count of episode names that aired with before May 2019')\n",
    "plt.xticks(rotation=90)\n",
    "plt.tight_layout()\n",
    "plt.show()"
   ]
  },
  {
   "attachments": {},
   "cell_type": "markdown",
   "id": "41f399f8",
   "metadata": {},
   "source": [
    "##### D. ● Get the episode name from each season with the highest and lowest rating"
   ]
  },
  {
   "cell_type": "code",
   "execution_count": 26,
   "id": "0acacb8b",
   "metadata": {
    "scrolled": true
   },
   "outputs": [
    {
     "name": "stdout",
     "output_type": "stream",
     "text": [
      "Episode names with the highest rating:\n",
      "                  name  season  rating_value\n",
      "9   The Bicameral Mind       1           8.7\n",
      "17             Kiksuya       2           8.7\n",
      "20        Parce Domine       3           8.0\n",
      "32            Zhuangzi       4           7.8\n",
      "\n",
      "Episode names with the lowest rating:\n",
      "            name  season  rating_value\n",
      "2      The Stray       1           7.6\n",
      "14  Akane No Mai       2           7.6\n",
      "25   Decoherence       3           7.5\n",
      "28  The Auguries       4           7.1\n"
     ]
    }
   ],
   "source": [
    "# Find episode names with highest rating for each season\n",
    "highest_rating = df.groupby('season')['rating_value'].idxmax()\n",
    "fil_ep_name1 = df.loc[highest_rating, ['name', 'season', 'rating_value']]\n",
    "\n",
    "# Find episode names with lowest rating for each season\n",
    "lowest_rating = df.groupby('season')['rating_value'].idxmin()\n",
    "fil_ep_name2 = df.loc[lowest_rating, ['name', 'season', 'rating_value']]\n",
    "\n",
    "# results\n",
    "print(\"Episode names with the highest rating:\")\n",
    "print(fil_ep_name1)\n",
    "\n",
    "print(\"\\nEpisode names with the lowest rating:\")\n",
    "print(fil_ep_name2)    "
   ]
  },
  {
   "cell_type": "code",
   "execution_count": 27,
   "id": "06c9acda",
   "metadata": {},
   "outputs": [
    {
     "data": {
      "image/png": "[encoded data removed]",
      "text/plain": [
       "<Figure size 720x432 with 1 Axes>"
      ]
     },
     "metadata": {
      "needs_background": "light"
     },
     "output_type": "display_data"
    }
   ],
   "source": [
    "# Plot for the highest and lowest rated episodes for each season\n",
    "plt.figure(figsize=(10, 6))\n",
    "plt.plot(fil_ep_name1['season'], fil_ep_name1['rating_value'], 'bo', label='Highest Rating')\n",
    "plt.plot(fil_ep_name2['season'], fil_ep_name2['rating_value'], 'ro', label='Lowest Rating')\n",
    "plt.xlabel('Season')\n",
    "plt.ylabel('Rating')\n",
    "plt.title('Highest and Lowest Rated Episodes for Each Season')\n",
    "plt.legend()\n",
    "plt.tight_layout()\n",
    "plt.show()"
   ]
  },
  {
   "attachments": {},
   "cell_type": "markdown",
   "id": "b9ba0178",
   "metadata": {},
   "source": [
    "##### E. Get the summary for the most popular ( ratings ) episode in every season"
   ]
  },
  {
   "cell_type": "code",
   "execution_count": 35,
   "id": "709f8190",
   "metadata": {},
   "outputs": [
    {
     "name": "stdout",
     "output_type": "stream",
     "text": [
      "Episode names with the highest rating:\n",
      "                                              summary  season  rating_value\n",
      "9   <p>Delores finds out the truth about William's...       1           8.7\n",
      "17  <p>Another of Westworld's Host revolutionaries...       2           8.7\n",
      "20  <p>If you're stuck in a loop, try walking in a...       3           8.0\n",
      "32                               <p>God is bored.</p>       4           7.8\n"
     ]
    }
   ],
   "source": [
    "# Find summary of most popular episode for each season\n",
    "highest_rating = df.groupby('season')['rating_value'].idxmax()\n",
    "summ = df.loc[highest_rating, ['summary', 'season', 'rating_value']]\n",
    "\n",
    "# results\n",
    "print(\"Episode names with the highest rating:\")\n",
    "print(summ)"
   ]
  },
  {
   "cell_type": "code",
   "execution_count": 36,
   "id": "d70d7163",
   "metadata": {},
   "outputs": [
    {
     "data": {
      "image/png": "[encoded data removed]",
      "text/plain": [
       "<Figure size 720x432 with 1 Axes>"
      ]
     },
     "metadata": {
      "needs_background": "light"
     },
     "output_type": "display_data"
    }
   ],
   "source": [
    "# Plot the distribution of the highest-rated episodes across seasons\n",
    "plt.figure(figsize=(10, 6))\n",
    "plt.bar(summ['season'], summ['rating_value'])\n",
    "plt.xlabel('Season')\n",
    "plt.ylabel('Rating')\n",
    "plt.title('Most Popular Episode for Each Season')\n",
    "plt.xticks(rotation=90)\n",
    "plt.tight_layout()\n",
    "plt.show()"
   ]
  },
  {
   "attachments": {},
   "cell_type": "markdown",
   "id": "ea0a732f",
   "metadata": {},
   "source": [
    "### Thank you😊"
   ]
  }
 ],
 "metadata": {
  "kernelspec": {
   "display_name": "Python 3 (ipykernel)",
   "language": "python",
   "name": "python3"
  },
  "language_info": {
   "codemirror_mode": {
    "name": "ipython",
    "version": 3
   },
   "file_extension": ".py",
   "mimetype": "text/x-python",
   "name": "python",
   "nbconvert_exporter": "python",
   "pygments_lexer": "ipython3",
   "version": "3.8.5"
  },
  "toc": {
   "base_numbering": 1,
   "nav_menu": {},
   "number_sections": true,
   "sideBar": true,
   "skip_h1_title": false,
   "title_cell": "Table of Contents",
   "title_sidebar": "Contents",
   "toc_cell": false,
   "toc_position": {},
   "toc_section_display": true,
   "toc_window_display": false
  }
 },
 "nbformat": 4,
 "nbformat_minor": 5
}
