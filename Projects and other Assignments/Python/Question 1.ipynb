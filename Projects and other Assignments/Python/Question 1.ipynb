{
 "cells": [
  {
   "attachments": {},
   "cell_type": "markdown",
   "id": "611ecf31",
   "metadata": {},
   "source": [
    "## *Submitted by* - `Sunita Pradhan`"
   ]
  },
  {
   "attachments": {},
   "cell_type": "markdown",
   "id": "ae040ba8",
   "metadata": {},
   "source": [
    "# Question 1:\n",
    "### Write a program that takes a string as input, and counts the frequency of each word in the string, there might be repeated characters in the string. Your task is to find the highest frequency and returns the length of the highest-frequency word.\n",
    "Note - You have to write at least 2 additional test cases in which your program will run successfully and provide an explanation for the same.\n",
    "Example input - string = “write write write all the number from from from 1 to 100”\n",
    "\n",
    "Example output - 5\n",
    "\n",
    "Explanation - From the given string we can note that the most frequent words are “write” and “from” and the maximum value of both the values is “write” and its corresponding length is 5"
   ]
  },
  {
   "cell_type": "code",
   "execution_count": 23,
   "id": "f89c3232",
   "metadata": {},
   "outputs": [
    {
     "name": "stdout",
     "output_type": "stream",
     "text": [
      "hi the the hi go to \n",
      "3\n",
      "write write write all the number from from from 1 to 100\n",
      "5\n",
      "From the given string we can note that the that frequent words\n",
      "4\n"
     ]
    }
   ],
   "source": [
    "def find_highest_frequency_word_length(string):\n",
    "    \n",
    "    # Split the string into words\n",
    "    words = string.split()\n",
    "\n",
    "    # Count the frequency of each word\n",
    "    word_frequency = {}\n",
    "    for word in words:\n",
    "        word_frequency[word] = word_frequency.get(word, 0) + 1\n",
    "\n",
    "    max_value = max(word_frequency.values())\n",
    "    filtered_dict = {key: value for key, value in word_frequency.items() if value == max_value}\n",
    "\n",
    "    word_list=list(filtered_dict.keys())\n",
    "\n",
    "    max_length = max(len(word) for word in word_list)\n",
    "\n",
    "    return max_length\n",
    "\n",
    "# string = \"write write write all the number from from from 1 to 100\"\n",
    "# print(find_highest_frequency_word_length(string))\n",
    "\n",
    "for i in range(3):\n",
    "    string = input() \n",
    "    print(find_highest_frequency_word_length(string))"
   ]
  },
  {
   "attachments": {},
   "cell_type": "markdown",
   "id": "733b3a78",
   "metadata": {},
   "source": [
    "### Thank you😊"
   ]
  }
 ],
 "metadata": {
  "kernelspec": {
   "display_name": "Python 3 (ipykernel)",
   "language": "python",
   "name": "python3"
  },
  "language_info": {
   "codemirror_mode": {
    "name": "ipython",
    "version": 3
   },
   "file_extension": ".py",
   "mimetype": "text/x-python",
   "name": "python",
   "nbconvert_exporter": "python",
   "pygments_lexer": "ipython3",
   "version": "3.8.5"
  },
  "toc": {
   "base_numbering": 1,
   "nav_menu": {},
   "number_sections": true,
   "sideBar": true,
   "skip_h1_title": false,
   "title_cell": "Table of Contents",
   "title_sidebar": "Contents",
   "toc_cell": false,
   "toc_position": {},
   "toc_section_display": true,
   "toc_window_display": false
  }
 },
 "nbformat": 4,
 "nbformat_minor": 5
}
