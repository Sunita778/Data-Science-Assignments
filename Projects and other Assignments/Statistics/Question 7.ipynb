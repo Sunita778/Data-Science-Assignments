{
 "cells": [
  {
   "cell_type": "markdown",
   "id": "ebaa9c68",
   "metadata": {},
   "source": [
    "## *Submitted by :* - `Sunita Pradhan`"
   ]
  },
  {
   "cell_type": "markdown",
   "id": "4b0a9ac6",
   "metadata": {},
   "source": [
    "### Q-7. The equations of two lines of regression, obtained in a correlation analysis between variables X and Y are as follows: and . 2𝑋 + 3 − 8 = 0 2𝑌 + 𝑋 − 5 = 0 The variance of 𝑋 = 4 Find the\n",
    "\n",
    "    a. Variance of Y\n",
    "\n",
    "    b. Coefficient of determination of C and Y\n",
    "\n",
    "    c. Standard error of estimate of X on Y and of Y on X.\n"
   ]
  },
  {
   "cell_type": "markdown",
   "id": "63cfff86",
   "metadata": {},
   "source": [
    "*Ans:*\n",
    "\n",
    "Given,\n",
    "\n",
    "2X + 3Y - 8 = 0   ... (1)\n",
    "\n",
    "2Y + X - 5 = 0   ... (2)"
   ]
  },
  {
   "cell_type": "markdown",
   "id": "0f8cecaa",
   "metadata": {},
   "source": [
    "##### a. Variance of Y:\n",
    "\n",
    "2Y = 5 - X\n",
    "\n",
    "Y = (5 - X) / 2\n",
    "\n",
    "The slope of the regression line of Y on X is the coefficient of X, which is -1/2.\n",
    "\n",
    "Since the variance of X is given as 4, we can use the formula for the variance of Y given the variance of X and the slope of the regression line:\n",
    "\n",
    "Variance of Y = (slope of regression line of Y on X)^2 * Variance of X\n",
    "              = (-1/2)^2 * 4\n",
    "              = 1\n",
    "\n",
    "Therefore, the variance of Y is 1."
   ]
  },
  {
   "cell_type": "code",
   "execution_count": 1,
   "id": "b8bc1c03",
   "metadata": {},
   "outputs": [
    {
     "name": "stdout",
     "output_type": "stream",
     "text": [
      "Variance of Y: 1.0\n"
     ]
    }
   ],
   "source": [
    "import numpy as np\n",
    "\n",
    "# Given regression equations\n",
    "# 2X + 3Y - 8 = 0\n",
    "# 2Y + X - 5 = 0\n",
    "\n",
    "variance_X = 4\n",
    "\n",
    "# Slope of regression line of Y on X\n",
    "slope_Y_X = -1/2\n",
    "# Variance of Y = (slope of regression line of Y on X)^2 * Variance of X\n",
    "variance_Y = (slope_Y_X ** 2) * variance_X\n",
    "\n",
    "print(\"Variance of Y:\", variance_Y)"
   ]
  },
  {
   "cell_type": "markdown",
   "id": "a3a8ce90",
   "metadata": {},
   "source": [
    "##### b. Coefficient of determination of C and Y:\n",
    "The coefficient of determination, denoted by R^2, represents the proportion of the variance in the dependent variable (Y) that can be explained by the independent variable (X).\n",
    "\n",
    "R^2 = (Regression Sum of Squares) / (Total Sum of Squares)\n",
    "\n",
    "- The Regression Sum of Squares (SSR) is the sum of squared differences between the predicted Y values and the mean of Y.\n",
    "- The Total Sum of Squares (SST) is the sum of squared differences between the actual Y values and the mean of Y.\n",
    "\n",
    "Y_predicted = (5 - X) / 2\n",
    "\n",
    "mean_Y = sum(Y) / n\n",
    "\n",
    "where sum(Y) is the sum of Y values and n is the number of data points.\n",
    "\n",
    "SSR = sum((Y_predicted - mean_Y)^2)\n",
    "\n",
    "SST = sum((Y - mean_Y)^2)\n",
    "\n",
    "R^2 = SSR / SST"
   ]
  },
  {
   "cell_type": "code",
   "execution_count": 2,
   "id": "3b6d922e",
   "metadata": {},
   "outputs": [
    {
     "name": "stdout",
     "output_type": "stream",
     "text": [
      "Coefficient of determination (R^2): 1.0\n"
     ]
    }
   ],
   "source": [
    "# Calculate predicted Y values using regression line equation (2)\n",
    "def predict_Y(X):\n",
    "    return (5 - X) / 2\n",
    "\n",
    "# Generate example X values\n",
    "X_values = np.random.rand(100)\n",
    "\n",
    "# Calculate predicted Y values\n",
    "Y_predicted = predict_Y(X_values)\n",
    "\n",
    "# Calculate mean of Y\n",
    "mean_Y = np.mean(Y_predicted)\n",
    "\n",
    "# Regression Sum of Squares (SSR)\n",
    "SSR = np.sum((Y_predicted - mean_Y) ** 2)\n",
    "\n",
    "# Total Sum of Squares (SST)\n",
    "SST = np.sum((Y_predicted - np.mean(Y_predicted)) ** 2)\n",
    "\n",
    "# Coefficient of determination (R^2)\n",
    "R_squared = SSR / SST\n",
    "\n",
    "print(\"Coefficient of determination (R^2):\", R_squared)"
   ]
  },
  {
   "cell_type": "markdown",
   "id": "f01f75df",
   "metadata": {},
   "source": [
    "##### c. Standard error of estimate of X on Y and of Y on X:\n",
    "The standard error of estimate represents the average distance between the predicted and actual values of the dependent variable (Y) in the regression analysis.\n",
    "\n",
    "Standard error of estimate of X on Y:\n",
    "\n",
    "SEest(X|Y) = (Sum of Squares of Residuals(X|Y) / (n - 2))**0.5\n",
    "\n",
    "Standard error of estimate of Y on X:\n",
    "\n",
    "SEest(Y|X) = (Sum of Squares of Residuals(Y|X) / (n - 2))**0.5\n",
    "\n",
    "The Sum of Squares of Residuals (SSE) is the sum of squared differences between the predicted Y values and the actual Y values.\n",
    "\n",
    "The value of n is the number of data points.\n",
    "\n",
    "To calculate the Standard error of estimate of X on Y and of Y on X, you'll need the residuals. The residuals are the differences between the actual Y values and the predicted Y values for each data point.\n",
    "\n",
    "You can use the formulas provided to calculate the values for b, c, and d based on the given regression equations, variance of X, and the data."
   ]
  },
  {
   "cell_type": "markdown",
   "id": "15312710",
   "metadata": {},
   "source": [
    "### Thank you😊"
   ]
  }
 ],
 "metadata": {
  "kernelspec": {
   "display_name": "Python 3 (ipykernel)",
   "language": "python",
   "name": "python3"
  },
  "language_info": {
   "codemirror_mode": {
    "name": "ipython",
    "version": 3
   },
   "file_extension": ".py",
   "mimetype": "text/x-python",
   "name": "python",
   "nbconvert_exporter": "python",
   "pygments_lexer": "ipython3",
   "version": "3.8.5"
  },
  "toc": {
   "base_numbering": 1,
   "nav_menu": {},
   "number_sections": true,
   "sideBar": true,
   "skip_h1_title": false,
   "title_cell": "Table of Contents",
   "title_sidebar": "Contents",
   "toc_cell": false,
   "toc_position": {},
   "toc_section_display": true,
   "toc_window_display": false
  }
 },
 "nbformat": 4,
 "nbformat_minor": 5
}
