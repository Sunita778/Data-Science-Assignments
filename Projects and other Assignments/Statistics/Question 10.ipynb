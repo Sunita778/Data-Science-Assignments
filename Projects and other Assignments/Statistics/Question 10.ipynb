{
 "cells": [
  {
   "cell_type": "markdown",
   "id": "5d1e01a7",
   "metadata": {},
   "source": [
    "## *Submitted by:* - `Sunita Pradhan`"
   ]
  },
  {
   "cell_type": "markdown",
   "id": "6835c808",
   "metadata": {},
   "source": [
    "## Q-10. A factory produces light bulbs, and the probability of a bulb being defective is 0.05. The factory produces a large batch of 500 light bulbs.\n",
    "    a. What is the probability that exactly 20 bulbs are defective?\n",
    "    b. What is the probability that at least 10 bulbs are defective?\n",
    "    c. What is the probability that at max 15 bulbs are defective?\n",
    "    d. On average, how many defective bulbs would you expect in a batch of 500?"
   ]
  },
  {
   "cell_type": "markdown",
   "id": "f187d679",
   "metadata": {},
   "source": [
    "#####     a. What is the probability that exactly 20 bulbs are defective?\n"
   ]
  },
  {
   "cell_type": "markdown",
   "id": "a96dde5c",
   "metadata": {},
   "source": [
    "*Ans:*\n",
    "\n",
    "a. Probability that exactly 20 bulbs are defective:\n",
    "\n",
    "Using the binomial distribution formula, we can calculate the probability of getting exactly k successes (20 defective bulbs) out of n trials (500 light bulbs) with a given probability of success (0.05):\n",
    "\n",
    "P(X = k) = (nCk) * (p^k) * ((1 - p)^(n - k))\n",
    "\n",
    "where:\n",
    "* nCk = number of combinations of n items taken k at a time,\n",
    "* p = probability of success (0.05), and\n",
    "* n - k = number of failures.\n",
    "\n",
    "In this case:In this case, the probability of a bulb being defective is 0.05, and the factory produces a large batch of 500 light bulbs.\n",
    "\n",
    "n = 500\n",
    "\n",
    "k = 20\n",
    "\n",
    "p = 0.05\n",
    "\n",
    "Calculating the probability using these values:\n",
    "\n",
    "P(X = 20) = (500C20) * (0.05^20) * ((1 - 0.05)^(500 - 20))"
   ]
  },
  {
   "cell_type": "code",
   "execution_count": 1,
   "id": "58b262e5",
   "metadata": {},
   "outputs": [
    {
     "name": "stdout",
     "output_type": "stream",
     "text": [
      "Probability that exactly 20 bulbs are defective: 0.051616192536641056\n"
     ]
    }
   ],
   "source": [
    "from scipy.stats import binom\n",
    "\n",
    "n = 500      # Number of trials (light bulbs)\n",
    "p = 0.05     # Probability of a bulb being defective\n",
    "k = 20       #Probability that exactly 20 bulbs are defective\n",
    "prob_20_defective = binom.pmf(k, n, p)\n",
    "\n",
    "print(\"Probability that exactly 20 bulbs are defective:\", prob_20_defective)"
   ]
  },
  {
   "cell_type": "markdown",
   "id": "650a2f54",
   "metadata": {},
   "source": [
    "#####     b. What is the probability that at least 10 bulbs are defective?\n"
   ]
  },
  {
   "cell_type": "markdown",
   "id": "038ca40c",
   "metadata": {},
   "source": [
    "b. Probability that at least 10 bulbs are defective:\n",
    "\n",
    "To find the probability that at least 10 bulbs are defective, we need to calculate the cumulative probability from 10 to the maximum possible number of defective bulbs (which is 500 in this case) and then subtract it from 1:\n",
    "\n",
    "P(X ≥ 10) = 1 - P(X < 10)\n",
    "\n",
    "To calculate P(X < 10), we sum the probabilities from X = 0 to X = 9 using the binomial distribution formula.\n"
   ]
  },
  {
   "cell_type": "code",
   "execution_count": 3,
   "id": "15346b20",
   "metadata": {},
   "outputs": [
    {
     "name": "stdout",
     "output_type": "stream",
     "text": [
      "Probability that at least 10 bulbs are defective: 0.9998316463654902\n"
     ]
    }
   ],
   "source": [
    "#Probability that at least 10 bulbs are defective\n",
    "prob_at_least_10_defective = 1 - binom.cdf(9, n, p)\n",
    "\n",
    "print(\"Probability that at least 10 bulbs are defective:\", prob_at_least_10_defective)"
   ]
  },
  {
   "cell_type": "markdown",
   "id": "79c0ea45",
   "metadata": {},
   "source": [
    "#####     c. What is the probability that at max 15 bulbs are defective?\n"
   ]
  },
  {
   "cell_type": "markdown",
   "id": "d8b954a6",
   "metadata": {},
   "source": [
    "c. Probability that at most 15 bulbs are defective:\n",
    "\n",
    "To find the probability that at most 15 bulbs are defective, we can calculate the cumulative probability from 0 to 15:\n",
    "\n",
    "P(X ≤ 15) = P(X = 0) + P(X = 1) + ... + P(X = 15)\n"
   ]
  },
  {
   "cell_type": "code",
   "execution_count": 5,
   "id": "75822770",
   "metadata": {},
   "outputs": [
    {
     "name": "stdout",
     "output_type": "stream",
     "text": [
      "Probability that at most 15 bulbs are defective: 0.01985837716300661\n"
     ]
    }
   ],
   "source": [
    "# Probability that at most 15 bulbs are defective\n",
    "prob_at_most_15_defective = binom.cdf(15, n, p)\n",
    "\n",
    "print(\"Probability that at most 15 bulbs are defective:\", prob_at_most_15_defective)"
   ]
  },
  {
   "cell_type": "markdown",
   "id": "267ebeee",
   "metadata": {},
   "source": [
    "#####     d. On average, how many defective bulbs would you expect in a batch of 500?"
   ]
  },
  {
   "cell_type": "markdown",
   "id": "a7735002",
   "metadata": {},
   "source": [
    "d. Expected number of defective bulbs:\n",
    "The expected number of defective bulbs can be calculated using the formula:\n",
    "\n",
    "E(X) = n * p\n",
    "\n",
    "where E(X) represents the expected value (average) and n is the number of trials (500) and p is the probability of success (0.05).\n",
    "\n",
    "Using these formulas, you can calculate the probabilities and the expected number of defective bulbs in a batch of 500 light bulbs."
   ]
  },
  {
   "cell_type": "code",
   "execution_count": 4,
   "id": "3f42a558",
   "metadata": {},
   "outputs": [
    {
     "name": "stdout",
     "output_type": "stream",
     "text": [
      "Expected number of defective bulbs: 25.0\n"
     ]
    }
   ],
   "source": [
    "# Expected number of defective bulbs\n",
    "expected_defective_bulbs = n * p\n",
    "\n",
    "print(\"Expected number of defective bulbs:\", expected_defective_bulbs)"
   ]
  },
  {
   "cell_type": "markdown",
   "id": "829e1da5",
   "metadata": {},
   "source": [
    "### Thank you😊"
   ]
  }
 ],
 "metadata": {
  "kernelspec": {
   "display_name": "Python 3 (ipykernel)",
   "language": "python",
   "name": "python3"
  },
  "language_info": {
   "codemirror_mode": {
    "name": "ipython",
    "version": 3
   },
   "file_extension": ".py",
   "mimetype": "text/x-python",
   "name": "python",
   "nbconvert_exporter": "python",
   "pygments_lexer": "ipython3",
   "version": "3.8.5"
  },
  "toc": {
   "base_numbering": 1,
   "nav_menu": {},
   "number_sections": true,
   "sideBar": true,
   "skip_h1_title": false,
   "title_cell": "Table of Contents",
   "title_sidebar": "Contents",
   "toc_cell": false,
   "toc_position": {},
   "toc_section_display": true,
   "toc_window_display": false
  }
 },
 "nbformat": 4,
 "nbformat_minor": 5
}
