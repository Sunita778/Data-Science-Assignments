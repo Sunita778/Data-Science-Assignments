{
 "cells": [
  {
   "cell_type": "markdown",
   "id": "a61cd076",
   "metadata": {},
   "source": [
    "## *Submitted by :* - `Sunita Pradhan`"
   ]
  },
  {
   "cell_type": "markdown",
   "id": "bcf5bfd1",
   "metadata": {},
   "source": [
    "### Q-4. A group of 20 friends decide to play a game in which they each write a number between 1 and 20 on a slip of paper and put it into a hat. They then draw one slip of paper at random. What is the probability that the number on the slip of paper is a perfect square (i.e., 1, 4, 9, or 16)?"
   ]
  },
  {
   "cell_type": "markdown",
   "id": "e7da850e",
   "metadata": {},
   "source": [
    "*Ans:*\n",
    "\n",
    "To calculate the probability that the number drawn from the hat is a perfect square (1, 4, 9, or 16), we need to determine the number of favorable outcomes and the total number of possible outcomes.\n",
    "\n",
    "Total no.of possible Outcomes:\n",
    "Since there are 20 slips of paper in the hat, each with a distinct number from 1 to 20, the total number of possible outcomes is 20.\n",
    "\n",
    "no.of favorable Outcomes:\n",
    "Out of the 20 numbers, there are four perfect squares: 1, 4, 9, and 16. These are the favorable outcomes.\n",
    "\n",
    "Probability:\n",
    "The probability of an event is calculated by dividing the number of favorable outcomes by the total number of possible outcomes.\n",
    "\n",
    "Probability = no.of favorable outcomes / Total no.of possible putcomes\n",
    "\n",
    "Probability = 4 (No.of favorable outcomes) / 20 (Total no.of possible outcomes)\n",
    "            = 1/5\n",
    "            = 0.2\n",
    "            = 20%\n",
    "\n",
    "Therefore, the probability that the number drawn from the hat is a perfect square is 20%."
   ]
  },
  {
   "cell_type": "markdown",
   "id": "ad125a52",
   "metadata": {},
   "source": [
    "### Thank you😊"
   ]
  }
 ],
 "metadata": {
  "kernelspec": {
   "display_name": "Python 3 (ipykernel)",
   "language": "python",
   "name": "python3"
  },
  "language_info": {
   "codemirror_mode": {
    "name": "ipython",
    "version": 3
   },
   "file_extension": ".py",
   "mimetype": "text/x-python",
   "name": "python",
   "nbconvert_exporter": "python",
   "pygments_lexer": "ipython3",
   "version": "3.8.5"
  },
  "toc": {
   "base_numbering": 1,
   "nav_menu": {},
   "number_sections": true,
   "sideBar": true,
   "skip_h1_title": false,
   "title_cell": "Table of Contents",
   "title_sidebar": "Contents",
   "toc_cell": false,
   "toc_position": {},
   "toc_section_display": true,
   "toc_window_display": false
  }
 },
 "nbformat": 4,
 "nbformat_minor": 5
}
