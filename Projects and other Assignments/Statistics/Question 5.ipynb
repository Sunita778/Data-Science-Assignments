{
 "cells": [
  {
   "cell_type": "markdown",
   "id": "861401fd",
   "metadata": {},
   "source": [
    "## *Submitted by :* - `Sunita Pradhan`"
   ]
  },
  {
   "cell_type": "markdown",
   "id": "9c86615b",
   "metadata": {},
   "source": [
    "### Q-5. A certain city has two taxi companies: Company A has 80% of the taxis and Company B has 20% of the taxis. Company A's taxis have a 95% success rate for picking up passengers on time, while Company B's taxis have a 90% success rate. If a randomly selected taxi is late, what is the probability that it belongs to Company A?"
   ]
  },
  {
   "cell_type": "markdown",
   "id": "6b48d854",
   "metadata": {},
   "source": [
    "*Ans:*\n",
    "\n",
    "To find the probability that a randomly selected taxi, which is late, belongs to Company A, we can use Bayes' theorem. \n",
    "\n",
    "defining events:\n",
    "- A: The taxi belongs to Company A.\n",
    "- B: The taxi is late.\n",
    "- P(A|B) = the probability that the taxi belongs to Company A given that it is late.\n",
    "\n",
    "According to the problem statement:\n",
    "- P(A) = 0.8 (Company A has 80% of the taxis)\n",
    "- P(B|A) = 0.05 (Company A's taxis have a 95% success rate for picking up passengers on time)\n",
    "- P(B|not A) = 0.1 (Company B's taxis have a 90% success rate for picking up passengers on time)\n",
    "\n",
    "Bayes' theorem states:\n",
    "P(A|B) = (P(B|A) * P(A)) / (P(B|A) * P(A) + P(B|not A) * P(not A))\n",
    "\n",
    "P(not A) is the probability that the taxi does not belong to Company A\n",
    "\n",
    "P(not A) = 1 - P(A) = 1 - 0.8 = 0.2\n",
    "\n",
    "Now substituting the values into Bayes' theorem and calculate P(A|B):\n",
    "\n",
    "P(A|B) = (0.05 * 0.8) / (0.05 * 0.8 + 0.1 * 0.2)\n",
    "       = 0.04 / (0.04 + 0.02)\n",
    "       = 0.04 / 0.06\n",
    "       ≈ 0.6667\n",
    "\n",
    "Therefore, the probability that a randomly selected taxi, which is late, belongs to Company A is approximately 0.6667 or 66.67%."
   ]
  },
  {
   "cell_type": "markdown",
   "id": "8ff96341",
   "metadata": {},
   "source": [
    "### Thank you😊"
   ]
  }
 ],
 "metadata": {
  "kernelspec": {
   "display_name": "Python 3 (ipykernel)",
   "language": "python",
   "name": "python3"
  },
  "language_info": {
   "codemirror_mode": {
    "name": "ipython",
    "version": 3
   },
   "file_extension": ".py",
   "mimetype": "text/x-python",
   "name": "python",
   "nbconvert_exporter": "python",
   "pygments_lexer": "ipython3",
   "version": "3.8.5"
  },
  "toc": {
   "base_numbering": 1,
   "nav_menu": {},
   "number_sections": true,
   "sideBar": true,
   "skip_h1_title": false,
   "title_cell": "Table of Contents",
   "title_sidebar": "Contents",
   "toc_cell": false,
   "toc_position": {},
   "toc_section_display": true,
   "toc_window_display": false
  }
 },
 "nbformat": 4,
 "nbformat_minor": 5
}
