{
 "cells": [
  {
   "cell_type": "markdown",
   "id": "c25ca561",
   "metadata": {},
   "source": [
    "## *Submitted by :* - `Sunita Pradhan`"
   ]
  },
  {
   "cell_type": "markdown",
   "id": "f9696ceb",
   "metadata": {},
   "source": [
    "### Q-3. Consider the ‘Blood Pressure Before’ and ‘Blood Pressure After’ columns from thedata and calculate the following\n",
    "\n",
    "https://drive.google.com/file/d/1mCjtYHiX--mMUjicuaP2gH3k-SnFxt8Y/view?usp=share_\n",
    "\n",
    "    a. Measure the dispersion in both and interpret the results.\n",
    "    \n",
    "    b. Calculate mean and 5% confidence interval and plot it in a graph\n",
    "    \n",
    "    c. Calculate the Mean absolute deviation and Standard deviation and interpret the results.\n",
    "    \n",
    "    d. Calculate the correlation coefficient and check the significance of it at 1% level of significance."
   ]
  },
  {
   "cell_type": "markdown",
   "id": "ef0cf783",
   "metadata": {},
   "source": [
    "#####  a. Measure the dispersion in both and interpret the results."
   ]
  },
  {
   "cell_type": "markdown",
   "id": "f01dd0b4",
   "metadata": {},
   "source": [
    "*Ans:*\n",
    "\n",
    "Dispersion refers to the spread or variability of the data. Two common measures of dispersion: range and interquartile range (IQR).\n",
    "\n",
    " Range: The range is the difference between the maximum and minimum values.\n",
    "\n",
    "- \"Blood Pressure Before\": Range = Max(Blood Pressure Before) - Min(Blood Pressure Before) = 148 - 120 = 28.\n",
    "\n",
    "- \"Blood Pressure After\": Range = Max(Blood Pressure After) - Min(Blood Pressure After) = 141 - 118 = 23.\n",
    "\n",
    "Interquartile Range (IQR): The IQR is the range between the first quartile (Q1) and the third quartile (Q3), which gives a measure of the central spread of the data.\n",
    "\n",
    "- \"Blood Pressure Before\": 11.25\n",
    "\n",
    "- \"Blood Pressure After\": 12.0"
   ]
  },
  {
   "cell_type": "code",
   "execution_count": 13,
   "id": "7c35c280",
   "metadata": {},
   "outputs": [
    {
     "name": "stdout",
     "output_type": "stream",
     "text": [
      "Dispersion:\n",
      "\n",
      "Range (Blood Pressure Before): 28\n",
      "Range (Blood Pressure After): 23\n",
      "IQR (Blood Pressure Before): 11.25\n",
      "IQR (Blood Pressure After): 12.0\n",
      "\n"
     ]
    }
   ],
   "source": [
    "import numpy as np\n",
    "import scipy.stats as stats\n",
    "import pandas as pd\n",
    "\n",
    "df = pd.read_csv('data.csv')\n",
    "\n",
    "bef_min = df[' Blood Pressure Before (mmHg)'].min()\n",
    "bef_max = df[' Blood Pressure Before (mmHg)'].max()\n",
    "\n",
    "af_min = df[' Blood Pressure After (mmHg)'].min()\n",
    "af_max = df[' Blood Pressure After (mmHg)'].max()\n",
    "\n",
    "#Range\n",
    "range_before = bef_max - bef_min\n",
    "range_after = af_max - af_min\n",
    "\n",
    "#IQR\n",
    "iqr_before = stats.iqr(df[' Blood Pressure Before (mmHg)'])\n",
    "iqr_after = stats.iqr(df[' Blood Pressure After (mmHg)'])\n",
    "\n",
    "print(\"Dispersion:\\n\")\n",
    "print(\"Range (Blood Pressure Before):\", range_before)\n",
    "print(\"Range (Blood Pressure After):\", range_after)\n",
    "print(\"IQR (Blood Pressure Before):\", iqr_before)\n",
    "print(\"IQR (Blood Pressure After):\", iqr_after)\n",
    "print()"
   ]
  },
  {
   "cell_type": "markdown",
   "id": "12f061b5",
   "metadata": {},
   "source": [
    "#####     b. Calculate mean and 5% confidence interval and plot it in a graph"
   ]
  },
  {
   "cell_type": "markdown",
   "id": "0656770d",
   "metadata": {},
   "source": [
    "The mean is the average value of the dataset.\n",
    " - \"Blood Pressure Before\": Mean = 134\n",
    " - \"Blood Pressure After\": Mean = 128\n",
    "\n",
    "The confidence interval provides a range within which we can be confident that the true population mean lies.\n",
    "\n",
    "- alpha = 0.05\n",
    "- z_value = 1.96\n",
    "\n",
    "\"Blood Pressure Before\":\n",
    "- Standard Deviation (s) = √[ Σ(x - mean)^2 / (n - 1) ] = 6.565\n",
    "- Standard Error (SE) = s / √n = 6.565 / √100 = 0.65\n",
    "- Confidence Interval = Mean ± (z-value * SE) = 134 ± (1.96 * 0.65) = (132.62, 135.19)\n",
    "\n",
    "\"Blood Pressure After\":\n",
    "- Standard Deviation (s) = √[ Σ(x - mean)^2 / (n - 1) ] = 6.853\n",
    "- Standard Error (SE) = s / √n = 6.853 / √100 = 0.68\n",
    "- Confidence Interval = Mean ± (z-value * SE) = 128 ± (1.96 * 0.68) = (127.01, 129.70)"
   ]
  },
  {
   "cell_type": "code",
   "execution_count": 16,
   "id": "b13e88cb",
   "metadata": {},
   "outputs": [
    {
     "name": "stdout",
     "output_type": "stream",
     "text": [
      "Mean Before: 133.91\n",
      "Confidence Interval Before (95%): (132.6232200691649, 135.1967799308351)\n",
      "Mean After: 128.36\n",
      "Confidence Interval After (95%): (127.01671489012944, 129.7032851098706)\n"
     ]
    },
    {
     "data": {
      "image/png": "[encoded data removed]",
      "text/plain": [
       "<Figure size 432x288 with 1 Axes>"
      ]
     },
     "metadata": {
      "needs_background": "light"
     },
     "output_type": "display_data"
    }
   ],
   "source": [
    "import numpy as np\n",
    "import matplotlib.pyplot as plt\n",
    "import scipy.stats as stats\n",
    "import pandas as pd\n",
    "\n",
    "df = pd.read_csv('data.csv')\n",
    "\n",
    "\n",
    "# Mean\n",
    "mean_before = np.mean(df[' Blood Pressure Before (mmHg)'])\n",
    "mean_after = np.mean(df[' Blood Pressure After (mmHg)'])\n",
    "\n",
    "# Standard deviation\n",
    "std_dev_before = np.std(df[' Blood Pressure Before (mmHg)']) \n",
    "std_dev_after = np.std(df[' Blood Pressure After (mmHg)'])\n",
    "\n",
    "# Standard error\n",
    "se_before = std_dev_before / np.sqrt(len(df[' Blood Pressure Before (mmHg)']))\n",
    "se_after = std_dev_after / np.sqrt(len(df[' Blood Pressure After (mmHg)']))\n",
    "\n",
    "# Calculating confidence interval\n",
    "alpha = 0.05\n",
    "z_value = 1.96  # 1.96 corresponds to a 95% confidence level\n",
    "cv_before = (mean_before - z_value * se_before, mean_before + z_value * se_before)\n",
    "cv_after = (mean_after - z_value * se_after, mean_after + z_value * se_after)\n",
    "\n",
    "# Print mean and confidence interval\n",
    "print(\"Mean Before:\", mean_before)\n",
    "print(\"Confidence Interval Before (95%):\", cv_before)\n",
    "print(\"Mean After:\", mean_after)\n",
    "print(\"Confidence Interval After (95%):\", cv_after)\n",
    "\n",
    "# Plot of the mean and confidence interval\n",
    "plt.errorbar(1, mean_before, yerr=z_value * se_before, fmt='o', label='Before', capsize=5)\n",
    "plt.errorbar(2, mean_after, yerr=z_value * se_after, fmt='o', label='After', capsize=5)\n",
    "plt.xticks([1, 2], ['Before', 'After'])\n",
    "plt.xlim(0.5, 2.5)\n",
    "plt.ylabel(\"Blood Pressure\")\n",
    "plt.title(\"Mean and Confidence Interval of Blood Pressure\")\n",
    "plt.legend()\n",
    "plt.show()"
   ]
  },
  {
   "cell_type": "markdown",
   "id": "7e9434a2",
   "metadata": {},
   "source": [
    "#####     c. Calculate the Mean absolute deviation and Standard deviation and interpret the results."
   ]
  },
  {
   "cell_type": "markdown",
   "id": "6ecfef59",
   "metadata": {},
   "source": [
    "*Ans:*\n",
    "\n",
    "Mean absolute deviation (MAD) and standard deviation are measures of the dispersion or variability of the data around the mean.\n",
    "\n",
    "Mean absolute deviation (MAD):\n",
    "\n",
    "MAD is calculated by finding the average absolute difference between each data point and the mean.\n",
    "- \"Blood Pressure Before\":  MAD = 5.7\n",
    "- \"Blood Pressure After\":  MAD = 5.9\n",
    "\n",
    "Standard deviation (SD):\n",
    "\n",
    "Standard deviation measures the average amount of variation or dispersion in the dataset.\n",
    "- \"Blood Pressure Before\":  Standard Deviation = 6.56\n",
    "- \"Blood Pressure After\": Standard Deviation = 6.85"
   ]
  },
  {
   "cell_type": "code",
   "execution_count": 9,
   "id": "648b5564",
   "metadata": {},
   "outputs": [
    {
     "name": "stdout",
     "output_type": "stream",
     "text": [
      "Mean Absolute Deviation:\n",
      "\n",
      "MAD (Blood Pressure Before): 5.7118\n",
      "MAD (Blood Pressure After): 5.9 \n",
      "\n",
      "Standard Deviation:\n",
      "\n",
      "Standard Deviation (Blood Pressure Before): 6.5652037287505385\n",
      "Standard Deviation (Blood Pressure After): 6.853495458523338\n",
      "\n"
     ]
    }
   ],
   "source": [
    "import numpy as np\n",
    "import scipy.stats as stats\n",
    "import pandas as pd\n",
    "\n",
    "df = pd.read_csv('data.csv')\n",
    "\n",
    "# Mean\n",
    "mean_before = np.mean(df[' Blood Pressure Before (mmHg)'])\n",
    "mean_after = np.mean(df[' Blood Pressure After (mmHg)'])\n",
    "\n",
    "# Mean absolute deviation \n",
    "mad_before = np.mean(np.abs(df[' Blood Pressure Before (mmHg)'] - mean_before))\n",
    "mad_after = np.mean(np.abs(df[' Blood Pressure After (mmHg)'] - mean_after))\n",
    "\n",
    "# Standard deviation\n",
    "std_dev_before = np.std(df[' Blood Pressure Before (mmHg)']) \n",
    "std_dev_after = np.std(df[' Blood Pressure After (mmHg)'])\n",
    "\n",
    "print(\"Mean Absolute Deviation:\\n\")\n",
    "print(\"MAD (Blood Pressure Before):\", mad_before)\n",
    "print(\"MAD (Blood Pressure After):\", mad_after, '\\n')\n",
    "\n",
    "print(\"Standard Deviation:\\n\")\n",
    "print(\"Standard Deviation (Blood Pressure Before):\", std_dev_before)\n",
    "print(\"Standard Deviation (Blood Pressure After):\", std_dev_after)\n",
    "print()"
   ]
  },
  {
   "cell_type": "markdown",
   "id": "fa527d6a",
   "metadata": {},
   "source": [
    "#####    d. Calculate the correlation coefficient and check the significance of it at 1% level of significance."
   ]
  },
  {
   "cell_type": "markdown",
   "id": "e8fdfa17",
   "metadata": {},
   "source": []
  },
  {
   "cell_type": "code",
   "execution_count": 10,
   "id": "138d9216",
   "metadata": {},
   "outputs": [
    {
     "name": "stdout",
     "output_type": "stream",
     "text": [
      "Correlation Coefficient:\n",
      "\n",
      "Correlation Coefficient: 0.9779485966556021\n",
      "The correlation coefficient is statistically significant at the 1% level.\n"
     ]
    }
   ],
   "source": [
    "import numpy as np\n",
    "import scipy.stats as stats\n",
    "import pandas as pd\n",
    "\n",
    "df = pd.read_csv('data.csv')\n",
    "\n",
    "#Correlation coefficient\n",
    "correlation_coefficient, p_value = stats.pearsonr(df[' Blood Pressure Before (mmHg)'], df[' Blood Pressure After (mmHg)'])\n",
    "\n",
    "alpha = 0.01  # 1% level of significance\n",
    "\n",
    "print(\"Correlation Coefficient:\\n\")\n",
    "print(\"Correlation Coefficient:\", correlation_coefficient)\n",
    "\n",
    "#For checking the significance of it at 1% level of significance\n",
    "if p_value < alpha:\n",
    "    print(\"The correlation coefficient is statistically significant at the 1% level.\")\n",
    "else:\n",
    "    print(\"The correlation coefficient is not statistically significant at the 1% level.\")\n"
   ]
  },
  {
   "cell_type": "markdown",
   "id": "aab0337c",
   "metadata": {},
   "source": [
    "### Thank you😊"
   ]
  }
 ],
 "metadata": {
  "kernelspec": {
   "display_name": "Python 3 (ipykernel)",
   "language": "python",
   "name": "python3"
  },
  "language_info": {
   "codemirror_mode": {
    "name": "ipython",
    "version": 3
   },
   "file_extension": ".py",
   "mimetype": "text/x-python",
   "name": "python",
   "nbconvert_exporter": "python",
   "pygments_lexer": "ipython3",
   "version": "3.8.5"
  },
  "toc": {
   "base_numbering": 1,
   "nav_menu": {},
   "number_sections": true,
   "sideBar": true,
   "skip_h1_title": false,
   "title_cell": "Table of Contents",
   "title_sidebar": "Contents",
   "toc_cell": false,
   "toc_position": {},
   "toc_section_display": true,
   "toc_window_display": false
  }
 },
 "nbformat": 4,
 "nbformat_minor": 5
}
