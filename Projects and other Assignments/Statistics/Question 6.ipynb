{
 "cells": [
  {
   "cell_type": "markdown",
   "id": "8c546ee9",
   "metadata": {},
   "source": [
    "## *Submitted by :* - `Sunita Pradhan`"
   ]
  },
  {
   "cell_type": "markdown",
   "id": "8b452a4a",
   "metadata": {},
   "source": [
    "### Q-6. A pharmaceutical company is developing a drug that is supposed to reduce blood pressure. They conduct a clinical trial with 100 patients and record their blood pressure before and after taking the drug. The company wants to know if the change in blood pressure follows a normal distribution.\n",
    "\n",
    "https://drive.google.com/file/d/1mCjtYHiX--mMUjicuaP2gH3k-SnFxt8Y/view?usp=share_"
   ]
  },
  {
   "cell_type": "markdown",
   "id": "d7dd2b77",
   "metadata": {},
   "source": [
    "*Ans:*\n",
    "\n",
    "To determine if the change in blood pressure follows a normal distribution, the pharmaceutical company can perform a normality test on the data collected from the clinical trial. One commonly used statistical test for normality is the Shapiro-Wilk test.\n",
    "\n",
    "The Shapiro-Wilk test assesses the null hypothesis that the data follows a normal distribution. If the p-value associated with the test is greater than the chosen significance level (typically 0.05), then there is not enough evidence to reject the null hypothesis, suggesting that the data may follow a normal distribution.\n"
   ]
  },
  {
   "cell_type": "code",
   "execution_count": 5,
   "id": "02261ab9",
   "metadata": {},
   "outputs": [
    {
     "name": "stdout",
     "output_type": "stream",
     "text": [
      "The change in blood pressure does not follow a normal distribution.\n"
     ]
    }
   ],
   "source": [
    "import numpy as np\n",
    "from scipy import stats\n",
    "import pandas as pd\n",
    "\n",
    "df = pd.read_csv('data.csv')\n",
    "\n",
    "# Compute the change in blood pressure\n",
    "blood_pressure_change = df[' Blood Pressure Before (mmHg)'] - df[' Blood Pressure After (mmHg)']\n",
    "\n",
    "# Perform Shapiro-Wilk test\n",
    "p_value = stats.shapiro(blood_pressure_change)[1]\n",
    "\n",
    "# Interpret the result\n",
    "alpha = 0.05  # Significance level\n",
    "if p_value > alpha:\n",
    "    print(\"The change in blood pressure follows a normal distribution.\")\n",
    "else:\n",
    "    print(\"The change in blood pressure does not follow a normal distribution.\")"
   ]
  },
  {
   "cell_type": "markdown",
   "id": "0fb31f26",
   "metadata": {},
   "source": [
    "### Thank you😊"
   ]
  }
 ],
 "metadata": {
  "kernelspec": {
   "display_name": "Python 3 (ipykernel)",
   "language": "python",
   "name": "python3"
  },
  "language_info": {
   "codemirror_mode": {
    "name": "ipython",
    "version": 3
   },
   "file_extension": ".py",
   "mimetype": "text/x-python",
   "name": "python",
   "nbconvert_exporter": "python",
   "pygments_lexer": "ipython3",
   "version": "3.8.5"
  },
  "toc": {
   "base_numbering": 1,
   "nav_menu": {},
   "number_sections": true,
   "sideBar": true,
   "skip_h1_title": false,
   "title_cell": "Table of Contents",
   "title_sidebar": "Contents",
   "toc_cell": false,
   "toc_position": {},
   "toc_section_display": true,
   "toc_window_display": false
  }
 },
 "nbformat": 4,
 "nbformat_minor": 5
}
