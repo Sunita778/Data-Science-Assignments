{
 "cells": [
  {
   "cell_type": "markdown",
   "id": "8d9791d3",
   "metadata": {},
   "source": [
    "## *Submitted by:* - `Sunita Pradhan`"
   ]
  },
  {
   "cell_type": "markdown",
   "id": "b4f23810",
   "metadata": {},
   "source": [
    "### Q-12. A pharmaceutical company develops a new drug and wants to compare its effectiveness against a standard drug for treating a particular condition. They conduct a study with two groups: Group A receives the new drug, and Group B receives the standard drug. The company measures the improvement in a specific symptom for both groups after a 4-week treatment period.\n",
    "    a. The company collects data from 30 patients in each group and calculates the mean improvement score and the standard deviation of improvement for each group. The mean improvement score for Group A is 2.5 with a standard deviation of 0.8, while the mean improvement score for Group B is 2.2 with a standard deviation of 0.6. Conduct a t-test to determine if there is a significant difference in the mean improvement scores between the two groups. Use a significance level of 0.05.\n",
    "    b. Based on the t-test results, state whether the null hypothesis should be rejected or not. Provide a conclusion in the context of the study."
   ]
  },
  {
   "cell_type": "markdown",
   "id": "55fd5c90",
   "metadata": {},
   "source": [
    "*Ans:*\n",
    "\n",
    "##### a. T-test:\n",
    "\n",
    "We'll perform an independent samples t-test to compare the means of the two groups. \n",
    "\n",
    "The null hypothesis (H0) assumes that there is no significant difference between the means, while the alternative hypothesis (Ha) assumes that there is a significant difference.\n",
    "\n",
    "The t-test formula is:\n",
    "* t_test = (mean_A - mean_B) / sqrt((squared_std_A / n_A) + (squared_std_B / n_B))\n",
    "\n",
    "where:\n",
    "* mean_A, mean_B = mean improvement scores of Group A and Group B, respectively\n",
    "* std_A, std_B = standard deviations of improvement scores of Group A and Group B, respectively\n",
    "* n_A, n_B = number of patients in Group A and Group B, respectively\n",
    "\n",
    "Using the provided values:\n",
    "* mean_A = 2.5, std_A = 0.8, n_A = 30\n",
    "* mean_B = 2.2, std_B = 0.6, n_B = 30\n",
    "\n",
    "We can calculate the t-value and compare it with the critical t-value at a significance level of 0.05 with (n_A + n_B - 2) degrees of freedom.\n",
    "\n",
    "##### b. Conclusion:\n",
    "If the calculated t-value exceeds the critical t-value, we reject the null hypothesis and conclude that there is a significant difference between the mean improvement scores of Group A and Group B. Otherwise, if the calculated t-value does not exceed the critical t-value, we fail to reject the null hypothesis, indicating no significant difference.\n"
   ]
  },
  {
   "cell_type": "code",
   "execution_count": 2,
   "id": "1fc60e93",
   "metadata": {},
   "outputs": [
    {
     "name": "stdout",
     "output_type": "stream",
     "text": [
      "Fail to reject the null hypothesis\n",
      "There is no significant difference in the mean improvement scores between Group A and Group B.\n",
      "\n",
      "Calculated t-value: 1.6431676725154976\n",
      "p-value: 0.10575916705583671\n",
      "Critical t-value: 2.0017174830120923\n"
     ]
    }
   ],
   "source": [
    "import scipy.stats as stats\n",
    "\n",
    "# Given\n",
    "mean_A = 2.5\n",
    "std_A = 0.8\n",
    "n_A = 30\n",
    "\n",
    "mean_B = 2.2\n",
    "std_B = 0.6\n",
    "n_B = 30\n",
    "\n",
    "# t-test\n",
    "t, p_value = stats.ttest_ind_from_stats(mean_A, std_A, n_A, mean_B, std_B, n_B)\n",
    "\n",
    "# Set significance level\n",
    "alpha = 0.05\n",
    "\n",
    "# Comparing t-value with critical t-value\n",
    "critical_value = stats.t.ppf(1 - alpha/2, n_A + n_B - 2)\n",
    "\n",
    "# Checking for null hypothesis should be rejected or not\n",
    "if abs(t) > critical_value:\n",
    "    print(\"Reject the null hypothesis\")\n",
    "    print(\"There is a significant difference in the mean improvement scores between Group A and Group B.\")\n",
    "else:\n",
    "    print(\"Fail to reject the null hypothesis\")\n",
    "    print(\"There is no significant difference in the mean improvement scores between Group A and Group B.\\n\")\n",
    "    \n",
    "# calculated t-value, p-value, and critical t-value\n",
    "print(\"Calculated t-value:\", t)\n",
    "print(\"p-value:\", p_value)\n",
    "print(\"Critical t-value:\", critical_value)"
   ]
  },
  {
   "cell_type": "markdown",
   "id": "d744e1a2",
   "metadata": {},
   "source": [
    "### Thank you😊"
   ]
  }
 ],
 "metadata": {
  "kernelspec": {
   "display_name": "Python 3 (ipykernel)",
   "language": "python",
   "name": "python3"
  },
  "language_info": {
   "codemirror_mode": {
    "name": "ipython",
    "version": 3
   },
   "file_extension": ".py",
   "mimetype": "text/x-python",
   "name": "python",
   "nbconvert_exporter": "python",
   "pygments_lexer": "ipython3",
   "version": "3.8.5"
  },
  "toc": {
   "base_numbering": 1,
   "nav_menu": {},
   "number_sections": true,
   "sideBar": true,
   "skip_h1_title": false,
   "title_cell": "Table of Contents",
   "title_sidebar": "Contents",
   "toc_cell": false,
   "toc_position": {},
   "toc_section_display": true,
   "toc_window_display": false
  }
 },
 "nbformat": 4,
 "nbformat_minor": 5
}
