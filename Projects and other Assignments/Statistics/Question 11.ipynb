{
 "cells": [
  {
   "cell_type": "markdown",
   "id": "b88a7963",
   "metadata": {},
   "source": [
    "## *Submitted by:* - `Sunita Pradhan`"
   ]
  },
  {
   "cell_type": "markdown",
   "id": "3242edb7",
   "metadata": {},
   "source": [
    "### Q-11. Given the data of a feature contributing to different classes\n",
    "\n",
    "https://drive.google.com/file/d/1mCjtYHiX--mMUjicuaP2gH3k-SnFxt8Y/view?usp=share_\n",
    "\n",
    "    a. Check whether the distribution of all the classes are the same or not.\n",
    "    b. Check for the equality of variance/\n",
    "    c. Which amount LDA and QDA would perform better on this data forclassification and why.\n",
    "    d. Check the equality of mean for between all the classes."
   ]
  },
  {
   "cell_type": "code",
   "execution_count": 1,
   "id": "c20e85c8",
   "metadata": {},
   "outputs": [],
   "source": [
    "import numpy as np\n",
    "from scipy import stats\n",
    "import pandas as pd\n",
    "#Fatching the data\n",
    "df = pd.read_csv('data.csv')"
   ]
  },
  {
   "cell_type": "code",
   "execution_count": 4,
   "id": "35ae3770",
   "metadata": {},
   "outputs": [
    {
     "data": {
      "text/plain": [
       "Index(['Patient ID', ' Blood Pressure Before (mmHg)',\n",
       "       ' Blood Pressure After (mmHg)'],\n",
       "      dtype='object')"
      ]
     },
     "execution_count": 4,
     "metadata": {},
     "output_type": "execute_result"
    }
   ],
   "source": [
    "df.columns"
   ]
  },
  {
   "cell_type": "code",
   "execution_count": 5,
   "id": "901ca9eb",
   "metadata": {
    "scrolled": true
   },
   "outputs": [],
   "source": [
    "# Separate the data by patient Id labels\n",
    "class_labels = df['Patient ID'].unique()\n",
    "class_data = {label: df[df['Patient ID'] == label] for label in class_labels}"
   ]
  },
  {
   "cell_type": "markdown",
   "id": "6f0da7ec",
   "metadata": {},
   "source": [
    "#####     a. Check whether the distribution of all the classes are the same or not."
   ]
  },
  {
   "cell_type": "code",
   "execution_count": 7,
   "id": "fc43ea1c",
   "metadata": {},
   "outputs": [
    {
     "name": "stdout",
     "output_type": "stream",
     "text": [
      "The distributions of the classes for 'Blood Pressure Before' are the same.\n",
      "The distributions of the classes for 'Blood Pressure After' are the same.\n"
     ]
    }
   ],
   "source": [
    "# Check whether the distribution of all the classes are the same or not\n",
    "p_value = stats.kruskal(*[class_data[label][' Blood Pressure Before (mmHg)'] for label in class_labels])[1]\n",
    "if p_value < 0.05:\n",
    "    print(\"The distributions of the classes for 'Blood Pressure Before' are different.\")\n",
    "else:\n",
    "    print(\"The distributions of the classes for 'Blood Pressure Before' are the same.\")\n",
    "\n",
    "p_value = stats.kruskal(*[class_data[label][' Blood Pressure After (mmHg)'] for label in class_labels])[1]\n",
    "if p_value < 0.05:\n",
    "    print(\"The distributions of the classes for 'Blood Pressure After' are different.\")\n",
    "else:\n",
    "    print(\"The distributions of the classes for 'Blood Pressure After' are the same.\")\n"
   ]
  },
  {
   "cell_type": "markdown",
   "id": "fab91e95",
   "metadata": {},
   "source": [
    "#####     b. Check for the equality of variance/\n"
   ]
  },
  {
   "cell_type": "code",
   "execution_count": 9,
   "id": "be07cd4a",
   "metadata": {},
   "outputs": [
    {
     "name": "stdout",
     "output_type": "stream",
     "text": [
      "The variances of the classes for 'Blood Pressure Before' are equal.\n",
      "The variances of the classes for 'Blood Pressure After' are equal.\n"
     ]
    }
   ],
   "source": [
    "#Check for the equality of variance\n",
    "variance_before = [np.var(class_data[label][' Blood Pressure Before (mmHg)']) for label in class_labels]\n",
    "p_value = stats.bartlett(*[class_data[label][' Blood Pressure Before (mmHg)'] for label in class_labels])[1]\n",
    "if p_value < 0.05:\n",
    "    print(\"The variances of the classes for 'Blood Pressure Before' are not equal.\")\n",
    "else:\n",
    "    print(\"The variances of the classes for 'Blood Pressure Before' are equal.\")\n",
    "\n",
    "variance_after = [np.var(class_data[label][' Blood Pressure After (mmHg)']) for label in class_labels]\n",
    "p_value = stats.bartlett(*[class_data[label][' Blood Pressure After (mmHg)'] for label in class_labels])[1]\n",
    "if p_value < 0.05:\n",
    "    print(\"The variances of the classes for 'Blood Pressure After' are not equal.\")\n",
    "else:\n",
    "    print(\"The variances of the classes for 'Blood Pressure After' are equal.\")\n"
   ]
  },
  {
   "cell_type": "markdown",
   "id": "a3903c9e",
   "metadata": {},
   "source": [
    "#####     c. Which amount LDA and QDA would perform better on this data forclassification and why.\n"
   ]
  },
  {
   "cell_type": "code",
   "execution_count": 11,
   "id": "a818da23",
   "metadata": {},
   "outputs": [
    {
     "name": "stdout",
     "output_type": "stream",
     "text": [
      "LDA would perform better for classification.\n"
     ]
    }
   ],
   "source": [
    "#Determine which amount LDA and QDA would perform better for classification\n",
    "lda_scores = {}\n",
    "qda_scores = {}\n",
    "\n",
    "for label in class_labels:\n",
    "    class_samples_before = class_data[label][' Blood Pressure Before (mmHg)']\n",
    "    class_samples_after = class_data[label][' Blood Pressure After (mmHg)']\n",
    "    lda_scores[label] = np.mean(class_samples_before) + np.mean(class_samples_after)\n",
    "    qda_scores[label] = np.mean(np.square(class_samples_before - np.mean(class_samples_before))) + \\\n",
    "                         np.mean(np.square(class_samples_after - np.mean(class_samples_after)))\n",
    "\n",
    "if np.mean(list(lda_scores.values())) > np.mean(list(qda_scores.values())):\n",
    "    print(\"LDA would perform better for classification.\")\n",
    "else:\n",
    "    print(\"QDA would perform better for classification.\")"
   ]
  },
  {
   "cell_type": "markdown",
   "id": "c726594f",
   "metadata": {},
   "source": [
    "#####    d. Check the equality of mean for between all the classes."
   ]
  },
  {
   "cell_type": "code",
   "execution_count": 13,
   "id": "27dfe653",
   "metadata": {},
   "outputs": [
    {
     "name": "stdout",
     "output_type": "stream",
     "text": [
      "The means of the classes for 'Blood Pressure Before' are equal.\n",
      "The means of the classes for 'Blood Pressure After' are equal.\n"
     ]
    }
   ],
   "source": [
    "#Check the equality of mean between all the classes\n",
    "p_value = stats.f_oneway(*[class_data[label][' Blood Pressure Before (mmHg)'] for label in class_labels])[1]\n",
    "if p_value < 0.05:\n",
    "    print(\"The means of the classes for 'Blood Pressure Before' are not equal.\")\n",
    "else:\n",
    "    print(\"The means of the classes for 'Blood Pressure Before' are equal.\")\n",
    "\n",
    "p_value = stats.f_oneway(*[class_data[label][' Blood Pressure After (mmHg)'] for label in class_labels])[1]\n",
    "if p_value < 0.05:\n",
    "    print(\"The means of the classes for 'Blood Pressure After' are not equal.\")\n",
    "else:\n",
    "    print(\"The means of the classes for 'Blood Pressure After' are equal.\")\n"
   ]
  },
  {
   "cell_type": "markdown",
   "id": "101558e8",
   "metadata": {},
   "source": [
    "### Thank you😊"
   ]
  }
 ],
 "metadata": {
  "kernelspec": {
   "display_name": "Python 3 (ipykernel)",
   "language": "python",
   "name": "python3"
  },
  "language_info": {
   "codemirror_mode": {
    "name": "ipython",
    "version": 3
   },
   "file_extension": ".py",
   "mimetype": "text/x-python",
   "name": "python",
   "nbconvert_exporter": "python",
   "pygments_lexer": "ipython3",
   "version": "3.8.5"
  },
  "toc": {
   "base_numbering": 1,
   "nav_menu": {},
   "number_sections": true,
   "sideBar": true,
   "skip_h1_title": false,
   "title_cell": "Table of Contents",
   "title_sidebar": "Contents",
   "toc_cell": false,
   "toc_position": {},
   "toc_section_display": true,
   "toc_window_display": false
  }
 },
 "nbformat": 4,
 "nbformat_minor": 5
}
