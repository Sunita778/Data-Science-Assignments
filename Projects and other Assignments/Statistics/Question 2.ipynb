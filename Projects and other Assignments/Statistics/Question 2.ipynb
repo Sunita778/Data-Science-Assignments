{
 "cells": [
  {
   "attachments": {},
   "cell_type": "markdown",
   "id": "d8a5c81b",
   "metadata": {},
   "source": [
    "## Submitted by - `Sunita Pradhan`\n",
    "\n",
    "## Question 2"
   ]
  },
  {
   "attachments": {},
   "cell_type": "markdown",
   "id": "cb64f18c",
   "metadata": {},
   "source": [
    "### Consider a dataset containing the heights (in centimeters) of 1000 individuals. The mean height is 170 cm with a standard deviation of 10 cm. The dataset is approximately normally distributed, and its skewness is approximately zero. Based on this information, answer the following questions:\n",
    "\n"
   ]
  },
  {
   "attachments": {},
   "cell_type": "markdown",
   "id": "2b8c436b",
   "metadata": {},
   "source": [
    "###### a. What percentage of individuals in the dataset have heights between 160 cm and 180 cm?"
   ]
  },
  {
   "attachments": {},
   "cell_type": "markdown",
   "id": "703ce15f",
   "metadata": {},
   "source": [
    "*Ans:*\n",
    "\n",
    "The mean height = 170 cm\n",
    "\n",
    "The standard deviation = 10 cm\n",
    "\n",
    "\n",
    "To find the percentage of individuals between 160 cm and 180 cm, we need to calculate the number of standard deviations these values are from the mean:\n",
    "\n",
    "- For 160 cm:\n",
    "  Number of standard deviations = (160 - 170) / 10 = -1\n",
    "\n",
    "- For 180 cm:\n",
    "  Number of standard deviations = (180 - 170) / 10 = 1\n",
    "\n",
    "According to the empirical rule, approximately 68% of the data falls within one standard deviation of the mean, 95% falls within two standard deviations, and 99.7% falls within three standard deviations.\n",
    "\n",
    "As the data is approximately normally distributed and the skewness is approximately zero, we can estimate that the percentage of individuals with heights between 160 cm and 180 cm is approximately 68%."
   ]
  },
  {
   "cell_type": "code",
   "execution_count": 2,
   "id": "686062c8",
   "metadata": {},
   "outputs": [
    {
     "name": "stdout",
     "output_type": "stream",
     "text": [
      "68.26894921370858\n"
     ]
    }
   ],
   "source": [
    "from scipy.stats import norm\n",
    "\n",
    "#Given\n",
    "mean = 170\n",
    "std = 10\n",
    "\n",
    "percentage = norm.cdf(180, loc=mean, scale=std) - norm.cdf(160, loc=mean, scale=std)\n",
    "percentage *= 100\n",
    "\n",
    "print(percentage)"
   ]
  },
  {
   "attachments": {},
   "cell_type": "markdown",
   "id": "35275f17",
   "metadata": {},
   "source": [
    "#####  b. If we randomly select 100 individuals from the dataset, what is the probability that their average height is greater than 175 cm?"
   ]
  },
  {
   "attachments": {},
   "cell_type": "markdown",
   "id": "38301d9a",
   "metadata": {},
   "source": [
    "*Ans:*\n",
    "\n",
    "For this we can use Central Limit Theorem. The Central Limit Theorem States that if we have a population mean and standard deviation and take sufficiently lagre random sample from population with replacement, then the distribution of sample mean will be approximatetly normally distributed.\n",
    "\n",
    "mean = 170 cm\n",
    "standard deviation = 10 cm\n",
    "\n",
    "the standard deviation of the sample means, also known as the standard error of the mean, will be the population standard deviation divided by the square root of the sample size. In this case, the sample size is 100:\n",
    "\n",
    "Standard error of the mean = 10 / sqrt(100) = 1\n",
    "\n",
    "To find the probability, we need to calculate the z-score for a height of 175 cm:\n",
    "\n",
    "z = (175 - 170) / 1 = 5\n",
    "\n",
    "In z-score standard normal distribution table z-score of 5 is very large, the probability will be extremely small, close to zero.\n"
   ]
  },
  {
   "cell_type": "code",
   "execution_count": null,
   "id": "008b4756",
   "metadata": {},
   "outputs": [],
   "source": [
    "from scipy.stats import norm\n",
    "\n",
    "sample_size = 100\n",
    "mean_height = 170\n",
    "std_dev = 10\n",
    "\n",
    "sample_mean = mean_height\n",
    "sample_std_dev = std_dev / (sample_size ** 0.5)\n",
    "\n",
    "z_score = (175 - sample_mean) / sample_std_dev\n",
    "probability = 1 - norm.cdf(z_score)\n",
    "\n",
    "print(f'{probability:.4f}')"
   ]
  },
  {
   "attachments": {},
   "cell_type": "markdown",
   "id": "f898c9df",
   "metadata": {},
   "source": [
    "##### c. Assuming the dataset follows a normal distribution, what is the z-score corresponding to a height of 185 cm?"
   ]
  },
  {
   "attachments": {},
   "cell_type": "markdown",
   "id": "3350d27b",
   "metadata": {},
   "source": [
    "*Ans:*\n",
    "\n",
    "To find the z-score corresponding to a height of 185 cm\n",
    "\n",
    "z_score = (height - mean) / standard deviation\n",
    "\n",
    "In this case:\n",
    "\n",
    "height = 185 cm\n",
    "\n",
    "mean = 170 cm\n",
    "\n",
    "standard deviation = 10 cm\n",
    "\n",
    "z = (185 - 170) / 10 = 1.5\n",
    "\n",
    "\n",
    "Therefore, The z-score corresponding to a height of 185 cm is 1.5."
   ]
  },
  {
   "cell_type": "code",
   "execution_count": 3,
   "id": "0e0ff585",
   "metadata": {},
   "outputs": [
    {
     "name": "stdout",
     "output_type": "stream",
     "text": [
      "The z-score corresponding to a height of 185 cm is: 1.50\n"
     ]
    }
   ],
   "source": [
    "height = 185\n",
    "mean = 170\n",
    "std_dev = 10\n",
    "\n",
    "z_score = (height - mean) / std_dev\n",
    "\n",
    "print(f\"The z-score corresponding to a height of 185 cm is: {z_score:.2f}\")"
   ]
  },
  {
   "attachments": {},
   "cell_type": "markdown",
   "id": "a8f0d238",
   "metadata": {},
   "source": [
    "##### d. We know that 5% of the dataset has heights below a certain value. What is the approximate height corresponding to this threshold?"
   ]
  },
  {
   "attachments": {},
   "cell_type": "markdown",
   "id": "fc3f43ff",
   "metadata": {},
   "source": [
    "*Ans:*\n",
    "\n",
    "To find the approximate height corresponding to the threshold below which 5% of the dataset falls, we can use the z-score.\n",
    "\n",
    "Since the data is approximately normally distributed and the skewness is approximately zero, we can use the standard normal distribution table to find the z-score corresponding to a cumulative probability of 5%.\n",
    "This z-score will give us the number of standard deviations below the mean.\n",
    "\n",
    "From the standard normal distribution table, a cumulative probability of 5% corresponds to a z-score of approximately -1.645.\n",
    "\n",
    "Using the z-score formula, we can solve for the height:\n",
    "\n",
    "z_score = (height - mean) / standard deviation\n",
    "\n",
    "-1.645 = (height - 170) / 10\n",
    "\n",
    "height = -1.645 * 10 + 170 = 153.55\n",
    "\n",
    "Therefore, the approximate height corresponding to the threshold below which 5% of the dataset falls is approximately 153.55 cm."
   ]
  },
  {
   "cell_type": "code",
   "execution_count": 4,
   "id": "3bd280e5",
   "metadata": {},
   "outputs": [
    {
     "name": "stdout",
     "output_type": "stream",
     "text": [
      "153.55146373048527\n"
     ]
    }
   ],
   "source": [
    "from scipy.stats import norm\n",
    "\n",
    "mean = 170\n",
    "std = 10\n",
    "percentile = 5\n",
    "\n",
    "threshold = norm.ppf(percentile / 100, loc=mean, scale=std)\n",
    "\n",
    "print(threshold)"
   ]
  },
  {
   "attachments": {},
   "cell_type": "markdown",
   "id": "04cd11ce",
   "metadata": {},
   "source": [
    "##### e. Calculate the coefficient of variation (CV) for the dataset."
   ]
  },
  {
   "attachments": {},
   "cell_type": "markdown",
   "id": "e8a348c8",
   "metadata": {},
   "source": [
    "*Ans:*\n",
    "\n",
    "The coefficient of variation (CV) is a measure of relative variability and is calculated as the ratio of the standard deviation to the mean, expressed as a percentage. \n",
    "\n",
    "To calculate the CV for the dataset, we can use the following formula:\n",
    "\n",
    "CV = (standard deviation / mean) * 100\n",
    "\n",
    "mean = 170\n",
    "\n",
    "std = 10\n",
    "\n",
    "CV = (10 / 170) * 100 = 5.88%\n",
    "\n",
    "Therefore, the coefficient of variation for the dataset is approximately 5.88%."
   ]
  },
  {
   "cell_type": "code",
   "execution_count": 5,
   "id": "f4f00144",
   "metadata": {},
   "outputs": [
    {
     "name": "stdout",
     "output_type": "stream",
     "text": [
      "5.88235294117647\n"
     ]
    }
   ],
   "source": [
    "mean = 170\n",
    "std = 10\n",
    "cv = (std / mean) * 100\n",
    "\n",
    "print(cv)"
   ]
  },
  {
   "attachments": {},
   "cell_type": "markdown",
   "id": "b72dd74b",
   "metadata": {},
   "source": [
    "##### f. Calculate the skewness of the dataset and interpret the result."
   ]
  },
  {
   "attachments": {},
   "cell_type": "markdown",
   "id": "94ba355e",
   "metadata": {},
   "source": [
    "*Ans:*\n",
    "\n",
    "Skewness is a measure of the asymmetry of a distribution. The dataset is symmetrically distributed. In this case, since the skewness is approximately zero indicates that skewness value is approximately zero , we can interpret it as the dataset being relatively symmetric, meaning there is no significant tail to the left or right.\n",
    "\n",
    "This suggests that the heights of the individuals in the dataset are evenly distributed around the mean, with an equal number of individuals above and below the mean height."
   ]
  },
  {
   "cell_type": "code",
   "execution_count": null,
   "id": "00092801",
   "metadata": {},
   "outputs": [],
   "source": [
    "skewness = 0"
   ]
  },
  {
   "attachments": {},
   "cell_type": "markdown",
   "id": "91c9f96d",
   "metadata": {},
   "source": [
    "### Thank you😊"
   ]
  }
 ],
 "metadata": {
  "kernelspec": {
   "display_name": "Python 3 (ipykernel)",
   "language": "python",
   "name": "python3"
  },
  "language_info": {
   "codemirror_mode": {
    "name": "ipython",
    "version": 3
   },
   "file_extension": ".py",
   "mimetype": "text/x-python",
   "name": "python",
   "nbconvert_exporter": "python",
   "pygments_lexer": "ipython3",
   "version": "3.8.5"
  },
  "toc": {
   "base_numbering": 1,
   "nav_menu": {},
   "number_sections": true,
   "sideBar": true,
   "skip_h1_title": false,
   "title_cell": "Table of Contents",
   "title_sidebar": "Contents",
   "toc_cell": false,
   "toc_position": {},
   "toc_section_display": true,
   "toc_window_display": false
  }
 },
 "nbformat": 4,
 "nbformat_minor": 5
}
