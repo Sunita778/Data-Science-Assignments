{
 "cells": [
  {
   "attachments": {},
   "cell_type": "markdown",
   "id": "c7f61c7f",
   "metadata": {},
   "source": [
    "## *Submitted by* - `Sunita Pradhan`"
   ]
  },
  {
   "attachments": {},
   "cell_type": "markdown",
   "id": "f67b0c9e",
   "metadata": {},
   "source": [
    "### Q-1. A university wants to understand the relationship between the SAT scores of its applicants and their college GPA. They collect data on 500 students, including their SAT scores (out of 1600) and their college GPA (on a 4.0 scale). They find that the correlation coefficient between SAT scores and college GPA is 0.7. What does this correlation coefficient indicate about the relationship between SAT scores and college GPA?\n"
   ]
  },
  {
   "attachments": {},
   "cell_type": "markdown",
   "id": "79d3ed02",
   "metadata": {},
   "source": [
    "*Ans:*\n",
    "    \n",
    "The correlation coefficient of 0.7 indicates a strong positive relationship between SAT scores and college GPA. A correlation coefficient ranges from -1 to +1, where 1 represents a perfect positive relationship, -1 represents a perfect negative relationship, and 0 represents no relationship."
   ]
  },
  {
   "attachments": {},
   "cell_type": "markdown",
   "id": "6562fe96",
   "metadata": {},
   "source": [
    "### Thank you😊"
   ]
  }
 ],
 "metadata": {
  "kernelspec": {
   "display_name": "Python 3 (ipykernel)",
   "language": "python",
   "name": "python3"
  },
  "language_info": {
   "codemirror_mode": {
    "name": "ipython",
    "version": 3
   },
   "file_extension": ".py",
   "mimetype": "text/x-python",
   "name": "python",
   "nbconvert_exporter": "python",
   "pygments_lexer": "ipython3",
   "version": "3.8.5"
  },
  "toc": {
   "base_numbering": 1,
   "nav_menu": {},
   "number_sections": true,
   "sideBar": true,
   "skip_h1_title": false,
   "title_cell": "Table of Contents",
   "title_sidebar": "Contents",
   "toc_cell": false,
   "toc_position": {},
   "toc_section_display": true,
   "toc_window_display": false
  }
 },
 "nbformat": 4,
 "nbformat_minor": 5
}
