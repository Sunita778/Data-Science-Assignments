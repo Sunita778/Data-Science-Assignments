{
 "cells": [
  {
   "cell_type": "markdown",
   "metadata": {},
   "source": [
    "# Assignment_9\n",
    "-------------------------"
   ]
  },
  {
   "cell_type": "markdown",
   "metadata": {},
   "source": [
    "#### Question 1. \n",
    "\n",
    "#### To what does a relative path refer?"
   ]
  },
  {
   "cell_type": "markdown",
   "metadata": {},
   "source": [
    "Ans:\n",
    "\n",
    "A path starts from the current directory is called relative path.\n",
    "In this path (C:\\bacon\\eggs\\spam.txt) spam.txt is the considered as a path, but it's a relative path because it relates to current directory."
   ]
  },
  {
   "cell_type": "markdown",
   "metadata": {},
   "source": [
    "#### Question 2.\n",
    "\n",
    "#### What does an absolute path start with your operating system?"
   ]
  },
  {
   "cell_type": "markdown",
   "metadata": {},
   "source": [
    "Ans:\n",
    "\n",
    "In my operating system absolute path start with C:\\."
   ]
  },
  {
   "cell_type": "markdown",
   "metadata": {},
   "source": [
    "#### Question 3.\n",
    "\n",
    "#### What do the functions os.getcwd() and os.chdir() do?"
   ]
  },
  {
   "cell_type": "markdown",
   "metadata": {},
   "source": [
    "Ans:\n",
    "\n",
    "os.getcwd() returns the path of the current directory.\n",
    "\n",
    "os.chdir() change the path of the currrent directory."
   ]
  },
  {
   "cell_type": "markdown",
   "metadata": {},
   "source": [
    "#### Question 4.\n",
    "\n",
    "#### What are the . and .. folders?"
   ]
  },
  {
   "cell_type": "markdown",
   "metadata": {},
   "source": [
    "single dot(.) is current folder and double dot(..) is the parent folder."
   ]
  },
  {
   "cell_type": "markdown",
   "metadata": {},
   "source": [
    "#### Question 5.\n",
    "\n",
    "#### In C:\\bacon\\eggs\\spam.txt, which part is the dir name, and which part is the base name?"
   ]
  },
  {
   "cell_type": "markdown",
   "metadata": {},
   "source": [
    "Ans:\n",
    "\n",
    "In C:\\bacon\\eggs\\spam.txt, \n",
    "C:\\bacon\\eggs is the dir and \n",
    "spam.txt base name."
   ]
  },
  {
   "cell_type": "markdown",
   "metadata": {},
   "source": [
    "#### Question 6.\n",
    "\n",
    "#### What are the three “mode” arguments that can be passed to the open() function?"
   ]
  },
  {
   "cell_type": "markdown",
   "metadata": {},
   "source": [
    "'w', 'a' and 'r' are  the three “mode” arguments that can be passed to the open() function.\n",
    "- 'w' -- write mode\n",
    "- 'a' -- append mode\n",
    "- 'r' -- read mode"
   ]
  },
  {
   "cell_type": "markdown",
   "metadata": {},
   "source": [
    "#### Question 7.\n",
    "\n",
    "#### What happens if an existing file is opened in write mode?"
   ]
  },
  {
   "cell_type": "markdown",
   "metadata": {},
   "source": [
    "Ans:\n",
    "\n",
    "If we open an existing file in write mode, the previous data will be earsed, the object will be positioned at the beginning of file."
   ]
  },
  {
   "cell_type": "markdown",
   "metadata": {},
   "source": [
    "#### Question 8.\n",
    "\n",
    "#### How do you tell the difference between read() and readlines()?"
   ]
  },
  {
   "cell_type": "markdown",
   "metadata": {},
   "source": [
    "Ans:\n",
    "\n",
    "The read() method is used to read a specified no.of bytes of data from a file. If no argument is specified in read() then it read entire content of file as single string value."
   ]
  },
  {
   "cell_type": "markdown",
   "metadata": {},
   "source": [
    "The readlines() method reads all the lines and returns the lines along with new line as a list of strings."
   ]
  },
  {
   "cell_type": "markdown",
   "metadata": {},
   "source": [
    "#### Question 9.\n",
    "\n",
    "#### What data structure does a shelf value resemble?"
   ]
  },
  {
   "cell_type": "markdown",
   "metadata": {},
   "source": [
    "Ans:\n",
    "    \n",
    "A shelf value resembles a dictionary value. It has keys and values along with keys() and values() methods that work similarly to the dictionay methods of the same name."
   ]
  }
 ],
 "metadata": {
  "kernelspec": {
   "display_name": "Python 3",
   "language": "python",
   "name": "python3"
  },
  "language_info": {
   "codemirror_mode": {
    "name": "ipython",
    "version": 3
   },
   "file_extension": ".py",
   "mimetype": "text/x-python",
   "name": "python",
   "nbconvert_exporter": "python",
   "pygments_lexer": "ipython3",
   "version": "3.8.5"
  },
  "toc": {
   "base_numbering": 1,
   "nav_menu": {},
   "number_sections": true,
   "sideBar": true,
   "skip_h1_title": false,
   "title_cell": "Table of Contents",
   "title_sidebar": "Contents",
   "toc_cell": false,
   "toc_position": {},
   "toc_section_display": true,
   "toc_window_display": false
  }
 },
 "nbformat": 4,
 "nbformat_minor": 4
}
