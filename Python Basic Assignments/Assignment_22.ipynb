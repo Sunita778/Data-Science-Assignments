{
 "cells": [
  {
   "cell_type": "markdown",
   "metadata": {},
   "source": [
    "### Q-1. What is the result of the code, and explain?\n",
    "\n",
    "\n",
    "#### >>> X = 'iNeuron'\n",
    "#### >>> def func():\n",
    "#### print(X)\n",
    "\n",
    "\n",
    "#### >>> func()"
   ]
  },
  {
   "cell_type": "code",
   "execution_count": 1,
   "metadata": {},
   "outputs": [
    {
     "name": "stdout",
     "output_type": "stream",
     "text": [
      "iNeuron\n"
     ]
    }
   ],
   "source": [
    "X = 'iNeuron'\n",
    "def func():\n",
    "    print(X)\n",
    "func()"
   ]
  },
  {
   "cell_type": "markdown",
   "metadata": {},
   "source": [
    "In this code, the variable X is defined outside of the `func` function. When the `func` function is called, it prints the value of the X variable, which is iNeuron. Since the X variable is not defined within the scope of the `func` function, it refers to the `global scope`, and its value is printed."
   ]
  },
  {
   "cell_type": "markdown",
   "metadata": {},
   "source": [
    "### Q-2. What is the result of the code, and explain?\n",
    "\n",
    "\n",
    "#### >>> X = 'iNeuron'\n",
    "#### >>> def func():\n",
    "#### X = 'NI!'\n",
    "\n",
    "\n",
    "#### >>> func()\n",
    "#### >>> print(X)"
   ]
  },
  {
   "cell_type": "code",
   "execution_count": 2,
   "metadata": {},
   "outputs": [
    {
     "name": "stdout",
     "output_type": "stream",
     "text": [
      "iNeuron\n"
     ]
    }
   ],
   "source": [
    "X = 'iNeuron'\n",
    "def func():\n",
    "    X = 'NI!'\n",
    "func()\n",
    "print(X)"
   ]
  },
  {
   "cell_type": "markdown",
   "metadata": {},
   "source": [
    "In the code, X is a global variable defined outside of the func function with the value 'iNeuron'. Within the func function, a new local variable X is defined with the value 'NI!'. However, this local variable only exists within the scope of the func function and does not affect the value of the global X variable.\n",
    "\n",
    "Therefore, when print(X) is called outside of the func function, the value of the global X variable is printed, which is 'iNeuron'."
   ]
  },
  {
   "cell_type": "markdown",
   "metadata": {},
   "source": [
    "### Q-3. What does this code print, and why?\n",
    "\n",
    "\n",
    "#### >>> X = 'iNeuron'\n",
    "#### >>> def func():\n",
    "#### X = 'NI'\n",
    "#### print(X)\n",
    "\n",
    "\n",
    "#### >>> func()\n",
    "#### >>> print(X)"
   ]
  },
  {
   "cell_type": "code",
   "execution_count": 3,
   "metadata": {},
   "outputs": [
    {
     "name": "stdout",
     "output_type": "stream",
     "text": [
      "NI\n",
      "iNeuron\n"
     ]
    }
   ],
   "source": [
    "X = 'iNeuron'\n",
    "def func():\n",
    "    X = 'NI'\n",
    "    print(X)\n",
    "func()\n",
    "print(X)"
   ]
  },
  {
   "cell_type": "markdown",
   "metadata": {},
   "source": [
    "In this code, the variable X is defined at the global scope with the value 'iNeuron'. Then, the func function is defined which creates its own local variable X with the value 'NI'. When the func function is called, it prints the value of the local variable X which is 'NI'.\n",
    "\n",
    "Finally, when the global variable X is printed, it retains its original value of 'iNeuron', which was not changed by the func function. This demonstrates the concept of variable scope in Python, where variables defined inside a function have a local scope and do not affect variables with the same name in the global scope."
   ]
  },
  {
   "cell_type": "markdown",
   "metadata": {},
   "source": [
    "### Q-4. What output does this code produce? Why?\n",
    "\n",
    "\n",
    "#### >>> X = 'iNeuron'\n",
    "#### >>> def func():\n",
    "#### global X\n",
    "#### X = 'NI'\n",
    "\n",
    "\n",
    "#### >>> func()\n",
    "#### >>> print(X)\n"
   ]
  },
  {
   "cell_type": "code",
   "execution_count": 4,
   "metadata": {},
   "outputs": [
    {
     "name": "stdout",
     "output_type": "stream",
     "text": [
      "NI\n"
     ]
    }
   ],
   "source": [
    "X = 'iNeuron'\n",
    "def func():\n",
    "    global X\n",
    "    X = 'NI'\n",
    "func()\n",
    "print(X)"
   ]
  },
  {
   "cell_type": "markdown",
   "metadata": {},
   "source": [
    "In this code, the func function changes the value of the global variable X from 'iNeuron' to 'NI' using the global keyword. The global keyword makes it possible to modify a global variable inside a function. Then, the value of X is printed, which is 'NI'."
   ]
  },
  {
   "cell_type": "markdown",
   "metadata": {},
   "source": [
    "### Q-5. What about this code—what’s the output, and why?\n",
    "\n",
    "\n",
    "#### >>> X = 'iNeuron'\n",
    "#### >>> def func():\n",
    "#### X = 'NI'\n",
    "#### def nested():\n",
    "#### print(X)\n",
    "#### nested()\n",
    "\n",
    "\n",
    "#### >>> func()\n",
    "#### >>> X"
   ]
  },
  {
   "cell_type": "code",
   "execution_count": 7,
   "metadata": {},
   "outputs": [
    {
     "name": "stdout",
     "output_type": "stream",
     "text": [
      "NI\n"
     ]
    },
    {
     "data": {
      "text/plain": [
       "'iNeuron'"
      ]
     },
     "execution_count": 7,
     "metadata": {},
     "output_type": "execute_result"
    }
   ],
   "source": [
    "X = 'iNeuron'\n",
    "def func():\n",
    "    X = 'NI'\n",
    "    def nested():\n",
    "        print(X)\n",
    "    nested()\n",
    "func()\n",
    "X"
   ]
  },
  {
   "cell_type": "markdown",
   "metadata": {},
   "source": [
    "- The value of the variable X inside the func function is 'NI', which is different from the global value of 'iNeuron'.\n",
    "- When the nested function is called inside the func function, it prints the value of X from the nearest enclosing scope, which is the func function's scope, so it prints 'NI'.\n",
    "- After the func function is executed, the global value of X is printed, which is 'iNeuron'."
   ]
  },
  {
   "cell_type": "markdown",
   "metadata": {},
   "source": [
    "### Q-6. How about this code: what is its output in Python 3, and explain?\n",
    "\n",
    "\n",
    "#### >>> def func():\n",
    "#### X = 'NI'\n",
    "#### def nested():\n",
    "#### nonlocal X\n",
    "#### X = 'Spam'\n",
    "#### nested()\n",
    "#### print(X)\n",
    "\n",
    "\n",
    "#### >>> func()"
   ]
  },
  {
   "cell_type": "code",
   "execution_count": 8,
   "metadata": {
    "scrolled": true
   },
   "outputs": [
    {
     "name": "stdout",
     "output_type": "stream",
     "text": [
      "Spam\n"
     ]
    }
   ],
   "source": [
    "def func():\n",
    "    X = 'NI'\n",
    "    def nested():\n",
    "        nonlocal X\n",
    "        X = 'Spam'\n",
    "    nested()\n",
    "    print(X)\n",
    "func()"
   ]
  },
  {
   "cell_type": "markdown",
   "metadata": {},
   "source": [
    "Explanation:\n",
    "\n",
    "- The func function declares a local variable X with the value \"NI\".\n",
    "- The func function also defines a nested function nested.= \n",
    "- The nested function uses the nonlocal keyword to indicate that it wants to modify the value of X defined in the enclosing scope, which is the func function.\n",
    "- The nested function then changes the value of X to \"Spam\".\n",
    "- Finally, the func function calls nested and then prints the value of X, which is now \"Spam\"."
   ]
  }
 ],
 "metadata": {
  "kernelspec": {
   "display_name": "Python 3",
   "language": "python",
   "name": "python3"
  },
  "language_info": {
   "codemirror_mode": {
    "name": "ipython",
    "version": 3
   },
   "file_extension": ".py",
   "mimetype": "text/x-python",
   "name": "python",
   "nbconvert_exporter": "python",
   "pygments_lexer": "ipython3",
   "version": "3.8.5"
  },
  "toc": {
   "base_numbering": 1,
   "nav_menu": {},
   "number_sections": true,
   "sideBar": true,
   "skip_h1_title": false,
   "title_cell": "Table of Contents",
   "title_sidebar": "Contents",
   "toc_cell": false,
   "toc_position": {},
   "toc_section_display": true,
   "toc_window_display": false
  }
 },
 "nbformat": 4,
 "nbformat_minor": 4
}
