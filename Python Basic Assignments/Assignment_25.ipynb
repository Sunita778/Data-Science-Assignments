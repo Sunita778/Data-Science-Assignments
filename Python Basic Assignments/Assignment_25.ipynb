{
 "cells": [
  {
   "cell_type": "markdown",
   "metadata": {},
   "source": [
    "# Assignment_25\n",
    "---------------------------"
   ]
  },
  {
   "cell_type": "markdown",
   "metadata": {},
   "source": [
    "#### Q-1) . What is the difference between enclosing a list comprehension in square brackets and parentheses?"
   ]
  },
  {
   "cell_type": "markdown",
   "metadata": {},
   "source": [
    "#### Ans:\n",
    "\n",
    "The difference between enclosing a list comprehension in square brackets ([]) and parentheses (()) is that the square brackets create a list, while the parentheses create a generator expression.\n",
    "\n",
    "A list comprehension creates a new list in memory and returns it as a result. The list comprehension is executed immediately and its results are stored in memory. This means that if you have a large data set, using a list comprehension can consume a lot of memory.\n",
    "\n",
    "On the other hand, a generator expression returns an object that generates the results of the expression on the fly, without storing them in memory. The generator expression is not executed immediately, but only when you iterate over it. This can be useful when working with large data sets, as it saves memory."
   ]
  },
  {
   "cell_type": "code",
   "execution_count": 1,
   "metadata": {},
   "outputs": [
    {
     "data": {
      "text/plain": [
       "[0, 1, 2, 3, 4, 5]"
      ]
     },
     "execution_count": 1,
     "metadata": {},
     "output_type": "execute_result"
    }
   ],
   "source": [
    "#Enclosing a list comprehension in square brackets\n",
    "\n",
    "l = [i for i in range(6)]\n",
    "l"
   ]
  },
  {
   "cell_type": "code",
   "execution_count": 2,
   "metadata": {},
   "outputs": [
    {
     "data": {
      "text/plain": [
       "<generator object <genexpr> at 0x000001917C9A4CF0>"
      ]
     },
     "execution_count": 2,
     "metadata": {},
     "output_type": "execute_result"
    }
   ],
   "source": [
    "#Enclosing a list comprehension in parentheses\n",
    "\n",
    "l1 = (i for i in range(6))\n",
    "l1"
   ]
  },
  {
   "cell_type": "markdown",
   "metadata": {},
   "source": [
    "#### Q-2) What is the relationship between generators and iterators?"
   ]
  },
  {
   "cell_type": "markdown",
   "metadata": {},
   "source": [
    "Ans:\n",
    "\n",
    "A generator is a type of iterator, meaning it is an object that can produce a sequence of values one at a time. The generator can be used in a for loop, which automatically iterates through the items it produces, or with the next() function to get the next item. When the generator has produced all its values, it raises the StopIteration exception. Generators are defined using the yield statement instead of the return statement."
   ]
  },
  {
   "cell_type": "markdown",
   "metadata": {},
   "source": [
    "#### Q-3) What are the signs that a function is a generator function?"
   ]
  },
  {
   "cell_type": "markdown",
   "metadata": {},
   "source": [
    "Ans:\n",
    "\n",
    "A function is a generator function if it uses the `yield` keyword instead of `return`. A generator function returns a generator object, which is an iterator that generates values one at a time when iterated over. The generator function can be resumed from where it left off, instead of starting from the beginning, each time `next()` is called on the generator object."
   ]
  },
  {
   "cell_type": "markdown",
   "metadata": {},
   "source": [
    "#### Q-4) What is the purpose of a yield statement?"
   ]
  },
  {
   "cell_type": "markdown",
   "metadata": {},
   "source": [
    "Ans:\n",
    "\n",
    "The purpose of a yield statement in a generator function is to produce a value, which is returned to the caller each time the function is executed, and then suspends execution of the function until it is called again. It allows the generator to generate a series of values over time, without having to store all of the values in memory. The generator function can be resumed from where it left off, and continues executing until it encounters another yield statement or the function returns. This makes generators a convenient way to iterate over a large sequence of values, without having to load the entire sequence into memory."
   ]
  },
  {
   "cell_type": "markdown",
   "metadata": {},
   "source": [
    "#### Q-5) What is the relationship between map calls and list comprehensions? Make a comparison and contrast between the two."
   ]
  },
  {
   "cell_type": "markdown",
   "metadata": {},
   "source": [
    "Ans:\n",
    "\n",
    "The map function and list comprehensions are both used to apply a function to each element in an iterable and generate a new list from the results. However, the way they achieve this is different.\n",
    "\n",
    "map takes a function and an iterable as arguments, and returns a map object that can be converted to a list, tuple, or other object type. The function is applied to each element of the iterable, and the results are stored in the map object.\n",
    "\n",
    "List comprehensions, on the other hand, are a concise way to create a list by applying an expression to each element in an iterable. They are written in a single line and include the expression, the loop, and an optional condition. List comprehensions are generally more readable and concise than map calls.\n",
    "\n",
    "In terms of performance, list comprehensions are usually faster than map calls because they are implemented as a single iteration over the elements in the iterable, rather than multiple iterations as with map. However, map calls are more flexible, as they can be used with any function, not just those that return a single value."
   ]
  },
  {
   "cell_type": "code",
   "execution_count": null,
   "metadata": {},
   "outputs": [],
   "source": []
  }
 ],
 "metadata": {
  "kernelspec": {
   "display_name": "Python 3",
   "language": "python",
   "name": "python3"
  },
  "language_info": {
   "codemirror_mode": {
    "name": "ipython",
    "version": 3
   },
   "file_extension": ".py",
   "mimetype": "text/x-python",
   "name": "python",
   "nbconvert_exporter": "python",
   "pygments_lexer": "ipython3",
   "version": "3.8.5"
  },
  "toc": {
   "base_numbering": 1,
   "nav_menu": {},
   "number_sections": true,
   "sideBar": true,
   "skip_h1_title": false,
   "title_cell": "Table of Contents",
   "title_sidebar": "Contents",
   "toc_cell": false,
   "toc_position": {},
   "toc_section_display": true,
   "toc_window_display": false
  }
 },
 "nbformat": 4,
 "nbformat_minor": 4
}
