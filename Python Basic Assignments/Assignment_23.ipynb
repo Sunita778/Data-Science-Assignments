{
 "cells": [
  {
   "cell_type": "markdown",
   "metadata": {},
   "source": [
    "#### Q-1. What is the result of the code, and why?\n",
    "##### >>> def func(a, b=6, c=8):\n",
    "##### print(a, b, c)\n",
    "##### >>> func(1, 2)\n"
   ]
  },
  {
   "cell_type": "code",
   "execution_count": 1,
   "metadata": {},
   "outputs": [
    {
     "name": "stdout",
     "output_type": "stream",
     "text": [
      "1 2 8\n"
     ]
    }
   ],
   "source": [
    "def func(a, b=6, c=8):\n",
    "    print(a, b, c)\n",
    "func(1, 2)"
   ]
  },
  {
   "cell_type": "markdown",
   "metadata": {},
   "source": [
    "Explanation:\n",
    "\n",
    "In this code, we have defined a function func that takes three parameters a, b, and c. The b and c parameters have default values of 6 and 8, respectively. When we call func(1, 2), we are only passing two arguments, so a gets the value 1 and b gets the value 2. Since we didn't pass a value for c, it takes the default value of 8. That's why the output of the code is 1 2 8."
   ]
  },
  {
   "cell_type": "markdown",
   "metadata": {},
   "source": [
    "#### Q-2. What is the result of this code, and why?\n",
    "##### >>> def func(a, b, c=5):\n",
    "##### print(a, b, c)\n",
    "##### >>> func(1, c=3, b=2)"
   ]
  },
  {
   "cell_type": "code",
   "execution_count": 2,
   "metadata": {},
   "outputs": [
    {
     "name": "stdout",
     "output_type": "stream",
     "text": [
      "1 2 3\n"
     ]
    }
   ],
   "source": [
    "def func(a, b, c=5):\n",
    "    print(a, b, c)\n",
    "func(1, c=3, b=2)"
   ]
  },
  {
   "cell_type": "markdown",
   "metadata": {},
   "source": [
    "The func function takes three parameters a, b, and c with a default value of 5 for c. In the function call, the arguments are passed as 1, c=3, and b=2, so the value of a is set to 1, the value of b is set to 2, and the value of c is set to 3. Therefore, when func is called, the values of a, b, and c are 1, 2, and 3, respectively, and when printed, the output is 1 2 3."
   ]
  },
  {
   "cell_type": "markdown",
   "metadata": {},
   "source": [
    "#### Q-3. How about this code: what is its result, and why?\n",
    "##### >>> def func(a, *pargs):\n",
    "##### print(a, pargs)\n",
    "##### >>> func(1, 2, 3)"
   ]
  },
  {
   "cell_type": "code",
   "execution_count": 3,
   "metadata": {},
   "outputs": [
    {
     "name": "stdout",
     "output_type": "stream",
     "text": [
      "1 (2, 3)\n"
     ]
    }
   ],
   "source": [
    "def func(a, *pargs):\n",
    "    print(a, pargs)\n",
    "func(1, 2, 3)"
   ]
  },
  {
   "cell_type": "markdown",
   "metadata": {},
   "source": [
    "The function func takes two arguments a and `*pargs`. The argument a represents a single value and `*pargs` is a tuple of all the remaining positional arguments. In this case, a is assigned the value 1 and the rest of the positional arguments, 2 and 3, are collected into the tuple `pargs` and printed."
   ]
  },
  {
   "cell_type": "markdown",
   "metadata": {},
   "source": [
    "#### Q-4. What does this code print, and why?\n",
    "##### >>> def func(a, **kargs):\n",
    "##### print(a, kargs)\n",
    "##### >>> func(a=1, c=3, b=2)"
   ]
  },
  {
   "cell_type": "code",
   "execution_count": 4,
   "metadata": {},
   "outputs": [
    {
     "name": "stdout",
     "output_type": "stream",
     "text": [
      "1 {'c': 3, 'b': 2}\n"
     ]
    }
   ],
   "source": [
    "def func(a, **kargs):\n",
    "    print(a, kargs)\n",
    "func(a=1, c=3, b=2)"
   ]
  },
  {
   "cell_type": "markdown",
   "metadata": {},
   "source": [
    "In this code, the func function takes two arguments `a` and `**kargs`. The `**kargs` syntax allows a function to take an arbitrary number of keyword arguments. The keyword arguments passed to the function are stored in the dictionary kargs.\n",
    "\n",
    "In this case, the function call func(a=1, c=3, b=2) passes a=1, c=3, and b=2 as keyword arguments. So, a takes the value 1, and the rest of the arguments are stored in the `kargs` dictionary as `{'c': 3, 'b': 2}`. Hence, the output is `1 {'c': 3, 'b': 2}`."
   ]
  },
  {
   "cell_type": "markdown",
   "metadata": {},
   "source": [
    "#### Q-5. What gets printed by this, and explain?\n",
    "##### >>> def func(a, b, c=8, d=5): print(a, b, c, d)\n",
    "##### >>> func(1, *(5, 6))"
   ]
  },
  {
   "cell_type": "code",
   "execution_count": 5,
   "metadata": {},
   "outputs": [
    {
     "name": "stdout",
     "output_type": "stream",
     "text": [
      "1 5 6 5\n"
     ]
    }
   ],
   "source": [
    "def func(a, b, c=8, d=5): print(a, b, c, d)\n",
    "func(1, *(5, 6))"
   ]
  },
  {
   "cell_type": "markdown",
   "metadata": {},
   "source": [
    "- The function func takes 4 arguments, with c and d having default values of 8 and 5 respectively.\n",
    "- In the call to func, the * operator is used to unpack the tuple (5, 6) as positional arguments.\n",
    "- The first argument 1 is passed directly as the first argument a.\n",
    "- The remaining values 5 and 6 are passed as positional arguments b and c, respectively.\n",
    "- The value of d is unchanged and retains its default value of 5.\n",
    "- Finally, the function func prints the values of all its arguments a, b, c, and d, which are 1, 5, 6, 5."
   ]
  },
  {
   "cell_type": "markdown",
   "metadata": {},
   "source": [
    "#### Q-6. what is the result of this, and explain?\n",
    "##### >>> def func(a, b, c): a = 2; b[0] = 'x'; c['a'] = 'y'\n",
    "##### >>> l=1; m=[1]; n={'a':0}\n",
    "##### >>> func(l, m, n)\n",
    "##### >>> l, m, n"
   ]
  },
  {
   "cell_type": "code",
   "execution_count": 6,
   "metadata": {},
   "outputs": [
    {
     "data": {
      "text/plain": [
       "(1, ['x'], {'a': 'y'})"
      ]
     },
     "execution_count": 6,
     "metadata": {},
     "output_type": "execute_result"
    }
   ],
   "source": [
    "def func(a, b, c): a = 2; b[0] = 'x'; c['a'] = 'y'\n",
    "l=1; m=[1]; n={'a':0}\n",
    "func(l, m, n)\n",
    "l, m, n"
   ]
  },
  {
   "cell_type": "markdown",
   "metadata": {},
   "source": [
    "In the function func, the argument a is an integer and assigned to a new value 2. However, this assignment doesn't change the value of l outside the function because integers are immutable in Python.\n",
    "\n",
    "The argument b is a list, and its first element is changed to 'x' using the index 0. This change is reflected outside the function because lists are mutable in Python.\n",
    "\n",
    "The argument c is a dictionary, and its value for key 'a' is changed to 'y'. This change is reflected outside the function because dictionaries are mutable in Python."
   ]
  }
 ],
 "metadata": {
  "kernelspec": {
   "display_name": "Python 3",
   "language": "python",
   "name": "python3"
  },
  "language_info": {
   "codemirror_mode": {
    "name": "ipython",
    "version": 3
   },
   "file_extension": ".py",
   "mimetype": "text/x-python",
   "name": "python",
   "nbconvert_exporter": "python",
   "pygments_lexer": "ipython3",
   "version": "3.8.5"
  },
  "toc": {
   "base_numbering": 1,
   "nav_menu": {},
   "number_sections": true,
   "sideBar": true,
   "skip_h1_title": false,
   "title_cell": "Table of Contents",
   "title_sidebar": "Contents",
   "toc_cell": false,
   "toc_position": {},
   "toc_section_display": true,
   "toc_window_display": false
  }
 },
 "nbformat": 4,
 "nbformat_minor": 4
}
