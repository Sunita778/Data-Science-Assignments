{
 "cells": [
  {
   "cell_type": "markdown",
   "metadata": {},
   "source": [
    "#### Q-1. What is the relationship between def statements and lambda expressions ?"
   ]
  },
  {
   "cell_type": "markdown",
   "metadata": {},
   "source": [
    "Ans:\n",
    "\n",
    "``def`` statements and ``lambda`` expressions are both ways of `def`ining functions in Python. However, `def` statements are used for `def`ining regular named functions, while `lambda` expressions are used for creating anonymous functions or small, single-line functions. `lambda` expressions are often used when `def`ining simple functions that will be used only once, such as as a callback in a sort() method or a map() call. On the other hand, `def` statements are used for `def`ining more complex, reusable functions. In summary, `lambda` expressions are a more concise way to `def`ine simple functions, while `def` statements are used for more complex, reusable functions."
   ]
  },
  {
   "cell_type": "markdown",
   "metadata": {},
   "source": [
    "#### Q-2. What is the benefit of lambda?"
   ]
  },
  {
   "cell_type": "markdown",
   "metadata": {},
   "source": [
    "Ans:\n",
    "\n",
    "Lambda expressions in Python provide a way to create small, anonymous functions (i.e., functions without a name) that can be used in place of normal functions defined using the def keyword. The benefit of using lambda expressions is that they can make your code more concise and readable by eliminating the need for longer, more complex function definitions in certain situations. Additionally, they can be passed as arguments to higher-order functions and used as a quick way to define simple functions within the context of another function or expression."
   ]
  },
  {
   "cell_type": "markdown",
   "metadata": {},
   "source": [
    "#### Q-3. Compare and contrast map, filter, and reduce."
   ]
  },
  {
   "cell_type": "markdown",
   "metadata": {},
   "source": [
    "**Ans:\n",
    "\n",
    "`map` and `filter` are built-in functions in Python that allow you to apply a function to each element of a sequence (such as a list or tuple) and return a new sequence with the results.\n",
    "\n",
    "`map` takes a function and an iterable as arguments and returns a new iterable with the function applied to each element of the original iterable.\n",
    "\n",
    "`filter` takes a function and an iterable as arguments and returns a new iterable with only the elements for which the function returns True.\n",
    "\n",
    "`reduce` is a function in the functools module that takes a function and an iterable and returns a single value that is the result of applying the function to the elements of the iterable. The function must take two arguments and must be commutative and associative.\n",
    "\n",
    "The key difference between `map`, `filter`, and `reduce` is the number of elements in the returned iterable and the type of result that is produced. `map` and `filter` return iterables, while `reduce` returns a single value.\n"
   ]
  },
  {
   "cell_type": "markdown",
   "metadata": {},
   "source": [
    "#### Q-4. What are function annotations, and how are they used?"
   ]
  },
  {
   "cell_type": "markdown",
   "metadata": {},
   "source": [
    "Ans:\n",
    "\n",
    "Function annotations in Python are optional metadata information about the types of function arguments and return values. They are stored in the `__annotations__` attribute of the function and have no impact on the function's behavior. Function annotations can be used for documenting the function's API, for type checking at runtime, or for code generation. They are specified after the colon (:) following the argument names and have the form `argument_name: annotation`. The syntax for specifying return annotations is similar, but with an arrow (->) pointing from the argument list to the annotation. "
   ]
  },
  {
   "cell_type": "markdown",
   "metadata": {},
   "source": [
    "#### Q-5. What are recursive functions, and how are they used?"
   ]
  },
  {
   "cell_type": "markdown",
   "metadata": {},
   "source": [
    "Ans:\n",
    "\n",
    "Recursive functions are functions that call themselves. They are used to solve problems by breaking them down into smaller, similar problems, until the problem is small enough to be solved directly. For example, the classic example of recursion is computing the factorial of a number, where the function calls itself repeatedly with a smaller argument, until it reaches the base case where the answer can be calculated directly. Recursive functions can make code more concise and easier to understand, but they can also consume large amounts of memory if not written carefully, as each function call creates a new stack frame in memory."
   ]
  },
  {
   "cell_type": "markdown",
   "metadata": {},
   "source": [
    "#### Q-6. What are some general design guidelines for coding functions?"
   ]
  },
  {
   "cell_type": "markdown",
   "metadata": {},
   "source": [
    "Ans:\n",
    "\n",
    "Some general design guidelines for coding functions:\n",
    "\n",
    "- Single Responsibility Principle: A function should only perform one specific task, and it should be well defined.\n",
    "\n",
    "- Readability: Functions should be named in a way that makes their purpose clear, and the code inside should be indented and well-organized.\n",
    "\n",
    "- Input validation: Ensure that the function is provided with appropriate inputs and handle exceptions when necessary.\n",
    "\n",
    "- Avoid Side Effects: Functions should not have unintended consequences such as modifying arguments or producing outputs that are not related to their intended purpose.\n",
    "\n",
    "- Avoid Global Variables: Functions should not rely on global variables, as this can cause unexpected behavior and make it harder to understand the code.\n",
    "\n",
    "- Document Function Purpose: Write clear and concise documentation explaining what the function does and how it is meant to be used.\n",
    "\n",
    "- Test-Driven Development: Write tests for each function to ensure that it behaves as intended and to catch any bugs early."
   ]
  },
  {
   "cell_type": "markdown",
   "metadata": {},
   "source": [
    "#### Q-7. Name three or more ways that functions can communicate results to a caller."
   ]
  },
  {
   "cell_type": "markdown",
   "metadata": {},
   "source": [
    "Ans:\n",
    "\n",
    "- Return value: Functions can communicate results to the caller by returning a value that can be assigned to a variable or used in an expression.\n",
    "\n",
    "- Mutable arguments: Functions can also modify the contents of mutable objects (such as lists or dictionaries) that are passed as arguments, which changes the state of those objects and can be accessed by the caller.\n",
    "\n",
    "- Global variables: Functions can communicate results to the caller by modifying global variables that are accessible from outside the function.\n",
    "\n",
    "- Exception handling: Functions can raise exceptions to indicate errors or exceptional conditions, which can be caught and handled by the caller.\n",
    "\n",
    "- Output parameters: Functions can take output parameters that the caller can use to receive results.\n",
    "\n",
    "- Print statement: Functions can print results to the console for the caller to see."
   ]
  }
 ],
 "metadata": {
  "kernelspec": {
   "display_name": "Python 3",
   "language": "python",
   "name": "python3"
  },
  "language_info": {
   "codemirror_mode": {
    "name": "ipython",
    "version": 3
   },
   "file_extension": ".py",
   "mimetype": "text/x-python",
   "name": "python",
   "nbconvert_exporter": "python",
   "pygments_lexer": "ipython3",
   "version": "3.8.5"
  },
  "toc": {
   "base_numbering": 1,
   "nav_menu": {},
   "number_sections": true,
   "sideBar": true,
   "skip_h1_title": false,
   "title_cell": "Table of Contents",
   "title_sidebar": "Contents",
   "toc_cell": false,
   "toc_position": {},
   "toc_section_display": true,
   "toc_window_display": false
  }
 },
 "nbformat": 4,
 "nbformat_minor": 4
}
