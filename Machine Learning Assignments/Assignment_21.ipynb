{
 "cells": [
  {
   "cell_type": "markdown",
   "metadata": {},
   "source": [
    "# Assignment_21\n",
    "Submitted by - Sunita Pradhan\n",
    "\n",
    "-----------------------------------------------------------"
   ]
  },
  {
   "cell_type": "markdown",
   "metadata": {},
   "source": [
    "`Decision Tree`"
   ]
  },
  {
   "cell_type": "markdown",
   "metadata": {},
   "source": [
    "### 1. What is the estimated depth of a Decision Tree trained (unrestricted) on a one million instance training set?\n"
   ]
  },
  {
   "cell_type": "markdown",
   "metadata": {},
   "source": [
    "*Ans:*\n",
    "\n",
    "The estimated depth of a Decision Tree trained on a one million instance training set depends on various factors, but it is generally not advisable to build a Decision Tree with an unrestricted depth. In practice, the depth of a Decision Tree is usually much smaller than the size of the training set, and a reasonable depth for a Decision Tree trained on a one million instance training set could be in the range of 10-20 levels, but this is just a rough estimate and can vary widely depending on the specific data and modeling choices."
   ]
  },
  {
   "cell_type": "markdown",
   "metadata": {},
   "source": [
    "### 2. Is the Gini impurity of a node usually lower or higher than that of its parent? Is it always lower/greater, or is it usually lower/greater?\n"
   ]
  },
  {
   "cell_type": "markdown",
   "metadata": {},
   "source": [
    "*Ans:*\n",
    "\n",
    "The Gini impurity of a node can be either lower or higher than that of its parent, depending on the specific scenario. The goal is to lower the Gini impurity of child nodes, but this is not always achievable, and sometimes it may even increase."
   ]
  },
  {
   "cell_type": "markdown",
   "metadata": {},
   "source": [
    "### 3. Explain if its a good idea to reduce max depth if a Decision Tree is overfitting the training set?\n"
   ]
  },
  {
   "cell_type": "markdown",
   "metadata": {},
   "source": [
    "*Ans:*\n",
    "\n",
    "Reducing the maximum depth of a Decision Tree can be a good strategy to combat overfitting if the model is too complex and has learned the noise in the training data instead of the underlying patterns.\n",
    "\n",
    "A Decision Tree with a deeper maximum depth can capture more complex interactions between features, which may lead to overfitting on the training set. This can result in poor generalization performance, where the model performs well on the training set but poorly on new, unseen data.\n",
    "\n",
    "By reducing the maximum depth of the tree, the model becomes less complex, and it may be less likely to overfit the training data. This reduction in complexity can improve the generalization performance of the model, as it is less likely to capture the noise in the training data.\n",
    "\n",
    "However, reducing the maximum depth of the tree can also lead to underfitting, where the model is not complex enough to capture the underlying patterns in the data. In this case, the model may perform poorly on both the training set and new data."
   ]
  },
  {
   "cell_type": "markdown",
   "metadata": {},
   "source": [
    "### 4. Explain if its a  good idea to try scaling the input features if a Decision Tree underfits the training set?\n"
   ]
  },
  {
   "cell_type": "markdown",
   "metadata": {},
   "source": [
    "*Ans:*\n",
    "\n",
    "Scaling the input features may not be a good idea if a Decision Tree underfits the training set. Decision Trees are generally insensitive to the scale of the features because they split the data based on values of individual features rather than their magnitudes. Therefore, scaling the features will not necessarily improve the performance of a Decision Tree.\n",
    "\n",
    "Instead, when a Decision Tree is underfitting the training set, it is more likely due to a lack of complexity in the model. To address this, one approach would be to increase the depth of the tree or to use an ensemble of Decision Trees, such as a Random Forest. Another approach would be to use a different algorithm that is better suited for the particular problem at hand.\n",
    "\n",
    "OR\n",
    "\n",
    "*While scaling the input features may be useful for some machine learning algorithms, it may not be a good idea for Decision Trees if the issue is underfitting. Instead, it is better to focus on adjusting the complexity of the model or trying a different algorithm altogether.*"
   ]
  },
  {
   "cell_type": "markdown",
   "metadata": {},
   "source": [
    "### 5. How much time will it take to train another Decision Tree on a training set of 10 million instances if it takes an hour to train a Decision Tree on a training set with 1 million instances?\n"
   ]
  },
  {
   "cell_type": "markdown",
   "metadata": {},
   "source": [
    "*Ans:*\n",
    "\n",
    "Based on a rough estimate that the training time is proportional to the size of the training set, it is estimated that it would take approximately 10 hours to train a Decision Tree on a training set of 10 million instances, given that it takes 1 hour to train a Decision Tree on a training set of 1 million instances. However, the actual training time can vary depending on several factors, and it may be necessary to use distributed computing or other techniques to reduce the training time."
   ]
  },
  {
   "cell_type": "markdown",
   "metadata": {},
   "source": [
    "### 6. Will setting presort=True speed up training if your training set has 100,000 instances?\n"
   ]
  },
  {
   "cell_type": "markdown",
   "metadata": {},
   "source": [
    "*Ans:*\n",
    "\n",
    "For a training set with 100,000 instances, it is unlikely that setting `presort=True` would significantly speed up the training process, and it may actually slow down the training time. The best option is to test both settings and compare the training time to determine the optimal setting for a particular dataset."
   ]
  },
  {
   "cell_type": "markdown",
   "metadata": {},
   "source": [
    "### 7. Follow these steps to train and fine-tune a Decision Tree for the moons dataset:\n",
    "\n",
    "    a. To build a moons dataset, use make moons(n samples=10000, noise=0.4).\n",
    "\n",
    "    b. Divide the dataset into a training and a test collection with train test split().\n",
    "\n",
    "    c. To find good hyperparameters values for a DecisionTreeClassifier, use grid search with cross-validation (with the GridSearchCV class). Try different values for max leaf nodes.\n",
    "\n",
    "    d. Use these hyperparameters to train the model on the entire training set, and then assess its output on the test set. You can achieve an accuracy of 85 to 87 percent."
   ]
  },
  {
   "cell_type": "code",
   "execution_count": 1,
   "metadata": {},
   "outputs": [
    {
     "name": "stdout",
     "output_type": "stream",
     "text": [
      "Best hyperparameters:  {'max_leaf_nodes': 10}\n",
      "Accuracy on test set: 86.30%\n"
     ]
    }
   ],
   "source": [
    "from sklearn.datasets import make_moons\n",
    "from sklearn.model_selection import train_test_split, GridSearchCV\n",
    "from sklearn.tree import DecisionTreeClassifier\n",
    "\n",
    "# Step a: Generate the moons dataset\n",
    "X, y = make_moons(n_samples=10000, noise=0.4, random_state=42)\n",
    "\n",
    "# Step b: Split the dataset into training and test sets\n",
    "X_train, X_test, y_train, y_test = train_test_split(X, y, test_size=0.2, random_state=42)\n",
    "\n",
    "# Step c: Use GridSearchCV to find the best hyperparameters\n",
    "param_grid = {'max_leaf_nodes': [None, 10, 100, 500]}\n",
    "dtc = DecisionTreeClassifier(random_state=42)\n",
    "grid_search = GridSearchCV(dtc, param_grid, cv=5, scoring='accuracy')\n",
    "grid_search.fit(X_train, y_train)\n",
    "print(\"Best hyperparameters: \", grid_search.best_params_)\n",
    "\n",
    "# Step d: Train the model on the entire training set using the best hyperparameters\n",
    "best_dtc = grid_search.best_estimator_\n",
    "best_dtc.fit(X_train, y_train)\n",
    "\n",
    "# Evaluate the model on the test set\n",
    "accuracy = best_dtc.score(X_test, y_test)\n",
    "print(\"Accuracy on test set: {:.2f}%\".format(accuracy * 100))\n"
   ]
  },
  {
   "cell_type": "markdown",
   "metadata": {},
   "source": [
    "### 8. Follow these steps to grow a forest:\n",
    "\n",
    "         a. Using the same method as before, create 1,000 subsets of the training set, each containing 100 instances chosen at random. You can do this with Scikit-ShuffleSplit Learn's class.\n",
    "\n",
    "          b. Using the best hyperparameter values found in the previous exercise, train one Decision Tree on each subset. On the test collection, evaluate these 1,000 Decision Trees. These Decision Trees would likely perform worse than the first Decision Tree, achieving only around 80% accuracy, since they were trained on smaller sets.\n",
    "\n",
    "         c. Now the magic begins. Create 1,000 Decision Tree predictions for each test set case, and keep only the most common prediction (you can do this with SciPy's mode() function). Over the test collection, this method gives you majority-vote predictions.\n",
    "\n",
    "         d. On the test range, evaluate these predictions: you should achieve a slightly higher accuracy than the first model (approx 0.5 to 1.5 percent higher). You've successfully learned a Random Forest classifier!\n"
   ]
  },
  {
   "cell_type": "code",
   "execution_count": null,
   "metadata": {},
   "outputs": [],
   "source": []
  }
 ],
 "metadata": {
  "kernelspec": {
   "display_name": "Python 3",
   "language": "python",
   "name": "python3"
  },
  "language_info": {
   "codemirror_mode": {
    "name": "ipython",
    "version": 3
   },
   "file_extension": ".py",
   "mimetype": "text/x-python",
   "name": "python",
   "nbconvert_exporter": "python",
   "pygments_lexer": "ipython3",
   "version": "3.8.5"
  },
  "toc": {
   "base_numbering": 1,
   "nav_menu": {},
   "number_sections": true,
   "sideBar": true,
   "skip_h1_title": false,
   "title_cell": "Table of Contents",
   "title_sidebar": "Contents",
   "toc_cell": false,
   "toc_position": {},
   "toc_section_display": true,
   "toc_window_display": false
  }
 },
 "nbformat": 4,
 "nbformat_minor": 4
}
