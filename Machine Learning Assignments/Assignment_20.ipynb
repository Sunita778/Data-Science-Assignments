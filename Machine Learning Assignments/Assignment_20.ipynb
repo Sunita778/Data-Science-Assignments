{
 "cells": [
  {
   "cell_type": "markdown",
   "id": "d3a2185b",
   "metadata": {},
   "source": [
    "# Assignment_20\n",
    "Submitted by - Sunita Pradhan\n",
    "\n",
    "-----------------------------------------------------------"
   ]
  },
  {
   "cell_type": "markdown",
   "id": "9d26aac7",
   "metadata": {},
   "source": [
    "### 1. What is the underlying concept of Support Vector Machines ?"
   ]
  },
  {
   "cell_type": "markdown",
   "id": "55e459bd",
   "metadata": {},
   "source": [
    "##### Ans: \n",
    "The underlying concept of Support Vector Machines (SVMs) is to find the optimal hyperplane that maximizes the margin between two or more classes of data. By using a technique known as the kernel trick, SVMs are able to project data into higher-dimensional space to find a separating hyperplane that maximizes the margin between two classes of data. SVMs are powerful tools for classification, regression, outlier detection, and other machine learning tasks."
   ]
  },
  {
   "cell_type": "markdown",
   "id": "fd6dcbc2",
   "metadata": {},
   "source": [
    "### 2. What is the concept of a support vector ?"
   ]
  },
  {
   "cell_type": "markdown",
   "id": "c8c10394",
   "metadata": {},
   "source": [
    "##### Ans:\n",
    "A support vector is a vector in a vector space that, when added to the data set, can help optimize the performance of a supervised learning algorithm. Support vectors are used in machine learning algorithms such as support vector machines (SVMs) and support vector regression (SVR). The concept of a support vector is to find a hyperplane that best divides a dataset into classes. This hyperplane is known as the decision boundary, and the support vectors are the data points that are closest to it."
   ]
  },
  {
   "cell_type": "markdown",
   "id": "7dc65ae7",
   "metadata": {},
   "source": [
    "### 3. When using SVMs, why is it necessary to scale the inputs ?"
   ]
  },
  {
   "cell_type": "markdown",
   "id": "039af375",
   "metadata": {},
   "source": [
    "##### Ans: \n",
    "Scaling the inputs is necessary when using SVMs because the algorithm is sensitive to the relative size of the inputs. Without scaling, features with large values will dominate the optimization process and the model will not be able to accurately capture the underlying relationship between the features and the target. Scaling the inputs ensures that all features are given the same weight in the optimization process, allowing the model to capture more subtle patterns."
   ]
  },
  {
   "cell_type": "markdown",
   "id": "ad1f5027",
   "metadata": {},
   "source": [
    "### 4. When an SVM classifier classifies a case, can it output a confidence score? What about a percentage chance ?"
   ]
  },
  {
   "cell_type": "markdown",
   "id": "db748708",
   "metadata": {},
   "source": [
    "##### Ans: \n",
    "Yes, an SVM classifier can output a confidence score. However, it cannot output a percentage chance as this type of information is not provided by the model."
   ]
  },
  {
   "cell_type": "markdown",
   "id": "04f3c9e2",
   "metadata": {},
   "source": [
    "### 5. Should you train a model on a training set with millions of instances and hundreds of features using the primal or dual form of the SVM problem ?"
   ]
  },
  {
   "cell_type": "markdown",
   "id": "8a770e36",
   "metadata": {},
   "source": [
    "##### Ans:\n",
    "It depends on the complexity of the data set and the size of the training set. Generally, the dual form of the SVM problem is more efficient and can handle datasets with a large number of features and large number of instances better than the primal form. However, if the data set is too large or too complex, it might be better to use the primal form."
   ]
  },
  {
   "cell_type": "markdown",
   "id": "e2971c7d",
   "metadata": {},
   "source": [
    "### 6. Let's say you've used an RBF kernel to train an SVM classifier, but it appears to underfit the training collection. Is it better to raise or lower (gamma)? What about the letter C ?"
   ]
  },
  {
   "cell_type": "markdown",
   "id": "74d6cbf7",
   "metadata": {},
   "source": [
    "##### Ans: \n",
    "It is better to raise gamma and lower C. Increasing gamma will make the decision boundary more complex, allowing for more complex patterns to be learned by the SVM classifier. Reducing C will increase the regularization strength, which can help to prevent overfitting."
   ]
  },
  {
   "cell_type": "markdown",
   "id": "165bc49f",
   "metadata": {},
   "source": [
    "### 7. To solve the soft margin linear SVM classifier problem with an off-the-shelf QP solver, how should the QP parameters (H, f, A, and b) be set ?"
   ]
  },
  {
   "cell_type": "markdown",
   "id": "dc4b1c72",
   "metadata": {},
   "source": [
    "##### Ans: \n",
    "The QP parameters (H, f, A, and b) should be set as follows:\n",
    "\n",
    "H: The Hessian matrix - a square matrix of size nxn, where n is the number of features. The entries of H are the inner products of the feature vectors for each training example.\n",
    "\n",
    "f: A vector of size n (the number of features) with the coefficients of the linear objective function.\n",
    "\n",
    "A: A matrix of size n x m (where m is the number of constraints) with the coefficients of the linear constraints.\n",
    "\n",
    "b: A vector of size m (the number of constraints) with the right-hand side of the linear constraints."
   ]
  },
  {
   "cell_type": "markdown",
   "id": "bec42ba0",
   "metadata": {},
   "source": [
    "### 8. On a linearly separable dataset, train a LinearSVC. Then, using the same dataset, train an SVC and an SGDClassifier. See if you can get them to make a model that is similar to yours ?"
   ]
  },
  {
   "cell_type": "markdown",
   "id": "608c33de",
   "metadata": {},
   "source": [
    "##### Ans: \n",
    "Yes, it is possible to get the SVC and SGDClassifier to make a model that is similar to the LinearSVC. To do this, you will need to adjust the hyperparameters of each model, such as the regularization parameter C, the kernel type, and the margin width. You can also adjust other parameters such as the learning rate and the number of iterations. Once all of these parameters are tuned correctly, the models should produce similar results."
   ]
  },
  {
   "cell_type": "markdown",
   "id": "4185e85a",
   "metadata": {},
   "source": [
    "###  9. On the MNIST dataset, train an SVM classifier. You'll need to use one-versus-the-rest to assign all 10 digits because SVM classifiers are binary classifiers. To accelerate up the process, you might want to tune the hyperparameters using small validation sets. What level of precision can you achieve ?"
   ]
  },
  {
   "cell_type": "markdown",
   "id": "08f598b2",
   "metadata": {},
   "source": [
    "##### Ans: \n",
    "The level of precision you can achieve with an SVM classifier on the MNIST dataset will depend on the hyperparameters you use. Generally, SVM classifiers can achieve high levels of accuracy on the MNIST dataset; in some cases, up to 99.7% accuracy has been reported. Tuning the hyperparameters for the SVM classifier can help you achieve even better accuracy."
   ]
  },
  {
   "cell_type": "markdown",
   "id": "2b8ddb9f",
   "metadata": {},
   "source": [
    "### 10. On the California housing dataset, train an SVM regressor ?"
   ]
  },
  {
   "cell_type": "code",
   "execution_count": 1,
   "id": "b9ab00da",
   "metadata": {},
   "outputs": [],
   "source": [
    "from sklearn.datasets import fetch_california_housing"
   ]
  },
  {
   "cell_type": "code",
   "execution_count": 2,
   "id": "19a72277",
   "metadata": {},
   "outputs": [],
   "source": [
    "housing = fetch_california_housing()\n",
    "X = housing.data\n",
    "y = housing.target"
   ]
  },
  {
   "cell_type": "code",
   "execution_count": 3,
   "id": "e72c33bb",
   "metadata": {},
   "outputs": [],
   "source": [
    "from sklearn.model_selection import train_test_split"
   ]
  },
  {
   "cell_type": "code",
   "execution_count": 4,
   "id": "4faff2d0",
   "metadata": {},
   "outputs": [],
   "source": [
    "X_train, X_test, y_train, y_test = train_test_split(X, y, test_size=0.2, random_state=42)"
   ]
  },
  {
   "cell_type": "code",
   "execution_count": 5,
   "id": "9cce3692",
   "metadata": {},
   "outputs": [],
   "source": [
    "from sklearn.preprocessing import StandardScaler"
   ]
  },
  {
   "cell_type": "code",
   "execution_count": 6,
   "id": "c50ab57f",
   "metadata": {},
   "outputs": [],
   "source": [
    "scaler = StandardScaler()\n",
    "X_train_scaled = scaler.fit_transform(X_train)\n",
    "X_test_scaled = scaler.transform(X_test)"
   ]
  },
  {
   "cell_type": "code",
   "execution_count": 7,
   "id": "e092458c",
   "metadata": {},
   "outputs": [],
   "source": [
    "from sklearn.svm import SVR"
   ]
  },
  {
   "cell_type": "code",
   "execution_count": 8,
   "id": "706311d8",
   "metadata": {},
   "outputs": [
    {
     "data": {
      "text/html": [
       "<style>#sk-container-id-1 {color: black;background-color: white;}#sk-container-id-1 pre{padding: 0;}#sk-container-id-1 div.sk-toggleable {background-color: white;}#sk-container-id-1 label.sk-toggleable__label {cursor: pointer;display: block;width: 100%;margin-bottom: 0;padding: 0.3em;box-sizing: border-box;text-align: center;}#sk-container-id-1 label.sk-toggleable__label-arrow:before {content: \"▸\";float: left;margin-right: 0.25em;color: #696969;}#sk-container-id-1 label.sk-toggleable__label-arrow:hover:before {color: black;}#sk-container-id-1 div.sk-estimator:hover label.sk-toggleable__label-arrow:before {color: black;}#sk-container-id-1 div.sk-toggleable__content {max-height: 0;max-width: 0;overflow: hidden;text-align: left;background-color: #f0f8ff;}#sk-container-id-1 div.sk-toggleable__content pre {margin: 0.2em;color: black;border-radius: 0.25em;background-color: #f0f8ff;}#sk-container-id-1 input.sk-toggleable__control:checked~div.sk-toggleable__content {max-height: 200px;max-width: 100%;overflow: auto;}#sk-container-id-1 input.sk-toggleable__control:checked~label.sk-toggleable__label-arrow:before {content: \"▾\";}#sk-container-id-1 div.sk-estimator input.sk-toggleable__control:checked~label.sk-toggleable__label {background-color: #d4ebff;}#sk-container-id-1 div.sk-label input.sk-toggleable__control:checked~label.sk-toggleable__label {background-color: #d4ebff;}#sk-container-id-1 input.sk-hidden--visually {border: 0;clip: rect(1px 1px 1px 1px);clip: rect(1px, 1px, 1px, 1px);height: 1px;margin: -1px;overflow: hidden;padding: 0;position: absolute;width: 1px;}#sk-container-id-1 div.sk-estimator {font-family: monospace;background-color: #f0f8ff;border: 1px dotted black;border-radius: 0.25em;box-sizing: border-box;margin-bottom: 0.5em;}#sk-container-id-1 div.sk-estimator:hover {background-color: #d4ebff;}#sk-container-id-1 div.sk-parallel-item::after {content: \"\";width: 100%;border-bottom: 1px solid gray;flex-grow: 1;}#sk-container-id-1 div.sk-label:hover label.sk-toggleable__label {background-color: #d4ebff;}#sk-container-id-1 div.sk-serial::before {content: \"\";position: absolute;border-left: 1px solid gray;box-sizing: border-box;top: 0;bottom: 0;left: 50%;z-index: 0;}#sk-container-id-1 div.sk-serial {display: flex;flex-direction: column;align-items: center;background-color: white;padding-right: 0.2em;padding-left: 0.2em;position: relative;}#sk-container-id-1 div.sk-item {position: relative;z-index: 1;}#sk-container-id-1 div.sk-parallel {display: flex;align-items: stretch;justify-content: center;background-color: white;position: relative;}#sk-container-id-1 div.sk-item::before, #sk-container-id-1 div.sk-parallel-item::before {content: \"\";position: absolute;border-left: 1px solid gray;box-sizing: border-box;top: 0;bottom: 0;left: 50%;z-index: -1;}#sk-container-id-1 div.sk-parallel-item {display: flex;flex-direction: column;z-index: 1;position: relative;background-color: white;}#sk-container-id-1 div.sk-parallel-item:first-child::after {align-self: flex-end;width: 50%;}#sk-container-id-1 div.sk-parallel-item:last-child::after {align-self: flex-start;width: 50%;}#sk-container-id-1 div.sk-parallel-item:only-child::after {width: 0;}#sk-container-id-1 div.sk-dashed-wrapped {border: 1px dashed gray;margin: 0 0.4em 0.5em 0.4em;box-sizing: border-box;padding-bottom: 0.4em;background-color: white;}#sk-container-id-1 div.sk-label label {font-family: monospace;font-weight: bold;display: inline-block;line-height: 1.2em;}#sk-container-id-1 div.sk-label-container {text-align: center;}#sk-container-id-1 div.sk-container {/* jupyter's `normalize.less` sets `[hidden] { display: none; }` but bootstrap.min.css set `[hidden] { display: none !important; }` so we also need the `!important` here to be able to override the default hidden behavior on the sphinx rendered scikit-learn.org. See: https://github.com/scikit-learn/scikit-learn/issues/21755 */display: inline-block !important;position: relative;}#sk-container-id-1 div.sk-text-repr-fallback {display: none;}</style><div id=\"sk-container-id-1\" class=\"sk-top-container\"><div class=\"sk-text-repr-fallback\"><pre>SVR(kernel=&#x27;linear&#x27;)</pre><b>In a Jupyter environment, please rerun this cell to show the HTML representation or trust the notebook. <br />On GitHub, the HTML representation is unable to render, please try loading this page with nbviewer.org.</b></div><div class=\"sk-container\" hidden><div class=\"sk-item\"><div class=\"sk-estimator sk-toggleable\"><input class=\"sk-toggleable__control sk-hidden--visually\" id=\"sk-estimator-id-1\" type=\"checkbox\" checked><label for=\"sk-estimator-id-1\" class=\"sk-toggleable__label sk-toggleable__label-arrow\">SVR</label><div class=\"sk-toggleable__content\"><pre>SVR(kernel=&#x27;linear&#x27;)</pre></div></div></div></div></div>"
      ],
      "text/plain": [
       "SVR(kernel='linear')"
      ]
     },
     "execution_count": 8,
     "metadata": {},
     "output_type": "execute_result"
    }
   ],
   "source": [
    "svm_reg = SVR(kernel=\"linear\")\n",
    "svm_reg.fit(X_train_scaled, y_train)"
   ]
  },
  {
   "cell_type": "code",
   "execution_count": 9,
   "id": "a465a6d4",
   "metadata": {},
   "outputs": [],
   "source": [
    "from sklearn.metrics import mean_squared_error"
   ]
  },
  {
   "cell_type": "code",
   "execution_count": 10,
   "id": "1028f318",
   "metadata": {},
   "outputs": [
    {
     "name": "stdout",
     "output_type": "stream",
     "text": [
      "MSE: 0.5792224848666966\n"
     ]
    }
   ],
   "source": [
    "y_pred = svm_reg.predict(X_test_scaled)\n",
    "mse = mean_squared_error(y_test, y_pred)\n",
    "print(\"MSE:\", mse)"
   ]
  }
 ],
 "metadata": {
  "kernelspec": {
   "display_name": "Python 3 (ipykernel)",
   "language": "python",
   "name": "python3"
  },
  "language_info": {
   "codemirror_mode": {
    "name": "ipython",
    "version": 3
   },
   "file_extension": ".py",
   "mimetype": "text/x-python",
   "name": "python",
   "nbconvert_exporter": "python",
   "pygments_lexer": "ipython3",
   "version": "3.8.5"
  },
  "toc": {
   "base_numbering": 1,
   "nav_menu": {},
   "number_sections": true,
   "sideBar": true,
   "skip_h1_title": false,
   "title_cell": "Table of Contents",
   "title_sidebar": "Contents",
   "toc_cell": false,
   "toc_position": {},
   "toc_section_display": true,
   "toc_window_display": false
  }
 },
 "nbformat": 4,
 "nbformat_minor": 5
}
