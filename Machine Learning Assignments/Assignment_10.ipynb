{
 "cells": [
  {
   "cell_type": "markdown",
   "metadata": {},
   "source": [
    "# Assignment_10\n",
    "Submitted by - Sunita Pradhan\n",
    "\n",
    "-----------------------------------------------------------"
   ]
  },
  {
   "cell_type": "markdown",
   "metadata": {},
   "source": [
    "### 1.\tDefine the Bayesian interpretation of probability.\n"
   ]
  },
  {
   "cell_type": "markdown",
   "metadata": {},
   "source": [
    "Ans:\n",
    "\n",
    "The Bayesian interpretation of probability views probability as a measure of belief or uncertainty rather than a measure of long-term frequencies. It considers probability as a subjective assessment based on available evidence and prior knowledge.\n",
    "\n",
    "In this interpretation, probabilities are assigned to propositions or hypotheses based on an individual's beliefs. These probabilities can be updated as new evidence is obtained using Bayes' theorem, which mathematically describes how prior beliefs are combined with new information to form updated beliefs.\n",
    "\n",
    "The Bayesian approach recognizes that people can have different degrees of belief and allows for the incorporation of prior knowledge or assumptions. It provides a framework for reasoning under uncertainty and making probabilistic predictions or decisions based on the available evidence."
   ]
  },
  {
   "cell_type": "markdown",
   "metadata": {},
   "source": [
    "### 2.\tDefine probability of a union of two events with equation.\n"
   ]
  },
  {
   "cell_type": "markdown",
   "metadata": {},
   "source": [
    "Ans:\n",
    "\n",
    "The probability of the union of two events A and B, denoted as P(A ∪ B), can be calculated using the following equation:\n",
    "\n",
    "P(A ∪ B) = P(A) + P(B) - P(A ∩ B)\n",
    "\n",
    "In this equation, P(A) represents the probability of event A occurring, P(B) represents the probability of event B occurring, and P(A ∩ B) represents the probability of both events A and B occurring simultaneously.\n",
    "\n",
    "The equation takes into account the probabilities of each event individually (P(A) and P(B)) and subtracts the probability of their intersection (P(A ∩ B) to avoid double counting.\n",
    "\n",
    "By subtracting the probability of the intersection, the equation accounts for the fact that when both events A and B occur, their intersection is counted twice when considering the individual probabilities. Hence, subtracting P(A ∩ B) ensures that the correct probability of the union of events A and B is calculated."
   ]
  },
  {
   "cell_type": "markdown",
   "metadata": {},
   "source": [
    "### 3.\tWhat is joint probability? What is its formula?\n"
   ]
  },
  {
   "cell_type": "markdown",
   "metadata": {},
   "source": [
    "Ans:\n",
    "\n",
    "Joint probability refers to the probability of two or more events occurring simultaneously. It measures the likelihood of the intersection of multiple events. The joint probability of events A and B is denoted as P(A and B) or P(A ∩ B).\n",
    "The formula for joint probability depends on whether the events are independent or dependent. For independent events, the joint probability is calculated as the product of their individual probabilities:\n",
    "\n",
    "P(A and B) = P(A) * P(B)\n",
    "\n",
    "For dependent events, the joint probability is calculated by considering the conditional probability of one event given the occurrence of the other event:\n",
    "\n",
    "P(A and B) = P(A|B) * P(B)"
   ]
  },
  {
   "cell_type": "markdown",
   "metadata": {},
   "source": [
    "### 4.\tWhat is chain rule of probability?\n"
   ]
  },
  {
   "cell_type": "markdown",
   "metadata": {},
   "source": [
    "Ans:\n",
    "\n",
    "The chain rule of probability, also known as the multiplication rule, allows us to express the joint probability of multiple events as a product of conditional probabilities. It can be stated as follows:\n",
    "P(A₁, A₂, ..., Aₙ) = P(A₁) * P(A₂|A₁) * P(A₃|A₁, A₂) * ... * P(Aₙ|A₁, A₂, ..., Aₙ₋₁)\n",
    "\n",
    "This rule enables us to break down the joint probability of multiple events into a series of conditional probabilities, where each subsequent probability is conditioned on the occurrence of all previous events."
   ]
  },
  {
   "cell_type": "markdown",
   "metadata": {},
   "source": [
    "### 5.\tWhat is conditional probability means? What is the formula of it?\n"
   ]
  },
  {
   "cell_type": "markdown",
   "metadata": {},
   "source": [
    "Ans:\n",
    "\n",
    "Conditional probability measures the probability of an event occurring given that another event has already occurred. It quantifies the probability of an event under certain conditions or constraints. The conditional probability of event A given event B is denoted as P(A|B).\n",
    "The formula for conditional probability is derived from the concept of joint probability:\n",
    "\n",
    "P(A|B) = P(A and B) / P(B)\n",
    "\n",
    "It represents the ratio of the joint probability of events A and B to the probability of event B. The denominator, P(B), serves as a normalization factor to ensure that the conditional probability is within the valid probability range.\n",
    "\n",
    "Example: If we want to calculate the probability of drawing a red card (event A) from a deck of cards given that the card drawn is a heart (event B), we would use the formula:\n",
    "\n",
    "P(Red card|Heart) = P(Red card and Heart) / P(Heart)"
   ]
  },
  {
   "cell_type": "markdown",
   "metadata": {},
   "source": [
    "### 6.\tWhat are continuous random variables?\n"
   ]
  },
  {
   "cell_type": "markdown",
   "metadata": {},
   "source": [
    "Ans:\n",
    "\n",
    "Continuous random variables are variables that can take any value within a continuous range. They are characterized by an infinite number of possible outcomes, typically associated with measurements or quantities that can be expressed as real numbers. Examples of continuous random variables include height, weight, temperature, and time.\n",
    "\n",
    "Unlike discrete random variables that can only assume specific values, continuous random variables have probability distributions described by probability density functions (PDFs). The probability of a continuous random variable taking on a specific value is zero, and probability is instead associated with intervals or ranges."
   ]
  },
  {
   "cell_type": "markdown",
   "metadata": {},
   "source": [
    "### 7.\tWhat are Bernoulli distributions? What is the formula of it?\n"
   ]
  },
  {
   "cell_type": "markdown",
   "metadata": {},
   "source": [
    "Ans:\n",
    "\n",
    "The Bernoulli distribution models a random experiment with two possible outcomes, often referred to as success and failure. It is used to represent a single trial or observation with a binary outcome. The probability of success is denoted as p, and the probability of failure is (1-p).\n",
    "The probability mass function (PMF) of the Bernoulli distribution is given by:\n",
    "\n",
    "P(X=k) = p^k * (1-p)^(1-k)\n",
    "\n",
    "where X is the random variable representing the outcome, and k can be either 0 or 1.\n",
    "\n",
    "Example: Flipping a coin, where heads is considered a success (k=1) and tails is considered a failure (k=0), follows a Bernoulli distribution with p = 0.5."
   ]
  },
  {
   "cell_type": "markdown",
   "metadata": {},
   "source": [
    "### 8.\tWhat is binomial distribution? What is the formula?\n"
   ]
  },
  {
   "cell_type": "markdown",
   "metadata": {},
   "source": [
    "Ans:\n",
    "\n",
    " The binomial distribution is a discrete probability distribution that models the number of successes in a fixed number of independent Bernoulli trials. It describes the probability of obtaining a specific number of successes (k) in a given number of trials (n), where each trial has a constant probability of success (p).\n",
    "The probability mass function (PMF) of the binomial distribution is given by:\n",
    "\n",
    "P(X=k) = (n choose k) * p^k * (1-p)^(n-k)\n",
    "\n",
    "where X is the random variable representing the number of successes, n is the number of trials, p is the probability of success in each trial, and (n choose k) denotes the binomial coefficient.\n",
    "\n",
    "Example: Tossing a fair coin 10 times and counting the number of heads (successes) follows a binomial distribution with n=10 and p=0.5.\n",
    "\n",
    "These are some of the foundational concepts in probability and statistics that help understand the behavior of random variables and the relationships between events and outcomes."
   ]
  },
  {
   "cell_type": "markdown",
   "metadata": {},
   "source": [
    "### 9.\tWhat is Poisson distribution? What is the formula?\n"
   ]
  },
  {
   "cell_type": "markdown",
   "metadata": {},
   "source": [
    "Ans:\n",
    "\n",
    "The Poisson distribution is a discrete probability distribution that models the number of events that occur within a fixed interval of time or space. It is often used to describe rare events that occur randomly and independently at a constant average rate over time or space.\n",
    "\n",
    "The probability mass function (PMF) of the Poisson distribution is given by the formula:\n",
    "\n",
    "P(X = k) = (e^(-λ) * λ^k) / k!\n",
    "\n",
    "where X is the random variable representing the number of events, k is the number of events (non-negative integer), λ (lambda) is the average rate of events occurring per interval, e is the base of the natural logarithm (approximately 2.71828), and k! denotes the factorial of k.\n",
    "\n",
    "The parameter λ represents both the average number of events in the interval and the variance of the distribution. It determines the shape and characteristics of the Poisson distribution.\n",
    "\n",
    "The Poisson distribution is often used in various fields, including queuing theory, reliability analysis, telecommunications, and insurance, to model events such as the number of customer arrivals, the number of accidents in a given period, or the number of phone calls received per hour."
   ]
  },
  {
   "cell_type": "markdown",
   "metadata": {},
   "source": [
    "### 10.\tDefine covariance.\n"
   ]
  },
  {
   "cell_type": "markdown",
   "metadata": {},
   "source": [
    "Ans:\n",
    "\n",
    "Covariance is a measure of the linear relationship between two random variables. It quantifies how changes in one variable correspond to changes in another variable. The formula for covariance between two random variables X and Y is:\n",
    "cov(X, Y) = E[(X - E[X]) * (Y - E[Y])]\n",
    "\n",
    "where E[X] and E[Y] are the expected values (means) of X and Y, respectively. A positive covariance indicates a direct relationship (both variables tend to increase or decrease together), while a negative covariance indicates an inverse relationship (one variable increases as the other decreases). However, the magnitude of covariance alone does not provide a standardized measure of the strength of the relationship."
   ]
  },
  {
   "cell_type": "markdown",
   "metadata": {},
   "source": [
    "### 11.\tDefine correlation\n"
   ]
  },
  {
   "cell_type": "markdown",
   "metadata": {},
   "source": [
    "Ans:\n",
    "\n",
    "Correlation measures the strength and direction of the linear relationship between two random variables. It is a standardized measure that ranges from -1 to 1, indicating the extent to which the variables are linearly related. The correlation coefficient is denoted by the symbol \"ρ\" (rho). The formula for correlation coefficient between X and Y is:\n",
    "ρ(X, Y) = cov(X, Y) / (σX * σY)\n",
    "\n",
    "where cov(X, Y) is the covariance between X and Y, and σX and σY are the standard deviations of X and Y, respectively. A correlation coefficient of +1 indicates a perfect positive linear relationship, -1 indicates a perfect negative linear relationship, and 0 indicates no linear relationship."
   ]
  },
  {
   "cell_type": "markdown",
   "metadata": {},
   "source": [
    "### 12.\tDefine sampling with replacement. Give example.\n"
   ]
  },
  {
   "cell_type": "markdown",
   "metadata": {},
   "source": [
    "Ans:\n",
    "\n",
    "Sampling with replacement is a method of selecting individuals or items from a population, where each selection is independent and does not affect subsequent selections. When an item is selected, it is returned to the population before the next selection is made. This means that the same item can be selected more than once in the sample.\n",
    "\n",
    "Example: Drawing a card from a deck, replacing it, and then drawing another card from the same deck."
   ]
  },
  {
   "cell_type": "markdown",
   "metadata": {},
   "source": [
    "### 13.\tWhat is sampling without replacement? Give example.\n"
   ]
  },
  {
   "cell_type": "markdown",
   "metadata": {},
   "source": [
    "Ans:\n",
    "\n",
    "Sampling without replacement is a method of selecting individuals or items from a population, where each selection affects subsequent selections. When an item is selected, it is not returned to the population, reducing the available choices for subsequent selections.\n",
    "\n",
    "Example: Drawing a card from a deck, not replacing it, and then drawing another card from the remaining deck."
   ]
  },
  {
   "cell_type": "markdown",
   "metadata": {},
   "source": [
    "### 14.\tWhat is hypothesis? Give example.\n"
   ]
  },
  {
   "cell_type": "markdown",
   "metadata": {},
   "source": [
    "Ans:\n",
    "\n",
    "In statistics, a hypothesis is a statement or assumption about a population or a phenomenon that is subject to investigation or testing. It is used to make claims or assertions that can be evaluated based on empirical evidence. Hypotheses are typically formulated as null hypotheses (H₀) and alternative hypotheses (H₁), representing different explanations or expectations about the data.\n",
    "\n",
    "Example: Hypothesis testing can be used to evaluate whether a new drug treatment is more effective than an existing treatment. The null hypothesis (H₀) would state that there is no difference in effectiveness, while the alternative hypothesis (H₁) would assert that the new treatment is indeed more effective. Statistical tests can then be conducted to gather evidence and make conclusions about the hypotheses."
   ]
  }
 ],
 "metadata": {
  "kernelspec": {
   "display_name": "Python 3 (ipykernel)",
   "language": "python",
   "name": "python3"
  },
  "language_info": {
   "codemirror_mode": {
    "name": "ipython",
    "version": 3
   },
   "file_extension": ".py",
   "mimetype": "text/x-python",
   "name": "python",
   "nbconvert_exporter": "python",
   "pygments_lexer": "ipython3",
   "version": "3.8.5"
  },
  "toc": {
   "base_numbering": 1,
   "nav_menu": {},
   "number_sections": true,
   "sideBar": true,
   "skip_h1_title": false,
   "title_cell": "Table of Contents",
   "title_sidebar": "Contents",
   "toc_cell": false,
   "toc_position": {},
   "toc_section_display": true,
   "toc_window_display": false
  }
 },
 "nbformat": 4,
 "nbformat_minor": 4
}
