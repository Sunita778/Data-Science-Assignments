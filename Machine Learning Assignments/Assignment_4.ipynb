{
 "cells": [
  {
   "cell_type": "markdown",
   "metadata": {},
   "source": [
    "# Assignment_4\n",
    "Submitted by - Sunita Pradhan\n",
    "\n",
    "-----------------------------------------------------------"
   ]
  },
  {
   "cell_type": "markdown",
   "metadata": {},
   "source": [
    "### 1. What are the key tasks involved in getting ready to work with machine learning modeling?"
   ]
  },
  {
   "cell_type": "markdown",
   "metadata": {},
   "source": [
    "*Ans:*\n",
    "\n",
    "`Data collection`: Gather data from various sources that will be used for training and testing machine learning models.\n",
    "\n",
    "`Data preprocessing`: Clean and preprocess data to remove any inconsistencies, missing values, and outliers that may affect the performance of the model.\n",
    "\n",
    "`Feature engineering`: Select or create the relevant features that will be used for training the machine learning model.\n",
    "\n",
    "`Data splitting`: Divide the data into training, validation, and testing sets.\n",
    "\n",
    "`Model selection`: Choose the appropriate machine learning algorithm that best suits the problem at hand.\n",
    "\n",
    "`Model training`: Train the machine learning model using the training data.\n",
    "\n",
    "`Model evaluation`: Evaluate the performance of the machine learning model on the validation set to ensure that it is generalizing well.\n",
    "\n",
    "`Hyperparameter tuning`: Fine-tune the model by adjusting the hyperparameters to optimize its performance.\n",
    "\n",
    "`Testing`: Finally, evaluate the performance of the model on the testing set to ensure that it generalizes well to unseen data."
   ]
  },
  {
   "cell_type": "markdown",
   "metadata": {},
   "source": [
    "### 2. What are the different forms of data used in machine learning? Give a specific example for each of them.\n"
   ]
  },
  {
   "cell_type": "markdown",
   "metadata": {},
   "source": [
    "*Ans:*\n",
    "\n",
    "There are three main types of data used in machine learning:\n",
    "\n",
    "- `Numerical data`: This type of data consists of numbers and is commonly used in mathematical models. An example of numerical data is the height and weight of a person.\n",
    "\n",
    "- `Categorical data`: This type of data consists of categories or labels and is used to classify items. An example of categorical data is the color of a car.\n",
    "\n",
    "- `Text data`: This type of data consists of words and sentences and is used for natural language processing applications. An example of text data is a customer review for a product.\n",
    "\n",
    "Examples of each type of data:\n",
    "\n",
    "`Numerical data`: The dataset of the Boston Housing prices, which contains numerical features such as the number of rooms, crime rate, and median value of owner-occupied homes.\n",
    "\n",
    "`Categorical data`: The dataset of the Titanic passengers, which contains categorical features such as the passenger class, sex, and embarked port.\n",
    "\n",
    "`Text data`: The dataset of movie reviews from IMDB, which contains text features such as the review text, rating, and sentiment."
   ]
  },
  {
   "cell_type": "markdown",
   "metadata": {},
   "source": [
    "### 3. Distinguish:\n",
    "\n",
    "           1. Numeric vs. categorical attributes\n",
    "\n",
    "            2. Feature selection vs. dimensionality reduction\n"
   ]
  },
  {
   "cell_type": "markdown",
   "metadata": {},
   "source": [
    "*Ans:*\n",
    "\n",
    "- Numeric vs. categorical attributes:\n",
    "\n",
    "`Numeric attributes` are those that contain numerical values, such as age, height, or weight. `Categorical attributes`, on the other hand, are those that contain values from a predefined set of categories, such as gender, color, or nationality.\n",
    "\n",
    "The main difference between the two is that `numeric attributes` can be used in mathematical operations such as addition, subtraction, multiplication, and division, while `categorical attributes` cannot.\n",
    "\n",
    "- Feature selection vs. dimensionality reduction:\n",
    "\n",
    "`Feature selection` and `dimensionality reduction` are two methods used to reduce the number of features in a dataset.\n",
    "\n",
    "`Feature selection` involves selecting a subset of the original features based on their relevance to the task at hand. This can be done using statistical methods, such as correlation analysis or mutual information, or by using machine learning algorithms that can rank the importance of each feature. The goal of `feature selection` is to improve the accuracy of the model by reducing the noise in the dataset and focusing on the most important features.\n",
    "\n",
    "`Dimensionality reduction`, on the other hand, involves transforming the original features into a lower-dimensional space, while preserving as much of the information as possible. This can be done using techniques such as principal component analysis (PCA) or singular value decomposition (SVD). The goal of `dimensionality reduction` is to reduce the computational complexity of the model and to avoid overfitting by removing redundant or irrelevant features."
   ]
  },
  {
   "cell_type": "markdown",
   "metadata": {},
   "source": [
    "### 4. Make quick notes on any two of the following:\n",
    "\n",
    "            1. The histogram\n",
    "\n",
    "             2. Use a scatter plot\n",
    "\n",
    "              3.PCA (Personal Computer Aid)\n"
   ]
  },
  {
   "cell_type": "markdown",
   "metadata": {},
   "source": [
    "*Ans:*\n",
    "\n",
    "1. The histogram:\n",
    "\n",
    "- A histogram is a graphical representation of the distribution of data.\n",
    "- It is a type of bar chart that represents the distribution of continuous data into different bins or intervals.\n",
    "- It shows the frequency or count of the data points that fall within each bin.\n",
    "- The shape of the histogram can provide insight into the distribution of the data, such as whether it is symmetric or skewed.\n",
    "- Histograms are commonly used in data analysis, statistics, and machine learning to help understand the underlying distribution of data and identify patterns.\n",
    "\n",
    "2. Use a scatter plot:\n",
    "\n",
    "- A scatter plot is a graph that displays the relationship between two continuous variables.\n",
    "- Each point on the plot represents a data point with a value for each of the two variables being plotted.\n",
    "- Scatter plots are useful for identifying patterns or relationships between two variables, such as whether they are positively or negatively correlated.\n",
    "- They can also be used to identify outliers or anomalies in the data.\n",
    "- Scatter plots are commonly used in data analysis, statistics, and machine learning for data exploration, visualization, and model building.\n",
    "\n",
    "3. PCA (Principal Component Analysis):\n",
    "\n",
    "- PCA is a technique for reducing the dimensionality of a large dataset by finding a new set of variables that are a combination of the original variables.\n",
    "- The main goal of PCA is to identify the most important features of the dataset by reducing the dimensionality.\n",
    "- It is commonly used in data visualization, pattern recognition, and image processing."
   ]
  },
  {
   "cell_type": "markdown",
   "metadata": {},
   "source": [
    "### 5. Why is it necessary to investigate data? Is there a discrepancy in how qualitative and quantitative data are explored?\n"
   ]
  },
  {
   "cell_type": "markdown",
   "metadata": {},
   "source": [
    "*Ans:*\n",
    "\n",
    "It is necessary to investigate data because it helps to gain insights into patterns, trends, and relationships that may exist in the data. Through data exploration, we can identify potential issues such as missing or incorrect data, outliers, and other anomalies that may affect the accuracy of the analysis. Additionally, data exploration can help to identify which machine learning models may be suitable for the data and can inform feature engineering and selection.\n",
    "\n",
    "There may be some differences in how qualitative and quantitative data are explored, as they have different characteristics. Qualitative data often involves textual or narrative data, and exploration may involve techniques such as content analysis, coding, and thematic analysis to identify patterns and themes. Quantitative data, on the other hand, often involves numerical data, and exploration may involve techniques such as summary statistics, visualization, and hypothesis testing. However, both types of data require thorough exploration to gain a comprehensive understanding of the data and inform subsequent analysis."
   ]
  },
  {
   "cell_type": "markdown",
   "metadata": {},
   "source": [
    "### 6. What are the various histogram shapes? What exactly are ‘bins'?\n"
   ]
  },
  {
   "cell_type": "markdown",
   "metadata": {},
   "source": [
    "*Ans:*\n",
    "\n",
    "Histogram is a graphical representation of the distribution of continuous data that is divided into intervals, known as \"bins,\" and displays the frequency of observations in each bin. The different shapes of histograms can reveal various patterns in the data.\n",
    "\n",
    "The following are some common histogram shapes:\n",
    "\n",
    "- Normal distribution: A symmetric distribution, where the mean, median, and mode are all equal, and the data cluster around the mean.\n",
    "- Skewed left distribution: A distribution in which the tail is on the left side, and the mean is less than the median.\n",
    "- Skewed right distribution: A distribution in which the tail is on the right side, and the mean is greater than the median.\n",
    "- Bimodal distribution: A distribution with two distinct peaks, indicating the presence of two different groups in the data.\n",
    "- Bins are the intervals or ranges of values used to group the data in a histogram. The width of the bins is usually uniform and is determined by the range of the data and the desired number of bins. The number of bins can impact the shape of the histogram and should be selected carefully to ensure that patterns and trends in the data are visible. If the bins are too wide, important details may be lost, while if they are too narrow, the histogram may become too detailed, and patterns may be harder to discern."
   ]
  },
  {
   "cell_type": "markdown",
   "metadata": {},
   "source": [
    "### 7. How do we deal with data outliers?\n"
   ]
  },
  {
   "cell_type": "markdown",
   "metadata": {},
   "source": [
    "*Ans:*\n",
    "\n",
    "Outliers are data points that differ significantly from other data points in the dataset. Outliers can arise due to measurement errors, data corruption, or genuine extreme values in the data. Handling outliers in machine learning is an essential preprocessing step to improve the accuracy of the model.\n",
    "\n",
    "Here are some ways to deal with outliers:\n",
    "\n",
    "`Remove the outliers`: One of the easiest ways to deal with outliers is to remove them from the dataset. However, this method should be used with caution, as removing too many outliers can lead to loss of information.\n",
    "\n",
    "`Transform the data`: Another approach is to transform the data to make it less sensitive to outliers. For example, you can use a logarithmic transformation to reduce the effect of extreme values.\n",
    "\n",
    "`Use robust statistical methods`: Robust statistical methods are less sensitive to outliers than traditional methods. For example, the median is a robust measure of central tendency that can be used instead of the mean.\n",
    "\n",
    "`Impute the outliers`: Imputation is the process of replacing missing or outlier values with estimated values. For example, you can replace the outlier with the mean, median, or mode of the rest of the data.\n",
    "\n",
    "*Handling outliers is a crucial step in the preprocessing stage of machine learning, and the method used depends on the specific problem and the nature of the outliers.*"
   ]
  },
  {
   "cell_type": "markdown",
   "metadata": {},
   "source": [
    "### 8. What are the various central inclination measures? Why does mean vary too much from median in certain data sets?\n"
   ]
  },
  {
   "cell_type": "markdown",
   "metadata": {},
   "source": [
    "*Ans:*\n",
    "\n",
    "The central tendency measures are statistical indicators that are used to describe where the center of a distribution is located. The most commonly used central tendency measures are the mean, median, and mode.\n",
    "\n",
    "The mean is calculated by adding up all the values in the data set and dividing the total by the number of values. The median is the value that separates the upper and lower halves of a distribution, with an equal number of data points on each side. The mode is the value that appears most frequently in a data set.\n",
    "\n",
    "The mean can vary too much from the median in certain data sets when there are outliers present. Outliers are values that are significantly different from the other values in the data set, and they can pull the mean in their direction. The median is not influenced by outliers in the same way as the mean, which makes it a more robust measure of central tendency in data sets with outliers."
   ]
  },
  {
   "cell_type": "markdown",
   "metadata": {},
   "source": [
    "### 9. Describe how a scatter plot can be used to investigate bivariate relationships. Is it possible to find outliers using a scatter plot?\n"
   ]
  },
  {
   "cell_type": "markdown",
   "metadata": {},
   "source": [
    "*Ans:*\n",
    "\n",
    "A scatter plot is a graphical representation of data points in a two-dimensional coordinate system, with one variable plotted on the horizontal (x) axis and another variable plotted on the vertical (y) axis. It is often used to investigate bivariate relationships between two variables, where the relationship between the variables is not known in advance.\n",
    "\n",
    "To create a scatter plot, we first need to select the two variables that we want to investigate. Then we plot the data points on the coordinate system, with one variable on the x-axis and the other on the y-axis. Each data point is represented by a single point on the scatter plot.\n",
    "\n",
    "Scatter plots can be used to identify patterns and relationships in the data, such as a positive or negative correlation between the variables. It can also help identify potential outliers, which are data points that fall far outside the range of the other data points. Outliers can be identified by looking for data points that are far away from the other points or do not fit the overall pattern of the data.\n",
    "\n",
    "However, it should be noted that scatter plots are not always effective at identifying outliers, especially when the sample size is small. Other statistical techniques may be required to detect and deal with outliers in the data.\n"
   ]
  },
  {
   "cell_type": "markdown",
   "metadata": {},
   "source": [
    "### 10. Describe how cross-tabs can be used to figure out how two variables are related.\n"
   ]
  },
  {
   "cell_type": "markdown",
   "metadata": {},
   "source": [
    "*Ans:*\n",
    "\n",
    "Cross-tabulation, also known as contingency table analysis, is a statistical tool used to analyze the relationship between two categorical variables. It involves creating a table that displays the frequency distribution of each variable based on the values of the other variable.\n",
    "\n",
    "To create a cross-tab, the data is first organized into rows and columns representing the two variables being analyzed. The frequency of each combination of values is then counted and entered into the corresponding cell in the table. The resulting table displays the frequency of each combination of values, as well as the marginal frequencies (total frequencies for each row and column).\n",
    "\n",
    "Cross-tabs are useful for investigating the relationship between two categorical variables, as they can reveal patterns and associations that may not be evident from examining the variables separately. They can also be used to test for independence between the two variables, which is a key assumption in many statistical tests.\n",
    "\n",
    "In a cross-tab, outliers may not be immediately apparent, as they only show the frequency distribution of the two variables being analyzed. However, if the distribution in one or more cells is much larger or smaller than expected, it may be an indication of an outlier or other anomaly in the data. Further investigation or statistical tests may be necessary to confirm the presence of outliers.\n",
    "\n"
   ]
  },
  {
   "cell_type": "code",
   "execution_count": null,
   "metadata": {},
   "outputs": [],
   "source": []
  }
 ],
 "metadata": {
  "kernelspec": {
   "display_name": "Python 3",
   "language": "python",
   "name": "python3"
  },
  "language_info": {
   "codemirror_mode": {
    "name": "ipython",
    "version": 3
   },
   "file_extension": ".py",
   "mimetype": "text/x-python",
   "name": "python",
   "nbconvert_exporter": "python",
   "pygments_lexer": "ipython3",
   "version": "3.8.5"
  },
  "toc": {
   "base_numbering": 1,
   "nav_menu": {},
   "number_sections": true,
   "sideBar": true,
   "skip_h1_title": false,
   "title_cell": "Table of Contents",
   "title_sidebar": "Contents",
   "toc_cell": false,
   "toc_position": {},
   "toc_section_display": true,
   "toc_window_display": false
  }
 },
 "nbformat": 4,
 "nbformat_minor": 4
}
