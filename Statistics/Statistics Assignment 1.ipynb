{
 "cells": [
  {
   "cell_type": "markdown",
   "metadata": {},
   "source": [
    "# Statistics Assignment 1\n",
    "Submitted by - Sunita Pradhan\n",
    "\n",
    "-----------------------------------------------------------"
   ]
  },
  {
   "cell_type": "markdown",
   "metadata": {},
   "source": [
    "### 1. What exactly is the difference between descriptive and inferential statistics?\n"
   ]
  },
  {
   "cell_type": "markdown",
   "metadata": {},
   "source": [
    "Ans:\n",
    "\n",
    "Descriptive statistics and inferential statistics are two branches of statistics that serve different purposes.\n",
    "\n",
    "Descriptive statistics summarize and describe the main features of a set of data, such as the mean, median, mode, and range. The goal of descriptive statistics is to provide a concise and meaningful summary of a dataset that allows you to understand the data and get a general idea of what the data looks like.\n",
    "\n",
    "Inferential statistics, on the other hand, go beyond the data and make inferences about a larger population based on a sample of data. In other words, inferential statistics use the information in a sample to make estimates and predictions about the population. The goal of inferential statistics is to draw conclusions and make decisions about the population based on the sample data.\n",
    "\n",
    "In summary, descriptive statistics summarize and describe a dataset, while inferential statistics make inferences and predictions about a larger population based on a sample of data."
   ]
  },
  {
   "cell_type": "markdown",
   "metadata": {},
   "source": [
    "### 2. I'm not sure what is the difference between a sample and a population?\n"
   ]
  },
  {
   "cell_type": "markdown",
   "metadata": {},
   "source": [
    "Ans:\n",
    "\n",
    "A sample is a portion of a population that is selected for study. A sample is used to make inferences about the population from which it was drawn. In other words, a sample is a subset of a population that represents the larger population.\n",
    "\n",
    "A population is the entire group of individuals, objects, or measurements that you want to study or make inferences about. It can be the entire group of people in a city, the entire set of products manufactured by a company, or the entire list of exam scores of a class.\n",
    "\n",
    "The difference between a sample and a population is important in statistics because the sample is used to make inferences about the population. The sample must be selected in a way that is representative of the population, so that the results of the study are representative of the population as a whole. If the sample is not representative, the inferences made from the sample may not be accurate."
   ]
  },
  {
   "cell_type": "markdown",
   "metadata": {},
   "source": [
    "### 3. What distinguishes descriptive statistics from other types of statistics?\n"
   ]
  },
  {
   "cell_type": "markdown",
   "metadata": {},
   "source": [
    "Ans:\n",
    "\n",
    "Descriptive statistics is a branch of statistics that summarizes and describes the main features of a set of data. It provides a concise and meaningful summary of a dataset, allowing you to understand the data and get a general idea of what the data looks like. Descriptive statistics is distinguished from other types of statistics in several ways:\n",
    "\n",
    "- Purpose: The main purpose of descriptive statistics is to summarize and describe the main features of a dataset, while other types of statistics may have different goals such as making inferences, testing hypotheses, or making predictions.\n",
    "\n",
    "- Approach: Descriptive statistics uses methods such as measures of central tendency (mean, median, mode), measures of variability (range, standard deviation), and frequency distributions to summarize and describe the data. Other types of statistics may use different methods, such as inferential statistics which uses probability theory and statistical models to make inferences about populations based on sample data.\n",
    "\n",
    "- Nature of data: Descriptive statistics is typically used for datasets that have already been collected, while other types of statistics may be used for datasets that have not yet been collected or for the purpose of designing studies.\n",
    "\n",
    "In summary, descriptive statistics is distinguished from other types of statistics by its focus on summarizing and describing the main features of a dataset, its approach using methods such as measures of central tendency and variability, and its typical use for datasets that have already been collected."
   ]
  },
  {
   "cell_type": "markdown",
   "metadata": {},
   "source": [
    "### 4. What is the difference between quantitative and qualitative data?\n"
   ]
  },
  {
   "cell_type": "markdown",
   "metadata": {},
   "source": [
    "Ans:\n",
    "\n",
    "Quantitative data and qualitative data are two types of data that are used in different ways to describe and understand phenomena.\n",
    "\n",
    "Quantitative data is numerical data that can be measured and compared. Examples of quantitative data include height, weight, income, temperature, and time. Quantitative data is often used to answer questions about how much or how many, and it can be analyzed using mathematical and statistical methods.\n",
    "\n",
    "Qualitative data, on the other hand, is non-numerical data that describes qualities or characteristics. Examples of qualitative data include names, opinions, attitudes, beliefs, and emotions. Qualitative data is often used to answer questions about why or how something happened, and it can be analyzed using methods such as observation, interviews, and content analysis.\n",
    "\n",
    "In summary, quantitative data is numerical and focuses on measurement, while qualitative data is non-numerical and focuses on describing qualities and characteristics. Both types of data are important in different ways, and they are often used together to provide a complete understanding of a phenomenon."
   ]
  },
  {
   "cell_type": "markdown",
   "metadata": {},
   "source": [
    "### 5. What is the definition of a percentile?"
   ]
  },
  {
   "cell_type": "markdown",
   "metadata": {},
   "source": [
    "Ans:\n",
    "\n",
    "A percentile is a value that separates a dataset into 100 equal parts. In other words, it represents the value below which a certain percentage of the data falls. For example, the 50th percentile is also known as the median, and it is the value below which half of the data falls.\n",
    "\n",
    "For example, consider a set of exam scores for a class of 100 students. The 90th percentile score would be the score below which 90% of the students scored, and above which 10% of the students scored. In other words, 90% of the students scored below this value, and 10% of the students scored above it. If the 90th percentile score was 80, this would mean that 90 students scored 80 or lower, and 10 students scored higher than 80."
   ]
  },
  {
   "cell_type": "code",
   "execution_count": null,
   "metadata": {},
   "outputs": [],
   "source": []
  }
 ],
 "metadata": {
  "kernelspec": {
   "display_name": "Python 3",
   "language": "python",
   "name": "python3"
  },
  "language_info": {
   "codemirror_mode": {
    "name": "ipython",
    "version": 3
   },
   "file_extension": ".py",
   "mimetype": "text/x-python",
   "name": "python",
   "nbconvert_exporter": "python",
   "pygments_lexer": "ipython3",
   "version": "3.8.5"
  },
  "toc": {
   "base_numbering": 1,
   "nav_menu": {},
   "number_sections": true,
   "sideBar": true,
   "skip_h1_title": false,
   "title_cell": "Table of Contents",
   "title_sidebar": "Contents",
   "toc_cell": false,
   "toc_position": {},
   "toc_section_display": true,
   "toc_window_display": false
  }
 },
 "nbformat": 4,
 "nbformat_minor": 4
}
