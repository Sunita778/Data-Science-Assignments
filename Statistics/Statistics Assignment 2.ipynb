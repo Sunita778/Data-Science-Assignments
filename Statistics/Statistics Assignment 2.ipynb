{
 "cells": [
  {
   "cell_type": "markdown",
   "metadata": {},
   "source": [
    "# Statistics Assignment 2\n",
    "Submitted by - Sunita Pradhan\n",
    "\n",
    "-----------------------------------------------------------"
   ]
  },
  {
   "cell_type": "markdown",
   "metadata": {},
   "source": [
    "### 1. How can we figure out what the interquartile range is?\n"
   ]
  },
  {
   "cell_type": "markdown",
   "metadata": {},
   "source": [
    "Ans:\n",
    "\n",
    "The interquartile range (IQR) is a measure of the variability of a dataset that is based on the difference between the first quartile (Q1) and the third quartile (Q3). The IQR provides a more robust measure of variability than the range because it only considers the middle 50% of the data, while the range considers all of the data.\n",
    "\n",
    "Steps for find the interquartile range (IQR) :\n",
    "\n",
    "- Arrange the data in order from smallest to largest.\n",
    "\n",
    "- Find the first quartile (Q1), which is the 25th percentile of the data. This is the value below which 25% of the data falls.\n",
    "\n",
    "- Find the third quartile (Q3), which is the 75th percentile of the data. This is the value below which 75% of the data falls.\n",
    "\n",
    "- Calculate the IQR by subtracting Q1 from Q3: IQR = Q3 - Q1.\n",
    "\n",
    "The IQR provides a measure of the variability of the middle 50% of the data, and it can be used to identify outliers in a dataset. Outliers are values that fall outside of the range defined by Q1 - 1.5 x IQR and Q3 + 1.5 x IQR.\n",
    "\n",
    "In summary, to find the interquartile range (IQR), you need to arrange the data in order, find the first and third quartiles (Q1 and Q3), and then subtract Q1 from Q3 to get the IQR."
   ]
  },
  {
   "cell_type": "markdown",
   "metadata": {},
   "source": [
    "### 2. What exactly is the value of the 5-number theory?\n"
   ]
  },
  {
   "cell_type": "markdown",
   "metadata": {},
   "source": [
    "Ans:\n",
    "\n",
    "The five-number summary, also known as the five-number theory, is a concise summary of the main features of a dataset that includes the minimum, first quartile (Q1), median, third quartile (Q3), and maximum of the data. The five-number summary is a useful tool for understanding the distribution of a dataset and can be used to create a box plot, which is a visual representation of the five-number summary.\n",
    "\n",
    "The value of the five-number summary lies in its ability to provide a quick and easy summary of the main features of a dataset. It gives you a general idea of the spread of the data and its central tendency, and it can also be used to identify outliers, skewness, and other features of the distribution.\n",
    "\n",
    "In summary, the five-number summary is a useful tool for summarizing and understanding the main features of a dataset. It provides a quick and easy summary of the minimum, first quartile, median, third quartile, and maximum of the data and can be used to create a box plot and identify outliers, skewness, and other features of the distribution."
   ]
  },
  {
   "cell_type": "markdown",
   "metadata": {},
   "source": [
    "### 3. What is the relationship between standard deviation and variance?\n"
   ]
  },
  {
   "cell_type": "markdown",
   "metadata": {},
   "source": [
    "ANs:\n",
    "\n",
    "Standard deviation and variance are related measures of the dispersion or spread of a dataset.\n",
    "\n",
    "Variance is a measure of the average squared deviation of the data from the mean. It is calculated by summing the squared deviations of each data point from the mean, and then dividing by the number of data points. Variance is expressed in squared units, so it can be difficult to interpret directly.\n",
    "\n",
    "Standard deviation, on the other hand, is the square root of the variance. The standard deviation is expressed in the same units as the original data, making it easier to interpret and understand. The standard deviation gives a measure of the typical distance between the data and the mean.\n",
    "\n",
    "In summary, the standard deviation is the square root of the variance, and it provides a measure of the spread of the data that is easier to interpret than the variance. The standard deviation is widely used in many fields, including statistics, data analysis, and business intelligence, to help understand the distribution of data and make inferences about populations based on sample data."
   ]
  },
  {
   "cell_type": "markdown",
   "metadata": {},
   "source": [
    "### 4. What does the difference between variance and standard deviation mean?\n"
   ]
  },
  {
   "cell_type": "markdown",
   "metadata": {},
   "source": [
    "Ans:\n",
    "\n",
    "Variance and standard deviation are both measures of the spread or variability of a set of data, but they differ in how they express this variability.\n",
    "\n",
    "Variance is the average of the squared differences from the mean. It is a measure of how far a set of data points is spread out from their average value. A high variance indicates that the data points are more spread out from the mean, while a low variance indicates that the data points are more tightly clustered around the mean. Mathematically, variance is defined as:\n",
    "\n",
    "Var(X) = E[(X - μ)^2]\n",
    "\n",
    "where X is the random variable, μ is the mean of X, and E is the expected value operator.\n",
    "\n",
    "Standard deviation, on the other hand, is the square root of the variance. It is a measure of how much the data points deviate from the mean on average. A high standard deviation indicates that the data points are more spread out from the mean, while a low standard deviation indicates that the data points are more tightly clustered around the mean. Mathematically, standard deviation is defined as:\n",
    "\n",
    "SD(X) = sqrt[Var(X)]\n",
    "\n",
    "where X is the random variable, Var(X) is the variance of X, and sqrt is the square root function.\n",
    "\n",
    "The key difference between variance and standard deviation is that variance is expressed in squared units of the original data, while standard deviation is expressed in the same units as the original data. This means that standard deviation is more interpretable than variance because it is expressed in the same units as the original data. However, variance is often used in mathematical calculations because it has some convenient mathematical properties."
   ]
  },
  {
   "cell_type": "markdown",
   "metadata": {},
   "source": [
    "### 5. When is it appropriate to refer to a skewed data distribution?"
   ]
  },
  {
   "cell_type": "markdown",
   "metadata": {},
   "source": [
    "Ans:\n",
    "\n",
    "A data distribution is said to be skewed if it is not symmetric, that is, if it is not evenly distributed around its mean. In a skewed distribution, the tail of the distribution extends more to one side than to the other.\n",
    "\n",
    "It is appropriate to refer to a skewed data distribution when the mean, median, and mode of the data are not all equal. Specifically, if the mean is greater than the median, the distribution is said to be positively skewed or right-skewed, meaning that the tail of the distribution extends more to the right. On the other hand, if the mean is less than the median, the distribution is said to be negatively skewed or left-skewed, meaning that the tail of the distribution extends more to the left.\n",
    "\n",
    "Skewed data distributions can have important implications for statistical analysis, as some statistical methods assume that the data are normally distributed or symmetric. In addition, skewed distributions can affect the interpretation of summary statistics, such as the mean and standard deviation, as they may not accurately represent the central tendency and variability of the data. Therefore, it is important to identify and consider the skewness of a data distribution when analyzing or modeling the data."
   ]
  }
 ],
 "metadata": {
  "kernelspec": {
   "display_name": "Python 3",
   "language": "python",
   "name": "python3"
  },
  "language_info": {
   "codemirror_mode": {
    "name": "ipython",
    "version": 3
   },
   "file_extension": ".py",
   "mimetype": "text/x-python",
   "name": "python",
   "nbconvert_exporter": "python",
   "pygments_lexer": "ipython3",
   "version": "3.8.5"
  },
  "toc": {
   "base_numbering": 1,
   "nav_menu": {},
   "number_sections": true,
   "sideBar": true,
   "skip_h1_title": false,
   "title_cell": "Table of Contents",
   "title_sidebar": "Contents",
   "toc_cell": false,
   "toc_position": {},
   "toc_section_display": true,
   "toc_window_display": false
  }
 },
 "nbformat": 4,
 "nbformat_minor": 4
}
