{
 "cells": [
  {
   "cell_type": "markdown",
   "id": "9198bdd8",
   "metadata": {},
   "source": [
    "## Submitted by: `Sunita Pradhan`"
   ]
  },
  {
   "cell_type": "markdown",
   "id": "5a964db1",
   "metadata": {},
   "source": [
    "## Question 1\n",
    "Given an integer array nums of 2n integers, group these integers into n pairs (a1, b1), (a2, b2), ..., (an, bn) such that the sum of min(ai, bi) for all i is maximized. Return the maximized sum.\n",
    "\n",
    "Example 1:\n",
    "\n",
    "Input: nums = [1,4,3,2]\n",
    "\n",
    "Output: 4\n",
    "\n",
    "Explanation: All possible pairings (ignoring the ordering of elements) are:\n",
    "\n",
    "    1. (1, 4), (2, 3) -> min(1, 4) + min(2, 3) = 1 + 2 = 3\n",
    "    2. (1, 3), (2, 4) -> min(1, 3) + min(2, 4) = 1 + 2 = 3\n",
    "    3. (1, 2), (3, 4) -> min(1, 2) + min(3, 4) = 1 + 3 = 4\n",
    "\n",
    "So the maximum possible sum is 4"
   ]
  },
  {
   "cell_type": "code",
   "execution_count": 18,
   "id": "45cdc2f0",
   "metadata": {},
   "outputs": [],
   "source": [
    "def maxPairSum(nums):\n",
    "    nums.sort()\n",
    "    sum_min = 0\n",
    "    for i in range(0, len(nums), 2):\n",
    "        sum_min += nums[i]\n",
    "    return sum_min"
   ]
  },
  {
   "cell_type": "code",
   "execution_count": 19,
   "id": "0296a0ae",
   "metadata": {},
   "outputs": [
    {
     "name": "stdout",
     "output_type": "stream",
     "text": [
      "4\n"
     ]
    }
   ],
   "source": [
    "nums = [1, 4, 3, 2]\n",
    "print(maxPairSum(nums)) "
   ]
  },
  {
   "cell_type": "code",
   "execution_count": 20,
   "id": "d03118bb",
   "metadata": {},
   "outputs": [
    {
     "name": "stdout",
     "output_type": "stream",
     "text": [
      "20\n"
     ]
    }
   ],
   "source": [
    "nums = [8, 4, 3, 6, 2, 5, 7]\n",
    "print(maxPairSum(nums)) "
   ]
  },
  {
   "cell_type": "markdown",
   "id": "7a90588e",
   "metadata": {},
   "source": [
    "## Question 2\n",
    "Alice has n candies, where the ith candy is of type candyType[i]. Alice noticed that she started to gain weight, so she visited a doctor.\n",
    "\n",
    "The doctor advised Alice to only eat n / 2 of the candies she has (n is always even). Alice likes her candies very much, and she wants to eat the maximum number of different types of candies while still following the doctor's advice.\n",
    "\n",
    "Given the integer array candyType of length n, return the maximum number of different types of candies she can eat if she only eats n / 2 of them.\n",
    "\n",
    "Example 1:\n",
    "\n",
    "Input: candyType = [1,1,2,2,3,3]\n",
    "\n",
    "Output: 3\n",
    "\n",
    "Explanation: Alice can only eat 6 / 2 = 3 candies. Since there are only 3 types, she can eat one of each type."
   ]
  },
  {
   "cell_type": "code",
   "execution_count": 29,
   "id": "5b55b5d7",
   "metadata": {},
   "outputs": [],
   "source": [
    "def Candies(Type):\n",
    "    max_candies = len(Type) // 2\n",
    "    candy_set = set(Type)\n",
    "    return min(len(candy_set), max_candies)"
   ]
  },
  {
   "cell_type": "code",
   "execution_count": 30,
   "id": "9188e51c",
   "metadata": {},
   "outputs": [
    {
     "name": "stdout",
     "output_type": "stream",
     "text": [
      "3\n"
     ]
    }
   ],
   "source": [
    "Type = [1, 1, 2, 2, 3, 3]\n",
    "print(Candies(Type))"
   ]
  },
  {
   "cell_type": "code",
   "execution_count": 31,
   "id": "0c510d35",
   "metadata": {},
   "outputs": [
    {
     "name": "stdout",
     "output_type": "stream",
     "text": [
      "4\n"
     ]
    }
   ],
   "source": [
    "Type = [1, 1,4,4,3,3, 2, 2, 3, 3]\n",
    "print(Candies(Type))"
   ]
  },
  {
   "cell_type": "markdown",
   "id": "2b386d03",
   "metadata": {},
   "source": [
    "## Question 3\n",
    "We define a harmonious array as an array where the difference between its maximum value and its minimum value is exactly 1.\n",
    "\n",
    "Given an integer array nums, return the length of its longest harmonious subsequence among all its possible subsequences.\n",
    "\n",
    "A subsequence of an array is a sequence that can be derived from the array by deleting some or no elements without changing the order of the remaining elements.\n",
    "\n",
    "Example 1:\n",
    "\n",
    "Input: nums = [1,3,2,2,5,2,3,7]\n",
    "\n",
    "Output: 5\n",
    "\n",
    "Explanation: The longest harmonious subsequence is [3,2,2,2,3]."
   ]
  },
  {
   "cell_type": "code",
   "execution_count": 164,
   "id": "bb52bc26",
   "metadata": {},
   "outputs": [],
   "source": [
    "# from collections import Counter\n",
    "\n",
    "# def findLHS(nums):\n",
    "#     # Count the frequency of each number\n",
    "#     num_counts = Counter(nums)\n",
    "#     max_len = 0\n",
    "    \n",
    "def findLHS(nums):\n",
    "    num_counts = {}\n",
    "    max_len = 0\n",
    "\n",
    "    #Count the frequency of each number\n",
    "    for num in nums:\n",
    "        if num in num_counts:\n",
    "            num_counts[num] += 1\n",
    "        else:\n",
    "            num_counts[num] = 1\n",
    "\n",
    "    #the length of the longest harmonious subsequence\n",
    "    for num in num_counts:\n",
    "        if num + 1 in num_counts:\n",
    "            curr_len = num_counts[num] + num_counts[num + 1]\n",
    "            max_len = max(max_len, curr_len)\n",
    "\n",
    "    return max_len"
   ]
  },
  {
   "cell_type": "code",
   "execution_count": 165,
   "id": "aeab4ee5",
   "metadata": {},
   "outputs": [
    {
     "data": {
      "text/plain": [
       "5"
      ]
     },
     "execution_count": 165,
     "metadata": {},
     "output_type": "execute_result"
    }
   ],
   "source": [
    "nums = [1,3,2,2,5,2,3,7]\n",
    "\n",
    "findLHS(nums)"
   ]
  },
  {
   "cell_type": "markdown",
   "id": "22027d0b",
   "metadata": {},
   "source": [
    "## Question 4\n",
    "You have a long flowerbed in which some of the plots are planted, and some are not.\n",
    "\n",
    "However, flowers cannot be planted in adjacent plots.\n",
    "\n",
    "Given an integer array flowerbed containing 0's and 1's, where 0 means empty and 1 means not empty, and an integer n, return true if n new flowers can be planted in the flowerbed without violating the no-adjacent-flowers rule and false otherwise.\n",
    "\n",
    "Example 1:\n",
    "\n",
    "Input: flowerbed = [1,0,0,0,1], n = 1\n",
    "\n",
    "Output: true"
   ]
  },
  {
   "cell_type": "code",
   "execution_count": 160,
   "id": "403a7855",
   "metadata": {},
   "outputs": [],
   "source": [
    "def flowers(flowerbed, n):\n",
    "    count = 0\n",
    "    length = len(flowerbed)\n",
    "    i = 0\n",
    "\n",
    "    while i < length:\n",
    "        if flowerbed[i] == 0 and (i == 0 or flowerbed[i - 1] == 0) and (i == length - 1 or flowerbed[i + 1] == 0):\n",
    "            flowerbed[i] = 1\n",
    "            count += 1\n",
    "            i += 1  \n",
    "        if count >= n:\n",
    "            return True\n",
    "        i += 1\n",
    "\n",
    "    return False"
   ]
  },
  {
   "cell_type": "code",
   "execution_count": 158,
   "id": "c7bc8471",
   "metadata": {},
   "outputs": [
    {
     "name": "stdout",
     "output_type": "stream",
     "text": [
      "False\n"
     ]
    }
   ],
   "source": [
    "flowerbed = [0, 1, 0, 1,0,1,0]\n",
    "n = 1\n",
    "\n",
    "print(flowers(flowerbed, n))"
   ]
  },
  {
   "cell_type": "code",
   "execution_count": 161,
   "id": "e1cd492a",
   "metadata": {},
   "outputs": [
    {
     "name": "stdout",
     "output_type": "stream",
     "text": [
      "True\n"
     ]
    }
   ],
   "source": [
    "flowerbed = [1,0,0,0,1]\n",
    "n = 1\n",
    "\n",
    "print(flowers(flowerbed, n))"
   ]
  },
  {
   "cell_type": "markdown",
   "id": "68d2d88e",
   "metadata": {},
   "source": [
    "## Question 5\n",
    "Given an integer array nums, find three numbers whose product is maximum and return the maximum product.\n",
    "\n",
    "Example 1:\n",
    "\n",
    "Input: nums = [1,2,3]\n",
    "\n",
    "Output: 6"
   ]
  },
  {
   "cell_type": "code",
   "execution_count": 63,
   "id": "b418842a",
   "metadata": {},
   "outputs": [],
   "source": [
    "def MaxProduct(arr):\n",
    "    arr.sort()\n",
    "    maxnumlist = arr[-3:]\n",
    "    product = 1\n",
    "    for i in maxnumlist:\n",
    "        product*=i\n",
    "    return product"
   ]
  },
  {
   "cell_type": "code",
   "execution_count": 64,
   "id": "8dd3b069",
   "metadata": {},
   "outputs": [
    {
     "data": {
      "text/plain": [
       "315"
      ]
     },
     "execution_count": 64,
     "metadata": {},
     "output_type": "execute_result"
    }
   ],
   "source": [
    "arr = [1,2,3,5,9,7]\n",
    "MaxProduct(arr)"
   ]
  },
  {
   "cell_type": "code",
   "execution_count": 65,
   "id": "e550c584",
   "metadata": {},
   "outputs": [
    {
     "data": {
      "text/plain": [
       "630"
      ]
     },
     "execution_count": 65,
     "metadata": {},
     "output_type": "execute_result"
    }
   ],
   "source": [
    "arr = [10,2,5,3,5,9,7,1]\n",
    "MaxProduct(arr)"
   ]
  },
  {
   "cell_type": "markdown",
   "id": "821cbf8f",
   "metadata": {},
   "source": [
    "## Question 6\n",
    "Given an array of integers nums which is sorted in ascending order, and an integer target, write a function to search target in nums. If target exists, then return its index. Otherwise, return -1.\n",
    "\n",
    "You must write an algorithm with O(log n) runtime complexity.\n",
    "\n",
    "Input: nums = [-1,0,3,5,9,12], target = 9\n",
    "\n",
    "Output: 4\n",
    "\n",
    "Explanation: 9 exists in nums and its index is 4"
   ]
  },
  {
   "cell_type": "code",
   "execution_count": 105,
   "id": "66ad7ec8",
   "metadata": {},
   "outputs": [],
   "source": [
    "def FindTarget(nums, target):\n",
    "    positive_arr = [ele for ele in nums if ele >= 0]\n",
    "    if target in positive_arr:\n",
    "        return positive_arr.index(target)+1\n",
    "    else:\n",
    "        return -1"
   ]
  },
  {
   "cell_type": "code",
   "execution_count": 106,
   "id": "cdb37459",
   "metadata": {},
   "outputs": [
    {
     "data": {
      "text/plain": [
       "4"
      ]
     },
     "execution_count": 106,
     "metadata": {},
     "output_type": "execute_result"
    }
   ],
   "source": [
    "nums = [-1,0,3,5,9,12]\n",
    "target = 9\n",
    "FindTarget(nums, target)"
   ]
  },
  {
   "cell_type": "code",
   "execution_count": 107,
   "id": "03997fd4",
   "metadata": {},
   "outputs": [
    {
     "data": {
      "text/plain": [
       "-1"
      ]
     },
     "execution_count": 107,
     "metadata": {},
     "output_type": "execute_result"
    }
   ],
   "source": [
    "nums = [-11,0,3,11,5,9,10,12]\n",
    "target = -11\n",
    "FindTarget(nums, target)"
   ]
  },
  {
   "cell_type": "code",
   "execution_count": 108,
   "id": "33f9c7c1",
   "metadata": {},
   "outputs": [
    {
     "data": {
      "text/plain": [
       "6"
      ]
     },
     "execution_count": 108,
     "metadata": {},
     "output_type": "execute_result"
    }
   ],
   "source": [
    "nums = [-11,0,3,11,5,9,10,12]\n",
    "target = 10\n",
    "FindTarget(nums, target)"
   ]
  },
  {
   "cell_type": "markdown",
   "id": "807d8d16",
   "metadata": {},
   "source": [
    "## Question 7\n",
    "An array is monotonic if it is either monotone increasing or monotone decreasing.\n",
    "\n",
    "An array nums is monotone increasing if for all i <= j, nums[i] <= nums[j]. An array nums is monotone decreasing if for all i <= j, nums[i] >= nums[j].\n",
    "\n",
    "Given an integer array nums, return true if the given array is monotonic, or false otherwise.\n",
    "\n",
    "Example 1:\n",
    "\n",
    "Input: nums = [1,2,2,3]\n",
    "\n",
    "Output: true"
   ]
  },
  {
   "cell_type": "code",
   "execution_count": 120,
   "id": "99afda57",
   "metadata": {},
   "outputs": [],
   "source": [
    "def ismonotonic(nums):\n",
    "    \n",
    "    increasing = True\n",
    "    decreasing = True\n",
    "    for i in range(1, len(nums)):\n",
    "        if nums[i] < nums[i-1]:\n",
    "            increasing = False\n",
    "        if nums[i] > nums[i-1]:\n",
    "            decreasing = False\n",
    "\n",
    "    return increasing or decreasing"
   ]
  },
  {
   "cell_type": "code",
   "execution_count": 129,
   "id": "9fc5883d",
   "metadata": {},
   "outputs": [
    {
     "data": {
      "text/plain": [
       "True"
      ]
     },
     "execution_count": 129,
     "metadata": {},
     "output_type": "execute_result"
    }
   ],
   "source": [
    "nums = [1,2,2,3]\n",
    "ismonotonic(nums)"
   ]
  },
  {
   "cell_type": "code",
   "execution_count": 127,
   "id": "386d2641",
   "metadata": {},
   "outputs": [
    {
     "data": {
      "text/plain": [
       "False"
      ]
     },
     "execution_count": 127,
     "metadata": {},
     "output_type": "execute_result"
    }
   ],
   "source": [
    "nums = [1,2,2,7,3]\n",
    "ismonotonic(nums)"
   ]
  },
  {
   "cell_type": "markdown",
   "id": "e7b93632",
   "metadata": {},
   "source": [
    "## Question 8\n",
    "You are given an integer array nums and an integer k.\n",
    "\n",
    "In one operation, you can choose any index i where 0 <= i < nums.length and change nums[i] to nums[i] + x where x is an integer from the range [-k, k]. You can apply this operation at most once for each index i.\n",
    "\n",
    "The score of nums is the difference between the maximum and minimum elements in nums.\n",
    "\n",
    "Return the minimum score of nums after applying the mentioned operation at most once for each index in it.\n",
    "\n",
    "Example 1:\n",
    "\n",
    "Input: nums = [1], k = 0\n",
    "\n",
    "Output: 0\n",
    "\n",
    "Explanation: The score is max(nums) - min(nums) = 1 - 1 = 0."
   ]
  },
  {
   "cell_type": "code",
   "execution_count": 1,
   "id": "0eef0ca3",
   "metadata": {},
   "outputs": [],
   "source": [
    "def min_score(nums, k):\n",
    "    minimum = nums[0]\n",
    "    maximum = nums[0]\n",
    "\n",
    "    for i in range(1, len(nums)):\n",
    "        max_increase = nums[i] + k\n",
    "        \n",
    "        if max_increase > maximum:\n",
    "            maximum = max_increase\n",
    "        min_decrease = nums[i] - k\n",
    "        \n",
    "        if min_decrease < minimum:\n",
    "            minimum = min_decrease\n",
    "            \n",
    "    score = maximum - minimum\n",
    "    return score"
   ]
  },
  {
   "cell_type": "code",
   "execution_count": 3,
   "id": "00fd179d",
   "metadata": {},
   "outputs": [
    {
     "data": {
      "text/plain": [
       "0"
      ]
     },
     "execution_count": 3,
     "metadata": {},
     "output_type": "execute_result"
    }
   ],
   "source": [
    "nums = [1]\n",
    "k = 0\n",
    "min_score(nums,k)"
   ]
  },
  {
   "cell_type": "markdown",
   "id": "13679933",
   "metadata": {},
   "source": [
    "### Thank You😊"
   ]
  }
 ],
 "metadata": {
  "kernelspec": {
   "display_name": "Python 3 (ipykernel)",
   "language": "python",
   "name": "python3"
  },
  "language_info": {
   "codemirror_mode": {
    "name": "ipython",
    "version": 3
   },
   "file_extension": ".py",
   "mimetype": "text/x-python",
   "name": "python",
   "nbconvert_exporter": "python",
   "pygments_lexer": "ipython3",
   "version": "3.8.5"
  },
  "toc": {
   "base_numbering": 1,
   "nav_menu": {},
   "number_sections": true,
   "sideBar": true,
   "skip_h1_title": false,
   "title_cell": "Table of Contents",
   "title_sidebar": "Contents",
   "toc_cell": false,
   "toc_position": {},
   "toc_section_display": true,
   "toc_window_display": false
  }
 },
 "nbformat": 4,
 "nbformat_minor": 5
}
