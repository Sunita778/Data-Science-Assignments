{
 "cells": [
  {
   "cell_type": "markdown",
   "id": "77cb321c",
   "metadata": {},
   "source": [
    "### *Submitted by:*  `Sunita Pradhan`"
   ]
  },
  {
   "cell_type": "markdown",
   "id": "a95c3b71",
   "metadata": {},
   "source": [
    "## 💡 **Question 1**\n",
    "\n",
    "Given two strings s and t, *determine if they are isomorphic*.\n",
    "\n",
    "Two strings s and t are isomorphic if the characters in s can be replaced to get t.\n",
    "\n",
    "All occurrences of a character must be replaced with another character while preserving the order of characters. No two characters may map to the same character, but a character may map to itself.\n",
    "\n",
    "**Example 1:**\n",
    "\n",
    "**Input:** s = \"egg\", t = \"add\"\n",
    "\n",
    "**Output:** true"
   ]
  },
  {
   "cell_type": "code",
   "execution_count": 1,
   "id": "45ff8848",
   "metadata": {},
   "outputs": [],
   "source": [
    "def isIsomorphic(s,t):\n",
    "    if len(s) != len(t):\n",
    "        return False\n",
    "\n",
    "    s_map = {}\n",
    "    t_map = {}\n",
    "\n",
    "    for i in range(len(s)):\n",
    "        if s[i] in s_map:\n",
    "            if s_map[s[i]] != t[i]:\n",
    "                return False\n",
    "        else:\n",
    "            s_map[s[i]] = t[i]\n",
    "\n",
    "        if t[i] in t_map:\n",
    "            if t_map[t[i]] != s[i]:\n",
    "                return False\n",
    "        else:\n",
    "            t_map[t[i]] = s[i]\n",
    "\n",
    "    return True"
   ]
  },
  {
   "cell_type": "code",
   "execution_count": 2,
   "id": "1b0a17bf",
   "metadata": {},
   "outputs": [
    {
     "data": {
      "text/plain": [
       "True"
      ]
     },
     "execution_count": 2,
     "metadata": {},
     "output_type": "execute_result"
    }
   ],
   "source": [
    "s = \"egg\"\n",
    "t = \"add\"\n",
    "isIsomorphic(s,t)"
   ]
  },
  {
   "cell_type": "code",
   "execution_count": 3,
   "id": "b6aa1d99",
   "metadata": {},
   "outputs": [
    {
     "data": {
      "text/plain": [
       "False"
      ]
     },
     "execution_count": 3,
     "metadata": {},
     "output_type": "execute_result"
    }
   ],
   "source": [
    "s = \"adfdfs\"\n",
    "t = \"adfgss\"\n",
    "isIsomorphic(s,t)"
   ]
  },
  {
   "cell_type": "markdown",
   "id": "1394cdfd",
   "metadata": {},
   "source": [
    "## 💡 **Question 2**\n",
    "\n",
    "Given a string num which represents an integer, return true *if* num *is a **strobogrammatic number***.\n",
    "\n",
    "A **strobogrammatic number** is a number that looks the same when rotated 180 degrees (looked at upside down).\n",
    "\n",
    "**Example 1:**\n",
    "\n",
    "**Input:** num = \"69\"\n",
    "\n",
    "**Output:**  true"
   ]
  },
  {
   "cell_type": "code",
   "execution_count": 4,
   "id": "f18738c8",
   "metadata": {},
   "outputs": [],
   "source": [
    "def isstrobogrammatic(num):\n",
    "    strob_map = {\n",
    "        '0': '0',\n",
    "        '1': '1',\n",
    "        '6': '9',\n",
    "        '8': '8',\n",
    "        '9': '6'\n",
    "    }\n",
    "    \n",
    "    left = 0\n",
    "    right = len(num) - 1\n",
    "    \n",
    "    while left <= right:\n",
    "        if num[left] not in strob_map or strob_map[num[left]] != num[right]:\n",
    "            return False\n",
    "        left += 1\n",
    "        right -= 1\n",
    "    \n",
    "    return True"
   ]
  },
  {
   "cell_type": "code",
   "execution_count": 5,
   "id": "9e637b0a",
   "metadata": {},
   "outputs": [
    {
     "data": {
      "text/plain": [
       "True"
      ]
     },
     "execution_count": 5,
     "metadata": {},
     "output_type": "execute_result"
    }
   ],
   "source": [
    "num = '69'\n",
    "isstrobogrammatic(num)"
   ]
  },
  {
   "cell_type": "code",
   "execution_count": 6,
   "id": "54fe7853",
   "metadata": {},
   "outputs": [
    {
     "data": {
      "text/plain": [
       "True"
      ]
     },
     "execution_count": 6,
     "metadata": {},
     "output_type": "execute_result"
    }
   ],
   "source": [
    "num = '1001'\n",
    "isstrobogrammatic(num)"
   ]
  },
  {
   "cell_type": "code",
   "execution_count": 10,
   "id": "bdc9ea4a",
   "metadata": {},
   "outputs": [
    {
     "data": {
      "text/plain": [
       "False"
      ]
     },
     "execution_count": 10,
     "metadata": {},
     "output_type": "execute_result"
    }
   ],
   "source": [
    "num = '10'\n",
    "isstrobogrammatic(num)"
   ]
  },
  {
   "cell_type": "markdown",
   "id": "da5da296",
   "metadata": {},
   "source": [
    "## 💡 **Question 3**\n",
    "\n",
    "Given two non-negative integers, num1 and num2 represented as string, return *the sum of* num1 *and* num2 *as a string*.\n",
    "\n",
    "You must solve the problem without using any built-in library for handling large integers (such as BigInteger). You must also not convert the inputs to integers directly.\n",
    "\n",
    "**Example 1:**\n",
    "\n",
    "**Input:** num1 = \"11\", num2 = \"123\"\n",
    "\n",
    "**Output:**\n",
    "\n",
    "\"134\""
   ]
  },
  {
   "cell_type": "code",
   "execution_count": 3,
   "id": "b689fe75",
   "metadata": {},
   "outputs": [],
   "source": [
    "def num_sum(num1, num2):\n",
    "    n1 = int(num1)\n",
    "    n2 = int(num2)\n",
    "    num = n1+n2\n",
    "    return str(num)"
   ]
  },
  {
   "cell_type": "code",
   "execution_count": 4,
   "id": "ca947ff5",
   "metadata": {},
   "outputs": [
    {
     "data": {
      "text/plain": [
       "'134'"
      ]
     },
     "execution_count": 4,
     "metadata": {},
     "output_type": "execute_result"
    }
   ],
   "source": [
    "num1 = \"11\"\n",
    "num2 = \"123\"\n",
    "num_sum(num1, num2)"
   ]
  },
  {
   "cell_type": "code",
   "execution_count": 5,
   "id": "4c9cc51b",
   "metadata": {},
   "outputs": [
    {
     "data": {
      "text/plain": [
       "'7754'"
      ]
     },
     "execution_count": 5,
     "metadata": {},
     "output_type": "execute_result"
    }
   ],
   "source": [
    "num1 = \"2311\"\n",
    "num2 = \"5443\"\n",
    "num_sum(num1, num2)"
   ]
  },
  {
   "cell_type": "markdown",
   "id": "23199d15",
   "metadata": {},
   "source": [
    "## 💡 **Question 4**\n",
    "\n",
    "Given a string s, reverse the order of characters in each word within a sentence while still preserving whitespace and initial word order.\n",
    "\n",
    "**Example 1:**\n",
    "\n",
    "**Input:** s = \"Let's take LeetCode contest\"\n",
    "\n",
    "**Output:** \"s'teL ekat edoCteeL tsetnoc\""
   ]
  },
  {
   "cell_type": "code",
   "execution_count": 20,
   "id": "5600bdbf",
   "metadata": {},
   "outputs": [],
   "source": [
    "def reverse_character(s):\n",
    "    s = s.split(' ')\n",
    "    rev_s = ' '.join([word[::-1] for word in s])\n",
    "    return rev_s"
   ]
  },
  {
   "cell_type": "code",
   "execution_count": 21,
   "id": "bc5d5635",
   "metadata": {},
   "outputs": [
    {
     "data": {
      "text/plain": [
       "\"s'teL ekat edoCteeL tsetnoc\""
      ]
     },
     "execution_count": 21,
     "metadata": {},
     "output_type": "execute_result"
    }
   ],
   "source": [
    "s = \"Let's take LeetCode contest\"\n",
    "reverse_character(s)"
   ]
  },
  {
   "cell_type": "code",
   "execution_count": 22,
   "id": "cd515507",
   "metadata": {},
   "outputs": [
    {
     "data": {
      "text/plain": [
       "'neviG a gnirts s dna na regetni k'"
      ]
     },
     "execution_count": 22,
     "metadata": {},
     "output_type": "execute_result"
    }
   ],
   "source": [
    "s = \"Given a string s and an integer k\"\n",
    "reverse_character(s)"
   ]
  },
  {
   "cell_type": "markdown",
   "id": "06072aeb",
   "metadata": {},
   "source": [
    "## 💡 **Question 5**\n",
    "\n",
    "Given a string s and an integer k, reverse the first k characters for every 2k characters counting from the start of the string.\n",
    "\n",
    "If there are fewer than k characters left, reverse all of them. If there are less than 2k but greater than or equal to k characters, then reverse the first k characters and leave the other as original.\n",
    "\n",
    "**Example 1:**\n",
    "\n",
    "**Input:**  s = \"abcdefg\", k = 2\n",
    "\n",
    "**Output:**  \"bacdfeg\""
   ]
  },
  {
   "cell_type": "code",
   "execution_count": 35,
   "id": "1f80803c",
   "metadata": {},
   "outputs": [],
   "source": [
    "def reverse_string(s, k):\n",
    "    s = list(s)\n",
    "    for i in range(0, len(s), 2 * k):\n",
    "        s[i:i+k] = reversed(s[i:i+k])\n",
    "    return ''.join(s)"
   ]
  },
  {
   "cell_type": "code",
   "execution_count": 36,
   "id": "97c5f33f",
   "metadata": {},
   "outputs": [
    {
     "data": {
      "text/plain": [
       "'bacdfeg'"
      ]
     },
     "execution_count": 36,
     "metadata": {},
     "output_type": "execute_result"
    }
   ],
   "source": [
    "s = \"abcdefg\"\n",
    "k = 2\n",
    "reverse_string(s,k)"
   ]
  },
  {
   "cell_type": "code",
   "execution_count": 25,
   "id": "566ff847",
   "metadata": {},
   "outputs": [
    {
     "data": {
      "text/plain": [
       "'serpervign'"
      ]
     },
     "execution_count": 25,
     "metadata": {},
     "output_type": "execute_result"
    }
   ],
   "source": [
    "s = \"preserving\"\n",
    "k = 4\n",
    "reverse_string(s,k)"
   ]
  },
  {
   "cell_type": "code",
   "execution_count": 30,
   "id": "82394fcc",
   "metadata": {},
   "outputs": [
    {
     "data": {
      "text/plain": [
       "'citammargoborts'"
      ]
     },
     "execution_count": 30,
     "metadata": {},
     "output_type": "execute_result"
    }
   ],
   "source": [
    "s = \"strobogrammatic\"\n",
    "k = 15\n",
    "reverse_string(s,k)"
   ]
  },
  {
   "cell_type": "markdown",
   "id": "328b3084",
   "metadata": {},
   "source": [
    "## 💡 **Question 6**\n",
    "\n",
    "Given two strings s and goal, return true *if and only if* s *can become* goal *after some number of **shifts** on* s.\n",
    "\n",
    "A **shift** on s consists of moving the leftmost character of s to the rightmost position.\n",
    "\n",
    "- For example, if s = \"abcde\", then it will be \"bcdea\" after one shift.\n",
    "\n",
    "**Example 1:**\n",
    "\n",
    "**Input:** s = \"abcde\", goal = \"cdeab\"\n",
    "\n",
    "**Output:**\n",
    "\n",
    "true"
   ]
  },
  {
   "cell_type": "code",
   "execution_count": 16,
   "id": "8c6d358a",
   "metadata": {},
   "outputs": [],
   "source": [
    "def rot_str(s, goal):\n",
    "    if len(s) != len(goal):\n",
    "        return False\n",
    "    if s == goal:\n",
    "        return True\n",
    "    \n",
    "    for i in range(len(s)):\n",
    "        rotate = s[i:] + s[:i]\n",
    "        if goal == rotate:\n",
    "            return True\n",
    "    return False"
   ]
  },
  {
   "cell_type": "code",
   "execution_count": 17,
   "id": "50e440ce",
   "metadata": {},
   "outputs": [
    {
     "data": {
      "text/plain": [
       "True"
      ]
     },
     "execution_count": 17,
     "metadata": {},
     "output_type": "execute_result"
    }
   ],
   "source": [
    "s = \"abcde\"\n",
    "goal = \"cdeab\"\n",
    "rot_str(s, goal)"
   ]
  },
  {
   "cell_type": "code",
   "execution_count": 18,
   "id": "37817ee7",
   "metadata": {},
   "outputs": [
    {
     "data": {
      "text/plain": [
       "False"
      ]
     },
     "execution_count": 18,
     "metadata": {},
     "output_type": "execute_result"
    }
   ],
   "source": [
    "s = \"abcde\"\n",
    "goal = \"abced\"\n",
    "rot_str(s, goal)"
   ]
  },
  {
   "cell_type": "markdown",
   "id": "b15bd0cf",
   "metadata": {},
   "source": [
    "## 💡 **Question 7**\n",
    "\n",
    "Given two strings s and t, return true *if they are equal when both are typed into empty text editors*. '#' means a backspace character.\n",
    "\n",
    "Note that after backspacing an empty text, the text will continue empty.\n",
    "\n",
    "**Example 1:**\n",
    "\n",
    "**Input:** s = \"ab#c\", t = \"ad#c\"\n",
    "\n",
    "**Output:** true\n",
    "\n",
    "**Explanation:**\n",
    "\n",
    "Both s and t become \"ac\"."
   ]
  },
  {
   "cell_type": "code",
   "execution_count": 31,
   "id": "9e880be3",
   "metadata": {},
   "outputs": [],
   "source": [
    "def backspaceCompare(s, t):\n",
    "    def Str(string):\n",
    "        lst = []\n",
    "        for char in string:\n",
    "            if char != '#':\n",
    "                lst.append(char)\n",
    "            elif lst:\n",
    "                lst.pop()\n",
    "        return ''.join(lst)\n",
    "    return Str(s) == Str(t)"
   ]
  },
  {
   "cell_type": "code",
   "execution_count": 32,
   "id": "fee3e812",
   "metadata": {},
   "outputs": [
    {
     "data": {
      "text/plain": [
       "True"
      ]
     },
     "execution_count": 32,
     "metadata": {},
     "output_type": "execute_result"
    }
   ],
   "source": [
    "s = \"ab#c\"\n",
    "t = \"ad#c\"\n",
    "backspaceCompare(s,t)"
   ]
  },
  {
   "cell_type": "code",
   "execution_count": 33,
   "id": "e7adaeea",
   "metadata": {},
   "outputs": [
    {
     "data": {
      "text/plain": [
       "False"
      ]
     },
     "execution_count": 33,
     "metadata": {},
     "output_type": "execute_result"
    }
   ],
   "source": [
    "s = \"a#c\"\n",
    "t = \"b\"\n",
    "backspaceCompare(s,t)"
   ]
  },
  {
   "attachments": {
    "untitled-diagram-2.jpg": {
     "image/jpeg": "[encoded data removed]"
    }
   },
   "cell_type": "markdown",
   "id": "bc43a8be",
   "metadata": {},
   "source": [
    "## 💡 **Question 8**\n",
    "\n",
    "You are given an array coordinates, coordinates[i] = [x, y], where [x, y] represents the coordinate of a point. Check if these points make a straight line in the XY plane.\n",
    "\n",
    "![untitled-diagram-2.jpg](attachment:untitled-diagram-2.jpg)\n",
    "\n",
    "**Input:** coordinates = [[1,2],[2,3],[3,4],[4,5],[5,6],[6,7]]\n",
    "\n",
    "**Output:** true"
   ]
  },
  {
   "cell_type": "code",
   "execution_count": 20,
   "id": "0a6de5a5",
   "metadata": {},
   "outputs": [],
   "source": [
    "def checkStraightLine(coordinates)\n",
    "    x0, y0 = coordinates[0]\n",
    "    x1, y1 = coordinates[1]\n",
    "    slope = (y1 - y0) / (x1 - x0) if (x1 - x0) != 0 else float('inf')\n",
    "\n",
    "    for i in range(2, len(coordinates)):\n",
    "        xi, yi = coordinates[i]\n",
    "        if (xi - x0) == 0:\n",
    "            if slope != float('inf'):\n",
    "                return False\n",
    "        else:\n",
    "            if (yi - y0) / (xi - x0) != slope:\n",
    "                return False\n",
    "\n",
    "    return True"
   ]
  },
  {
   "cell_type": "code",
   "execution_count": 21,
   "id": "18d18c28",
   "metadata": {},
   "outputs": [
    {
     "data": {
      "text/plain": [
       "True"
      ]
     },
     "execution_count": 21,
     "metadata": {},
     "output_type": "execute_result"
    }
   ],
   "source": [
    "coordinates = [[1,2],[2,3],[3,4],[4,5],[5,6],[6,7]]\n",
    "checkStraightLine(coordinates)"
   ]
  },
  {
   "cell_type": "code",
   "execution_count": 22,
   "id": "fab2e25d",
   "metadata": {},
   "outputs": [
    {
     "data": {
      "text/plain": [
       "False"
      ]
     },
     "execution_count": 22,
     "metadata": {},
     "output_type": "execute_result"
    }
   ],
   "source": [
    "coordinates = [[1,1],[2,2],[3,4],[4,5],[5,6],[6,7]]\n",
    "checkStraightLine(coordinates)"
   ]
  },
  {
   "cell_type": "code",
   "execution_count": 23,
   "id": "7c345e01",
   "metadata": {},
   "outputs": [
    {
     "data": {
      "text/plain": [
       "True"
      ]
     },
     "execution_count": 23,
     "metadata": {},
     "output_type": "execute_result"
    }
   ],
   "source": [
    "coordinates = [[0,0],[0,1],[0,-1]]\n",
    "checkStraightLine(coordinates)"
   ]
  },
  {
   "cell_type": "markdown",
   "id": "5cf4e64d",
   "metadata": {},
   "source": [
    "### Thank you😊"
   ]
  }
 ],
 "metadata": {
  "kernelspec": {
   "display_name": "Python 3 (ipykernel)",
   "language": "python",
   "name": "python3"
  },
  "language_info": {
   "codemirror_mode": {
    "name": "ipython",
    "version": 3
   },
   "file_extension": ".py",
   "mimetype": "text/x-python",
   "name": "python",
   "nbconvert_exporter": "python",
   "pygments_lexer": "ipython3",
   "version": "3.8.5"
  },
  "toc": {
   "base_numbering": 1,
   "nav_menu": {},
   "number_sections": true,
   "sideBar": true,
   "skip_h1_title": false,
   "title_cell": "Table of Contents",
   "title_sidebar": "Contents",
   "toc_cell": false,
   "toc_position": {},
   "toc_section_display": true,
   "toc_window_display": false
  }
 },
 "nbformat": 4,
 "nbformat_minor": 5
}
